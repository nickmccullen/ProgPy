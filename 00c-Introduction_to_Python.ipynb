{
 "cells": [
  {
   "cell_type": "markdown",
   "metadata": {},
   "source": [
    "Introduction to Programming in Python\n",
    "============\n",
    "\n",
    "The goal of these notes is to help you to learn how to program. We will\n",
    "be using the programming language Python, but you will be able to use\n",
    "the skills you learn here with other programming systems such as Matlab, R or C.  \n",
    "Coding will also develop your creative problem solving skills.\n",
    "\n",
    "Programming is a very important and useful skill for an engineer. Almost\n",
    "any job these days requires interaction with computer systems and many\n",
    "will require some level of programming.\n",
    "Engineering companies increasingly want to employ people with programming\n",
    "abilities and the ability to automate tasks with program scripts.\n",
    "\n",
    "The skills you learn here can be used in automation of processes,\n",
    "computation of complex problems, control of equipment, instrumentation\n",
    "for making measurements, data analysis and producing figures of results.\n",
    "Additionally it can vastly speed up processing batches of text\n",
    "documents, accessing online data sources and any other task that would\n",
    "take unreasonably long times by hand."
   ]
  },
  {
   "cell_type": "markdown",
   "metadata": {},
   "source": [
    "## What is Python?\n",
    "\n",
    "Python is a programming language.\n",
    "It is free and open source and as such has many implemetations.\n",
    "\n",
    "You typically type *commands* into a command window, code-block or script file, then run them.\n",
    "The *Python interpreter* reads the programme commands you give it and runs them to produce an output."
   ]
  },
  {
   "cell_type": "markdown",
   "metadata": {},
   "source": [
    "## Why Use Python?\n",
    "\n",
    "Python is good to learn how to program because it has a clear structure\n",
    "and syntax compared to many programming languages.  \n",
    "It is easy to \n",
    "use it to get started with basic programming and from there it is possible to\n",
    "gradually teach yourself how to do much more advanced programming. \n",
    "\n",
    "\n",
    "## How To Use These Notes\n",
    "\n",
    "To make the most of these notes it is important that you read through\n",
    "each section,  \n",
    "***enter and actually do*** all the examples and attempt the\n",
    "problems in the course Notebooks.\n",
    "\n",
    "You will have to return to earlier section as you work your way through.  \n",
    "Make your own notes, especially when you get stuck or something is not clear.  \n",
    "This will be helpful when you return to a problem later and also when\n",
    "you have questions.\n",
    "\n",
    "Some tips:\n",
    "-   Try to predict what the output will be before running the examples.\n",
    "    You should try to think through the steps of how the computer works through\n",
    "    your programs.\n",
    "-   It is often useful to work out some ideas with pen and paper before\n",
    "    you start entering code.\n",
    "-   Test your code. Always try a simple version of your program on examples where\n",
    "    you know what the coutcome should be.\n",
    "-   Ask questions to yourself such as:\n",
    "    -   \"What would happen if I tried this?\"\n",
    "    -   \"Are there any input values for which the program does not work\n",
    "        or gives the wrong answer?\"\n",
    "    -   \"Will someone else be able to understand the code I have just\n",
    "        written?\"\n",
    "    -   \"Will I be able to understand this code in a few weeks time?\"\n",
    "- Finally **experiment!** Instead of asking _\"what will happen if...?\"_ or _\"will this work?\"_ , just try it and see what happens. You are unlikely to break the computer by trying something out!"
   ]
  },
  {
   "cell_type": "markdown",
   "metadata": {},
   "source": [
    "### Python Versions\n",
    "\n",
    "In these notes we use Python 3.8.\n",
    "\n",
    "Python 3 was developed to clean up the design of the language.  \n",
    "Python 2 and Python 3 are mostly the same, but there are some\n",
    "important incompatibilities, which means some code downloaded from the internet may need editing. "
   ]
  },
  {
   "cell_type": "markdown",
   "metadata": {},
   "source": [
    "## First Exercise\n",
    "\n",
    "In Jupyter notebooks enter the following text into a new code cell then run it. \n",
    "If using Spyder, click on the bottom right hand console and type the following in front of the *command prompt* and press return:"
   ]
  },
  {
   "cell_type": "code",
   "execution_count": 1,
   "metadata": {},
   "outputs": [
    {
     "name": "stdout",
     "output_type": "stream",
     "text": [
      "Hello World!\n"
     ]
    }
   ],
   "source": [
    "print(\"Hello World!\")"
   ]
  },
  {
   "cell_type": "markdown",
   "metadata": {},
   "source": [
    "The output should appear as above.\n",
    "\n",
    "next type the following and look at the output after hitting return:"
   ]
  },
  {
   "cell_type": "code",
   "execution_count": 2,
   "metadata": {},
   "outputs": [
    {
     "data": {
      "text/plain": [
       "42"
      ]
     },
     "execution_count": 2,
     "metadata": {},
     "output_type": "execute_result"
    }
   ],
   "source": [
    "7*6"
   ]
  },
  {
   "cell_type": "markdown",
   "metadata": {},
   "source": [
    "Typing commands this way is a quick way of doing calculations and running commands, but if you want to do many in a row or repeat a task then it's better to save them in a file and run then from there. This is called a script or program.\n",
    "\n",
    "### Writing a Script\n",
    "\n",
    "A script file is a text file\n",
    "containing lines of code to be executed. The Python\n",
    "<span>*“interpreter”*</span> reads through the script line by line and\n",
    "executes the instructions in order, unless an error is encountered. An\n",
    "example is given below. The result of executing the script is shown\n",
    "underneath the code. In this case, the sentence “Hello World!” will be\n",
    "displayed. We will use the terms script file and program\n",
    "interchangeably.\n",
    "\n",
    "```python\n",
    "#hello_world.py\n",
    "\n",
    "print(42)\n",
    "\n",
    "print(\"Hello World!\")\n",
    "```\n",
    "> 42  \n",
    "> Hello World!\n",
    "\n",
    "The first line, starting with `#`, is a *comment*. All comments are\n",
    "ignored by the Python system, but they are nevertheless a very important\n",
    "part of a program. They can help you and others understand the program.\n",
    "The comment in the example gives the name of the file containing the\n",
    "script, but this is not neccessary, just helpful information."
   ]
  },
  {
   "cell_type": "markdown",
   "metadata": {},
   "source": [
    "## Exercise:\n",
    "\n",
    "Create a new python script file in Spyder (or use a new Jupyter notebook) and type in all the three lines of the above\n",
    "code. \n",
    "Save the file as a Python script using the name `hello_world.py` (go to `File -> Download as` in Jupyter notebook). \n",
    "Note the underscore _ is used *not a space*,  \n",
    "\n",
    "**Never use spaces in program filenames!!!**\n",
    "\n",
    "Run this example in Spyder by pressing F5or the green run button or  in a Jupyter notebook by pressing `Ctrl+Return`.\n",
    "\n",
    "As you may have already noticed, it is important to type in exactly the\n",
    "right commands. This is a good point to investigate what happens when\n",
    "something goes wrong when entering a program. Make a note of your\n",
    "observations.\n",
    "\n",
    "## Exercise: \n",
    "\n",
    "-   Remove the hash symbol (`#`) in the first line of the program and\n",
    "    run the program again.\n",
    "\n",
    "-   Remove one or both of the double quotes (\").\n",
    "\n",
    "-   Replace the `print` function by `pint`.\n",
    "\n",
    "You will see that the Python system tries to provide helpful error\n",
    "messages to help you figure out what went wrong. Interpreting error\n",
    "messages and finding and fixing errors in programs is a crucial part of\n",
    "programming."
   ]
  },
  {
   "cell_type": "markdown",
   "metadata": {},
   "source": [
    "Types of Errors \n",
    "-----------------\n",
    "\n",
    "There are three main types of errors:\n",
    "\n",
    "-   **Syntax errors**: these will be detected when a program is read in by\n",
    "    the Python system. An example of a syntax error is the use of `pint`\n",
    "    instead of the `print` command in the example program. Syntax errors\n",
    "    are reported by error messages.\n",
    "\n",
    "-   **Runtime errors**: these will be detected when the program is run. An\n",
    "    example of a runtime error would be attempting to divide by zero or\n",
    "    attempting to read from a file that does not exist. Add a line\n",
    "    `print(1/0)` add the end of the example program and run it again.\n",
    "    Note that the symbol `/` denotes division. Runtime errors are\n",
    "    reported by error messages.\n",
    "\n",
    "-   **Logical errors**: these are errors that cause the program to run but\n",
    "    give the wrong result. Logical errors will not necessarily cause the\n",
    "    program to stop with an error message. A very basic logical error in\n",
    "    the example program would be any typo in the string `Hello World!`\n",
    "    The program would still run, but it would give the wrong result. Try\n",
    "    replacing the line `print \"Hello World!\"` with `print \"Hello Word!\"`. \n",
    "    Many logical errors can be detected by careful testing of\n",
    "    a program.\n",
    "\n",
    "An error message will usually contain an indication of where in the\n",
    "program the error occurred. Sometimes the real error may be on a earlier\n",
    "line than the one indicated in the error message.\n",
    "\n",
    "To tackle errors when they happen try to look at the error message and\n",
    "identify the line where the first error occurs. Read the message\n",
    "carefully and compare it to your code to try to identify the problem. If\n",
    "you cannot figure out what it means then try typing the error message\n",
    "into google and looking at the suggested answers on web forums such as\n",
    "<span>*stackexchange*</span>.\n",
    "\n",
    "Another way to debug code is to comment out lines using \\# a the\n",
    "beginning of a line, so that the interpreter ignores them. Then you can\n",
    "identify which line is giving the problem.\n",
    "\n",
    "If there is no error message but your code does not work properly it can\n",
    "be a good idea to insert `print()` functions in different places to see\n",
    "if the code is performing calculation steps as expected."
   ]
  }
 ],
 "metadata": {
  "hide_input": false,
  "kernelspec": {
   "display_name": "Python 3",
   "language": "python",
   "name": "python3"
  },
  "language_info": {
   "codemirror_mode": {
    "name": "ipython",
    "version": 3
   },
   "file_extension": ".py",
   "mimetype": "text/x-python",
   "name": "python",
   "nbconvert_exporter": "python",
   "pygments_lexer": "ipython3",
   "version": "3.7.3"
  },
  "toc": {
   "base_numbering": 1,
   "nav_menu": {},
   "number_sections": true,
   "sideBar": true,
   "skip_h1_title": false,
   "title_cell": "Table of Contents",
   "title_sidebar": "Contents",
   "toc_cell": false,
   "toc_position": {},
   "toc_section_display": true,
   "toc_window_display": false
  }
 },
 "nbformat": 4,
 "nbformat_minor": 1
}
