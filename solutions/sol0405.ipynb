{
 "cells": [
  {
   "cell_type": "code",
   "execution_count": null,
   "metadata": {},
   "outputs": [],
   "source": [
    "def quads(a, b, c):\n",
    "    disc = b**2 - 4*a*c\n",
    "    if disc > 0:\n",
    "        x1 = (-b + disc**0.5)/(2.0*a)\n",
    "        x2 = (-b - disc**0.5)/(2.0*a)\n",
    "        print(\"2 roots =\", x1, x2)\n",
    "    elif disc == 0:\n",
    "        x = -b/(2.0*a)\n",
    "        print(\"1 root =\", x)\n",
    "    else:\n",
    "        print(\"0 roots\")\n",
    "        \n",
    "        \n",
    "quads(1, 0, -1)\n",
    "quads(1, 2, 1)\n",
    "quads(1, 0, 1)"
   ]
  }
 ],
 "metadata": {
  "kernelspec": {
   "display_name": "Python 3",
   "language": "python",
   "name": "python3"
  },
  "language_info": {
   "codemirror_mode": {
    "name": "ipython",
    "version": 3
   },
   "file_extension": ".py",
   "mimetype": "text/x-python",
   "name": "python",
   "nbconvert_exporter": "python",
   "pygments_lexer": "ipython3",
   "version": "3.8.3"
  }
 },
 "nbformat": 4,
 "nbformat_minor": 4
}
