{
 "cells": [
  {
   "cell_type": "markdown",
   "metadata": {
    "deletable": false,
    "editable": false,
    "nbgrader": {
     "cell_type": "markdown",
     "checksum": "39572ad44eabf29de013ea2a4503d4a6",
     "grade": false,
     "grade_id": "cell-e16f08659cce93ea",
     "locked": true,
     "schema_version": 3,
     "solution": false,
     "task": false
    }
   },
   "source": [
    "Be sure to do all exercises and run all completed code cells. \n",
    "\n",
    "If anything goes wrong, **restart the kernel** (in the menubar, select Kernel$\\rightarrow$Restart)."
   ]
  },
  {
   "cell_type": "markdown",
   "metadata": {
    "deletable": false,
    "editable": false,
    "nbgrader": {
     "cell_type": "markdown",
     "checksum": "20ed87f59d5261edc30851961107ec8c",
     "grade": false,
     "grade_id": "cell-50b9cb0b3970f0e6",
     "locked": true,
     "schema_version": 3,
     "solution": false,
     "task": false
    }
   },
   "source": [
    "---"
   ]
  },
  {
   "cell_type": "markdown",
   "metadata": {
    "deletable": false,
    "editable": false,
    "nbgrader": {
     "cell_type": "markdown",
     "checksum": "ba83a3f66a714372a594057f77d01968",
     "grade": false,
     "grade_id": "cell-6e6673aeefb2769f",
     "locked": true,
     "schema_version": 3,
     "solution": false,
     "task": false
    }
   },
   "source": [
    "# Lists, Iteration and `for` Loops"
   ]
  },
  {
   "cell_type": "markdown",
   "metadata": {
    "deletable": false,
    "editable": false,
    "nbgrader": {
     "cell_type": "markdown",
     "checksum": "b4e5c7761acaac180cb9f56feaf34544",
     "grade": false,
     "grade_id": "cell-8dabb291c81690b5",
     "locked": true,
     "schema_version": 3,
     "solution": false,
     "task": false
    }
   },
   "source": [
    "## Slicing Sections out of Strings\n",
    "\n",
    "Characters in a string can be identified from their position using their <span>*index*</span>.  \n",
    "\n",
    "\n",
    "* Numbering in Python starts from zero. \n",
    "\n",
    "* This can be thought of as numbering the positions <span>*between*</span> the letters:\n",
    "```\n",
    "| W | o | r | d | ! |\n",
    "0   1   2   3   4   5\n",
    "```\n",
    "\n",
    "\n",
    "We can obtain more than one letter by <span>*slicing*</span> it using a\n",
    "range of indices: `string[index1:index2]`, where the slice is all\n",
    "letters <span>*between*</span> the two indices (see diagram above)."
   ]
  },
  {
   "cell_type": "code",
   "execution_count": null,
   "metadata": {
    "deletable": false,
    "editable": false,
    "nbgrader": {
     "cell_type": "code",
     "checksum": "dc0dcccd38dd712d90cf56dff822c57a",
     "grade": false,
     "grade_id": "cell-fe64e25466df0e89",
     "locked": true,
     "schema_version": 3,
     "solution": false,
     "task": false
    }
   },
   "outputs": [],
   "source": [
    "a = \"Word!\"\n",
    "\n",
    "print(a[0:4])"
   ]
  },
  {
   "cell_type": "markdown",
   "metadata": {
    "deletable": false,
    "editable": false,
    "nbgrader": {
     "cell_type": "markdown",
     "checksum": "ca6c5a10e6543df94d2874a2d69bd07e",
     "grade": false,
     "grade_id": "cell-42c45717ddb5bb84",
     "locked": true,
     "schema_version": 3,
     "solution": false,
     "task": false
    }
   },
   "source": [
    "* **empty indices**:  If we leave either of the two positions (`index1` or `index2`) blank:  \n",
    "`[:]` means \"from the start to the end\"  \n",
    "`[1:]` means \"from position 1 to the end\"  \n",
    "`[:3]` means \"from the start to position 3\" "
   ]
  },
  {
   "cell_type": "markdown",
   "metadata": {
    "deletable": false,
    "editable": false,
    "nbgrader": {
     "cell_type": "markdown",
     "checksum": "12daa1d408fdcb71d74103aad2f3ab7f",
     "grade": false,
     "grade_id": "cell-fd4c8e662f61a3eb",
     "locked": true,
     "schema_version": 3,
     "solution": false,
     "task": false
    }
   },
   "source": [
    "* **Use index *slicing* to cut out and print the sections of the string indicated by the Expected output in the comments:** "
   ]
  },
  {
   "cell_type": "code",
   "execution_count": null,
   "metadata": {
    "deletable": false,
    "nbgrader": {
     "cell_type": "code",
     "checksum": "2714f574f10ab950f7a89f39adeeb439",
     "grade": true,
     "grade_id": "cell-8dbc89d7e38fc623",
     "locked": false,
     "points": 0,
     "schema_version": 3,
     "solution": true,
     "task": false
    }
   },
   "outputs": [],
   "source": [
    "a = \"Word!\"\n",
    "\n",
    "#print(a[?:?])\n",
    "# YOUR CODE HERE\n",
    "\n",
    "#Expected output > W"
   ]
  },
  {
   "cell_type": "code",
   "execution_count": null,
   "metadata": {
    "deletable": false,
    "nbgrader": {
     "cell_type": "code",
     "checksum": "1694ce8c9d6e395b70d9c5233fb3cbfc",
     "grade": true,
     "grade_id": "cell-d8e2918cc6bacb00",
     "locked": false,
     "points": 0,
     "schema_version": 3,
     "solution": true,
     "task": false
    }
   },
   "outputs": [],
   "source": [
    "a = \"Word!\"\n",
    "\n",
    "#print(a[?])\n",
    "\n",
    "\n",
    "# YOUR CODE HERE\n",
    "\n",
    "#Expected output > Wor"
   ]
  },
  {
   "cell_type": "code",
   "execution_count": null,
   "metadata": {
    "deletable": false,
    "nbgrader": {
     "cell_type": "code",
     "checksum": "6a01217cd71a0b52934ca58d769be3cb",
     "grade": true,
     "grade_id": "cell-14c66480362aeb94",
     "locked": false,
     "points": 0,
     "schema_version": 3,
     "solution": true,
     "task": false
    }
   },
   "outputs": [],
   "source": [
    "a = \"Word!\"\n",
    "\n",
    "#print(?)\n",
    "# YOUR CODE HERE\n",
    "\n",
    "#Expected output > d!"
   ]
  },
  {
   "cell_type": "markdown",
   "metadata": {
    "deletable": false,
    "editable": false,
    "nbgrader": {
     "cell_type": "markdown",
     "checksum": "f4d154274e85ec8fcdd7d574df5eeabf",
     "grade": false,
     "grade_id": "cell-e03ef638b9d65dc1",
     "locked": true,
     "schema_version": 3,
     "solution": false,
     "task": false
    }
   },
   "source": [
    "Now study the example below:"
   ]
  },
  {
   "cell_type": "code",
   "execution_count": null,
   "metadata": {
    "deletable": false,
    "editable": false,
    "nbgrader": {
     "cell_type": "code",
     "checksum": "59896878c2394a55309ba31b1d53f741",
     "grade": false,
     "grade_id": "cell-76af1c17e8287dc5",
     "locked": true,
     "schema_version": 3,
     "solution": false,
     "task": false
    }
   },
   "outputs": [],
   "source": [
    "print(a[:3]+a[3:])"
   ]
  },
  {
   "cell_type": "markdown",
   "metadata": {
    "deletable": false,
    "editable": false,
    "nbgrader": {
     "cell_type": "markdown",
     "checksum": "757885b7ac9b008e1a0e84e284a57af8",
     "grade": false,
     "grade_id": "cell-c04d0c5ea89c5be5",
     "locked": true,
     "schema_version": 3,
     "solution": false,
     "task": false
    }
   },
   "source": [
    "### Accessing a character in a string using its *Index* \n",
    "\n",
    "Accessing a single character in a string can be simplified using just first the index (i.e. *before* the letter).  \n",
    "\n",
    "This is done using the string name with the index number in square brackets `string[index]`.  "
   ]
  },
  {
   "cell_type": "code",
   "execution_count": null,
   "metadata": {
    "deletable": false,
    "editable": false,
    "nbgrader": {
     "cell_type": "code",
     "checksum": "512154673074ab4631e8e60d9fa94d9d",
     "grade": false,
     "grade_id": "cell-252485a6540c27ce",
     "locked": true,
     "schema_version": 3,
     "solution": false,
     "task": false
    }
   },
   "outputs": [],
   "source": [
    "a = \"Word!\"\n",
    "print(a[0])"
   ]
  },
  {
   "cell_type": "markdown",
   "metadata": {
    "deletable": false,
    "editable": false,
    "nbgrader": {
     "cell_type": "markdown",
     "checksum": "e6d72742f8c80f0eb8cfed94213a69c1",
     "grade": false,
     "grade_id": "cell-883ba4794a536816",
     "locked": true,
     "schema_version": 3,
     "solution": false,
     "task": false
    }
   },
   "source": [
    "* **Now do the same using the indices `1,2,3,4,5` in turn**:\n",
    "    - re-run the same cell each time with a different index:"
   ]
  },
  {
   "cell_type": "code",
   "execution_count": null,
   "metadata": {
    "deletable": false,
    "nbgrader": {
     "cell_type": "code",
     "checksum": "68dd86f6acd0903784b02dea6f6a16d4",
     "grade": true,
     "grade_id": "cell-7f73498b8cb2f834",
     "locked": false,
     "points": 0,
     "schema_version": 3,
     "solution": true,
     "task": false
    }
   },
   "outputs": [],
   "source": [
    "#print(a[?])\n",
    "# YOUR CODE HERE"
   ]
  },
  {
   "cell_type": "markdown",
   "metadata": {
    "deletable": false,
    "editable": false,
    "nbgrader": {
     "cell_type": "markdown",
     "checksum": "2efb7808874222ff3fb5c97c4f24deea",
     "grade": false,
     "grade_id": "cell-397542df238fd34d",
     "locked": true,
     "schema_version": 3,
     "solution": false,
     "task": false
    }
   },
   "source": [
    "* Note that we cannot access *indices* beyond the length of the character string held by the variable `a`, trying this produces an error.\n",
    "\n",
    "### Negative Indexing\n",
    "\n",
    "Negative numbers can be used to start from the end of the string and work backwards:\n",
    "```\n",
    " | B | a | c | k | w | a | r | d | s |\n",
    "-9  -8  -7  -6  -5  -4  -3  -2  -1\n",
    "```"
   ]
  },
  {
   "cell_type": "code",
   "execution_count": null,
   "metadata": {
    "deletable": false,
    "editable": false,
    "nbgrader": {
     "cell_type": "code",
     "checksum": "0e69989056c3ef5e1832b851566561af",
     "grade": false,
     "grade_id": "cell-522a525799360ad6",
     "locked": true,
     "schema_version": 3,
     "solution": false,
     "task": false
    }
   },
   "outputs": [],
   "source": [
    "b = \"Backwards\"\n",
    "print(b[-5:-1])"
   ]
  },
  {
   "cell_type": "code",
   "execution_count": null,
   "metadata": {
    "deletable": false,
    "editable": false,
    "nbgrader": {
     "cell_type": "code",
     "checksum": "07a0651cd0ba4d921fb78576a8792572",
     "grade": false,
     "grade_id": "cell-da495786572f2872",
     "locked": true,
     "schema_version": 3,
     "solution": false,
     "task": false
    }
   },
   "outputs": [],
   "source": [
    "# Slice the word Back using negative indexing\n",
    "print(b[:-5])"
   ]
  },
  {
   "cell_type": "code",
   "execution_count": null,
   "metadata": {
    "deletable": false,
    "editable": false,
    "nbgrader": {
     "cell_type": "code",
     "checksum": "252474a603e5054b865d09900e2cd898",
     "grade": false,
     "grade_id": "cell-ee0c567a7ff5588d",
     "locked": true,
     "schema_version": 3,
     "solution": false,
     "task": false
    }
   },
   "outputs": [],
   "source": [
    "# Slice the word wards using negative indexing\n",
    "print(b[-5:])"
   ]
  },
  {
   "cell_type": "code",
   "execution_count": null,
   "metadata": {
    "deletable": false,
    "editable": false,
    "nbgrader": {
     "cell_type": "code",
     "checksum": "47762c4d0c759e094fa6458e0881513f",
     "grade": false,
     "grade_id": "cell-b371385be4c3cb78",
     "locked": true,
     "schema_version": 3,
     "solution": false,
     "task": false
    }
   },
   "outputs": [],
   "source": [
    "# make note of this example and later think of how to automate it using loops...\n",
    "print(b[-1] + b[-2] + b[-3] + b[-4] + b[-5] + b[-6] + b[-7] + b[-8] + b[-9])"
   ]
  },
  {
   "cell_type": "markdown",
   "metadata": {
    "deletable": false,
    "editable": false,
    "nbgrader": {
     "cell_type": "markdown",
     "checksum": "684e3ec0a504330959ad84ac22522c81",
     "grade": false,
     "grade_id": "cell-e0a45ce8f08c4003",
     "locked": true,
     "schema_version": 3,
     "solution": false,
     "task": false
    }
   },
   "source": [
    "A third parameter can be given to the slice notation specifying the step-size:  \n",
    "`START:STOP:STEP`  \n",
    "e.g.:"
   ]
  },
  {
   "cell_type": "code",
   "execution_count": null,
   "metadata": {
    "deletable": false,
    "editable": false,
    "nbgrader": {
     "cell_type": "code",
     "checksum": "424778de20d98947ec40692816937ff1",
     "grade": false,
     "grade_id": "cell-5486034fd102135e",
     "locked": true,
     "schema_version": 3,
     "solution": false,
     "task": false
    }
   },
   "outputs": [],
   "source": [
    "print(b[0:9:1])\n",
    "print(b[0:9:2])\n",
    "print(b[::3])\n",
    "print(b[::-1])"
   ]
  },
  {
   "cell_type": "markdown",
   "metadata": {
    "deletable": false,
    "editable": false,
    "nbgrader": {
     "cell_type": "markdown",
     "checksum": "537fb6d92dd13852869669d3dcc15bda",
     "grade": false,
     "grade_id": "cell-3c2bcff910d82bf9",
     "locked": true,
     "schema_version": 3,
     "solution": false,
     "task": false
    }
   },
   "source": [
    "## Lists \n",
    "\n",
    "\n",
    "A `list` is a data type consisting of multiple elements. \n",
    "\n",
    "Lists are defined by enclosing them in square brackets.  \n",
    "The elements in a list can be of any type in Python,\n",
    "including text strings or numbers."
   ]
  },
  {
   "cell_type": "code",
   "execution_count": null,
   "metadata": {
    "deletable": false,
    "editable": false,
    "nbgrader": {
     "cell_type": "code",
     "checksum": "a0a89733410f01d1775f041aa3be152f",
     "grade": false,
     "grade_id": "cell-19401d589c8ae947",
     "locked": true,
     "schema_version": 3,
     "solution": false,
     "task": false
    }
   },
   "outputs": [],
   "source": [
    "v = [1, 2, 1.5, \"Hello\"]\n",
    "print(v)"
   ]
  },
  {
   "cell_type": "markdown",
   "metadata": {
    "deletable": false,
    "editable": false,
    "nbgrader": {
     "cell_type": "markdown",
     "checksum": "b3bb992224560d50099a700b3597d5de",
     "grade": false,
     "grade_id": "cell-c2a99f0b702ed736",
     "locked": true,
     "schema_version": 3,
     "solution": false,
     "task": false
    }
   },
   "source": [
    "### Accessing an item in a list using its *Index*\n",
    "\n",
    "The elements from a list can also be selected using their *index* in\n",
    "square brackets following the list's name, just like with strings:"
   ]
  },
  {
   "cell_type": "code",
   "execution_count": null,
   "metadata": {
    "deletable": false,
    "editable": false,
    "nbgrader": {
     "cell_type": "code",
     "checksum": "53a37326eef88bf29d5bff4092549a34",
     "grade": false,
     "grade_id": "cell-7d2d417169799062",
     "locked": true,
     "schema_version": 3,
     "solution": false,
     "task": false
    }
   },
   "outputs": [],
   "source": [
    "import math\n",
    "\n",
    "v1 = [1, 2.5, \"Hello\", \"goodbye\", math.pi]"
   ]
  },
  {
   "cell_type": "code",
   "execution_count": null,
   "metadata": {
    "deletable": false,
    "editable": false,
    "nbgrader": {
     "cell_type": "code",
     "checksum": "862eac4dd9901787b36899d4b378b4a3",
     "grade": false,
     "grade_id": "cell-af5cb609c9c83beb",
     "locked": true,
     "schema_version": 3,
     "solution": false,
     "task": false
    }
   },
   "outputs": [],
   "source": [
    "# access the first element\n",
    "print(v1[0])"
   ]
  },
  {
   "cell_type": "code",
   "execution_count": null,
   "metadata": {
    "deletable": false,
    "editable": false,
    "nbgrader": {
     "cell_type": "code",
     "checksum": "75f5b208850a461e9a752a16f1effb92",
     "grade": false,
     "grade_id": "cell-0a2f1c535fa9df51",
     "locked": true,
     "schema_version": 3,
     "solution": false,
     "task": false
    }
   },
   "outputs": [],
   "source": [
    "# slice from between the second and fourth \"fence-post\" (third and fourth elements)\n",
    "print(v1[2:4])"
   ]
  },
  {
   "cell_type": "code",
   "execution_count": null,
   "metadata": {
    "deletable": false,
    "editable": false,
    "nbgrader": {
     "cell_type": "code",
     "checksum": "646742a6572747a58ee95882c86db13b",
     "grade": false,
     "grade_id": "cell-3109fcdc8efc3cac",
     "locked": true,
     "schema_version": 3,
     "solution": false,
     "task": false
    }
   },
   "outputs": [],
   "source": [
    "# print the last element\n",
    "print(v1[-1])"
   ]
  },
  {
   "cell_type": "markdown",
   "metadata": {
    "deletable": false,
    "editable": false,
    "nbgrader": {
     "cell_type": "markdown",
     "checksum": "6408b6108cab91ac2ca5ee9a3d7d59f0",
     "grade": false,
     "grade_id": "cell-3247516fb3f70d0e",
     "locked": true,
     "schema_version": 3,
     "solution": false,
     "task": false
    }
   },
   "source": [
    "### Slicing Lists\n",
    "\n",
    "We can also *slice* lists to take more than one value at a time."
   ]
  },
  {
   "cell_type": "code",
   "execution_count": null,
   "metadata": {
    "deletable": false,
    "editable": false,
    "nbgrader": {
     "cell_type": "code",
     "checksum": "837749aebb490b8cebf2198663b9e4fd",
     "grade": false,
     "grade_id": "cell-8be1eebd7b1341a2",
     "locked": true,
     "schema_version": 3,
     "solution": false,
     "task": false
    }
   },
   "outputs": [],
   "source": [
    "pilist = [3, \".\", 1, 4, 1, 5, 9, 2, 6, 5, 3, 5, 9]\n",
    "\n",
    "print(pilist[0:7])"
   ]
  },
  {
   "cell_type": "markdown",
   "metadata": {
    "deletable": false,
    "editable": false,
    "nbgrader": {
     "cell_type": "markdown",
     "checksum": "029a329c328c6ac56c6b124385cee85e",
     "grade": false,
     "grade_id": "cell-5e8d46f6074b2db1",
     "locked": true,
     "schema_version": 3,
     "solution": false,
     "task": false
    }
   },
   "source": [
    "### Joining Lists\n",
    "\n",
    "Concatenating (joining) lists can be done using the `+` symbol, which\n",
    "does not add the lists in a numerical sense. "
   ]
  },
  {
   "cell_type": "code",
   "execution_count": null,
   "metadata": {
    "deletable": false,
    "editable": false,
    "nbgrader": {
     "cell_type": "code",
     "checksum": "652c5cb63dc2ee1c9ec62f946173084e",
     "grade": false,
     "grade_id": "cell-ee11134808b35c20",
     "locked": true,
     "schema_version": 3,
     "solution": false,
     "task": false
    }
   },
   "outputs": [],
   "source": [
    "a = [1, 2, 3, 4, 5]\n",
    "b = [6, 7, 8, 9, 10]\n",
    "c = a+b\n",
    "\n",
    "print(c)"
   ]
  },
  {
   "cell_type": "markdown",
   "metadata": {
    "deletable": false,
    "editable": false,
    "nbgrader": {
     "cell_type": "markdown",
     "checksum": "cc06db1d450b581a6ce679c7453514bb",
     "grade": false,
     "grade_id": "cell-47046f65e9b622c2",
     "locked": true,
     "schema_version": 3,
     "solution": false,
     "task": false
    }
   },
   "source": [
    "### Nested Lists\n",
    "\n",
    "Lists can also contain lists. These are known as *nested lists* and are\n",
    "demonstrated below:"
   ]
  },
  {
   "cell_type": "code",
   "execution_count": null,
   "metadata": {
    "deletable": false,
    "editable": false,
    "nbgrader": {
     "cell_type": "code",
     "checksum": "d135cd4214d4178096c3eb4a94e737f1",
     "grade": false,
     "grade_id": "cell-2b1bb89342606b88",
     "locked": true,
     "schema_version": 3,
     "solution": false,
     "task": false
    }
   },
   "outputs": [],
   "source": [
    "lst1 = [\"a\", \"b\", \"c\", \"d\", \"e\", \"f\", \"g\", \"h\", \"i\", \"j\"]\n",
    "lst2 = [[1, 2, 3], lst1, \"Hello\"]\n",
    "\n",
    "print(lst2)"
   ]
  },
  {
   "cell_type": "code",
   "execution_count": null,
   "metadata": {
    "deletable": false,
    "editable": false,
    "nbgrader": {
     "cell_type": "code",
     "checksum": "0a74ece670c98a7493d4e8bba6e4bab3",
     "grade": false,
     "grade_id": "cell-0b8df87027d48dac",
     "locked": true,
     "schema_version": 3,
     "solution": false,
     "task": false
    }
   },
   "outputs": [],
   "source": [
    "ls1 = [1, 2, 3]\n",
    "ls2 = [4, 5, 6]\n",
    "ls3 = [7, 8, 9]\n",
    "lst = [ls1, ls2, ls3]\n",
    "\n",
    "print(lst)"
   ]
  },
  {
   "cell_type": "markdown",
   "metadata": {
    "deletable": false,
    "editable": false,
    "nbgrader": {
     "cell_type": "markdown",
     "checksum": "57ca0b81d8aa1b22b48bbcc2e1af475b",
     "grade": false,
     "grade_id": "cell-3361a7a29c403f3f",
     "locked": true,
     "schema_version": 3,
     "solution": false,
     "task": false
    }
   },
   "source": [
    "### Changing Values in a List \n",
    "\n",
    "Any entry in a list can be changed using its index or slice:"
   ]
  },
  {
   "cell_type": "code",
   "execution_count": null,
   "metadata": {
    "deletable": false,
    "editable": false,
    "nbgrader": {
     "cell_type": "code",
     "checksum": "466551f54e3cdd24e3f6c19ec31a283f",
     "grade": false,
     "grade_id": "cell-5a62cf1941408cac",
     "locked": true,
     "schema_version": 3,
     "solution": false,
     "task": false
    }
   },
   "outputs": [],
   "source": [
    "lst1 = [\"a\", \"b\", \"c\", \"d\", \"e\", \"f\", \"g\", \"h\", \"i\", \"j\"]\n",
    "\n",
    "# replacing a single element print lst1\n",
    "lst1[0] = \"A\"\n",
    "print(lst1)"
   ]
  },
  {
   "cell_type": "code",
   "execution_count": null,
   "metadata": {
    "deletable": false,
    "editable": false,
    "nbgrader": {
     "cell_type": "code",
     "checksum": "a834bd693e84dd82b3d602c201226bea",
     "grade": false,
     "grade_id": "cell-a0b912746fdc42b7",
     "locked": true,
     "schema_version": 3,
     "solution": false,
     "task": false
    }
   },
   "outputs": [],
   "source": [
    "# replacing slice [\"d\",\"e\",\"f\",\"g\"] with [3,4,5]\n",
    "lst1[3:7] = [3, 4, 5]\n",
    "print(lst1)"
   ]
  },
  {
   "cell_type": "markdown",
   "metadata": {
    "deletable": false,
    "editable": false,
    "nbgrader": {
     "cell_type": "markdown",
     "checksum": "53d92f560d73b25780e91cdfb6b548eb",
     "grade": false,
     "grade_id": "cell-6be832010c8b254a",
     "locked": true,
     "schema_version": 3,
     "solution": false,
     "task": false
    }
   },
   "source": [
    "* **Replace element \"b\" with the list [7,8,9]**:"
   ]
  },
  {
   "cell_type": "code",
   "execution_count": null,
   "metadata": {
    "deletable": false,
    "nbgrader": {
     "cell_type": "code",
     "checksum": "3a277735a05d86714d4a99e954b03787",
     "grade": true,
     "grade_id": "cell-c92d9b89934108c0",
     "locked": false,
     "points": 0,
     "schema_version": 3,
     "solution": true,
     "task": false
    }
   },
   "outputs": [],
   "source": [
    "lst1 = ['A', 'b', 'c', 3, 4, 5, 'h', 'i', 'j']\n",
    "\n",
    "#lst1[?] = ?\n",
    "# YOUR CODE HERE\n",
    "\n",
    "print(lst1)"
   ]
  },
  {
   "cell_type": "markdown",
   "metadata": {
    "deletable": false,
    "editable": false,
    "nbgrader": {
     "cell_type": "markdown",
     "checksum": "ccc03221fe6ed057af14d3cd8bacef0f",
     "grade": false,
     "grade_id": "cell-8bb49001b44f706c",
     "locked": true,
     "schema_version": 3,
     "solution": false,
     "task": false
    }
   },
   "source": [
    "Expected Result: `['A', [7, 8, 9], 'c', 3, 4, 5, 'h', 'i', 'j']`\n",
    "\n",
    "[Click for solution](solutions/sol0501.ipynb)"
   ]
  },
  {
   "cell_type": "markdown",
   "metadata": {
    "deletable": false,
    "editable": false,
    "nbgrader": {
     "cell_type": "markdown",
     "checksum": "e09b766a0b463db40a86a5809706e225",
     "grade": false,
     "grade_id": "cell-91aa981b0e4ae852",
     "locked": true,
     "schema_version": 3,
     "solution": false,
     "task": false
    }
   },
   "source": [
    "Notice the different behaviour when replacing a slice or a single\n",
    "element with a list:\n",
    "\n",
    "-   a slice is replaced with elements from the inserted list in place of\n",
    "    the original slice\n",
    "\n",
    "-   a single entry has the list inserted *with the list* as the\n",
    "    *element* entry.\n",
    "\n",
    "Notice also that the length of the list changes as we replace a 4\n",
    "element slice with a three slice. Also when counting list entries, the\n",
    "entries in sub-lists do not get counted, just the sub-list itself as a\n",
    "whole object."
   ]
  },
  {
   "cell_type": "markdown",
   "metadata": {
    "deletable": false,
    "editable": false,
    "nbgrader": {
     "cell_type": "markdown",
     "checksum": "0dba01a7065e2f6cef9732f269deccab",
     "grade": false,
     "grade_id": "cell-8460eb989df268ff",
     "locked": true,
     "schema_version": 3,
     "solution": false,
     "task": false
    }
   },
   "source": [
    "### Accessing Sub-items of Lists\n",
    "\n",
    "Look at the following example and see if you can figure out what's going\n",
    "on (explanation beneath):"
   ]
  },
  {
   "cell_type": "code",
   "execution_count": null,
   "metadata": {
    "deletable": false,
    "editable": false,
    "nbgrader": {
     "cell_type": "code",
     "checksum": "e7164b73575c9c7fa97e7062dc2ca1b9",
     "grade": false,
     "grade_id": "cell-632fe3653352662c",
     "locked": true,
     "schema_version": 3,
     "solution": false,
     "task": false
    }
   },
   "outputs": [],
   "source": [
    "lst1 = [1, 1.5, \"hello\", [1, 2, 3, 4]]\n",
    "\n",
    "a = lst1[3]\n",
    "print(a)\n",
    "print(a[1])\n",
    "\n",
    "print(lst1[2][1])\n",
    "print(lst1[3][2:4])"
   ]
  },
  {
   "cell_type": "markdown",
   "metadata": {
    "deletable": false,
    "editable": false,
    "nbgrader": {
     "cell_type": "markdown",
     "checksum": "2124992a80b1523b3822cfc5852c82a1",
     "grade": false,
     "grade_id": "cell-96644d17a69681cc",
     "locked": true,
     "schema_version": 3,
     "solution": false,
     "task": false
    }
   },
   "source": [
    "The basic idea is that the first set of square brackets says\n",
    "which part of the main list we want.  \n",
    "\n",
    "If this item itself has more than one element we can access these elements  \n",
    "using another set of square\n",
    "brackets:  `listname[item][subitem][subsubitem]` etc. \n",
    "\n",
    "The first example\n",
    "above shows this more clearly by firstly extracting item `lst1[3]` of\n",
    "the main list and then taking element 1 from this. The next example\n",
    "shows this on a numerical list."
   ]
  },
  {
   "cell_type": "code",
   "execution_count": null,
   "metadata": {
    "deletable": false,
    "editable": false,
    "nbgrader": {
     "cell_type": "code",
     "checksum": "c35a0f57effc9b6040e1404387e88967",
     "grade": false,
     "grade_id": "cell-4fe8a778e52b1db2",
     "locked": true,
     "schema_version": 3,
     "solution": false,
     "task": false
    }
   },
   "outputs": [],
   "source": [
    "lst = [[1, 2, 3], [4, 5, 6], [7, 8, 9]]\n",
    "\n",
    "print(lst[1])\n",
    "print(lst[1][0])\n",
    "\n",
    "a = lst[1][2]\n",
    "b = lst[2][0]\n",
    "\n",
    "print(a*b)"
   ]
  },
  {
   "cell_type": "markdown",
   "metadata": {
    "deletable": false,
    "editable": false,
    "nbgrader": {
     "cell_type": "markdown",
     "checksum": "6a049c83ad3a4e2dc5bb01871e8a6de0",
     "grade": false,
     "grade_id": "cell-8b0a8f2ab8a1858e",
     "locked": true,
     "schema_version": 3,
     "solution": false,
     "task": false
    }
   },
   "source": [
    "### Summary"
   ]
  },
  {
   "cell_type": "code",
   "execution_count": null,
   "metadata": {
    "deletable": false,
    "editable": false,
    "nbgrader": {
     "cell_type": "code",
     "checksum": "4e8aa5a14534c0f9e226c6b1c7b8dff8",
     "grade": false,
     "grade_id": "cell-401e7301c0405879",
     "locked": true,
     "schema_version": 3,
     "solution": false,
     "task": false
    }
   },
   "outputs": [],
   "source": [
    "# a comment is ignored\n",
    "\n",
    "something = \"A string of characters\"  # giving a text string a variable name\n",
    "# slicing: remember it goes up to one less than the last index\n",
    "print(something[2:8])\n",
    "\n",
    "# accessing using an index number: remember indexing starts at zero\n",
    "print(something[3])\n",
    "\n",
    "a_list = [\"anything in\", 2, \"square\", \"brackets\", [1, 2, 3]]\n",
    "\n",
    "print(a_list[1] * a_list[4][2])  # accessing lists and sub-lists"
   ]
  },
  {
   "cell_type": "markdown",
   "metadata": {
    "deletable": false,
    "editable": false,
    "nbgrader": {
     "cell_type": "markdown",
     "checksum": "da7be51402b6565a5a55bd79d3034bbf",
     "grade": false,
     "grade_id": "cell-9e5b15b641053188",
     "locked": true,
     "schema_version": 3,
     "solution": false,
     "task": false
    }
   },
   "source": [
    "## Generating New Lists\n",
    "\n",
    "\n",
    "### Using inbuilt functions\n",
    "\n",
    "The `list()` function can be used to create a new empty list:"
   ]
  },
  {
   "cell_type": "code",
   "execution_count": null,
   "metadata": {
    "deletable": false,
    "editable": false,
    "nbgrader": {
     "cell_type": "code",
     "checksum": "7df5c1f75e9f8a9ed96be374cb76f4e9",
     "grade": false,
     "grade_id": "cell-8dc77ce79b13996c",
     "locked": true,
     "schema_version": 3,
     "solution": false,
     "task": false
    }
   },
   "outputs": [],
   "source": [
    "a = list()\n",
    "print(a)"
   ]
  },
  {
   "cell_type": "markdown",
   "metadata": {
    "deletable": false,
    "editable": false,
    "nbgrader": {
     "cell_type": "markdown",
     "checksum": "70b2a3093f03f41982c2de55bda16167",
     "grade": false,
     "grade_id": "cell-9e5b15b641053199",
     "locked": true,
     "schema_version": 3,
     "solution": false,
     "task": false
    }
   },
   "source": [
    "This is the same as saying:\n",
    "```python\n",
    "a = []\n",
    "```\n",
    "\n",
    "#### Converting an iterable object to a list:"
   ]
  },
  {
   "cell_type": "code",
   "execution_count": null,
   "metadata": {
    "deletable": false,
    "editable": false,
    "nbgrader": {
     "cell_type": "code",
     "checksum": "941ca4a265de4b4f3667cde7ca32a980",
     "grade": false,
     "grade_id": "cell-3d6b7a42dd786f33",
     "locked": true,
     "schema_version": 3,
     "solution": false,
     "task": false
    }
   },
   "outputs": [],
   "source": [
    "a = \"Hello World\" # this is a string - it is iterable since we can slice it or iterate over its elements\n",
    "b = list(a) # make a list from the string contents\n",
    "\n",
    "print(b)"
   ]
  },
  {
   "cell_type": "markdown",
   "metadata": {
    "deletable": false,
    "editable": false,
    "nbgrader": {
     "cell_type": "markdown",
     "checksum": "203de9fc81814900842d89f6c46fa5ea",
     "grade": false,
     "grade_id": "cell-7cb5a02d6b960d40",
     "locked": true,
     "schema_version": 3,
     "solution": false,
     "task": false
    }
   },
   "source": [
    "#### Adding to (_\"appending\"_ to) a list:"
   ]
  },
  {
   "cell_type": "code",
   "execution_count": null,
   "metadata": {
    "deletable": false,
    "editable": false,
    "nbgrader": {
     "cell_type": "code",
     "checksum": "d87c86185ce6d01c522432a6eaa0312b",
     "grade": false,
     "grade_id": "cell-294a12b5b36434a8",
     "locked": true,
     "schema_version": 3,
     "solution": false,
     "task": false
    }
   },
   "outputs": [],
   "source": [
    "b = list(\"Hello World\")\n",
    "\n",
    "b.append(\"!\")\n",
    "\n",
    "print(b)"
   ]
  },
  {
   "cell_type": "code",
   "execution_count": null,
   "metadata": {
    "deletable": false,
    "editable": false,
    "nbgrader": {
     "cell_type": "code",
     "checksum": "7b06dff1d57e1b515597d098ee0433ca",
     "grade": false,
     "grade_id": "cell-8baee739c5e98de6",
     "locked": true,
     "schema_version": 3,
     "solution": false,
     "task": false
    }
   },
   "outputs": [],
   "source": [
    "\"-\".join(b) #join the elements of a list using the specified string between them"
   ]
  },
  {
   "cell_type": "markdown",
   "metadata": {
    "deletable": false,
    "editable": false,
    "nbgrader": {
     "cell_type": "markdown",
     "checksum": "7a5ee6b85e9e598412c2470d02441f79",
     "grade": false,
     "grade_id": "cell-efa03460b7a9f215",
     "locked": true,
     "schema_version": 3,
     "solution": false,
     "task": false
    }
   },
   "source": [
    "We can also combine lists using the `+` operator:"
   ]
  },
  {
   "cell_type": "code",
   "execution_count": null,
   "metadata": {
    "deletable": false,
    "editable": false,
    "nbgrader": {
     "cell_type": "code",
     "checksum": "fd7a0daca35dfe0a178b947c94509b44",
     "grade": false,
     "grade_id": "cell-335c2380cac580d9",
     "locked": true,
     "schema_version": 3,
     "solution": false,
     "task": false
    }
   },
   "outputs": [],
   "source": [
    "a = [1,2,3]\n",
    "b = [4,5,6]\n",
    "c = a+b\n",
    "\n",
    "print(c)"
   ]
  },
  {
   "cell_type": "code",
   "execution_count": null,
   "metadata": {
    "deletable": false,
    "editable": false,
    "nbgrader": {
     "cell_type": "code",
     "checksum": "59dd6c9ffd6fe7c1642a0c52fbff9102",
     "grade": false,
     "grade_id": "cell-d2a9a4573127d54b",
     "locked": true,
     "schema_version": 3,
     "solution": false,
     "task": false
    }
   },
   "outputs": [],
   "source": [
    "a = ['H', 'e', 'l', 'l', 'o', ' ', 'W', 'o', 'r', 'l', 'd']\n",
    "b = a+[\"!\"]\n",
    "\n",
    "print(b)"
   ]
  },
  {
   "cell_type": "markdown",
   "metadata": {
    "deletable": false,
    "editable": false,
    "nbgrader": {
     "cell_type": "markdown",
     "checksum": "7231b8558f0b181e0d7852cd3e94c2b8",
     "grade": false,
     "grade_id": "cell-44fbbdffa27b95b9",
     "locked": true,
     "schema_version": 3,
     "solution": false,
     "task": false
    }
   },
   "source": [
    "The function `list()` makes a list out of the elements of an object, and `range()` creates a range of numbers to iterate over:"
   ]
  },
  {
   "cell_type": "code",
   "execution_count": null,
   "metadata": {
    "deletable": false,
    "editable": false,
    "nbgrader": {
     "cell_type": "code",
     "checksum": "bfe320cef8398bbf7b6e064df0e88094",
     "grade": false,
     "grade_id": "cell-f10b32c3090ac5ae",
     "locked": true,
     "schema_version": 3,
     "solution": false,
     "task": false
    }
   },
   "outputs": [],
   "source": [
    "# create a list with a range of 10 elements\n",
    "list(range(10))"
   ]
  },
  {
   "cell_type": "code",
   "execution_count": null,
   "metadata": {
    "deletable": false,
    "editable": false,
    "nbgrader": {
     "cell_type": "code",
     "checksum": "6da1f86566750c4b01ff9ad670b06e65",
     "grade": false,
     "grade_id": "cell-95da9d3d8f39723d",
     "locked": true,
     "schema_version": 3,
     "solution": false,
     "task": false
    }
   },
   "outputs": [],
   "source": [
    "# Numbers don't have to start at zero:\n",
    "list(range(5,10))"
   ]
  },
  {
   "cell_type": "code",
   "execution_count": null,
   "metadata": {
    "deletable": false,
    "editable": false,
    "nbgrader": {
     "cell_type": "code",
     "checksum": "4de64ca36fef862af6034fcddf4d7e01",
     "grade": false,
     "grade_id": "cell-d33eede56aa775de",
     "locked": true,
     "schema_version": 3,
     "solution": false,
     "task": false
    }
   },
   "outputs": [],
   "source": [
    "# a third parameter controls the step size (integers only)\n",
    "list(range(1,10,2))"
   ]
  },
  {
   "cell_type": "markdown",
   "metadata": {
    "deletable": false,
    "editable": false,
    "nbgrader": {
     "cell_type": "markdown",
     "checksum": "fdae47f561007cc7b17c7514435d1bda",
     "grade": false,
     "grade_id": "cell-cfb1c2c4602581bf",
     "locked": true,
     "schema_version": 3,
     "solution": false,
     "task": false
    }
   },
   "source": [
    "* **Make a list from 3 to 9 in steps of 3**:"
   ]
  },
  {
   "cell_type": "code",
   "execution_count": null,
   "metadata": {
    "deletable": false,
    "nbgrader": {
     "cell_type": "code",
     "checksum": "f01175998ca460471370682b34c93527",
     "grade": true,
     "grade_id": "cell-efae25cac4c1da2e",
     "locked": false,
     "points": 0,
     "schema_version": 3,
     "solution": true,
     "task": false
    }
   },
   "outputs": [],
   "source": [
    "#a = ?\n",
    "# YOUR CODE HERE\n",
    "\n",
    "\n",
    "print(a)"
   ]
  },
  {
   "cell_type": "markdown",
   "metadata": {
    "deletable": false,
    "editable": false,
    "nbgrader": {
     "cell_type": "markdown",
     "checksum": "7b699ba53cbc2928675b65e6a6c830b3",
     "grade": false,
     "grade_id": "cell-3c6d1d3e2de6f073",
     "locked": true,
     "schema_version": 3,
     "solution": false,
     "task": false
    }
   },
   "source": [
    "Result: `[3, 6, 9]`\n",
    "\n",
    "[Click for solution](solutions/sol0502.ipynb)"
   ]
  },
  {
   "cell_type": "markdown",
   "metadata": {
    "deletable": false,
    "editable": false,
    "nbgrader": {
     "cell_type": "markdown",
     "checksum": "068d5c20cc829bc95f2e4529a30297f6",
     "grade": false,
     "grade_id": "cell-45fd0240fb73ccd7",
     "locked": true,
     "schema_version": 3,
     "solution": false,
     "task": false
    }
   },
   "source": [
    "### Making a new list from another list\n",
    "\n",
    "New lists can be generated by manipulating each of the items in an existing list.  \n",
    "\n",
    "* For example \"print a list of $x^2$ values for all $x$ values **in** the list `[1, 2, 3]`\".  "
   ]
  },
  {
   "cell_type": "code",
   "execution_count": null,
   "metadata": {
    "ExecuteTime": {
     "end_time": "2019-02-01T21:27:23.982333Z",
     "start_time": "2019-02-01T21:27:23.976343Z"
    },
    "deletable": false,
    "editable": false,
    "nbgrader": {
     "cell_type": "code",
     "checksum": "f7717571ddbe423d50f0636c2bf2b2a7",
     "grade": false,
     "grade_id": "cell-686824ed19f9da62",
     "locked": true,
     "schema_version": 3,
     "solution": false,
     "task": false
    }
   },
   "outputs": [],
   "source": [
    "xlist = [1, 2, 3, 4, 5]\n",
    "\n",
    "xsq = [x**2 for x in xlist]\n",
    "print(xsq)"
   ]
  },
  {
   "cell_type": "markdown",
   "metadata": {
    "deletable": false,
    "editable": false,
    "nbgrader": {
     "cell_type": "markdown",
     "checksum": "b50b4cf1ee277267b32bbe1b411dba68",
     "grade": false,
     "grade_id": "cell-259b33c6ba8e4f13",
     "locked": true,
     "schema_version": 3,
     "solution": false,
     "task": false
    }
   },
   "source": [
    "#### This method is known as *\"list comprehension\"*.\n",
    "\n",
    "This also works for non-numerical lists:"
   ]
  },
  {
   "cell_type": "code",
   "execution_count": null,
   "metadata": {
    "ExecuteTime": {
     "end_time": "2019-02-01T21:27:25.117056Z",
     "start_time": "2019-02-01T21:27:25.112057Z"
    },
    "deletable": false,
    "editable": false,
    "nbgrader": {
     "cell_type": "code",
     "checksum": "28e8ac40527aa317e76280d21c1eb281",
     "grade": false,
     "grade_id": "cell-ee143a2aa243d9d4",
     "locked": true,
     "schema_version": 3,
     "solution": false,
     "task": false
    }
   },
   "outputs": [],
   "source": [
    "# apply the function len(a) for every word `a` in the list [...]\n",
    "word_lengths = [len(word) for word in [\"spam\", \"egg\", \"cheese\"]]\n",
    "\n",
    "print(\"The words in the list are:\", word_lengths, \"letters long.\")"
   ]
  },
  {
   "cell_type": "markdown",
   "metadata": {
    "deletable": false,
    "editable": false,
    "nbgrader": {
     "cell_type": "markdown",
     "checksum": "aa8db5dbd12ad040e02a25e469e0a063",
     "grade": false,
     "grade_id": "cell-c2cd49cc4112b2fd",
     "locked": true,
     "schema_version": 3,
     "solution": false,
     "task": false
    }
   },
   "source": [
    "And for strings:"
   ]
  },
  {
   "cell_type": "code",
   "execution_count": null,
   "metadata": {
    "deletable": false,
    "editable": false,
    "nbgrader": {
     "cell_type": "code",
     "checksum": "f1d0a5952220cb93ea3a47f61df73f05",
     "grade": false,
     "grade_id": "cell-3731b59efb7ebf45",
     "locked": true,
     "schema_version": 3,
     "solution": false,
     "task": false
    }
   },
   "outputs": [],
   "source": [
    "mystring = \"Hello World!\"\n",
    "\n",
    "# create a new list with elemets that are the string \"The next...\" plus each character c in the given list\n",
    "newlist = [\"The next character is \"+c for c in mystring]\n",
    "\n",
    "print(newlist)"
   ]
  },
  {
   "cell_type": "markdown",
   "metadata": {
    "deletable": false,
    "editable": false,
    "nbgrader": {
     "cell_type": "markdown",
     "checksum": "7089c7507c6018ba5b5e9815b4c29952",
     "grade": false,
     "grade_id": "cell-61eec738ce377e08",
     "locked": true,
     "schema_version": 3,
     "solution": false,
     "task": false
    }
   },
   "source": [
    "## Exercise 1: \n",
    "\n",
    "1. Use the `list()` and `range()` functions to create a list of integers called `ivals`  \n",
    "2. Use ***list comprehension*** on `ivals` to create a list with 9 values from $-\\pi$ to $\\pi$.  \n",
    "    * The formula to use is: $-\\pi + (2 n \\pi)/8$ for each value $n$ in a list `[0...8]` created using `list()` and `range()`.  \n",
    "Use the syntax: `newlist = [CALCULATION for VALUE in OLDLIST]` using the calculation formula above\n",
    "\n",
    "\n",
    "* You will need to import `pi` from the `math` library\n",
    "* The values obtained should be $-\\pi, -3\\pi/4, -\\pi/2, -\\pi/4, 0.0, \\pi/4, \\pi/2, 3\\pi/4, \\pi$"
   ]
  },
  {
   "cell_type": "code",
   "execution_count": null,
   "metadata": {
    "deletable": false,
    "nbgrader": {
     "cell_type": "code",
     "checksum": "94d8b745802a04b9da0942567193d48a",
     "grade": true,
     "grade_id": "cell-ae06a6f4e255a731",
     "locked": false,
     "points": 0,
     "schema_version": 3,
     "solution": true,
     "task": false
    }
   },
   "outputs": [],
   "source": [
    "# from ? import ?\n",
    "# YOUR CODE HERE\n",
    "\n",
    "\n",
    "# use list and range to create a list of indices called ivals\n",
    "#ivals = ???(???(?))\n",
    "# YOUR CODE HERE\n",
    "\n",
    "# create a new list using list comprehension (see hint hidden below if you get stuck)\n",
    "\n",
    "#pilist = [??? for ? in ???]\n",
    "# YOUR CODE HERE\n",
    "\n",
    "print(pilist)"
   ]
  },
  {
   "cell_type": "markdown",
   "metadata": {
    "deletable": false,
    "editable": false,
    "nbgrader": {
     "cell_type": "markdown",
     "checksum": "658651ec0e1b7bb7c5a6a1da7c0b6026",
     "grade": false,
     "grade_id": "cell-77e48a7882aeca68",
     "locked": true,
     "schema_version": 3,
     "solution": false,
     "task": false
    }
   },
   "source": [
    "Expected output  \n",
    "`[-3.141592653589793, -2.356194490192345, -1.5707963267948966, -0.7853981633974483, 0.0, 0.7853981633974483, 1.5707963267948966, 2.356194490192345, 3.141592653589793]`\n",
    "\n",
    "\n",
    "[Click for solution](solutions/sol0503.ipynb)\n",
    "\n",
    "* This example shows why counting from zero can be useful (think about this)."
   ]
  },
  {
   "cell_type": "markdown",
   "metadata": {
    "deletable": false,
    "editable": false,
    "nbgrader": {
     "cell_type": "markdown",
     "checksum": "c6748a001eb60bbb2b611179e4feaa21",
     "grade": false,
     "grade_id": "cell-592f7342b42951a5",
     "locked": true,
     "schema_version": 3,
     "solution": false,
     "task": false
    }
   },
   "source": [
    "## Iterating using FOR loops\n",
    "\n",
    "Another way to repeatedly perform some function **for** all the items in a list is using a *\"`for` loop\"*.\n",
    "\n",
    "### Iterating through Strings \n",
    "\n",
    "We can step through the letters in a string and repeat a block of\n",
    "**INDENTED** code <span>**for**</span> each character in the string. \n",
    "\n",
    "Here the `for` statement takes each letter in the string\n",
    "`\"Hello World!\"` in turn and assigns it to the variable we call `letr`. \n",
    "\n",
    "The indented code block is repeated in a loop for each character. \n",
    "\n",
    "Each time the loop repeats the variable `letr` takes the next value.  \n",
    "Once the string is finished the indented block exits.\n",
    "\n",
    "* Notice that the code that is repeated has to be *indented* (usually by 4 spaces)."
   ]
  },
  {
   "cell_type": "code",
   "execution_count": null,
   "metadata": {
    "ExecuteTime": {
     "end_time": "2019-02-01T21:26:47.74223Z",
     "start_time": "2019-02-01T21:26:47.736237Z"
    },
    "deletable": false,
    "editable": false,
    "nbgrader": {
     "cell_type": "code",
     "checksum": "938933405a9a71e33982906ac9e1922a",
     "grade": false,
     "grade_id": "cell-0acd8bf74eccca14",
     "locked": true,
     "schema_version": 3,
     "solution": false,
     "task": false
    }
   },
   "outputs": [],
   "source": [
    "for letr in \"Hello World!\":\n",
    "    print(\"The next character is: \"+letr)\n",
    "    print('...')\n",
    "\n",
    "print(\"The end!\")"
   ]
  },
  {
   "cell_type": "markdown",
   "metadata": {
    "deletable": false,
    "editable": false,
    "nbgrader": {
     "cell_type": "markdown",
     "checksum": "bcc47042306d24ba2818837c97aa6e85",
     "grade": false,
     "grade_id": "cell-afff67b4347abb8c",
     "locked": true,
     "schema_version": 3,
     "solution": false,
     "task": false
    }
   },
   "source": [
    "This is equivalent to performing the following commands in sequence:\n",
    "```python\n",
    "letr='H'\n",
    "print(\"the next letter is:\", letr)\n",
    "letr='e'\n",
    "print(\"the next letter is:\", letr)\n",
    "```\n",
    "... and so on."
   ]
  },
  {
   "cell_type": "markdown",
   "metadata": {
    "deletable": false,
    "editable": false,
    "nbgrader": {
     "cell_type": "markdown",
     "checksum": "e056af0b5c86e8fc6a631e15d1c65940",
     "grade": false,
     "grade_id": "cell-fdedee93ea3330d6",
     "locked": true,
     "schema_version": 3,
     "solution": false,
     "task": false
    }
   },
   "source": [
    "### FOR Loops on Lists\n",
    "\n",
    "We can step through the items in a list in the same way as stepping\n",
    "through the characters in a string."
   ]
  },
  {
   "cell_type": "code",
   "execution_count": null,
   "metadata": {
    "ExecuteTime": {
     "end_time": "2019-02-01T21:27:02.622294Z",
     "start_time": "2019-02-01T21:27:02.616302Z"
    },
    "deletable": false,
    "editable": false,
    "nbgrader": {
     "cell_type": "code",
     "checksum": "12bc1ec19962fcafbdb1ae21055e004c",
     "grade": false,
     "grade_id": "cell-7c35a17c12a446c1",
     "locked": true,
     "schema_version": 3,
     "solution": false,
     "task": false
    }
   },
   "outputs": [],
   "source": [
    "for next_item in [\"spam\", \"eggs\", \"cheese\"]:\n",
    "    print(\"buy some\", next_item)"
   ]
  },
  {
   "cell_type": "markdown",
   "metadata": {
    "deletable": false,
    "editable": false,
    "nbgrader": {
     "cell_type": "markdown",
     "checksum": "57efca513bb747f8a3632f88c3ac2bf3",
     "grade": false,
     "grade_id": "cell-9a816ab477815ef9",
     "locked": true,
     "schema_version": 3,
     "solution": false,
     "task": false
    }
   },
   "source": [
    "### Performing calculations using FOR loops\n",
    "\n",
    "Look at the three ways of performing the same task below to see\n",
    "how FOR loops can be used to simplify a task (the comma stops printing on a new line):"
   ]
  },
  {
   "cell_type": "code",
   "execution_count": null,
   "metadata": {
    "ExecuteTime": {
     "end_time": "2019-02-01T21:27:21.64639Z",
     "start_time": "2019-02-01T21:27:21.640389Z"
    },
    "deletable": false,
    "editable": false,
    "nbgrader": {
     "cell_type": "code",
     "checksum": "a3324f94bfa719cdb5f8b4ef5a416cca",
     "grade": false,
     "grade_id": "cell-9303228c815da72a",
     "locked": true,
     "schema_version": 3,
     "solution": false,
     "task": false
    }
   },
   "outputs": [],
   "source": [
    "print(1**2, end=', ')\n",
    "print(2**2, end=', ')\n",
    "print(3**2)"
   ]
  },
  {
   "cell_type": "markdown",
   "metadata": {
    "deletable": false,
    "editable": false,
    "nbgrader": {
     "cell_type": "markdown",
     "checksum": "aec58177aa2a10d085c201db09fab86e",
     "grade": false,
     "grade_id": "cell-faa4f72e0e2e3465",
     "locked": true,
     "schema_version": 3,
     "solution": false,
     "task": false
    }
   },
   "source": [
    "* The `end=', '` argument makes sure each `print()` is followed by a comma and not a new line (return character).\n",
    "\n",
    "We can rewrite this using a counter `n`:"
   ]
  },
  {
   "cell_type": "code",
   "execution_count": null,
   "metadata": {
    "ExecuteTime": {
     "end_time": "2019-02-01T21:27:22.192037Z",
     "start_time": "2019-02-01T21:27:22.184044Z"
    },
    "deletable": false,
    "editable": false,
    "nbgrader": {
     "cell_type": "code",
     "checksum": "731171d6134e084397f115695d8b107c",
     "grade": false,
     "grade_id": "cell-9603b55da4ef8e16",
     "locked": true,
     "schema_version": 3,
     "solution": false,
     "task": false
    }
   },
   "outputs": [],
   "source": [
    "n = 1\n",
    "print(n**2, end=', ')\n",
    "n = 2\n",
    "print(n**2, end=', ')\n",
    "n = 3\n",
    "print(n**2)"
   ]
  },
  {
   "cell_type": "markdown",
   "metadata": {
    "deletable": false,
    "editable": false,
    "nbgrader": {
     "cell_type": "markdown",
     "checksum": "69b37de6b5045eb74c41035a85238a76",
     "grade": false,
     "grade_id": "cell-85644f56851b9641",
     "locked": true,
     "schema_version": 3,
     "solution": false,
     "task": false
    }
   },
   "source": [
    "This can now be made compact using a loop:"
   ]
  },
  {
   "cell_type": "code",
   "execution_count": null,
   "metadata": {
    "ExecuteTime": {
     "end_time": "2019-02-01T21:27:22.750072Z",
     "start_time": "2019-02-01T21:27:22.744071Z"
    },
    "deletable": false,
    "editable": false,
    "nbgrader": {
     "cell_type": "code",
     "checksum": "c6e4dd74c7cb24caaba7741dff2e25ec",
     "grade": false,
     "grade_id": "cell-5b24b09c65829133",
     "locked": true,
     "schema_version": 3,
     "solution": false,
     "task": false
    }
   },
   "outputs": [],
   "source": [
    "numbers = [1, 2, 3]\n",
    "for n in numbers:\n",
    "    print(n**2, end=', ')"
   ]
  },
  {
   "cell_type": "markdown",
   "metadata": {
    "deletable": false,
    "editable": false,
    "nbgrader": {
     "cell_type": "markdown",
     "checksum": "b66821c51298e3d659e25c5bfe0f76af",
     "grade": false,
     "grade_id": "cell-1b3c547fd5545034",
     "locked": true,
     "schema_version": 3,
     "solution": false,
     "task": false
    }
   },
   "source": [
    "#### Using the range() Function\n",
    "\n",
    "The `range` function can be used directly to iterate a block of instructions for\n",
    "a set number of steps, i.e. for a certain *range* of values.\n",
    "\n",
    "Here `i` is just a variable name for a counter that takes values in the range `0:5` (i.e. 6 values),  \n",
    "it could be used in the calculation, or as an index to access a value in a list or string, or not used at all:\n",
    "\n",
    "* Notice that a **BLOCK** of code is indented by the same number of spaces, and all of this repeats"
   ]
  },
  {
   "cell_type": "code",
   "execution_count": null,
   "metadata": {
    "ExecuteTime": {
     "end_time": "2019-02-01T21:27:27.924285Z",
     "start_time": "2019-02-01T21:27:27.917293Z"
    },
    "deletable": false,
    "editable": false,
    "nbgrader": {
     "cell_type": "code",
     "checksum": "ec3cbc9d9d861b1cf9f4952b805f4fe7",
     "grade": false,
     "grade_id": "cell-5b419752e23eb446",
     "locked": true,
     "schema_version": 3,
     "solution": false,
     "task": false
    }
   },
   "outputs": [],
   "source": [
    "n = 1\n",
    "\n",
    "# for each iteration of the loop, times the previous n by 10\n",
    "for i in range(6):\n",
    "    n = n*10\n",
    "    print(i, n)\n",
    "    \n",
    "print(\"\"\"\\nAnything after the indented block, using normal indentation (back to the margin), \n",
    "only gets executed AFTER the loop has finished iterating.\"\"\")"
   ]
  },
  {
   "cell_type": "markdown",
   "metadata": {
    "deletable": false,
    "editable": false,
    "nbgrader": {
     "cell_type": "markdown",
     "checksum": "ba58d7cb96d1c7fa71c77871e1cf37d0",
     "grade": false,
     "grade_id": "cell-193dede43492b9c2",
     "locked": true,
     "schema_version": 3,
     "solution": false,
     "task": false
    }
   },
   "source": [
    "The full syntax for the range function is `range(int1,int2,step)`, where the list generated is all\n",
    "the integers <span>*between*</span> the integers `int1` and `int2` in\n",
    "steps of `step`.  \n",
    "This does not include the actual value `int2` (refer to [Slicing rules](#Slicing-Sections-out-of-Strings)).  \n",
    "If the start value (`int1`)\n",
    "is omitted the list starts from 0, and the default step is 1."
   ]
  },
  {
   "cell_type": "markdown",
   "metadata": {
    "deletable": false,
    "editable": false,
    "nbgrader": {
     "cell_type": "markdown",
     "checksum": "4505b71bfd4a347a0f97e701bd29ddc2",
     "grade": false,
     "grade_id": "cell-246bdaf957872e22",
     "locked": true,
     "schema_version": 3,
     "solution": false,
     "task": false
    }
   },
   "source": [
    "## Exercise 2\n",
    "\n",
    "### Fibonacci Sequence Iteration\n",
    "\n",
    "Numbers in the Fibonacci sequence are given by adding the previous two numbers $x_N = x_{N-1} + x_{N-2}$ in the sequence: $1, 1, 2, 3, 5, 8, \\dots$ \n",
    "\n",
    "Use the following outline for a code (so-called *\"pseudo-code\"*) to write a program to generate the first\n",
    "12 values of the Fibonacci sequence.\n",
    "\n",
    "1. Define a new list containing first two values (1 and 1) using square bracket notation,\n",
    "2. use a FOR loop and the range() function to iterate for ten steps (12 values in total).\n",
    "3. use negative indexing to sum the last two values of the list and assign it to a variable for the next value,\n",
    "e.g.:\n",
    "```python\n",
    "a_list = [\"one\", \"two\", \"three\", \"four\", \"five\"]\n",
    "print(\"The last two values are\", a_list[-2], \"and\", a_list[-1])\n",
    "```\n",
    "Results in:\n",
    "```\n",
    "The last two values are four and five\n",
    "```\n",
    "4. append this next value ($x_N = x_{N-1} + x_{N-2}$) in the sequence to the end of the list using syntax like:\n",
    "```python\n",
    "LISTNAME=LISTNAME+[NEWENTRY]\n",
    "```\n",
    "or the append function, which does the same thing:\n",
    "```python\n",
    "LISTNAME.append(NEWENTRY)\n",
    "```\n",
    "5. Print the list"
   ]
  },
  {
   "cell_type": "code",
   "execution_count": null,
   "metadata": {
    "deletable": false,
    "nbgrader": {
     "cell_type": "code",
     "checksum": "b5f7d2fc38d33b13dea13d008d06b3f2",
     "grade": true,
     "grade_id": "cell-f8059f699f38045e",
     "locked": false,
     "points": 0,
     "schema_version": 3,
     "solution": true,
     "task": false
    }
   },
   "outputs": [],
   "source": [
    "# Fibonacci sequence\n",
    "\n",
    "# first define the first two values\n",
    "fib = [1, 1]\n",
    "\n",
    "# iterate for 10 steps\n",
    "#for ? in ???:\n",
    "# YOUR CODE HERE\n",
    "    # calculate next value as sum of previous two values of the list\n",
    "    # join it to the end of the list\n",
    "    # YOUR CODE HERE\n",
    "\n",
    "# Print the list\n",
    "# YOUR CODE HERE"
   ]
  },
  {
   "cell_type": "markdown",
   "metadata": {
    "deletable": false,
    "editable": false,
    "nbgrader": {
     "cell_type": "markdown",
     "checksum": "bfb15c0a0992f944a17fb50688d62631",
     "grade": false,
     "grade_id": "cell-7795dd193bc0bc0c",
     "locked": true,
     "schema_version": 3,
     "solution": false,
     "task": false
    }
   },
   "source": [
    "Result: `[1, 1, 2, 3, 5, 8, 13, 21, 34, 55, 89, 144]`\n",
    "\n",
    "[Click here for solution](solutions/sol0504.ipynb)\n",
    "    \n",
    "-   Try printing the ratio of the last two steps at each iteration and\n",
    "    see how they converge to the *[Golden Ratio](https://en.wikipedia.org/wiki/Golden_ratio)*."
   ]
  },
  {
   "cell_type": "markdown",
   "metadata": {
    "deletable": false,
    "editable": false,
    "nbgrader": {
     "cell_type": "markdown",
     "checksum": "185f2a05a03a6c6f44b093ea8830bdb7",
     "grade": false,
     "grade_id": "cell-2bd4475f60ce14e9",
     "locked": true,
     "schema_version": 3,
     "solution": false,
     "task": false
    }
   },
   "source": [
    "Nested Loops\n",
    "------------\n",
    "\n",
    "We can also have loops inside loops, which are called <span>*nested\n",
    "loops*</span>. In the case of a nested FOR loop, for each item in the\n",
    "list we then iterate over the contents and perform some action."
   ]
  },
  {
   "cell_type": "code",
   "execution_count": null,
   "metadata": {
    "ExecuteTime": {
     "end_time": "2019-02-01T21:27:29.217244Z",
     "start_time": "2019-02-01T21:27:29.209246Z"
    },
    "deletable": false,
    "editable": false,
    "nbgrader": {
     "cell_type": "code",
     "checksum": "595db470d3f38a6ac12d0ed5221d1cab",
     "grade": false,
     "grade_id": "cell-dc977b57c8443c1e",
     "locked": true,
     "schema_version": 3,
     "solution": false,
     "task": false
    }
   },
   "outputs": [],
   "source": [
    "for a_word in [\"spam\", \"eggs\", \"cheese\"]:\n",
    "    # print the word as a whole\n",
    "    print(a_word+\":\", end=\" \")\n",
    "\n",
    "    # this inner loop loops over each word in the top-level outer loop\n",
    "    for a_letter in a_word:\n",
    "        print(a_letter, \";\", end=\" \")\n",
    "\n",
    "    # Start a new line:\n",
    "    print()"
   ]
  },
  {
   "cell_type": "markdown",
   "metadata": {
    "deletable": false,
    "editable": false,
    "nbgrader": {
     "cell_type": "markdown",
     "checksum": "f1a23cbf249bba79805aff09dee81064",
     "grade": false,
     "grade_id": "cell-8de6a4be7ac2a976",
     "locked": true,
     "schema_version": 3,
     "solution": false,
     "task": false
    }
   },
   "source": [
    "Where the general format is:\n",
    "```python\n",
    "HEADER 1: \n",
    "    CODE FOR BLOCK 1\n",
    "        HEADER 2: \n",
    "            CODE FOR BLOCK 2 \n",
    "            ... \n",
    "        MORE CODE FOR BLOCK 1 \n",
    "        ...\n",
    "MAIN PROGRAMME\n",
    "```"
   ]
  },
  {
   "cell_type": "code",
   "execution_count": null,
   "metadata": {
    "ExecuteTime": {
     "end_time": "2019-02-01T21:27:33.294281Z",
     "start_time": "2019-02-01T21:27:33.288284Z"
    },
    "deletable": false,
    "editable": false,
    "nbgrader": {
     "cell_type": "code",
     "checksum": "89e629d42959c83bcea8e8ed938ca9bd",
     "grade": false,
     "grade_id": "cell-2872ce001a34076d",
     "locked": true,
     "schema_version": 3,
     "solution": false,
     "task": false
    }
   },
   "outputs": [],
   "source": [
    "n = 3\n",
    "for i in range(n):\n",
    "    for j in range(1, 4):\n",
    "        print(i, j, i*n + j)"
   ]
  },
  {
   "cell_type": "markdown",
   "metadata": {
    "deletable": false,
    "editable": false,
    "nbgrader": {
     "cell_type": "markdown",
     "checksum": "2ba6b09fd03d7138a57fed722831f514",
     "grade": false,
     "grade_id": "cell-3b87631a899480e1",
     "locked": true,
     "schema_version": 3,
     "solution": false,
     "task": false
    }
   },
   "source": [
    "Another useful function is `enumerate()`, which gives an index number to items in a list or string:"
   ]
  },
  {
   "cell_type": "code",
   "execution_count": null,
   "metadata": {
    "deletable": false,
    "editable": false,
    "nbgrader": {
     "cell_type": "code",
     "checksum": "f961788ef138b09dea47e9cc93a95e6f",
     "grade": false,
     "grade_id": "cell-9ff67294de3b0a58",
     "locked": true,
     "schema_version": 3,
     "solution": false,
     "task": false
    }
   },
   "outputs": [],
   "source": [
    "greeting = \"Hello World!\"\n",
    "for idx, letr in enumerate(greeting):\n",
    "    print(f\"Character with index {idx} is: {letr}\")"
   ]
  },
  {
   "cell_type": "markdown",
   "metadata": {
    "deletable": false,
    "editable": false,
    "nbgrader": {
     "cell_type": "markdown",
     "checksum": "392c77ad0f385ebc7e1d8ce8e26e1c4f",
     "grade": false,
     "grade_id": "cell-b0b8b042b01acb8e",
     "locked": true,
     "schema_version": 3,
     "solution": false,
     "task": false
    }
   },
   "source": [
    "* Note that the `f\"Some String with {variable}\"` allows the inline formatting of a variable directly in a string."
   ]
  },
  {
   "cell_type": "markdown",
   "metadata": {
    "deletable": false,
    "editable": false,
    "nbgrader": {
     "cell_type": "markdown",
     "checksum": "66a7796c95392d0b434e0d2964210031",
     "grade": false,
     "grade_id": "cell-fd040906929f6f15",
     "locked": true,
     "schema_version": 3,
     "solution": false,
     "task": false
    }
   },
   "source": [
    "# Task 3 (2%)\n",
    "\n",
    "## Chaos Generator!\n",
    "\n",
    "### Background:\n",
    "The simple iterative formula: $x_{i+1} = c - x_{i}^2$ can produce surprisingly complex sequences for different values of the constant $c$. \n",
    "\n",
    "For $0<c\\leq 0.75$, starting at some initial value (e.g.: $x_0=0.5$) the sequence settles, after a number of iterations, to a different single value of $x$ for each value of $c$.  \n",
    "E.g.: at $c=0.75$ the sequence converges to: $x_0 = 0.5$; $x_1 = 0.75 - x_0^2 = 0.75 - 0.25 = 0.5$; $x_3 = 0.5$ $\\cdots$   \n",
    "E.g. at $c=0.5$ the following happens:\n",
    "![](Figures/it0-5.png)\n",
    "From $c > 0.75$ until $c\\approx 1.25$ the sequence alternates between two values after settling down.   \n",
    "E.g. at $c=1$ the following happens:\n",
    "![](Figures/it1-0.png)\n",
    "At around $c\\approx 1.25$ it starts alternating between four values.  \n",
    "![](Figures/it1-37.png)\n",
    "The number of values it alternates between keeps doubling at closer and closer $c$ values until at a critical $c=1.5$ the sequence reaches infinite period and never repeats (within the precision of the computer memory).\n",
    "E.g. at $c=1.6$ the following happens:\n",
    "![](Figures/it1-6.png)\n",
    "This is an example of _\"deterministic chaos\"_, which is the mathematical phenomenon behind the unpredictability of the weather (the so-called _\"butterfly effect\"_) [see here for more information](https://en.wikipedia.org/wiki/Butterfly_effect).\n",
    "\n",
    "## Your Task: \n",
    "\n",
    "* Define a function called `quadmap` that takes one argument `c` and performs the quadratic map iteration outlined above.\n",
    "* the structure of your code should be as follows:\n",
    "```python\n",
    "def FUNCTION(ARGUMENTS):\n",
    "    # initialise an empty list for storing values of x\n",
    "    xvals = ???\n",
    "    \n",
    "    # set x to 0.5 for an initial value\n",
    "    \n",
    "    #use a for loop to iterate x = c - x**2 for 10,000 iterations until the values settle\n",
    "    for ? in ???:\n",
    "        #FORMULA\n",
    "        \n",
    "    #use another for loop to iterate for a final 16 steps and append the values to your list\n",
    "    for ???\n",
    "    \n",
    "    return xvals\n",
    "```\n",
    "* test your function by printing the results of several choices of `c`\n",
    "* Download as a `.py` python file / check in Spyder or otherwise before submitting `exercise5.py` to moodle. "
   ]
  },
  {
   "cell_type": "code",
   "execution_count": null,
   "metadata": {
    "deletable": false,
    "nbgrader": {
     "cell_type": "code",
     "checksum": "ca6e82262fa093f7ce87bc57d0e76403",
     "grade": true,
     "grade_id": "cell-c21e16f87881d711",
     "locked": false,
     "points": 0,
     "schema_version": 3,
     "solution": true,
     "task": false
    }
   },
   "outputs": [],
   "source": [
    "# function definition\n",
    "def quadmap(c): \n",
    "    # YOUR CODE HERE\n",
    "    return xvals\n",
    "\n",
    "#test your function on c=1.3\n",
    "quadmap(1.3)"
   ]
  },
  {
   "cell_type": "code",
   "execution_count": null,
   "metadata": {
    "deletable": false,
    "editable": false,
    "nbgrader": {
     "cell_type": "code",
     "checksum": "2ccb68b23484f2c15c7ab2d32fbe52ba",
     "grade": false,
     "grade_id": "cell-cf2a729423eaf5a5",
     "locked": true,
     "schema_version": 3,
     "solution": false,
     "task": false
    }
   },
   "outputs": [],
   "source": [
    "# code testing block (only works from the original notebook running on Jupyterhub)\n",
    "\n",
    "import sys\n",
    "sys.path.append('.checks/')\n",
    "import check05\n",
    "try: check05.test(quadmap)\n",
    "except NameError as e: print(\"The function was not found, is it named correctly and the cell above run?\\n--> \"+str(e))"
   ]
  },
  {
   "cell_type": "markdown",
   "metadata": {
    "deletable": false,
    "editable": false,
    "nbgrader": {
     "cell_type": "markdown",
     "checksum": "6b0c04d1007756901751d7dbc35a517f",
     "grade": false,
     "grade_id": "cell-54e5f7efc656295d",
     "locked": true,
     "schema_version": 3,
     "solution": false,
     "task": false
    }
   },
   "source": [
    "Expected Result:\n",
    "```\n",
    "[1.1486645691118087,\n",
    " -0.019430292332817123,\n",
    " 1.2996224637398612,\n",
    " -0.3890185482572668,\n",
    " 1.1486645691118087,\n",
    " -0.019430292332817123,\n",
    " 1.2996224637398612,\n",
    " -0.3890185482572668,\n",
    " 1.1486645691118087,\n",
    " -0.019430292332817123,\n",
    " 1.2996224637398612,\n",
    " -0.3890185482572668,\n",
    " 1.1486645691118087,\n",
    " -0.019430292332817123,\n",
    " 1.2996224637398612,\n",
    " -0.3890185482572668]\n",
    "```\n",
    "\n",
    "### Overall Behaviour:\n",
    "\n",
    "The structure of the behaviour of the equation is both chaotic and also a fractal ([more info on fractals](https://en.wikipedia.org/wiki/Fractal)).  \n",
    "* Play with  the interactive figure below and test out some values of `c` on your own function.\n",
    "* Try out _very slightly_ different starting values for `x` to see the sensitivity to initial conditions (the butterfly effect) for a chaotic value of `c`."
   ]
  },
  {
   "cell_type": "code",
   "execution_count": 1,
   "metadata": {
    "deletable": false,
    "editable": false,
    "nbgrader": {
     "cell_type": "code",
     "checksum": "a595056e79dbf6df25aee78806c653a6",
     "grade": false,
     "grade_id": "cell-dee866bae5b3347c",
     "locked": true,
     "schema_version": 3,
     "solution": false,
     "task": false
    }
   },
   "outputs": [
    {
     "data": {
      "text/html": [
       "\n",
       "        <iframe\n",
       "            width=\"900\"\n",
       "            height=\"500\"\n",
       "            src=\"Figures/quadmap.html\"\n",
       "            frameborder=\"0\"\n",
       "            allowfullscreen\n",
       "        ></iframe>\n",
       "        "
      ],
      "text/plain": [
       "<IPython.lib.display.IFrame at 0x7fe3c41634c0>"
      ]
     },
     "execution_count": 1,
     "metadata": {},
     "output_type": "execute_result"
    }
   ],
   "source": [
    "from IPython.display import IFrame\n",
    "IFrame('Figures/quadmap.html', width=900, height=500)"
   ]
  },
  {
   "cell_type": "markdown",
   "metadata": {
    "deletable": false,
    "editable": false,
    "nbgrader": {
     "cell_type": "markdown",
     "checksum": "154b070cf89af0c655d9a889737bd7d5",
     "grade": false,
     "grade_id": "cell-1a8992931c20ad96",
     "locked": true,
     "schema_version": 3,
     "solution": false,
     "task": false
    }
   },
   "source": [
    "## Extra Creative Challenge: Sorting Lists\n",
    "\n",
    "The following code is a first attempt at sorting a list alphabetically.  \n",
    "Use your ingenuity to perfect the programme.  \n",
    "It might help to look on\n",
    "the internet for sorting algorithms and try to implement them in Python.  \n",
    "Or just use your own ideas."
   ]
  },
  {
   "cell_type": "code",
   "execution_count": null,
   "metadata": {
    "deletable": false,
    "editable": false,
    "nbgrader": {
     "cell_type": "code",
     "checksum": "ba783a39120f0d414a6937d1f5c21696",
     "grade": false,
     "grade_id": "cell-fcc30a4c8789f9ab",
     "locked": true,
     "schema_version": 3,
     "solution": false,
     "task": false
    }
   },
   "outputs": [],
   "source": [
    "shopping = [\"potatoes\", \"pears\", \"coffee\", \"grapes\", \"peas\", \"bananas\",\n",
    "            \"bleach\", \"toothpaste\", \"apples\", \"pesto\", \"pasta\", \"wine\", \"cabbage\"]\n",
    "\n",
    "L = len(shopping)\n",
    "\n",
    "for i in range(L):\n",
    "    for j in range(i, L):\n",
    "        if shopping[i][0] > shopping[j][0]:\n",
    "            tmp = shopping[i]\n",
    "            shopping[i] = shopping[j]\n",
    "            shopping[j] = tmp\n",
    "\n",
    "print(shopping)"
   ]
  },
  {
   "cell_type": "markdown",
   "metadata": {
    "deletable": false,
    "editable": false,
    "nbgrader": {
     "cell_type": "markdown",
     "checksum": "ac9a818e3e0c00ab6a4501a8903c2e97",
     "grade": false,
     "grade_id": "cell-38699ebd10e6c852",
     "locked": true,
     "schema_version": 3,
     "solution": false,
     "task": false
    }
   },
   "source": [
    "The best attempt I could think up in an evening is in the link below.\n",
    "\n",
    "* Does it work in all cases? \n",
    "* Is it the most efficient? \n",
    "\n",
    "[Link to one possible improvement](solutions/sol0505.ipynb)"
   ]
  }
 ],
 "metadata": {
  "anaconda-cloud": {},
  "hide_input": false,
  "kernelspec": {
   "display_name": "Python 3",
   "language": "python",
   "name": "python3"
  },
  "language_info": {
   "codemirror_mode": {
    "name": "ipython",
    "version": 3
   },
   "file_extension": ".py",
   "mimetype": "text/x-python",
   "name": "python",
   "nbconvert_exporter": "python",
   "pygments_lexer": "ipython3",
   "version": "3.8.3"
  },
  "toc": {
   "base_numbering": 1,
   "nav_menu": {},
   "number_sections": true,
   "sideBar": true,
   "skip_h1_title": false,
   "title_cell": "Table of Contents",
   "title_sidebar": "Contents",
   "toc_cell": false,
   "toc_position": {},
   "toc_section_display": true,
   "toc_window_display": false
  }
 },
 "nbformat": 4,
 "nbformat_minor": 1
}
