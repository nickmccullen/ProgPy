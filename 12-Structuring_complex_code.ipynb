{
 "cells": [
  {
   "cell_type": "markdown",
   "metadata": {
    "deletable": false,
    "editable": false,
    "nbgrader": {
     "cell_type": "markdown",
     "checksum": "39572ad44eabf29de013ea2a4503d4a6",
     "grade": false,
     "grade_id": "cell-e16f08659cce93ea",
     "locked": true,
     "schema_version": 3,
     "solution": false,
     "task": false
    }
   },
   "source": [
    "Be sure to do all exercises and run all completed code cells. \n",
    "\n",
    "If anything goes wrong, **restart the kernel** (in the menubar, select Kernel$\\rightarrow$Restart)."
   ]
  },
  {
   "cell_type": "markdown",
   "metadata": {
    "deletable": false,
    "editable": false,
    "nbgrader": {
     "cell_type": "markdown",
     "checksum": "20ed87f59d5261edc30851961107ec8c",
     "grade": false,
     "grade_id": "cell-50b9cb0b3970f0e6",
     "locked": true,
     "schema_version": 3,
     "solution": false,
     "task": false
    }
   },
   "source": [
    "---"
   ]
  },
  {
   "cell_type": "markdown",
   "metadata": {
    "deletable": false,
    "editable": false,
    "nbgrader": {
     "cell_type": "markdown",
     "checksum": "86ee942f19ab034f2208f8e5e15af611",
     "grade": false,
     "grade_id": "cell-7c5ccb1b5198732c",
     "locked": true,
     "schema_version": 3,
     "solution": false,
     "task": false
    }
   },
   "source": [
    "# Structuring Complex Code\n",
    "\n",
    "Adapted from: https://openbookproject.net/thinkcs/python/english3e/modules.html#creating-your-own-modules\n"
   ]
  },
  {
   "cell_type": "markdown",
   "metadata": {
    "deletable": false,
    "editable": false,
    "nbgrader": {
     "cell_type": "markdown",
     "checksum": "8799c04d7be6a1f85d7e4d327f5d67b5",
     "grade": false,
     "grade_id": "cell-003374029925c9f1",
     "locked": true,
     "schema_version": 3,
     "solution": false,
     "task": false
    }
   },
   "source": [
    "### Breaking a Long Code into Separate Modules\n",
    "\n",
    "Up until now we have been keeping all our code in a single file. For large or complex programmes this can be difficult to manage.\n",
    "Fortunately it is possible to import functions from external modules, and use them in our current script.\n",
    "Putting values and functions in their own module is as simple as saving it in a separate Python script file, then importing the functions and variables using an import statement such as \n",
    "```python \n",
    "import MY_MODULENAME as my\n",
    "```\n",
    "and accessing the *objects* within it using the `DOT` syntax: \n",
    "```python\n",
    "NEW_VARNAME = my.VARIABLE\n",
    "``` \n",
    "or \n",
    "```python \n",
    "FNAME = my.FUNCTION\n",
    "```\n",
    "\n",
    "\n",
    "All we need to do to create our own modules is to save our script as \n",
    "a file with a ``.py`` extension (this is why you don't use spaces in Python filenames!).\n",
    "\n",
    "The following code is saved in a script saved as ``\"mytools.py\"``in the same folder as the main notebook or python script (take a look at it).  \n",
    "It's good practice to use the filename as the first line comment of the module: \n",
    "\n",
    "```python\n",
    "#mytools.py\n",
    "def remove_at(pos, seq):\n",
    "    return seq[:pos] + seq[pos+1:]\n",
    "```\n",
    "\n",
    "We can now use our module in scripts we write, and access all the functions and variables in them. \n",
    "To do so, we must first ``import`` the module. "
   ]
  },
  {
   "cell_type": "code",
   "execution_count": null,
   "metadata": {
    "ExecuteTime": {
     "end_time": "2019-02-01T22:49:00.496468Z",
     "start_time": "2019-02-01T22:49:00.486464Z"
    },
    "deletable": false,
    "editable": false,
    "nbgrader": {
     "cell_type": "code",
     "checksum": "010e680b7dba0a468963a86b0222b874",
     "grade": false,
     "grade_id": "cell-f9368c07598ee1aa",
     "locked": true,
     "schema_version": 3,
     "solution": false,
     "task": false
    }
   },
   "outputs": [],
   "source": [
    "import mytools as my\n",
    "\n",
    "s = \"A string!\"\n",
    "print(my.remove_at(4, s))"
   ]
  },
  {
   "cell_type": "markdown",
   "metadata": {
    "deletable": false,
    "editable": false,
    "nbgrader": {
     "cell_type": "markdown",
     "checksum": "7492b7f8bc33fbb3a22311618d33e606",
     "grade": false,
     "grade_id": "cell-5c5b3556321f1f9c",
     "locked": true,
     "schema_version": 3,
     "solution": false,
     "task": false
    }
   },
   "source": [
    "Notice that the ``.py`` file extension is not used when importing.  \n",
    "Python _expects_ the file names of Python modules to end in ``.py``, so the file extension is not included in the **`import`\n",
    "statement**.  \n",
    "\n",
    "Note also that the module should usually be located in the same folder as your main Python script.\n",
    "\n",
    "### Namespaces in Modules\n",
    "\n",
    "The use of modules makes it possible to break up very large programs into\n",
    "manageable sized parts, and to keep related parts together. \n",
    "In the following example the name of the module file is the comment on the first line.  \n",
    "\n",
    "First module, saved as `\"my_module.py\"` has these contents (take a look):\n",
    "\n",
    "```python\n",
    "# my_module.py\n",
    "\n",
    "question = \"What is the meaning of Life, the Universe, and Everything?\"\n",
    "answer = 42\n",
    "```\n",
    "\n",
    "Second module, saved as `\"my_module2.py\"` looks like this:\n",
    "\n",
    "```python\n",
    "# my_module2.py\n",
    "\n",
    "question = \"What is your quest?\"\n",
    "answer = \"To seek the holy grail.\" \n",
    "```\n",
    "\n",
    "We can now import both modules and access ``question`` and ``answer`` in each:"
   ]
  },
  {
   "cell_type": "code",
   "execution_count": null,
   "metadata": {
    "ExecuteTime": {
     "end_time": "2019-02-01T22:49:28.526214Z",
     "start_time": "2019-02-01T22:49:28.520215Z"
    },
    "deletable": false,
    "editable": false,
    "nbgrader": {
     "cell_type": "code",
     "checksum": "d93b7034edf09ca34168aed0a1b5dec5",
     "grade": false,
     "grade_id": "cell-8161a9d2e55d8acb",
     "locked": true,
     "schema_version": 3,
     "solution": false,
     "task": false
    }
   },
   "outputs": [],
   "source": [
    "import my_module as my\n",
    "import my_module2 as my2\n",
    "\n",
    "print(my.question)\n",
    "print(my2.question)\n",
    "print()\n",
    "print(my.answer)\n",
    "print(my2.answer)"
   ]
  },
  {
   "cell_type": "markdown",
   "metadata": {
    "deletable": false,
    "editable": false,
    "nbgrader": {
     "cell_type": "markdown",
     "checksum": "641438de9a9000dc1bbe92781fd8f8d1",
     "grade": false,
     "grade_id": "cell-770e9039b55e916c",
     "locked": true,
     "schema_version": 3,
     "solution": false,
     "task": false
    }
   },
   "source": [
    "### Exercise:\n",
    "\n",
    "Create and use two of your own modules.\n",
    "\n",
    "* Go to the **Jupyter Notebooks main menu page** and then:\n",
    "     1. Click \"New\" (top right), \n",
    "     2. Set the name from `untitled.txt` to match the one below `<NAME>.py` \n",
    "     3. cut and paste the code in (don't forget to save it afterwards).\n",
    "\n",
    "Create the following two python script files:\n",
    "\n",
    "* **You will need to restart the kernel in your Notebook using the [⟳] button if you change the `.py` modules so that the new version is loaded using `import`.**\n",
    "\n",
    "Parameter module (use the filename in the head-line comment):\n",
    "```python\n",
    "#my_params.py\n",
    "import math\n",
    "\n",
    "pi=math.pi\n",
    "\n",
    "a=7.0\n",
    "b=12.0\n",
    "```\n",
    "\n",
    "Module for my functions:\n",
    "```python\n",
    "#my_functions.py\n",
    "import my_params as myp\n",
    "\n",
    "PI = myp.pi\n",
    "\n",
    "def circle_area(r):\n",
    "    return PI*r*r\n",
    "```\n",
    "\n",
    "* **Run the code below**"
   ]
  },
  {
   "cell_type": "code",
   "execution_count": null,
   "metadata": {
    "deletable": false,
    "editable": false,
    "nbgrader": {
     "cell_type": "code",
     "checksum": "b4628bbd48752d09779ad4fd8d8443e7",
     "grade": false,
     "grade_id": "cell-c0016a7e5932f92c",
     "locked": true,
     "schema_version": 3,
     "solution": false,
     "task": false
    }
   },
   "outputs": [],
   "source": [
    "import my_functions as funcs\n",
    "import my_params as pars\n",
    "\n",
    "print(funcs.PI)\n",
    "print(pars.a)\n",
    "\n",
    "print(funcs.circle_area(a))  "
   ]
  },
  {
   "cell_type": "markdown",
   "metadata": {
    "deletable": false,
    "editable": false,
    "nbgrader": {
     "cell_type": "markdown",
     "checksum": "3c2f1a3a8fb77a46e364e5b5d073ab7a",
     "grade": false,
     "grade_id": "cell-fdb7f2c09295371e",
     "locked": true,
     "schema_version": 3,
     "solution": false,
     "task": false
    }
   },
   "source": [
    "* **Correct the error in the cell below**"
   ]
  },
  {
   "cell_type": "code",
   "execution_count": null,
   "metadata": {
    "deletable": false,
    "nbgrader": {
     "cell_type": "code",
     "checksum": "c371a5eab6f540227549aa111235fb47",
     "grade": true,
     "grade_id": "cell-2a416a7bf855a9e3",
     "locked": false,
     "points": 0,
     "schema_version": 3,
     "solution": true,
     "task": false
    }
   },
   "outputs": [],
   "source": [
    "# YOUR CODE HERE"
   ]
  },
  {
   "cell_type": "markdown",
   "metadata": {
    "deletable": false,
    "editable": false,
    "nbgrader": {
     "cell_type": "markdown",
     "checksum": "9c937e21e8b3ec6ff49075e9dc7c1faa",
     "grade": false,
     "grade_id": "cell-2edde908bad9a0b5",
     "locked": true,
     "schema_version": 3,
     "solution": false,
     "task": false
    }
   },
   "source": [
    "[Click here for the correct way](solutions/sol1201.ipynb)"
   ]
  },
  {
   "cell_type": "markdown",
   "metadata": {
    "deletable": false,
    "editable": false,
    "nbgrader": {
     "cell_type": "markdown",
     "checksum": "dcd493860006343251e955fce161b5f0",
     "grade": false,
     "grade_id": "cell-cad8a9b4a8ab9e1e",
     "locked": true,
     "schema_version": 3,
     "solution": false,
     "task": false
    }
   },
   "source": [
    "### Visibility of Variables\n",
    "\n",
    "Note that a module cannot see the variables inside other modules, or in the main script unless we tell it about them.\n",
    "We can do this by having the modules themselves import things, or by declaring *global variables*.  \n",
    "\n",
    "Global variables can get confusing and are outside the scope of this introductory unit, but if you are interested there is lots of information available for your self-study (search for \"Python global local variables\").\n",
    "\n",
    "### Exercise:\n",
    "\n",
    "1. Create a script named ``newmodule.py``.  \n",
    "2. Add variables ``myage`` set to your current age, and ``year`` set to the current year. \n",
    "3. Create another\n",
    "   module named ``newmodule2.py``. \n",
    "4. Add attributes ``myage`` set to 0, and\n",
    "   ``year`` set to the year you were born. \n",
    "5. Now create a new script, import both of the modules above and write the\n",
    "   following two lines:\n",
    "   ```python\n",
    "print(\"Have I had my birthday this year yet?\\n\")\n",
    "print((newmodule.myage - newmodule2.myage) == (newmodule.year - newmodule2.year))\n",
    "```\n",
    "   * It should print `True` if you've had your birthday this year!\n",
    "   \n",
    "\n",
    "* **Dont forget to restart the kernel [⟳] if you change anything in the `.py` files and save**"
   ]
  },
  {
   "cell_type": "code",
   "execution_count": null,
   "metadata": {
    "deletable": false,
    "nbgrader": {
     "cell_type": "code",
     "checksum": "ccf68ee9436260dad720f20a14955186",
     "grade": true,
     "grade_id": "cell-f2bc712b334ba89f",
     "locked": false,
     "points": 0,
     "schema_version": 3,
     "solution": true,
     "task": false
    }
   },
   "outputs": [],
   "source": [
    "# YOUR CODE HERE"
   ]
  },
  {
   "cell_type": "markdown",
   "metadata": {
    "deletable": false,
    "editable": false,
    "nbgrader": {
     "cell_type": "markdown",
     "checksum": "9f883adaf0bdb674c60b211e9db1448f",
     "grade": false,
     "grade_id": "cell-d7723a2760b022ec",
     "locked": true,
     "schema_version": 3,
     "solution": false,
     "task": false
    }
   },
   "source": [
    "You can also change variables.\n",
    "\n",
    "E.g., if the above returned `True` set your age a year younger (or `+=1` if it was `False`) using:\n",
    "```python\n",
    "newmodule.myage -= 1 # takes one off the previous value\n",
    "print(newmodule.myage)\n",
    "```\n",
    "and rerun the print lines again."
   ]
  },
  {
   "cell_type": "markdown",
   "metadata": {
    "deletable": false,
    "editable": false,
    "nbgrader": {
     "cell_type": "markdown",
     "checksum": "56347e8dbc92287740220494fd2df13b",
     "grade": false,
     "grade_id": "cell-7723c464b54edbb9",
     "locked": true,
     "schema_version": 3,
     "solution": false,
     "task": false
    }
   },
   "source": [
    "[Model solution](solutions/sol1202.ipynb)"
   ]
  }
 ],
 "metadata": {
  "hide_input": false,
  "kernelspec": {
   "display_name": "Python 3",
   "language": "python",
   "name": "python3"
  },
  "language_info": {
   "codemirror_mode": {
    "name": "ipython",
    "version": 3
   },
   "file_extension": ".py",
   "mimetype": "text/x-python",
   "name": "python",
   "nbconvert_exporter": "python",
   "pygments_lexer": "ipython3",
   "version": "3.8.3"
  },
  "toc": {
   "base_numbering": 1,
   "nav_menu": {},
   "number_sections": true,
   "sideBar": true,
   "skip_h1_title": false,
   "title_cell": "Table of Contents",
   "title_sidebar": "Contents",
   "toc_cell": false,
   "toc_position": {},
   "toc_section_display": true,
   "toc_window_display": false
  }
 },
 "nbformat": 4,
 "nbformat_minor": 1
}
