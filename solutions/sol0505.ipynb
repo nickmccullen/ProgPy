{
 "cells": [
  {
   "cell_type": "code",
   "execution_count": null,
   "metadata": {},
   "outputs": [],
   "source": [
    "shopping = [\"potatoes\", \"pears\", \"coffee\", \"grapes\", \"peas\", \"bananas\",\n",
    "            \"bleach\", \"toothpaste\", \"apples\", \"pesto\", \"pasta\", \"wine\", \"cabbage\"]\n",
    "\n",
    "L = len(shopping)\n",
    "for i in range(L):\n",
    "    for j in range(i, L):\n",
    "        if len(shopping[i]) > len(shopping[j]):\n",
    "            maxlen = len(shopping[j])\n",
    "        else:\n",
    "            maxlen = len(shopping[i])\n",
    "        k = 0\n",
    "        while shopping[i][k] == shopping[j][k] and k < maxlen-1:\n",
    "            k = k+1\n",
    "        if shopping[i][k] > shopping[j][k]:\n",
    "            tmp = shopping[i]\n",
    "            shopping[i] = shopping[j]\n",
    "            shopping[j] = tmp\n",
    "            \n",
    "print(shopping)"
   ]
  }
 ],
 "metadata": {
  "kernelspec": {
   "display_name": "Python 3",
   "language": "python",
   "name": "python3"
  },
  "language_info": {
   "codemirror_mode": {
    "name": "ipython",
    "version": 3
   },
   "file_extension": ".py",
   "mimetype": "text/x-python",
   "name": "python",
   "nbconvert_exporter": "python",
   "pygments_lexer": "ipython3",
   "version": "3.8.3"
  }
 },
 "nbformat": 4,
 "nbformat_minor": 4
}
