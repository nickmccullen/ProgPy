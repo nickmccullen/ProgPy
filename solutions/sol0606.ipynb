{
 "cells": [
  {
   "cell_type": "code",
   "execution_count": null,
   "metadata": {},
   "outputs": [],
   "source": [
    "import matplotlib.pyplot as plt\n",
    "import numpy as np\n",
    "\n",
    "xs = np.linspace(0, np.pi, 50)\n",
    "\n",
    "fig, ax = plt.subplots()\n",
    "\n",
    "ys = 0\n",
    "lbl=''\n",
    "\n",
    "for n in [1, 3, 5]:\n",
    "    a = 1.0/n\n",
    "\n",
    "    ys = ys+a*np.sin(n*xs)\n",
    "\n",
    "    lbl = lbl + f\"1/{n} sin({n}x)\"    \n",
    "    \n",
    "    ax.plot(xs, ys, label=lbl)\n",
    "\n",
    "    lbl = lbl + '+' #why do we add the \"+\" at this point?\n",
    "\n",
    "# set the legend and show the figure\n",
    "ax.legend(loc=(1.01, 0))\n",
    "fig.show()"
   ]
  }
 ],
 "metadata": {
  "kernelspec": {
   "display_name": "Python 3",
   "language": "python",
   "name": "python3"
  },
  "language_info": {
   "codemirror_mode": {
    "name": "ipython",
    "version": 3
   },
   "file_extension": ".py",
   "mimetype": "text/x-python",
   "name": "python",
   "nbconvert_exporter": "python",
   "pygments_lexer": "ipython3",
   "version": "3.8.3"
  }
 },
 "nbformat": 4,
 "nbformat_minor": 4
}
