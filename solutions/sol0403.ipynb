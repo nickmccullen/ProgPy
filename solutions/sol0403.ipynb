{
 "cells": [
  {
   "cell_type": "markdown",
   "metadata": {},
   "source": [
    "### Fibonacci"
   ]
  },
  {
   "cell_type": "code",
   "execution_count": null,
   "metadata": {},
   "outputs": [],
   "source": [
    "# set first value\n",
    "a0 = 1\n",
    "print(a0)\n",
    "\n",
    "# set second value\n",
    "a1 = 1\n",
    "print(a1)\n",
    "\n",
    "# calculate third value\n",
    "a2 = a1+a0\n",
    "print(a2)\n",
    "\n",
    "while a2 <= 100:\n",
    "    a0 = a1 # set a0 to the previous value of a1\n",
    "    a1 = a2 # set a1 to the previous value of a2\n",
    "    a2 = a1+a0 # re-calculate a2\n",
    "    print(a2)"
   ]
  },
  {
   "cell_type": "markdown",
   "metadata": {},
   "source": [
    "* The loop is **executed** for the last time when `a2==89`, so the last value given to the `print` function is `a2=55+89`\n",
    "* to correct this try the moving the print to before the iteration:"
   ]
  },
  {
   "cell_type": "code",
   "execution_count": null,
   "metadata": {},
   "outputs": [],
   "source": [
    "a0 = 1\n",
    "print(a0)\n",
    "\n",
    "a1 = 1\n",
    "print(a1)\n",
    "\n",
    "a2 = a1+a0\n",
    "#print(a2)\n",
    "\n",
    "while a2 <= 100:\n",
    "    print(a2)\n",
    "    a0 = a1 # set a0 to the previous value of a1\n",
    "    a1 = a2 # set a1 to the previous value of a2\n",
    "    a2 = a1+a0 # re-calculate a2\n",
    "    # the value that's over 100 never gets printed here (even though it is calculated)"
   ]
  }
 ],
 "metadata": {
  "kernelspec": {
   "display_name": "Python 3",
   "language": "python",
   "name": "python3"
  },
  "language_info": {
   "codemirror_mode": {
    "name": "ipython",
    "version": 3
   },
   "file_extension": ".py",
   "mimetype": "text/x-python",
   "name": "python",
   "nbconvert_exporter": "python",
   "pygments_lexer": "ipython3",
   "version": "3.8.3"
  }
 },
 "nbformat": 4,
 "nbformat_minor": 4
}
