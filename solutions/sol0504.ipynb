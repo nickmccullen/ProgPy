{
 "cells": [
  {
   "cell_type": "code",
   "execution_count": null,
   "metadata": {},
   "outputs": [],
   "source": [
    "# Fibonacci sequence\n",
    "\n",
    "# define the first two values\n",
    "fib = [1, 1]\n",
    "\n",
    "# iterate for 10 steps\n",
    "for i in range(10):\n",
    "    # calculate next value as sum of previous two values of the list\n",
    "    nextval = fib[-1]+fib[-2]\n",
    "    # join it to the end of the list\n",
    "    fib.append(nextval) \n",
    "\n",
    "# Print the list\n",
    "print(fib)"
   ]
  }
 ],
 "metadata": {
  "kernelspec": {
   "display_name": "Python 3",
   "language": "python",
   "name": "python3"
  },
  "language_info": {
   "codemirror_mode": {
    "name": "ipython",
    "version": 3
   },
   "file_extension": ".py",
   "mimetype": "text/x-python",
   "name": "python",
   "nbconvert_exporter": "python",
   "pygments_lexer": "ipython3",
   "version": "3.8.3"
  }
 },
 "nbformat": 4,
 "nbformat_minor": 4
}
