{
 "cells": [
  {
   "cell_type": "markdown",
   "metadata": {},
   "source": [
    "### Module 1\n",
    "\n",
    "Module named `newmodule.py` should contain this code (if you are 20 years old):\n",
    "```python\n",
    "# newmodule.py\n",
    "\n",
    "myage=20\n",
    "year=2021\n",
    "```\n",
    "\n",
    "\n",
    "### Module 2\n",
    "Module named `newmodule2.py` should contain this code (if you were born in 2001):\n",
    "```python\n",
    "# newmodule2.py\n",
    "\n",
    "myage=0\n",
    "year=2001\n",
    "```\n"
   ]
  },
  {
   "cell_type": "code",
   "execution_count": null,
   "metadata": {},
   "outputs": [],
   "source": [
    "import newmodule, newmodule2\n",
    "\n",
    "print(\"Have I had my birthday this year yet?\\n\")\n",
    "print((newmodule.myage - newmodule2.myage) == (newmodule.year - newmodule2.year))"
   ]
  },
  {
   "cell_type": "markdown",
   "metadata": {},
   "source": [
    "### Modifying an attribute of an imported module:"
   ]
  },
  {
   "cell_type": "code",
   "execution_count": null,
   "metadata": {},
   "outputs": [],
   "source": [
    "newmodule.myage -= 1\n",
    "\n",
    "print(newmodule.myage)\n",
    "\n",
    "print(\"Have I had my birthday this year yet?\\n\")\n",
    "print((newmodule.myage - newmodule2.myage) == (newmodule.year - newmodule2.year))"
   ]
  }
 ],
 "metadata": {
  "kernelspec": {
   "display_name": "Python 3",
   "language": "python",
   "name": "python3"
  },
  "language_info": {
   "codemirror_mode": {
    "name": "ipython",
    "version": 3
   },
   "file_extension": ".py",
   "mimetype": "text/x-python",
   "name": "python",
   "nbconvert_exporter": "python",
   "pygments_lexer": "ipython3",
   "version": "3.8.3"
  }
 },
 "nbformat": 4,
 "nbformat_minor": 4
}
