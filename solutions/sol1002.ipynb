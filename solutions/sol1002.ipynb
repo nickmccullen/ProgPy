{
 "cells": [
  {
   "cell_type": "code",
   "execution_count": 1,
   "metadata": {},
   "outputs": [
    {
     "name": "stdout",
     "output_type": "stream",
     "text": [
      "d= 6\n",
      "lowest= 6\n",
      "d= 1\n",
      "lowest= 1\n",
      "d= -10\n",
      "lowest= 1\n",
      "d= -7\n",
      "lowest= 1\n",
      "d= 0\n",
      "d= 6\n",
      "d= -9\n",
      "lowest= 1\n",
      "d= 7\n",
      "d= 1\n",
      "d= -2\n",
      "lowest= 1\n",
      "1\n"
     ]
    }
   ],
   "source": [
    "#find the minimum absolute value of a list\n",
    "\n",
    "data = [6, 1, -10, -7, 0, 6, -9, 7, 1, -2]\n",
    "\n",
    "lowest = 1e100 #set to a very big number (a \"googol\": 1x10^100)\n",
    "\n",
    "#iterate through the data\n",
    "for d in data:\n",
    "    print(\"d=\", d)\n",
    "    #if it's positive and less than the lowest so far\n",
    "    if d > 0 and d < lowest: \n",
    "        #replace the lowest so far with the current value\n",
    "        lowest = d \n",
    "        print(\"lowest=\", lowest)\n",
    "    if d < 0:#if less than zero\n",
    "        #negate \n",
    "        d = -d\n",
    "        if d < lowest:\n",
    "            lowest = d\n",
    "        print(\"lowest=\", lowest)\n",
    "            \n",
    "print(lowest)"
   ]
  }
 ],
 "metadata": {
  "kernelspec": {
   "display_name": "Python 3",
   "language": "python",
   "name": "python3"
  },
  "language_info": {
   "codemirror_mode": {
    "name": "ipython",
    "version": 3
   },
   "file_extension": ".py",
   "mimetype": "text/x-python",
   "name": "python",
   "nbconvert_exporter": "python",
   "pygments_lexer": "ipython3",
   "version": "3.8.3"
  }
 },
 "nbformat": 4,
 "nbformat_minor": 4
}
