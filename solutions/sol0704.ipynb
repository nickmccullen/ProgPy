{
 "cells": [
  {
   "cell_type": "markdown",
   "metadata": {},
   "source": [
    "### From the main Notebook:"
   ]
  },
  {
   "cell_type": "code",
   "execution_count": null,
   "metadata": {},
   "outputs": [],
   "source": [
    "import numpy as np\n",
    "\n",
    "filedata = np.loadtxt(\"Files/weatherdata.csv\", delimiter=\",\", skiprows=1)\n",
    "\n",
    "temperatures = filedata[:, 0] \n",
    "\n",
    "average = temperatures.mean()\n",
    "\n",
    "deviations = temperatures - average\n",
    "\n",
    "np.savetxt(\"deviations.csv\", deviations, delimiter = \",\", fmt=\"%.1f\")"
   ]
  },
  {
   "cell_type": "markdown",
   "metadata": {},
   "source": [
    "### From the solutions folder:"
   ]
  },
  {
   "cell_type": "code",
   "execution_count": null,
   "metadata": {},
   "outputs": [],
   "source": [
    "import numpy as np\n",
    "\n",
    "filedata = np.loadtxt(\"../Files/weatherdata.csv\", delimiter=\",\", skiprows=1)\n",
    "\n",
    "temperatures = filedata[:, 0] \n",
    "\n",
    "average = temperatures.mean()\n",
    "\n",
    "deviations = temperatures - average\n",
    "\n",
    "np.savetxt(\"../deviations.csv\", deviations, delimiter = \",\", fmt=\"%.1f\")"
   ]
  }
 ],
 "metadata": {
  "kernelspec": {
   "display_name": "Python 3",
   "language": "python",
   "name": "python3"
  },
  "language_info": {
   "codemirror_mode": {
    "name": "ipython",
    "version": 3
   },
   "file_extension": ".py",
   "mimetype": "text/x-python",
   "name": "python",
   "nbconvert_exporter": "python",
   "pygments_lexer": "ipython3",
   "version": "3.8.3"
  }
 },
 "nbformat": 4,
 "nbformat_minor": 4
}
