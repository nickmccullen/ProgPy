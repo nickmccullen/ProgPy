{
 "cells": [
  {
   "cell_type": "markdown",
   "metadata": {
    "deletable": false,
    "editable": false,
    "nbgrader": {
     "cell_type": "markdown",
     "checksum": "2568aa198712370a1f2760ded596b6cd",
     "grade": false,
     "grade_id": "cell-e16f08659cce93ea",
     "locked": true,
     "schema_version": 3,
     "solution": false,
     "task": false
    }
   },
   "source": [
    "Be sure to do all exercises and run all completed code cells. \n",
    "\n",
    "If anything goes wrong, **restart the kernel** (in the menubar, select Kernel$\\rightarrow$Restart)."
   ]
  },
  {
   "cell_type": "markdown",
   "metadata": {
    "deletable": false,
    "editable": false,
    "nbgrader": {
     "cell_type": "markdown",
     "checksum": "20ed87f59d5261edc30851961107ec8c",
     "grade": false,
     "grade_id": "cell-50b9cb0b3970f0e6",
     "locked": true,
     "schema_version": 3,
     "solution": false,
     "task": false
    }
   },
   "source": [
    "---"
   ]
  },
  {
   "cell_type": "markdown",
   "metadata": {
    "deletable": false,
    "editable": false,
    "nbgrader": {
     "cell_type": "markdown",
     "checksum": "9e148ac8a24d686f3116aff512951971",
     "grade": false,
     "grade_id": "cell-13e2298dbe105332",
     "locked": true,
     "schema_version": 3,
     "solution": false,
     "task": false
    }
   },
   "source": [
    "# Python Basics\n",
    "\n",
    "In this section we introduce how we can use Python for basic\n",
    "calculations. From this you might think that programming is similar to\n",
    "using an advanced calculator. It is certainly true that you can use\n",
    "Python in this way. However, we will see later on that computer\n",
    "programming allows us to do much more than simple numerical\n",
    "calculations. From now on, whenever you reach for a calculator (or a\n",
    "spreadsheet program), you should immediately think of using Python\n",
    "instead."
   ]
  },
  {
   "cell_type": "markdown",
   "metadata": {
    "deletable": false,
    "editable": false,
    "nbgrader": {
     "cell_type": "markdown",
     "checksum": "e8948454c2d57d74b99f96dbb86b3a4a",
     "grade": false,
     "grade_id": "cell-2573942306183689",
     "locked": true,
     "schema_version": 3,
     "solution": false,
     "task": false
    }
   },
   "source": [
    "## Numbers\n",
    "\n",
    "### Integers (`int`)\n",
    "\n",
    "Whole numbers or *integers* can be entered directly. You can use a minus\n",
    "sign for negative numbers.\n",
    "\n",
    "```python\n",
    "0\n",
    "1\n",
    "-1\n",
    "314159\n",
    "-200\n",
    "```\n",
    "\n",
    "* **Enter each number individually below and press the `>Run` button (or `Ctrl+Return`)**"
   ]
  },
  {
   "cell_type": "code",
   "execution_count": null,
   "metadata": {},
   "outputs": [],
   "source": [
    "42"
   ]
  },
  {
   "cell_type": "markdown",
   "metadata": {
    "deletable": false,
    "editable": false,
    "nbgrader": {
     "cell_type": "markdown",
     "checksum": "0cad29a91b4922f563199eefe5778cd5",
     "grade": false,
     "grade_id": "cell-6493d7d0bcf78ff2",
     "locked": true,
     "schema_version": 3,
     "solution": false,
     "task": false
    }
   },
   "source": [
    "In mathematics or finance we sometimes use commas or spaces in large\n",
    "numbers such as $10\\,000\\,000$. This is not allowed in Python. Putting a\n",
    "space in a number will result in a syntax error (try this). Digits\n",
    "separated by commas will be interpreted as separate numbers.\n",
    "\n",
    "If you make a script containing the numbers and execute this script, you\n",
    "will see no output other than the last number. \n",
    "\n",
    "* **Click on the cell below and then press `>Run`** (or hold down Ctrl and press Return)"
   ]
  },
  {
   "cell_type": "code",
   "execution_count": null,
   "metadata": {
    "deletable": false,
    "editable": false,
    "nbgrader": {
     "cell_type": "code",
     "checksum": "941497fc24e6cd139cdae8af45e2c486",
     "grade": false,
     "grade_id": "cell-d0b61d2f52d019ec",
     "locked": true,
     "schema_version": 3,
     "solution": false,
     "task": false
    }
   },
   "outputs": [],
   "source": [
    "0\n",
    "1\n",
    "-1\n",
    "314159\n",
    "-200"
   ]
  },
  {
   "cell_type": "markdown",
   "metadata": {
    "deletable": false,
    "editable": false,
    "nbgrader": {
     "cell_type": "markdown",
     "checksum": "3dad5a545a8380159ec0b388777caa1d",
     "grade": false,
     "grade_id": "cell-25a8549d22e6a536",
     "locked": true,
     "schema_version": 3,
     "solution": false,
     "task": false
    }
   },
   "source": [
    "* Jupyter notebooks always display the result of the (only) last line automatically\n",
    "\n",
    "\n",
    "You have to use the\n",
    "`print` function to print (display) any other output."
   ]
  },
  {
   "cell_type": "code",
   "execution_count": null,
   "metadata": {
    "ExecuteTime": {
     "end_time": "2019-02-02T00:30:08.913967Z",
     "start_time": "2019-02-02T00:30:08.899971Z"
    },
    "deletable": false,
    "editable": false,
    "nbgrader": {
     "cell_type": "code",
     "checksum": "b4869c4bb56216cf3867f286022d9f44",
     "grade": false,
     "grade_id": "cell-38aecab49b9bf2e2",
     "locked": true,
     "schema_version": 3,
     "solution": false,
     "task": false
    }
   },
   "outputs": [],
   "source": [
    "# script to print some integers\n",
    "print(0)\n",
    "print(1)\n",
    "print(-1)\n",
    "print(314159)\n",
    "print(-200)"
   ]
  },
  {
   "cell_type": "markdown",
   "metadata": {
    "deletable": false,
    "editable": false,
    "nbgrader": {
     "cell_type": "markdown",
     "checksum": "65890faad68db6a16b5bacd2a10e1b50",
     "grade": false,
     "grade_id": "cell-9e78ca22e5c861ac",
     "locked": true,
     "schema_version": 3,
     "solution": false,
     "task": false
    }
   },
   "source": [
    "* note also the _hash_ symbol `#` is used to leave a helpful _\"comment\"_ in the code script. Any text following it on the same line is ignored by the Python interpreter.\n",
    "\n",
    "## Floating point numbers (`float`)\n",
    "\n",
    "Python can also work with numbers with a decimal point.\n",
    "\n",
    "```python\n",
    "1.2\n",
    "-3.4\n",
    "0.0005\n",
    "33.98\n",
    "```\n",
    "These are called *floating point numbers* in Python. "
   ]
  },
  {
   "cell_type": "markdown",
   "metadata": {
    "deletable": false,
    "editable": false,
    "nbgrader": {
     "cell_type": "markdown",
     "checksum": "d8619f3548230e92efb5871b3030608b",
     "grade": false,
     "grade_id": "cell-1f018505f18518ab",
     "locked": true,
     "schema_version": 3,
     "solution": false,
     "task": false
    }
   },
   "source": [
    "## Arithmetic\n",
    "\n",
    "The following examples show how to do addition, subtraction,\n",
    "multiplication, division and exponentiation. The comments starting with\n",
    "`#` are for your information only and are ignored by the Python\n",
    "interpreter."
   ]
  },
  {
   "cell_type": "code",
   "execution_count": null,
   "metadata": {
    "ExecuteTime": {
     "end_time": "2019-02-02T00:30:08.964973Z",
     "start_time": "2019-02-02T00:30:08.947968Z"
    },
    "deletable": false,
    "editable": false,
    "nbgrader": {
     "cell_type": "code",
     "checksum": "4e7c3dc6c1cef627403852c740b95980",
     "grade": false,
     "grade_id": "cell-79ac5e6197712573",
     "locked": true,
     "schema_version": 3,
     "solution": false,
     "task": false
    }
   },
   "outputs": [],
   "source": [
    "# python arithmetic\n",
    "9+16      # addition"
   ]
  },
  {
   "cell_type": "code",
   "execution_count": null,
   "metadata": {
    "ExecuteTime": {
     "end_time": "2019-02-02T00:30:08.964973Z",
     "start_time": "2019-02-02T00:30:08.947968Z"
    },
    "deletable": false,
    "editable": false,
    "nbgrader": {
     "cell_type": "code",
     "checksum": "3ebe19231261e6a13bd069bfdd71d373",
     "grade": false,
     "grade_id": "cell-a52ce195539f1467",
     "locked": true,
     "schema_version": 3,
     "solution": false,
     "task": false
    }
   },
   "outputs": [],
   "source": [
    "25-9      # subtraction"
   ]
  },
  {
   "cell_type": "code",
   "execution_count": null,
   "metadata": {
    "ExecuteTime": {
     "end_time": "2019-02-02T00:30:08.964973Z",
     "start_time": "2019-02-02T00:30:08.947968Z"
    },
    "deletable": false,
    "editable": false,
    "nbgrader": {
     "cell_type": "code",
     "checksum": "c18e2d668628f9a91731eb852a1f852b",
     "grade": false,
     "grade_id": "cell-b4168f1ab0246258",
     "locked": true,
     "schema_version": 3,
     "solution": false,
     "task": false
    }
   },
   "outputs": [],
   "source": [
    "4*5       # multiplication"
   ]
  },
  {
   "cell_type": "code",
   "execution_count": null,
   "metadata": {
    "ExecuteTime": {
     "end_time": "2019-02-02T00:30:08.964973Z",
     "start_time": "2019-02-02T00:30:08.947968Z"
    },
    "deletable": false,
    "editable": false,
    "nbgrader": {
     "cell_type": "code",
     "checksum": "391b25d0134be3f131d2de6343810aab",
     "grade": false,
     "grade_id": "cell-d6a9f600716750d7",
     "locked": true,
     "schema_version": 3,
     "solution": false,
     "task": false
    }
   },
   "outputs": [],
   "source": [
    "9/4      # division"
   ]
  },
  {
   "cell_type": "code",
   "execution_count": null,
   "metadata": {
    "ExecuteTime": {
     "end_time": "2019-02-02T00:30:08.964973Z",
     "start_time": "2019-02-02T00:30:08.947968Z"
    },
    "deletable": false,
    "editable": false,
    "nbgrader": {
     "cell_type": "code",
     "checksum": "d98e2d348aa974d8d7715da42735798b",
     "grade": false,
     "grade_id": "cell-c8fb5aaded3e1074",
     "locked": true,
     "schema_version": 3,
     "solution": false,
     "task": false
    }
   },
   "outputs": [],
   "source": [
    "9//4       # integer division"
   ]
  },
  {
   "cell_type": "code",
   "execution_count": null,
   "metadata": {
    "ExecuteTime": {
     "end_time": "2019-02-02T00:30:08.964973Z",
     "start_time": "2019-02-02T00:30:08.947968Z"
    },
    "deletable": false,
    "editable": false,
    "nbgrader": {
     "cell_type": "code",
     "checksum": "a4006058abce54bcf868ea9e04660777",
     "grade": false,
     "grade_id": "cell-d1e444e79a6689c8",
     "locked": true,
     "schema_version": 3,
     "solution": false,
     "task": false
    }
   },
   "outputs": [],
   "source": [
    "print(1/7)"
   ]
  },
  {
   "cell_type": "code",
   "execution_count": null,
   "metadata": {
    "ExecuteTime": {
     "end_time": "2019-02-02T00:30:08.964973Z",
     "start_time": "2019-02-02T00:30:08.947968Z"
    },
    "deletable": false,
    "editable": false,
    "nbgrader": {
     "cell_type": "code",
     "checksum": "a92fa4b6a13a0d0bce974248215e31fd",
     "grade": false,
     "grade_id": "cell-83de0c1a115c60a6",
     "locked": true,
     "schema_version": 3,
     "solution": false,
     "task": false
    }
   },
   "outputs": [],
   "source": [
    "print(1.0//7)"
   ]
  },
  {
   "cell_type": "markdown",
   "metadata": {
    "deletable": false,
    "editable": false,
    "nbgrader": {
     "cell_type": "markdown",
     "checksum": "4117ebbacdd467cc49c15930d60eae52",
     "grade": false,
     "grade_id": "cell-d36be68abb669732",
     "locked": true,
     "schema_version": 3,
     "solution": false,
     "task": false
    }
   },
   "source": [
    "### Exercises: Use Python to perform the following calculations.\n",
    "\n",
    "\n",
    "$\\displaystyle \\frac{7}{6}$"
   ]
  },
  {
   "cell_type": "code",
   "execution_count": null,
   "metadata": {
    "deletable": false,
    "nbgrader": {
     "cell_type": "code",
     "checksum": "ecc5b771757c344868413202afcf75b1",
     "grade": true,
     "grade_id": "cell-8595728971af9982",
     "locked": false,
     "points": 0,
     "schema_version": 3,
     "solution": true,
     "task": false
    }
   },
   "outputs": [],
   "source": [
    "# YOUR CODE HERE"
   ]
  },
  {
   "cell_type": "markdown",
   "metadata": {
    "deletable": false,
    "editable": false,
    "nbgrader": {
     "cell_type": "markdown",
     "checksum": "6878d921e3167388b06ab8e741099eb7",
     "grade": false,
     "grade_id": "cell-04d2770c5c414116",
     "locked": true,
     "schema_version": 3,
     "solution": false,
     "task": false
    }
   },
   "source": [
    "$\\displaystyle \\frac{7}{2} + \\frac{3}{8} - \\frac{9}{10}$"
   ]
  },
  {
   "cell_type": "code",
   "execution_count": null,
   "metadata": {
    "deletable": false,
    "nbgrader": {
     "cell_type": "code",
     "checksum": "c55a16f926a791901aa125e78a2a063c",
     "grade": true,
     "grade_id": "cell-33b1b6ff9b2c816e",
     "locked": false,
     "points": 0,
     "schema_version": 3,
     "solution": true,
     "task": false
    }
   },
   "outputs": [],
   "source": [
    "# YOUR CODE HERE"
   ]
  },
  {
   "cell_type": "markdown",
   "metadata": {
    "deletable": false,
    "editable": false,
    "nbgrader": {
     "cell_type": "markdown",
     "checksum": "ada48d85d723742c3c9f7fb2844b345f",
     "grade": false,
     "grade_id": "cell-73cefffb974ae0ea",
     "locked": true,
     "schema_version": 3,
     "solution": false,
     "task": false
    }
   },
   "source": [
    "## Exponentiation\n",
    "\n",
    "Exponents use the `**` _operator_ in Python:\n",
    "\n",
    "e.g. $x^p$ is entered as `x**p`\n",
    "\n",
    "### Print the result of $2^5$ below:"
   ]
  },
  {
   "cell_type": "code",
   "execution_count": null,
   "metadata": {
    "ExecuteTime": {
     "end_time": "2019-02-02T00:30:08.964973Z",
     "start_time": "2019-02-02T00:30:08.947968Z"
    },
    "deletable": false,
    "nbgrader": {
     "cell_type": "code",
     "checksum": "701831951f2856e61b094b839688c096",
     "grade": true,
     "grade_id": "cell-d71d0aa9417d8641",
     "locked": false,
     "points": 0,
     "schema_version": 3,
     "solution": true,
     "task": false
    }
   },
   "outputs": [],
   "source": [
    "# YOUR CODE HERE"
   ]
  },
  {
   "cell_type": "markdown",
   "metadata": {
    "deletable": false,
    "editable": false,
    "nbgrader": {
     "cell_type": "markdown",
     "checksum": "4280d91a0470037c18a53e285d7b92f5",
     "grade": false,
     "grade_id": "cell-ac7861228683e4bf",
     "locked": true,
     "schema_version": 3,
     "solution": false,
     "task": false
    }
   },
   "source": [
    "Expected result: `32`\n",
    "\n",
    "### Exercise: Calculate the following:\n",
    "\n",
    "$\\sqrt{20}$\n",
    "\n",
    "(think about another way to represent square root as a power)"
   ]
  },
  {
   "cell_type": "code",
   "execution_count": null,
   "metadata": {
    "deletable": false,
    "nbgrader": {
     "cell_type": "code",
     "checksum": "6983190f10a3fe0b269c9bff8eb67924",
     "grade": true,
     "grade_id": "cell-30e9cd617d2312b4",
     "locked": false,
     "points": 0,
     "schema_version": 3,
     "solution": true,
     "task": false
    }
   },
   "outputs": [],
   "source": [
    "# YOUR CODE HERE"
   ]
  },
  {
   "cell_type": "markdown",
   "metadata": {
    "deletable": false,
    "editable": false,
    "nbgrader": {
     "cell_type": "markdown",
     "checksum": "b25489fb5fd98fa7499bb9e0c5de8e87",
     "grade": false,
     "grade_id": "cell-168fff742c624ef7",
     "locked": true,
     "schema_version": 3,
     "solution": false,
     "task": false
    }
   },
   "source": [
    "Result: `4.47213595499958`\n",
    "\n",
    "[Click here to see solution](solutions/sol0101.ipynb)"
   ]
  },
  {
   "cell_type": "markdown",
   "metadata": {
    "deletable": false,
    "editable": false,
    "nbgrader": {
     "cell_type": "markdown",
     "checksum": "31c0400fc79901dac2071fb8902ebfbf",
     "grade": false,
     "grade_id": "cell-7bba37d3783461db",
     "locked": true,
     "schema_version": 3,
     "solution": false,
     "task": false
    }
   },
   "source": [
    "## Combining arithmetic operations in one expression\n",
    "\n",
    "The order in which the calculations are carried out is the standard **BODMAS** rule:  \n",
    "\n",
    "1. Brackets (parentheses),\n",
    "2. Orders (roots and powers/exponentiation), \n",
    "3. Multiplication \n",
    "4. Division / Multiplication,\n",
    "5. Addition / Subtraction.\n",
    "\n",
    "\n",
    "* Combinations of addition and subtraction are\n",
    "carried out from left to right. \n",
    "    - This means that `1 - 2 + 3` is\n",
    "equivalent to `(1 - 2) + 3` and *not* `1 - (2 + 3)`. calculations. \n",
    "* The\n",
    "same holds for combinations of multiplication and division. \n",
    "    - For example,\n",
    "`6/2*3` is equivalent to `(6/2)*3` and *not* `6/(2*3)`. Note that the\n",
    "use of spaces does *not* influence the order of calculations, e.g.\n",
    "`6 / 2*3` is equal to `(6/2)*3`.\n",
    "\n",
    "The order of operations can be changed by using parentheses `()`. Only\n",
    "parentheses (round brackets) can be used. Square brackets `[]` and\n",
    "braces (curly brackets) `{}` have a special meaning in Python and\n",
    "cannot be used to change the order of operations.\n",
    "\n",
    "### Calculate the following:\n",
    "\n",
    "$\\displaystyle \\frac{4^4 2^{-8}}{8^2}$"
   ]
  },
  {
   "cell_type": "code",
   "execution_count": null,
   "metadata": {
    "deletable": false,
    "nbgrader": {
     "cell_type": "code",
     "checksum": "bf65a73206239943164342fd5e3b9faa",
     "grade": true,
     "grade_id": "cell-8c48ac5c9981eb94",
     "locked": false,
     "points": 0,
     "schema_version": 3,
     "solution": true,
     "task": false
    }
   },
   "outputs": [],
   "source": [
    "# YOUR CODE HERE"
   ]
  },
  {
   "cell_type": "markdown",
   "metadata": {
    "deletable": false,
    "editable": false,
    "nbgrader": {
     "cell_type": "markdown",
     "checksum": "a96df343f47e9578df1ccb404496b53f",
     "grade": false,
     "grade_id": "cell-76ad9e2d7a5f8d31",
     "locked": true,
     "schema_version": 3,
     "solution": false,
     "task": false
    }
   },
   "source": [
    "Expected result: `0.015625` \n",
    "\n",
    "[Click here to see solution](solutions/sol0102.ipynb)"
   ]
  },
  {
   "cell_type": "markdown",
   "metadata": {
    "deletable": false,
    "editable": false,
    "nbgrader": {
     "cell_type": "markdown",
     "checksum": "114203fc27b679e726dd47be6da820c4",
     "grade": false,
     "grade_id": "cell-811870c0eebd7fcf",
     "locked": true,
     "schema_version": 3,
     "solution": false,
     "task": false
    }
   },
   "source": [
    "Note that multiplication symbol `*` is always necessary. This is\n",
    "especially important once we start using variables and parentheses. In\n",
    "mathematics we often write:\n",
    "$5 x = 5 \\times x$ and $5(3 + 4) = 5 \\times (3 + 4)$, but we can not simplify in this way in Python.\n",
    "\n",
    "#### The following will give an error:"
   ]
  },
  {
   "cell_type": "code",
   "execution_count": null,
   "metadata": {
    "ExecuteTime": {
     "end_time": "2019-02-02T00:30:09.128964Z",
     "start_time": "2019-02-02T00:30:08.970972Z"
    }
   },
   "outputs": [],
   "source": [
    "5(3 + 4)"
   ]
  },
  {
   "cell_type": "markdown",
   "metadata": {
    "deletable": false,
    "editable": false,
    "nbgrader": {
     "cell_type": "markdown",
     "checksum": "5e373256e2d500fb976f4c0da938f78e",
     "grade": false,
     "grade_id": "cell-27d1ef5c7b4455a3",
     "locked": true,
     "schema_version": 3,
     "solution": false,
     "task": false
    }
   },
   "source": [
    "### Correct the error above before moving on\n",
    "\n",
    "[Solution](solutions/sol0103.ipynb)"
   ]
  },
  {
   "cell_type": "code",
   "execution_count": null,
   "metadata": {
    "ExecuteTime": {
     "end_time": "2019-02-02T00:30:12.7004Z",
     "start_time": "2019-02-02T00:30:12.695404Z"
    },
    "deletable": false,
    "editable": false,
    "nbgrader": {
     "cell_type": "code",
     "checksum": "5feb78da9387633cbadd68fc9d7fb209",
     "grade": false,
     "grade_id": "cell-f5f21517629911cf",
     "locked": true,
     "schema_version": 3,
     "solution": false,
     "task": false
    }
   },
   "outputs": [],
   "source": [
    "# run this to see some more arithmetic operations\n",
    "print(2+3*5)\n",
    "print((2+3)*5)\n",
    "print(-(9+4))"
   ]
  },
  {
   "cell_type": "markdown",
   "metadata": {
    "deletable": false,
    "editable": false,
    "nbgrader": {
     "cell_type": "markdown",
     "checksum": "85bd7fa66b73342854b7d0574e5a3436",
     "grade": false,
     "grade_id": "cell-cb8fe21024a5364a",
     "locked": true,
     "schema_version": 3,
     "solution": false,
     "task": false
    }
   },
   "source": [
    "* Note that it is not a good idea to use expressions like `3**2*2`. \n",
    "    - You\n",
    "should use parentheses to make it clear that you mean `(3**2)*2` and not\n",
    "`3**(2*2)`. \n",
    "\n",
    "### **Try these above examples in the cell below:**"
   ]
  },
  {
   "cell_type": "code",
   "execution_count": null,
   "metadata": {
    "deletable": false,
    "nbgrader": {
     "cell_type": "code",
     "checksum": "86681b09e1cebcce1fa8ca65cd3aa176",
     "grade": true,
     "grade_id": "cell-30a2c23240f78079",
     "locked": false,
     "points": 0,
     "schema_version": 3,
     "solution": true,
     "task": false
    }
   },
   "outputs": [],
   "source": [
    "# YOUR CODE HERE"
   ]
  },
  {
   "cell_type": "markdown",
   "metadata": {
    "deletable": false,
    "editable": false,
    "nbgrader": {
     "cell_type": "markdown",
     "checksum": "9cd60c90b27f5ba0926edfe70dd31883",
     "grade": false,
     "grade_id": "cell-2aad717306cded2c",
     "locked": true,
     "schema_version": 3,
     "solution": false,
     "task": false
    }
   },
   "source": [
    "* In certain cases you should use\n",
    "parentheses even though they are not strictly necessary. \n",
    "    - For example an\n",
    "expressions like `2*3*4/7*8` would be clearer when written as\n",
    "`(2*3*4/7)*8` \n",
    "* Spaces around mathematical operations are allowed and it\n",
    "is recommended to use extra spaces to make mathematical expressions\n",
    "clearer. Beware that the extra spaces do not have any special meaning\n",
    "for Python."
   ]
  },
  {
   "cell_type": "code",
   "execution_count": null,
   "metadata": {
    "ExecuteTime": {
     "end_time": "2019-02-02T00:30:13.371224Z",
     "start_time": "2019-02-02T00:30:13.365229Z"
    },
    "deletable": false,
    "editable": false,
    "nbgrader": {
     "cell_type": "code",
     "checksum": "7744b8ec4cb4c649f4d82da9c31b154b",
     "grade": false,
     "grade_id": "cell-03a97418a885c4cb",
     "locked": true,
     "schema_version": 3,
     "solution": false,
     "task": false
    }
   },
   "outputs": [],
   "source": [
    "# use of spaces\n",
    "print(2 + 3*5)   # GOOD\n",
    "print(2+3 * 5)   # BAD, this is equal to 2+(3*5) and NOT (2+3)*5"
   ]
  },
  {
   "cell_type": "markdown",
   "metadata": {
    "deletable": false,
    "editable": false,
    "nbgrader": {
     "cell_type": "markdown",
     "checksum": "652963751513d44ef86313e28b06d7a7",
     "grade": false,
     "grade_id": "cell-bc0ccdba8fef52d5",
     "locked": true,
     "schema_version": 3,
     "solution": false,
     "task": false
    }
   },
   "source": [
    "### Exercise: Perform the following calculation:\n",
    "\n",
    "$\\displaystyle\\frac{852(53+27)-72(405)}{24}$\n"
   ]
  },
  {
   "cell_type": "code",
   "execution_count": null,
   "metadata": {
    "deletable": false,
    "nbgrader": {
     "cell_type": "code",
     "checksum": "60f1c1d524cadad0d02dbc04a91b7bdd",
     "grade": true,
     "grade_id": "cell-71414b3537b7b2ce",
     "locked": false,
     "points": 0,
     "schema_version": 3,
     "solution": true,
     "task": false
    }
   },
   "outputs": [],
   "source": [
    "# YOUR CODE HERE"
   ]
  },
  {
   "cell_type": "markdown",
   "metadata": {
    "deletable": false,
    "editable": false,
    "nbgrader": {
     "cell_type": "markdown",
     "checksum": "07e80f055783dcf39a1c9f2eb5c61adb",
     "grade": false,
     "grade_id": "cell-baba3dbfd61245c0",
     "locked": true,
     "schema_version": 3,
     "solution": false,
     "task": false
    }
   },
   "source": [
    "Expected Result:\n",
    "`1625.0`\n",
    "\n",
    "[Click here for solution](solutions/sol0104.ipynb)"
   ]
  },
  {
   "cell_type": "markdown",
   "metadata": {
    "deletable": false,
    "editable": false,
    "nbgrader": {
     "cell_type": "markdown",
     "checksum": "f87435b11e243743f813745d042b5f66",
     "grade": false,
     "grade_id": "cell-fc6a5f62d696a08b",
     "locked": true,
     "schema_version": 3,
     "solution": false,
     "task": false
    }
   },
   "source": [
    "## Arithmetic Involving Integers\n",
    "\n",
    "When adding, subtracting or multiplying integers, the result will always\n",
    "be an integer. The same is true for exponentiation if the exponent is\n",
    "positive. For negative exponents the result will be a floating point\n",
    "number."
   ]
  },
  {
   "cell_type": "code",
   "execution_count": null,
   "metadata": {
    "ExecuteTime": {
     "end_time": "2019-02-02T00:30:14.086927Z",
     "start_time": "2019-02-02T00:30:14.071925Z"
    },
    "deletable": false,
    "editable": false,
    "nbgrader": {
     "cell_type": "code",
     "checksum": "e755326d34171fe12cfe3cd72d34c4f7",
     "grade": false,
     "grade_id": "cell-97d845c282f2fa77",
     "locked": true,
     "schema_version": 3,
     "solution": false,
     "task": false
    }
   },
   "outputs": [],
   "source": [
    "10**(-2)"
   ]
  },
  {
   "cell_type": "markdown",
   "metadata": {
    "deletable": false,
    "editable": false,
    "nbgrader": {
     "cell_type": "markdown",
     "checksum": "e0a8008e49f92c0d26b9f0f1bc139601",
     "grade": false,
     "grade_id": "cell-9589fb8619ed8435",
     "locked": true,
     "schema_version": 3,
     "solution": false,
     "task": false
    }
   },
   "source": [
    "The parentheses are not strictly necessary in this case, but it is a\n",
    "good habit to use them. \n",
    "\n",
    "Mixing integers and floating point numbers in\n",
    "the same expression is allowed. Whenever integers and floating point\n",
    "numbers are combined in the same expression, the result will be a\n",
    "floating point number."
   ]
  },
  {
   "cell_type": "code",
   "execution_count": null,
   "metadata": {
    "ExecuteTime": {
     "end_time": "2019-02-02T00:30:14.459917Z",
     "start_time": "2019-02-02T00:30:14.452922Z"
    },
    "deletable": false,
    "editable": false,
    "nbgrader": {
     "cell_type": "code",
     "checksum": "f262429ff86924ce2390d050d039306d",
     "grade": false,
     "grade_id": "cell-667bc89c7b07bab7",
     "locked": true,
     "schema_version": 3,
     "solution": false,
     "task": false
    }
   },
   "outputs": [],
   "source": [
    "(1 + 0.4) * 5"
   ]
  },
  {
   "cell_type": "markdown",
   "metadata": {
    "deletable": false,
    "editable": false,
    "nbgrader": {
     "cell_type": "markdown",
     "checksum": "18383f733d858897eaab2c43c9612382",
     "grade": false,
     "grade_id": "cell-8d1bb03205168836",
     "locked": true,
     "schema_version": 3,
     "solution": false,
     "task": false
    }
   },
   "source": [
    "A division involving two integers will always result in a float (rounded down) in Python 3 (this has changed from Python 2)."
   ]
  },
  {
   "cell_type": "code",
   "execution_count": null,
   "metadata": {
    "ExecuteTime": {
     "end_time": "2019-02-02T00:30:14.796922Z",
     "start_time": "2019-02-02T00:30:14.790922Z"
    },
    "deletable": false,
    "editable": false,
    "nbgrader": {
     "cell_type": "code",
     "checksum": "a14b922cf6f0f52ac5b1df296d27f2ea",
     "grade": false,
     "grade_id": "cell-d4865ff3d0008726",
     "locked": true,
     "schema_version": 3,
     "solution": false,
     "task": false
    }
   },
   "outputs": [],
   "source": [
    "11/5"
   ]
  },
  {
   "cell_type": "markdown",
   "metadata": {
    "deletable": false,
    "editable": false,
    "nbgrader": {
     "cell_type": "markdown",
     "checksum": "0e0798b419699b164a93259485cd8131",
     "grade": false,
     "grade_id": "cell-8f4e324c576c7dfb",
     "locked": true,
     "schema_version": 3,
     "solution": false,
     "task": false
    }
   },
   "source": [
    "If you want the integer result, use the `int()` function (also see the `//` operator)."
   ]
  },
  {
   "cell_type": "code",
   "execution_count": null,
   "metadata": {
    "ExecuteTime": {
     "end_time": "2019-02-02T00:30:15.338971Z",
     "start_time": "2019-02-02T00:30:15.332972Z"
    },
    "deletable": false,
    "editable": false,
    "nbgrader": {
     "cell_type": "code",
     "checksum": "62437d2322dbbba6eeef58119e581236",
     "grade": false,
     "grade_id": "cell-6871e516443237ea",
     "locked": true,
     "schema_version": 3,
     "solution": false,
     "task": false
    }
   },
   "outputs": [],
   "source": [
    "print(11/5)\n",
    "print(int(11.0/5.0))\n",
    "print(11//5)"
   ]
  },
  {
   "cell_type": "markdown",
   "metadata": {
    "deletable": false,
    "editable": false,
    "nbgrader": {
     "cell_type": "markdown",
     "checksum": "78ad5034beed6bae170d7fbf526fc326",
     "grade": false,
     "grade_id": "cell-28a8b0c47319c16b",
     "locked": true,
     "schema_version": 3,
     "solution": false,
     "task": false
    }
   },
   "source": [
    "The remainder after integer\n",
    "division can be found using the operation `%`"
   ]
  },
  {
   "cell_type": "code",
   "execution_count": null,
   "metadata": {
    "ExecuteTime": {
     "end_time": "2019-02-02T00:30:15.660972Z",
     "start_time": "2019-02-02T00:30:15.654973Z"
    },
    "deletable": false,
    "editable": false,
    "nbgrader": {
     "cell_type": "code",
     "checksum": "35251cf7a9d7ddc04cc1624bb9d3aec3",
     "grade": false,
     "grade_id": "cell-b414010c4ef785d9",
     "locked": true,
     "schema_version": 3,
     "solution": false,
     "task": false
    }
   },
   "outputs": [],
   "source": [
    "print(11 % 5)"
   ]
  },
  {
   "cell_type": "markdown",
   "metadata": {
    "deletable": false,
    "editable": false,
    "nbgrader": {
     "cell_type": "markdown",
     "checksum": "1c2cbcdbf4d2b1916e62f86e68b73317",
     "grade": false,
     "grade_id": "cell-94515f781f20c932",
     "locked": true,
     "schema_version": 3,
     "solution": false,
     "task": false
    }
   },
   "source": [
    "Try some other examples here until you understand how this works:"
   ]
  },
  {
   "cell_type": "code",
   "execution_count": null,
   "metadata": {
    "deletable": false,
    "nbgrader": {
     "cell_type": "code",
     "checksum": "e700a9938c9e65c3d7b1f35b3239ade2",
     "grade": true,
     "grade_id": "cell-b16567f49479a0af",
     "locked": false,
     "points": 0,
     "schema_version": 3,
     "solution": true,
     "task": false
    }
   },
   "outputs": [],
   "source": [
    "# YOUR CODE HERE"
   ]
  },
  {
   "cell_type": "markdown",
   "metadata": {
    "deletable": false,
    "editable": false,
    "nbgrader": {
     "cell_type": "markdown",
     "checksum": "994b24aad4516b3764dc7ca7f9b45d41",
     "grade": false,
     "grade_id": "cell-249a2c81b8b3d754",
     "locked": true,
     "schema_version": 3,
     "solution": false,
     "task": false
    }
   },
   "source": [
    "### Scientific/engineering notation\n",
    "\n",
    "Very big or very small floating point numbers can be\n",
    "entered using *scientific notation*.  \n",
    "The number $5.6 \\times 10^{17}$ is\n",
    "typed as `5.6e17` (the letter `e` stands for exponent and means \"times ten to the power\", **not** the number $e\\neq2.718$)\n",
    "\n",
    "We can output several values at once by separating them with a comma. The\n",
    "values are separated by a single space in the output."
   ]
  },
  {
   "cell_type": "code",
   "execution_count": null,
   "metadata": {
    "ExecuteTime": {
     "end_time": "2019-02-02T00:30:08.940965Z",
     "start_time": "2019-02-02T00:30:08.928969Z"
    },
    "deletable": false,
    "editable": false,
    "nbgrader": {
     "cell_type": "code",
     "checksum": "7ff5825a10d7ed34ef89252d63cd71b1",
     "grade": false,
     "grade_id": "cell-8b542ba8eb53f32b",
     "locked": true,
     "schema_version": 3,
     "solution": false,
     "task": false
    }
   },
   "outputs": [],
   "source": [
    "print(2e6, 1e-3, 5.6e17, 1.618e-20)"
   ]
  },
  {
   "cell_type": "markdown",
   "metadata": {
    "deletable": false,
    "editable": false,
    "nbgrader": {
     "cell_type": "markdown",
     "checksum": "415437836a6518b1c34ed7a32b6ae6e9",
     "grade": false,
     "grade_id": "cell-2b946df16933d811",
     "locked": true,
     "schema_version": 3,
     "solution": false,
     "task": false
    }
   },
   "source": [
    "### Converting the *type* of number\n",
    "\n",
    "Integers and floating point numbers are different types of values in Python, and behave differently when doing mathematical calculations (see later).\n",
    "\n",
    "Special in-built functions `int()` and `float()` can be used to convert between types.\n",
    "\n",
    "* A function is a key-word followed by round brackets (parentheses).  \n",
    "* the input (called the _\"argument\"_ ) to the function goes into the brackets.\n",
    "* the function gives (or _\"returns\"_ ) an output: \n",
    "\n",
    "#### Converting a `float` to an `int`:"
   ]
  },
  {
   "cell_type": "code",
   "execution_count": null,
   "metadata": {
    "ExecuteTime": {
     "end_time": "2019-02-02T00:30:16.026972Z",
     "start_time": "2019-02-02T00:30:16.02197Z"
    },
    "deletable": false,
    "editable": false,
    "nbgrader": {
     "cell_type": "code",
     "checksum": "8f6f14d50f57234baa6f067f86337e21",
     "grade": false,
     "grade_id": "cell-a62ca0a704f35d2d",
     "locked": true,
     "schema_version": 3,
     "solution": false,
     "task": false
    }
   },
   "outputs": [],
   "source": [
    "int(4.9)"
   ]
  },
  {
   "cell_type": "markdown",
   "metadata": {
    "deletable": false,
    "editable": false,
    "nbgrader": {
     "cell_type": "markdown",
     "checksum": "3f87868133c526cfa32982c0eb901c4f",
     "grade": false,
     "grade_id": "cell-10c226f9dc5355d3",
     "locked": true,
     "schema_version": 3,
     "solution": false,
     "task": false
    }
   },
   "source": [
    "#### Converting an `int` to a `float`:"
   ]
  },
  {
   "cell_type": "code",
   "execution_count": null,
   "metadata": {
    "ExecuteTime": {
     "end_time": "2019-02-02T00:30:16.026972Z",
     "start_time": "2019-02-02T00:30:16.02197Z"
    },
    "deletable": false,
    "editable": false,
    "nbgrader": {
     "cell_type": "code",
     "checksum": "1fef62fafa97700626544d0241dcab33",
     "grade": false,
     "grade_id": "cell-32754f857777e91b",
     "locked": true,
     "schema_version": 3,
     "solution": false,
     "task": false
    }
   },
   "outputs": [],
   "source": [
    "float(5)"
   ]
  },
  {
   "cell_type": "markdown",
   "metadata": {
    "deletable": false,
    "editable": false,
    "nbgrader": {
     "cell_type": "markdown",
     "checksum": "e0205d7417749d548555bd7b2bbf4215",
     "grade": false,
     "grade_id": "cell-b022449fd8908ab0",
     "locked": true,
     "schema_version": 3,
     "solution": false,
     "task": false
    }
   },
   "source": [
    "## Other useful functions\n",
    "\n",
    "Some other functions come with basic Python that can be used on numbers.\n",
    "\n",
    "The `round()` function takes a number and rounds it up or down, depending on certain [rules](https://docs.python.org/release/3.1.5/library/functions.html#round) (but the behaviour might not be as you expect from high school maths!):"
   ]
  },
  {
   "cell_type": "code",
   "execution_count": null,
   "metadata": {
    "ExecuteTime": {
     "end_time": "2019-02-02T00:30:16.571109Z",
     "start_time": "2019-02-02T00:30:16.56611Z"
    },
    "deletable": false,
    "editable": false,
    "nbgrader": {
     "cell_type": "code",
     "checksum": "4fd389493a7da4df734c5333fe3cb1f8",
     "grade": false,
     "grade_id": "cell-2bf16151934d19ab",
     "locked": true,
     "schema_version": 3,
     "solution": false,
     "task": false
    }
   },
   "outputs": [],
   "source": [
    "print(round(4.49))\n",
    "print(round(4.50))\n",
    "print(round(4.51))\n",
    "print(round(3.5))"
   ]
  },
  {
   "cell_type": "markdown",
   "metadata": {
    "deletable": false,
    "editable": false,
    "nbgrader": {
     "cell_type": "markdown",
     "checksum": "cc4c73f6003f88a3358e528cbfa2676e",
     "grade": false,
     "grade_id": "cell-a936bbffaa6320b7",
     "locked": true,
     "schema_version": 3,
     "solution": false,
     "task": false
    }
   },
   "source": [
    "* Notice using the result of the `round` function as the input (argument) to the `print` function.\n",
    "\n",
    "The `abs()` function is used for absolute values"
   ]
  },
  {
   "cell_type": "code",
   "execution_count": null,
   "metadata": {
    "ExecuteTime": {
     "end_time": "2019-02-02T00:30:17.242001Z",
     "start_time": "2019-02-02T00:30:17.237Z"
    },
    "deletable": false,
    "editable": false,
    "nbgrader": {
     "cell_type": "code",
     "checksum": "43b8415dff477d876b39f5a6280ec0b8",
     "grade": false,
     "grade_id": "cell-04f12c027981f1b7",
     "locked": true,
     "schema_version": 3,
     "solution": false,
     "task": false
    }
   },
   "outputs": [],
   "source": [
    "abs(-10.0)"
   ]
  },
  {
   "cell_type": "markdown",
   "metadata": {
    "deletable": false,
    "editable": false,
    "nbgrader": {
     "cell_type": "markdown",
     "checksum": "8ac0f429f3c724b532504c4287a86ee5",
     "grade": false,
     "grade_id": "cell-eaf534b27ebece5c",
     "locked": true,
     "schema_version": 3,
     "solution": false,
     "task": false
    }
   },
   "source": [
    "## Using _\"libraries\"_ to add new functionality to Python\n",
    "\n",
    "Some features come with Python but are not available straight away, we need to add them at the top of a script.\n",
    "\n",
    "\n",
    "### Importing a whole library into Python\n",
    "\n",
    "For example to use constants such as $\\pi$ or $e$ we can import a _\"library\"_ called `math`, using an `import` statement:"
   ]
  },
  {
   "cell_type": "code",
   "execution_count": null,
   "metadata": {
    "ExecuteTime": {
     "end_time": "2019-02-02T00:30:22.654935Z",
     "start_time": "2019-02-02T00:30:22.645943Z"
    },
    "deletable": false,
    "editable": false,
    "nbgrader": {
     "cell_type": "code",
     "checksum": "6dc970b4f92684eeeea7e3f846c06520",
     "grade": false,
     "grade_id": "cell-120ddbfeb9ba30bc",
     "locked": true,
     "schema_version": 3,
     "solution": false,
     "task": false
    }
   },
   "outputs": [],
   "source": [
    "# how to import a library\n",
    "import math\n",
    "\n",
    "print(math.pi)\n",
    "print(math.e)"
   ]
  },
  {
   "cell_type": "markdown",
   "metadata": {
    "deletable": false,
    "editable": false,
    "nbgrader": {
     "cell_type": "markdown",
     "checksum": "59225e141a2e03c4000f18d2780f3079",
     "grade": false,
     "grade_id": "cell-818b14bdbb30f4f7",
     "locked": true,
     "schema_version": 3,
     "solution": false,
     "task": false
    }
   },
   "source": [
    "* Notice how the values of the constants pi and e are called from *within* the `math` library using the\n",
    "\"dot\" syntax. That is, **the name of the loaded library**, followed by a \"**.**\" and then \n",
    "**the thing we want from within the library** (with no spaces). \n",
    "\n",
    "This \"dot\" method is used a lot in Python to access functions or variables within other so called _\"objects\"_."
   ]
  },
  {
   "cell_type": "markdown",
   "metadata": {
    "deletable": false,
    "editable": false,
    "nbgrader": {
     "cell_type": "markdown",
     "checksum": "263a98819d07cbfc37de5b3f69c360eb",
     "grade": false,
     "grade_id": "cell-b9be201c9feb2071",
     "locked": true,
     "schema_version": 3,
     "solution": false,
     "task": false
    }
   },
   "source": [
    "### Exercise: `import` the numbers $e$ and $\\pi$ `from` the `math` library and use them to print the following examples:\n",
    "\n",
    "* $e^2$\n",
    "* $3\\left(\\dfrac{\\pi}{4}\\right)$"
   ]
  },
  {
   "cell_type": "code",
   "execution_count": null,
   "metadata": {
    "deletable": false,
    "nbgrader": {
     "cell_type": "code",
     "checksum": "286aa11134afa649c328af2f85b2d857",
     "grade": true,
     "grade_id": "cell-68f1e29afd0ce68e",
     "locked": false,
     "points": 0,
     "schema_version": 3,
     "solution": true,
     "task": false
    }
   },
   "outputs": [],
   "source": [
    "# YOUR CODE HERE"
   ]
  },
  {
   "cell_type": "markdown",
   "metadata": {
    "deletable": false,
    "editable": false,
    "nbgrader": {
     "cell_type": "markdown",
     "checksum": "e94ac52f5100dab8556d324cb8638ad8",
     "grade": false,
     "grade_id": "cell-119020bd17fbbccb",
     "locked": true,
     "schema_version": 3,
     "solution": false,
     "task": false
    }
   },
   "source": [
    "Result:  \n",
    "`7.3890560989306495\n",
    "2.356194490192345`\n",
    "\n",
    "[Click here for solution](solutions/sol0105.ipynb)"
   ]
  },
  {
   "cell_type": "markdown",
   "metadata": {
    "deletable": false,
    "editable": false,
    "nbgrader": {
     "cell_type": "markdown",
     "checksum": "f414603a225f63ee9d1fedb8b3ae0424",
     "grade": false,
     "grade_id": "cell-7244189c6a5056fe",
     "locked": true,
     "schema_version": 3,
     "solution": false,
     "task": false
    }
   },
   "source": [
    "### Calculate:\n",
    "\n",
    "* $e^{-1}$"
   ]
  },
  {
   "cell_type": "code",
   "execution_count": null,
   "metadata": {
    "deletable": false,
    "nbgrader": {
     "cell_type": "code",
     "checksum": "5a5967649dc4edeb8af09231571a3bd7",
     "grade": true,
     "grade_id": "cell-950966d606688a83",
     "locked": false,
     "points": 0,
     "schema_version": 3,
     "solution": true,
     "task": false
    }
   },
   "outputs": [],
   "source": [
    "# YOUR CODE HERE"
   ]
  },
  {
   "cell_type": "markdown",
   "metadata": {
    "deletable": false,
    "editable": false,
    "nbgrader": {
     "cell_type": "markdown",
     "checksum": "cc713d1fe090347ab09ada874a6b10fc",
     "grade": false,
     "grade_id": "cell-ca7141ead59adc9a",
     "locked": true,
     "schema_version": 3,
     "solution": false,
     "task": false
    }
   },
   "source": [
    "Result: `0.36787944117144233`\n",
    "\n",
    "* Compare this with **engineering** notation `1e-1`, which means $10^{-1}$"
   ]
  },
  {
   "cell_type": "code",
   "execution_count": null,
   "metadata": {
    "deletable": false,
    "editable": false,
    "nbgrader": {
     "cell_type": "code",
     "checksum": "4b5a60001110250279c69d441f1739f5",
     "grade": false,
     "grade_id": "cell-76f424f18dbcea75",
     "locked": true,
     "schema_version": 3,
     "solution": false,
     "task": false
    }
   },
   "outputs": [],
   "source": [
    "1e-1"
   ]
  },
  {
   "cell_type": "markdown",
   "metadata": {
    "deletable": false,
    "editable": false,
    "nbgrader": {
     "cell_type": "markdown",
     "checksum": "ced5d16601b2f52687387b1cb7e37148",
     "grade": false,
     "grade_id": "cell-69373cebd2d362d1",
     "locked": true,
     "schema_version": 3,
     "solution": false,
     "task": false
    }
   },
   "source": [
    "### Importing particular objects from inside a *library*\n",
    "\n",
    "Libraries such as `math` also contain mathematical functions such as *sine*, *cosine* or *square root*. These have names such as `sin`, `cos` and `sqrt`.\n",
    "\n",
    "In this case we can load just the bits we need `from math`, instead of using the dot method (which also works)."
   ]
  },
  {
   "cell_type": "code",
   "execution_count": null,
   "metadata": {
    "ExecuteTime": {
     "end_time": "2019-02-02T00:30:23.836085Z",
     "start_time": "2019-02-02T00:30:23.82908Z"
    },
    "deletable": false,
    "editable": false,
    "nbgrader": {
     "cell_type": "code",
     "checksum": "4f01c1dd5be8d00c36f78a2782727cff",
     "grade": false,
     "grade_id": "cell-1c6fa6b7dc2b65bf",
     "locked": true,
     "schema_version": 3,
     "solution": false,
     "task": false
    }
   },
   "outputs": [],
   "source": [
    "from math import sin, cos, sqrt, pi\n",
    "\n",
    "print(sqrt(2), sin(pi/2), cos(0))"
   ]
  },
  {
   "cell_type": "markdown",
   "metadata": {
    "deletable": false,
    "editable": false,
    "nbgrader": {
     "cell_type": "markdown",
     "checksum": "fcd0d09c032cc902467c6063308a6174",
     "grade": false,
     "grade_id": "cell-89be4af27b079f8f",
     "locked": true,
     "schema_version": 3,
     "solution": false,
     "task": false
    }
   },
   "source": [
    "### Exercise:\n",
    "\n",
    "Import the sine function and the constant $\\pi$ and calculate:\n",
    "$\\left(\\sin\\frac{\\pi}{4}\\right)^2$"
   ]
  },
  {
   "cell_type": "code",
   "execution_count": null,
   "metadata": {
    "deletable": false,
    "nbgrader": {
     "cell_type": "code",
     "checksum": "eb2296c1c8ffd1c840728859c2402432",
     "grade": true,
     "grade_id": "cell-0e3fdd87e4cbc549",
     "locked": false,
     "points": 0,
     "schema_version": 3,
     "solution": true,
     "task": false
    }
   },
   "outputs": [],
   "source": [
    "# YOUR CODE HERE"
   ]
  },
  {
   "cell_type": "markdown",
   "metadata": {
    "deletable": false,
    "editable": false,
    "nbgrader": {
     "cell_type": "markdown",
     "checksum": "8801fa16dd0c3de314f7cf6668406eff",
     "grade": false,
     "grade_id": "cell-2b71bdde01379b0a",
     "locked": true,
     "schema_version": 3,
     "solution": false,
     "task": false
    }
   },
   "source": [
    "Result: `0.4999999999999999`\n",
    "\n",
    "[Click here for solution](solutions/sol0106.ipynb)\n",
    "\n",
    "* **Note 1:** the [floating point precision](#Appendix:-A-note-on-floating-point-precision) in the last example is due to converting between a binary number in the computer's memory to a decimal (0.5).\n",
    "* **Note 2:** angles are in *radians* so you need to convert using $rads = \\frac{degs}{180} \\times \\pi$\n",
    "    - there is also a _\"convenience function\"_ `deg2rad`, which is in another library called `numpy` (Numerical Python) that also has its own versions of mathematical constants and functions:"
   ]
  },
  {
   "cell_type": "code",
   "execution_count": null,
   "metadata": {
    "deletable": false,
    "editable": false,
    "nbgrader": {
     "cell_type": "code",
     "checksum": "9010cb38ca000d46fbd5f5f8fe6b2628",
     "grade": false,
     "grade_id": "cell-a3a903026a091b8f",
     "locked": true,
     "schema_version": 3,
     "solution": false,
     "task": false
    }
   },
   "outputs": [],
   "source": [
    "from numpy import deg2rad, rad2deg\n",
    "\n",
    "print(deg2rad(180))\n",
    "print(rad2deg(3.1416/2))"
   ]
  },
  {
   "cell_type": "markdown",
   "metadata": {
    "deletable": false,
    "editable": false,
    "nbgrader": {
     "cell_type": "markdown",
     "checksum": "6ffb20a88e6553bee431ae5223d4a619",
     "grade": false,
     "grade_id": "cell-066a51dcbafd6437",
     "locked": true,
     "schema_version": 3,
     "solution": false,
     "task": false
    }
   },
   "source": [
    "### Mixing multiple libraries:"
   ]
  },
  {
   "cell_type": "code",
   "execution_count": null,
   "metadata": {
    "ExecuteTime": {
     "end_time": "2019-02-02T00:30:24.840209Z",
     "start_time": "2019-02-02T00:30:24.709111Z"
    },
    "deletable": false,
    "editable": false,
    "nbgrader": {
     "cell_type": "code",
     "checksum": "acd258eb978a1723991c0732713e9974",
     "grade": false,
     "grade_id": "cell-0bdf509c4b54ae88",
     "locked": true,
     "schema_version": 3,
     "solution": false,
     "task": false
    }
   },
   "outputs": [],
   "source": [
    "import math, numpy\n",
    "\n",
    "print(math.sin(90*math.pi/180), numpy.sin(numpy.deg2rad(90)))"
   ]
  },
  {
   "cell_type": "markdown",
   "metadata": {
    "deletable": false,
    "editable": false,
    "nbgrader": {
     "cell_type": "markdown",
     "checksum": "77bc2672d5eb33016c5a08b651c34943",
     "grade": false,
     "grade_id": "cell-2c462b3289e4c1d4",
     "locked": true,
     "schema_version": 3,
     "solution": false,
     "task": false
    }
   },
   "source": [
    "* Notice again how we can also put a function in the *argument* (input) to another function."
   ]
  },
  {
   "cell_type": "markdown",
   "metadata": {
    "deletable": false,
    "editable": false,
    "nbgrader": {
     "cell_type": "markdown",
     "checksum": "13c5cf64459a4bb76429822cf3ed6631",
     "grade": false,
     "grade_id": "cell-4c8e7d609604be86",
     "locked": true,
     "schema_version": 3,
     "solution": false,
     "task": false
    }
   },
   "source": [
    "## Importing libraries with a pseudonym\n",
    "\n",
    "To make typing easier we can import a library and give it a nickname, using `import as`:"
   ]
  },
  {
   "cell_type": "code",
   "execution_count": null,
   "metadata": {
    "ExecuteTime": {
     "end_time": "2019-02-02T00:30:25.898427Z",
     "start_time": "2019-02-02T00:30:25.894436Z"
    },
    "deletable": false,
    "editable": false,
    "nbgrader": {
     "cell_type": "code",
     "checksum": "89c464be238d7c6b5319567c00f7b2fd",
     "grade": false,
     "grade_id": "cell-01b7726dd8b99142",
     "locked": true,
     "schema_version": 3,
     "solution": false,
     "task": false
    }
   },
   "outputs": [],
   "source": [
    "import numpy as np\n",
    "from numpy import deg2rad as d2r\n",
    "\n",
    "print(np.sin(d2r(90)))"
   ]
  },
  {
   "cell_type": "markdown",
   "metadata": {
    "deletable": false,
    "editable": false,
    "nbgrader": {
     "cell_type": "markdown",
     "checksum": "562994bc6a638cc69de3d716e2f560d0",
     "grade": false,
     "grade_id": "cell-d00d7d2f68deac15",
     "locked": true,
     "schema_version": 3,
     "solution": false,
     "task": false
    }
   },
   "source": [
    "* If you want to know what functions are available you can either:\n",
    "    1. search the internet (google: \"python numpy functions\")\n",
    "    2. start typing in an input window, press `Tab` and wait for the pop-up to appear\n",
    "    ```python\n",
    "    #type the following in the box below and press the TAB button on your keyboard and wait a second...\n",
    "    import numpy\n",
    "    numpy.\n",
    "    ```\n",
    "    3. use the in-built `dir` function:\n",
    "    ```python\n",
    "    import math\n",
    "    dir(math)\n",
    "    ```\n",
    "    4. Use the in-built `help` function:\n",
    "    ```python\n",
    "    import math\n",
    "    help(math)\n",
    "    ```"
   ]
  },
  {
   "cell_type": "markdown",
   "metadata": {
    "deletable": false,
    "editable": false,
    "nbgrader": {
     "cell_type": "markdown",
     "checksum": "0849a0eb33d31fceb411b0057ef5fc17",
     "grade": false,
     "grade_id": "cell-e4ed93a6de467b33",
     "locked": true,
     "schema_version": 3,
     "solution": false,
     "task": false
    }
   },
   "source": [
    "Try the examples above in the input `In [ ]` cell below:"
   ]
  },
  {
   "cell_type": "code",
   "execution_count": null,
   "metadata": {
    "deletable": false,
    "nbgrader": {
     "cell_type": "code",
     "checksum": "3e49e5772743826b5ec724d45cfc17b0",
     "grade": true,
     "grade_id": "cell-c4d9a88bba4728ef",
     "locked": false,
     "points": 0,
     "schema_version": 3,
     "solution": true,
     "task": false
    }
   },
   "outputs": [],
   "source": [
    "# YOUR CODE HERE"
   ]
  },
  {
   "cell_type": "markdown",
   "metadata": {
    "deletable": false,
    "editable": false,
    "nbgrader": {
     "cell_type": "markdown",
     "checksum": "61f70a6be9960390a29e7e729812d78d",
     "grade": false,
     "grade_id": "cell-fa298d191d0bc665",
     "locked": true,
     "schema_version": 3,
     "solution": false,
     "task": false
    }
   },
   "source": [
    "You can also get help in Jupyter notebooks by typing the name of the library or function and a question mark:"
   ]
  },
  {
   "cell_type": "code",
   "execution_count": null,
   "metadata": {
    "deletable": false,
    "editable": false,
    "nbgrader": {
     "cell_type": "code",
     "checksum": "7904a7098988e87f95c4e43f74399e27",
     "grade": false,
     "grade_id": "cell-0f9047c43cdc33e3",
     "locked": true,
     "schema_version": 3,
     "solution": false,
     "task": false
    }
   },
   "outputs": [],
   "source": [
    "import numpy\n",
    "\n",
    "numpy?"
   ]
  },
  {
   "cell_type": "markdown",
   "metadata": {
    "deletable": false,
    "editable": false,
    "nbgrader": {
     "cell_type": "markdown",
     "checksum": "efe187d9ee034d33236bae4d44202e6d",
     "grade": false,
     "grade_id": "cell-6242f0a92a7d3e6a",
     "locked": true,
     "schema_version": 3,
     "solution": false,
     "task": false
    }
   },
   "source": [
    "# 1st Weekly Task! (1%)\n",
    "\n",
    "The purpose of this task is to create and upload a plain Python (`.py`) script (**not** a Jupyter Notebook `.ipynb` file). It must print the exact string (including punctuation and uppercase) and also calculate something for the number, not just print it.\n",
    "\n",
    "1. Open a new notebook (or use Spyder or Jupyterlabs)\n",
    "    - `File` > `New Notebook` > `Python 3`\n",
    "    - Name it Task1 or something sensible by clicking on the `Untitled` tab next to the word Jupyterhub near the top left\n",
    "2. Using a single code block make a script that prints both \n",
    "    - The **exact** text: **Hello World!** \n",
    "        - Check uppercase letters and exclamation marks are correct - and don't forget the quote marks!)\n",
    "    - a calculation that results in the answer `42` \n",
    "        - I will check it's the result of a calculation!\n",
    "3. Download using `File` > `Download as` > `Python (.py)` and save it somewhere sensible.\n",
    "4. Open `Spyder` from the Windows Start Menu and use the file menu to open the Task1.py file you just saved.\n",
    "5. Check it runs OK\n",
    "6. Submit the `Task1.py` file to moodle (and nothing else)!"
   ]
  },
  {
   "cell_type": "markdown",
   "metadata": {
    "deletable": false,
    "editable": false,
    "nbgrader": {
     "cell_type": "markdown",
     "checksum": "eaabdcbbc8be6c45621650c99ff38f3d",
     "grade": false,
     "grade_id": "cell-56362f13cb79e4e8",
     "locked": true,
     "schema_version": 3,
     "solution": false,
     "task": false
    }
   },
   "source": [
    "```\n",
    "\n",
    "\n",
    "\n",
    "\n",
    "\n",
    "\n",
    "\n",
    "\n",
    "\n",
    "\n",
    "```\n",
    "\n",
    "## Appendix: A note on floating point precision \n",
    "\n",
    "The floating point numbers in Python have a precision of approximately\n",
    "16 significant digits and this can cause rounding errors.\n",
    "\n",
    "Mathematically, the result of the calculation $(1 + a) - 1$ is\n",
    "$a$, no matter what the value of $a$ is. \n",
    "\n",
    "With finite precision the result can be less accurate for smaller the values of\n",
    "$a$:"
   ]
  },
  {
   "cell_type": "code",
   "execution_count": null,
   "metadata": {
    "ExecuteTime": {
     "end_time": "2019-02-02T00:30:27.166736Z",
     "start_time": "2019-02-02T00:30:27.159738Z"
    },
    "deletable": false,
    "editable": false,
    "nbgrader": {
     "cell_type": "code",
     "checksum": "199235f8411330d5ebb188f253dc5102",
     "grade": false,
     "grade_id": "cell-6ccfbf21d91a4056",
     "locked": true,
     "schema_version": 3,
     "solution": false,
     "task": false
    }
   },
   "outputs": [],
   "source": [
    "(1.0 + 1e-15) - 1.0"
   ]
  },
  {
   "cell_type": "markdown",
   "metadata": {
    "deletable": false,
    "editable": false,
    "nbgrader": {
     "cell_type": "markdown",
     "checksum": "1382ef6262bef5d8bab57af0b1708ee6",
     "grade": false,
     "grade_id": "cell-3c730974f48be343",
     "locked": true,
     "schema_version": 3,
     "solution": false,
     "task": false
    }
   },
   "source": [
    "In the next example the number 0.1 + 0.2 *should* equal 0.3"
   ]
  },
  {
   "cell_type": "code",
   "execution_count": null,
   "metadata": {
    "ExecuteTime": {
     "end_time": "2019-02-02T00:30:29.564295Z",
     "start_time": "2019-02-02T00:30:29.558304Z"
    },
    "deletable": false,
    "editable": false,
    "nbgrader": {
     "cell_type": "code",
     "checksum": "5dad121b152c3bd69f559efaabc7aae9",
     "grade": false,
     "grade_id": "cell-a89f33024a96269c",
     "locked": true,
     "schema_version": 3,
     "solution": false,
     "task": false
    }
   },
   "outputs": [],
   "source": [
    "0.1 + 0.2"
   ]
  },
  {
   "cell_type": "markdown",
   "metadata": {
    "deletable": false,
    "editable": false,
    "nbgrader": {
     "cell_type": "markdown",
     "checksum": "410d791a528a05df306105494a2e8f94",
     "grade": false,
     "grade_id": "cell-49c7f07fe86e0560",
     "locked": true,
     "schema_version": 3,
     "solution": false,
     "task": false
    }
   },
   "source": [
    "The strange values that remain are a result of the numbers being stored in binary in the computer's memory then converted back to decimal. \n",
    "\n",
    "See https://floating-point-gui.de/basic/ for more information."
   ]
  }
 ],
 "metadata": {
  "hide_input": false,
  "kernelspec": {
   "display_name": "Python 3",
   "language": "python",
   "name": "python3"
  },
  "language_info": {
   "codemirror_mode": {
    "name": "ipython",
    "version": 3
   },
   "file_extension": ".py",
   "mimetype": "text/x-python",
   "name": "python",
   "nbconvert_exporter": "python",
   "pygments_lexer": "ipython3",
   "version": "3.7.10"
  },
  "toc": {
   "base_numbering": 1,
   "nav_menu": {},
   "number_sections": true,
   "sideBar": true,
   "skip_h1_title": false,
   "title_cell": "Table of Contents",
   "title_sidebar": "Contents",
   "toc_cell": false,
   "toc_position": {},
   "toc_section_display": true,
   "toc_window_display": false
  }
 },
 "nbformat": 4,
 "nbformat_minor": 1
}
