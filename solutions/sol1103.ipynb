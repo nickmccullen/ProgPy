{
 "cells": [
  {
   "cell_type": "code",
   "execution_count": null,
   "metadata": {},
   "outputs": [],
   "source": [
    "N = 1000\n",
    "wins = 0\n",
    "for i in range(N):\n",
    "    side = list(range(1, 6))\n",
    "    A = random.choice(side)\n",
    "    B = random.choice(side)\n",
    "    C = random.choice(side)\n",
    "    if A == B == C:\n",
    "        wins = wins+A\n",
    "    elif A+B+C <= 4:\n",
    "        wins = wins-(A+B+C)\n",
    "print(wins, N)\n",
    "print(1.0 * wins / N)"
   ]
  }
 ],
 "metadata": {
  "kernelspec": {
   "display_name": "Python 3",
   "language": "python",
   "name": "python3"
  },
  "language_info": {
   "codemirror_mode": {
    "name": "ipython",
    "version": 3
   },
   "file_extension": ".py",
   "mimetype": "text/x-python",
   "name": "python",
   "nbconvert_exporter": "python",
   "pygments_lexer": "ipython3",
   "version": "3.8.3"
  }
 },
 "nbformat": 4,
 "nbformat_minor": 4
}
