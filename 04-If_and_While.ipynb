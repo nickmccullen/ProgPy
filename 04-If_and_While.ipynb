{
 "cells": [
  {
   "cell_type": "markdown",
   "metadata": {
    "deletable": false,
    "editable": false,
    "nbgrader": {
     "cell_type": "markdown",
     "checksum": "39572ad44eabf29de013ea2a4503d4a6",
     "grade": false,
     "grade_id": "cell-e16f08659cce93ea",
     "locked": true,
     "schema_version": 3,
     "solution": false,
     "task": false
    }
   },
   "source": [
    "Be sure to do all exercises and run all completed code cells. \n",
    "\n",
    "If anything goes wrong, **restart the kernel** (in the menubar, select Kernel$\\rightarrow$Restart)."
   ]
  },
  {
   "cell_type": "markdown",
   "metadata": {
    "deletable": false,
    "editable": false,
    "nbgrader": {
     "cell_type": "markdown",
     "checksum": "20ed87f59d5261edc30851961107ec8c",
     "grade": false,
     "grade_id": "cell-50b9cb0b3970f0e6",
     "locked": true,
     "schema_version": 3,
     "solution": false,
     "task": false
    }
   },
   "source": [
    "---"
   ]
  },
  {
   "cell_type": "markdown",
   "metadata": {
    "deletable": false,
    "editable": false,
    "nbgrader": {
     "cell_type": "markdown",
     "checksum": "78061dae07ec481caa663e1c725041c6",
     "grade": false,
     "grade_id": "cell-81a8ef8dca83bc06",
     "locked": true,
     "schema_version": 3,
     "solution": false,
     "task": false
    }
   },
   "source": [
    "# Conditionals and While Loops\n",
    "\n",
    "\n",
    "Remember to run all the examples and experiment as you go through these materials. "
   ]
  },
  {
   "cell_type": "markdown",
   "metadata": {
    "deletable": false,
    "editable": false,
    "nbgrader": {
     "cell_type": "markdown",
     "checksum": "03e351a64ebe8c3c326b82cc5f81dd63",
     "grade": false,
     "grade_id": "cell-22918661be03bfe3",
     "locked": true,
     "schema_version": 3,
     "solution": false,
     "task": false
    }
   },
   "source": [
    "## Conditionals\n",
    "\n",
    "A conditional executes a block of code depending on whether something is true or false.  \n",
    "\n",
    "A simple example (which will be explained more clearly shortly) follows:"
   ]
  },
  {
   "cell_type": "code",
   "execution_count": null,
   "metadata": {
    "deletable": false,
    "editable": false,
    "nbgrader": {
     "cell_type": "code",
     "checksum": "5a1c60e2bb4fdc7ff44a1e3a3b90e0b6",
     "grade": false,
     "grade_id": "cell-f1482deab73861e6",
     "locked": true,
     "schema_version": 3,
     "solution": false,
     "task": false
    }
   },
   "outputs": [],
   "source": [
    "if 10 > 5: print(\"It's true!\")"
   ]
  },
  {
   "cell_type": "markdown",
   "metadata": {
    "deletable": false,
    "editable": false,
    "nbgrader": {
     "cell_type": "markdown",
     "checksum": "515870df60a7e626274eb8fbcadb4f79",
     "grade": false,
     "grade_id": "cell-c9bcf0a855416055",
     "locked": true,
     "schema_version": 3,
     "solution": false,
     "task": false
    }
   },
   "source": [
    "* Copy the above code to the block below but make the statement false:"
   ]
  },
  {
   "cell_type": "code",
   "execution_count": null,
   "metadata": {
    "deletable": false,
    "nbgrader": {
     "cell_type": "code",
     "checksum": "7f7001866343190683775d4441e40044",
     "grade": true,
     "grade_id": "cell-7d25811dbe367da5",
     "locked": false,
     "points": 0,
     "schema_version": 3,
     "solution": true,
     "task": false
    }
   },
   "outputs": [],
   "source": [
    "# YOUR CODE HERE"
   ]
  },
  {
   "cell_type": "markdown",
   "metadata": {
    "deletable": false,
    "editable": false,
    "nbgrader": {
     "cell_type": "markdown",
     "checksum": "0bed862aba735da4e2c87b17e9bcd9f4",
     "grade": false,
     "grade_id": "cell-043a0c1fabca57a5",
     "locked": true,
     "schema_version": 3,
     "solution": false,
     "task": false
    }
   },
   "source": [
    "Result: [nothing should happen!]\n",
    "\n",
    "### Indentation of Code Blocks\n",
    "\n",
    "Conditional blocks can be indented in the same way as function code blocks, following a colon.  \n",
    "The code block ends when the indentation returns to the previous level.  \n",
    "The code run if the condition is true must be *indented* by the same number of spaces.  \n",
    "This tells Python what is part of the block and what is outside it.  "
   ]
  },
  {
   "cell_type": "code",
   "execution_count": null,
   "metadata": {
    "ExecuteTime": {
     "end_time": "2019-02-01T21:18:03.935008Z",
     "start_time": "2019-02-01T21:18:03.930009Z"
    },
    "deletable": false,
    "editable": false,
    "nbgrader": {
     "cell_type": "code",
     "checksum": "1c6d0b26f9ab47e83c5bbae4c428871b",
     "grade": false,
     "grade_id": "cell-0254c9be78f2b3f2",
     "locked": true,
     "schema_version": 3,
     "solution": false,
     "task": false
    }
   },
   "outputs": [],
   "source": [
    "if 10 > 5:\n",
    "    print(\"Guess What?\")\n",
    "    print(\"It's true!\")\n",
    "    \n",
    "print(\"This is outside the conditional code block\")"
   ]
  },
  {
   "cell_type": "code",
   "execution_count": null,
   "metadata": {
    "deletable": false,
    "editable": false,
    "nbgrader": {
     "cell_type": "code",
     "checksum": "beb3fd07f6b41e1f6c17e9be3a50ab7d",
     "grade": false,
     "grade_id": "cell-8a229420fe9c98f0",
     "locked": true,
     "schema_version": 3,
     "solution": false,
     "task": false
    }
   },
   "outputs": [],
   "source": [
    "if 10 > 15:\n",
    "    print(\"Guess What?\")\n",
    "    print(\"It's true!\")\n",
    "    \n",
    "print(\"This is outside the conditional code block\")"
   ]
  },
  {
   "cell_type": "markdown",
   "metadata": {
    "deletable": false,
    "editable": false,
    "nbgrader": {
     "cell_type": "markdown",
     "checksum": "bc85cefeae6ab31330fd14a3c2316cc5",
     "grade": false,
     "grade_id": "cell-a4416001b98735dd",
     "locked": true,
     "schema_version": 3,
     "solution": false,
     "task": false
    }
   },
   "source": [
    "### Comparisons\n",
    "\n",
    "The operators `<`, `<=`, `>`, `>=`, `!=`, `==` can be used for Comparisons, and can be seen as *asking Python a question*:\n",
    "\n",
    "* `<` means \"is it less than?\"\n",
    "* `<=` means \"is it less than or equal to?\"\n",
    "* `>` means \"is it greater than?\"\n",
    "* `>=`  means \"is it greater than or equal to?\" \n",
    "* `!=`  means \"is it not equal to?\" \n",
    "* `==` means \"is it exactly equal to?\" (the same as)\n",
    "\n",
    "Note that, since the equals sign is reserved for assigning values to\n",
    "variables we use a double equals `==` to test exact equality.\n",
    "\n",
    "If the condition is satisfied then Python gives a value of\n",
    "`True` as the answer, and if not `False`.  "
   ]
  },
  {
   "cell_type": "code",
   "execution_count": null,
   "metadata": {
    "ExecuteTime": {
     "end_time": "2019-02-01T21:18:04.237846Z",
     "start_time": "2019-02-01T21:18:04.232851Z"
    },
    "deletable": false,
    "editable": false,
    "nbgrader": {
     "cell_type": "code",
     "checksum": "78bf5479970030781b62da4acc47d1a5",
     "grade": false,
     "grade_id": "cell-4b311662714a6a78",
     "locked": true,
     "schema_version": 3,
     "solution": false,
     "task": false
    }
   },
   "outputs": [],
   "source": [
    "print(10 < 5)\n",
    "print(2 < 5 < 10)\n",
    "print(10 == 10)\n",
    "print(10 != 10)"
   ]
  },
  {
   "cell_type": "markdown",
   "metadata": {
    "deletable": false,
    "editable": false,
    "nbgrader": {
     "cell_type": "markdown",
     "checksum": "8745b685712974e4c8bd2717dfac4226",
     "grade": false,
     "grade_id": "cell-9e1cffcdb01e08a2",
     "locked": true,
     "schema_version": 3,
     "solution": false,
     "task": false
    }
   },
   "source": [
    "* Try different examples below to see what happens."
   ]
  },
  {
   "cell_type": "code",
   "execution_count": null,
   "metadata": {
    "deletable": false,
    "nbgrader": {
     "cell_type": "code",
     "checksum": "be97d13860565741cf5b39da76ec4abc",
     "grade": true,
     "grade_id": "cell-b24c098a70c8c453",
     "locked": false,
     "points": 0,
     "schema_version": 3,
     "solution": true,
     "task": false
    }
   },
   "outputs": [],
   "source": [
    "# YOUR CODE HERE"
   ]
  },
  {
   "cell_type": "markdown",
   "metadata": {
    "deletable": false,
    "editable": false,
    "nbgrader": {
     "cell_type": "markdown",
     "checksum": "87724f0db8e6fa2cae2805585350ba48",
     "grade": false,
     "grade_id": "cell-524ece6b1f02e1b0",
     "locked": true,
     "schema_version": 3,
     "solution": false,
     "task": false
    }
   },
   "source": [
    "### `or` & `and` \n",
    "\n",
    "These so-called *\"boolean operators\"* can be *chained*\n",
    "together, using the keywords `or`, `and`, as follows.  \n",
    "* It is often a good idea to use brackets to make things work in a clear way."
   ]
  },
  {
   "cell_type": "code",
   "execution_count": null,
   "metadata": {
    "ExecuteTime": {
     "end_time": "2019-02-01T21:18:04.512456Z",
     "start_time": "2019-02-01T21:18:04.505492Z"
    },
    "deletable": false,
    "editable": false,
    "nbgrader": {
     "cell_type": "code",
     "checksum": "e5e28358b84b7aeb4596ec885f37a994",
     "grade": false,
     "grade_id": "cell-e054890575ea050f",
     "locked": true,
     "schema_version": 3,
     "solution": false,
     "task": false
    }
   },
   "outputs": [],
   "source": [
    "(2 < 5) and (10 < 20)"
   ]
  },
  {
   "cell_type": "markdown",
   "metadata": {
    "deletable": false,
    "editable": false,
    "nbgrader": {
     "cell_type": "markdown",
     "checksum": "847dbc3929923601f88f81a7431e804d",
     "grade": false,
     "grade_id": "cell-6c1bd9b6971ce3f9",
     "locked": true,
     "schema_version": 3,
     "solution": false,
     "task": false
    }
   },
   "source": [
    "Both conditions must be `True` for `and` to give a `True` answer."
   ]
  },
  {
   "cell_type": "code",
   "execution_count": null,
   "metadata": {
    "ExecuteTime": {
     "end_time": "2019-02-01T21:18:04.512456Z",
     "start_time": "2019-02-01T21:18:04.505492Z"
    },
    "deletable": false,
    "editable": false,
    "nbgrader": {
     "cell_type": "code",
     "checksum": "ce51b8f44be68d0e8ecced484b47514c",
     "grade": false,
     "grade_id": "cell-d5796de6575d0b67",
     "locked": true,
     "schema_version": 3,
     "solution": false,
     "task": false
    }
   },
   "outputs": [],
   "source": [
    "print(2<10, 50>100)\n",
    "\n",
    "\n",
    "(2 < 10) and (50 > 100)"
   ]
  },
  {
   "cell_type": "markdown",
   "metadata": {
    "deletable": false,
    "editable": false,
    "nbgrader": {
     "cell_type": "markdown",
     "checksum": "b6bcdc47992f99cbe65849dcc00a8674",
     "grade": false,
     "grade_id": "cell-1ad28973060db73f",
     "locked": true,
     "schema_version": 3,
     "solution": false,
     "task": false
    }
   },
   "source": [
    "The `or` operator requires only one condition to be `True`"
   ]
  },
  {
   "cell_type": "code",
   "execution_count": null,
   "metadata": {
    "ExecuteTime": {
     "end_time": "2019-02-01T21:18:04.512456Z",
     "start_time": "2019-02-01T21:18:04.505492Z"
    },
    "deletable": false,
    "editable": false,
    "nbgrader": {
     "cell_type": "code",
     "checksum": "01fe3e97b8d1ae627cf6ed9c08218cba",
     "grade": false,
     "grade_id": "cell-8f34400a3422a9da",
     "locked": true,
     "schema_version": 3,
     "solution": false,
     "task": false
    }
   },
   "outputs": [],
   "source": [
    "(2 < 10) or (50 > 100)"
   ]
  },
  {
   "cell_type": "markdown",
   "metadata": {
    "deletable": false,
    "editable": false,
    "nbgrader": {
     "cell_type": "markdown",
     "checksum": "c05b0e698b89ec634eee787779b4ef6c",
     "grade": false,
     "grade_id": "cell-d70b5ed3d16683b3",
     "locked": true,
     "schema_version": 3,
     "solution": false,
     "task": false
    }
   },
   "source": [
    "More complicated expressions are allowed, but get quickly hard to follow if brackets are not used."
   ]
  },
  {
   "cell_type": "markdown",
   "metadata": {
    "deletable": false,
    "editable": false,
    "nbgrader": {
     "cell_type": "markdown",
     "checksum": "609a035797aa1fbd247ab9630f9c29fd",
     "grade": false,
     "grade_id": "cell-3132119262a1456d",
     "locked": true,
     "schema_version": 3,
     "solution": false,
     "task": false
    }
   },
   "source": [
    "### Operator Precedence\n",
    "\n",
    "The following table shows which are evaluated first (like the BODMAS rules for algebra).\n",
    "\n",
    "  Operator                                | Description\n",
    "  ----------------------------------------| -------------------------------------\n",
    "  `or`                                    | Boolean OR\n",
    "  `and`                                   | Boolean AND\n",
    "  `not`                                 | Boolean NOT\n",
    "  `<`, `<=`, `>`, `>=`, `!=`, `==`  | Comparisons\n",
    "  `+`, `-`                                | Addition and subtraction\n",
    "  `*`, `/`, `//`, `%`                     | Multiplication, division, remainder\n",
    "  `**`                                    | Exponentiation\n",
    "\n"
   ]
  },
  {
   "cell_type": "markdown",
   "metadata": {
    "deletable": false,
    "editable": false,
    "nbgrader": {
     "cell_type": "markdown",
     "checksum": "01fe32c96779fc70f42b3e06ace99495",
     "grade": false,
     "grade_id": "cell-eaef5650c0686477",
     "locked": true,
     "schema_version": 3,
     "solution": false,
     "task": false
    }
   },
   "source": [
    "### If-Else Statement\n",
    "\n",
    "An If-Else statement looks at a condition and continues into the next\n",
    "indented block if the statement is true."
   ]
  },
  {
   "cell_type": "code",
   "execution_count": null,
   "metadata": {
    "ExecuteTime": {
     "end_time": "2019-02-01T21:18:05.055332Z",
     "start_time": "2019-02-01T21:18:05.05034Z"
    },
    "deletable": false,
    "editable": false,
    "nbgrader": {
     "cell_type": "code",
     "checksum": "108e4cafc60bc7536f0ed37d7344d7e6",
     "grade": false,
     "grade_id": "cell-a2098941d730a2cf",
     "locked": true,
     "schema_version": 3,
     "solution": false,
     "task": false
    }
   },
   "outputs": [],
   "source": [
    "a = 2\n",
    "\n",
    "if a > 5:\n",
    "    print(\"a is greater than 5\")\n",
    "else:\n",
    "    print(\"a is 5 or less\")"
   ]
  },
  {
   "cell_type": "markdown",
   "metadata": {
    "deletable": false,
    "editable": false,
    "nbgrader": {
     "cell_type": "markdown",
     "checksum": "501034f6386ac775d64d121833a8f8b0",
     "grade": false,
     "grade_id": "cell-85bf04b91e44546e",
     "locked": true,
     "schema_version": 3,
     "solution": false,
     "task": false
    }
   },
   "source": [
    "* Change the value of `a` and observe the result."
   ]
  },
  {
   "cell_type": "code",
   "execution_count": null,
   "metadata": {
    "deletable": false,
    "nbgrader": {
     "cell_type": "code",
     "checksum": "81bd806bbbbe8fc52253b1df5809174a",
     "grade": true,
     "grade_id": "cell-18a30964f3186ebd",
     "locked": false,
     "points": 0,
     "schema_version": 3,
     "solution": true,
     "task": false
    }
   },
   "outputs": [],
   "source": [
    "#a=2\n",
    "# YOUR CODE HERE\n",
    "\n",
    "if a > 5:\n",
    "    print(\"a is greater than 5\")\n",
    "else:\n",
    "    print(\"a is 5 or less\")"
   ]
  },
  {
   "cell_type": "markdown",
   "metadata": {
    "deletable": false,
    "editable": false,
    "nbgrader": {
     "cell_type": "markdown",
     "checksum": "b21891bad6d5c33342bf2f651692d4b8",
     "grade": false,
     "grade_id": "cell-3c209c1b1c082c4a",
     "locked": true,
     "schema_version": 3,
     "solution": false,
     "task": false
    }
   },
   "source": [
    "### If-Elseif-Else\n",
    "\n",
    "In case we have two or more conditions to test, we can use a *\"nested\"* if\n",
    "statement."
   ]
  },
  {
   "cell_type": "code",
   "execution_count": null,
   "metadata": {
    "ExecuteTime": {
     "end_time": "2019-02-01T21:18:05.390137Z",
     "start_time": "2019-02-01T21:18:05.385139Z"
    },
    "deletable": false,
    "editable": false,
    "nbgrader": {
     "cell_type": "code",
     "checksum": "25fcef5de151fc9c909aa44149df8d45",
     "grade": false,
     "grade_id": "cell-281a969ee8f00974",
     "locked": true,
     "schema_version": 3,
     "solution": false,
     "task": false
    }
   },
   "outputs": [],
   "source": [
    "x = 4\n",
    "\n",
    "if x > 0:\n",
    "    print(\"Positive\")\n",
    "else:\n",
    "    if x < 0:\n",
    "        print(\"Negative\")\n",
    "    else:\n",
    "        print(\"Zero\")"
   ]
  },
  {
   "cell_type": "markdown",
   "metadata": {
    "deletable": false,
    "editable": false,
    "nbgrader": {
     "cell_type": "markdown",
     "checksum": "436d31156958f7be418c7a98efb48053",
     "grade": false,
     "grade_id": "cell-8a9d13559aa80ace",
     "locked": true,
     "schema_version": 3,
     "solution": false,
     "task": false
    }
   },
   "source": [
    "* Notice how the indentation is used for putting one condition inside another\n",
    "    * we just use another 4 spaces to indicate what is inside the second condition.\n",
    "    \n",
    "    \n",
    "* **Change the value of `x` to investigate its behaviour**"
   ]
  },
  {
   "cell_type": "code",
   "execution_count": null,
   "metadata": {
    "deletable": false,
    "nbgrader": {
     "cell_type": "code",
     "checksum": "4cf6d335919555e2e7a94598ddfd245c",
     "grade": true,
     "grade_id": "cell-7d2371d702d5f046",
     "locked": false,
     "points": 0,
     "schema_version": 3,
     "solution": true,
     "task": false
    }
   },
   "outputs": [],
   "source": [
    "import math\n",
    "\n",
    "#x = 4\n",
    "# YOUR CODE HERE\n",
    "\n",
    "\n",
    "if x > 0:\n",
    "    print(\"Positive\")\n",
    "else:\n",
    "    if x < 0:\n",
    "        print(\"Negative\")\n",
    "    else:\n",
    "        print(\"Zero\")"
   ]
  },
  {
   "cell_type": "markdown",
   "metadata": {
    "deletable": false,
    "editable": false,
    "nbgrader": {
     "cell_type": "markdown",
     "checksum": "990eb9fbad73288da0da4ca1534da1e4",
     "grade": false,
     "grade_id": "cell-8e6a91de0172489a",
     "locked": true,
     "schema_version": 3,
     "solution": false,
     "task": false
    }
   },
   "source": [
    "Since this is quite a common pattern, there is a special syntax using\n",
    "the `elif` keyword. This syntax also avoids the extra indentation."
   ]
  },
  {
   "cell_type": "code",
   "execution_count": null,
   "metadata": {
    "ExecuteTime": {
     "end_time": "2019-02-01T21:18:05.936839Z",
     "start_time": "2019-02-01T21:18:05.929836Z"
    },
    "deletable": false,
    "editable": false,
    "nbgrader": {
     "cell_type": "code",
     "checksum": "11def14caaec7c9a2d5ff00e1ee29e6d",
     "grade": false,
     "grade_id": "cell-e000b6d5d6d8e771",
     "locked": true,
     "schema_version": 3,
     "solution": false,
     "task": false
    }
   },
   "outputs": [],
   "source": [
    "x = -4\n",
    "\n",
    "if x > 0:\n",
    "    print(\"Positive\")\n",
    "elif x < 0:\n",
    "    print(\"Negative\")\n",
    "else:\n",
    "    print(\"Zero\")"
   ]
  },
  {
   "cell_type": "markdown",
   "metadata": {
    "deletable": false,
    "editable": false,
    "nbgrader": {
     "cell_type": "markdown",
     "checksum": "6dc599819474484f005353444d771bfd",
     "grade": false,
     "grade_id": "cell-6b97f0bcaf7b82c1",
     "locked": true,
     "schema_version": 3,
     "solution": false,
     "task": false
    }
   },
   "source": [
    "The following **exercise** demonstrates the use of several `elif` tests.\n",
    "\n",
    "Conditional to give the following mapping of x values to y values: \n",
    "$\n",
    "\\begin{array} \n",
    "~y = -4 & \\text{if } x<-4 \\\\\n",
    "y = \\dfrac{(x+4)^2}{4} - 4 & \\text{if } -4 \\leq x < 0 \\\\\n",
    "y = 4 - \\dfrac{(x-4)^2}{4} & \\text{if } 0 \\leq x < 4 \\\\\n",
    "y = 4 & \\text{if } x \\geq 4 \\\\\n",
    "\\end{array}$"
   ]
  },
  {
   "cell_type": "code",
   "execution_count": null,
   "metadata": {
    "ExecuteTime": {
     "end_time": "2019-02-01T21:18:06.591645Z",
     "start_time": "2019-02-01T21:18:06.585655Z"
    },
    "deletable": false,
    "nbgrader": {
     "cell_type": "code",
     "checksum": "77308130ca3d1e29edc8d0da024dc527",
     "grade": true,
     "grade_id": "cell-df04a596719a6611",
     "locked": false,
     "points": 0,
     "schema_version": 3,
     "solution": true,
     "task": false
    }
   },
   "outputs": [],
   "source": [
    "x = 3\n",
    "\n",
    "if x < -4:\n",
    "    y = -4.0\n",
    "#elif ???:\n",
    "# YOUR CODE HERE\n",
    "    y = (x + 4)**2/4.0 - 4.0\n",
    "#elif ???:\n",
    "#    y = ???\n",
    "# YOUR CODE HERE\n",
    "#else:\n",
    "#    ???\n",
    "# YOUR CODE HERE\n",
    "\n",
    "\n",
    "print(x, y)"
   ]
  },
  {
   "cell_type": "markdown",
   "metadata": {
    "deletable": false,
    "editable": false,
    "nbgrader": {
     "cell_type": "markdown",
     "checksum": "5ce284b8857f4cee3645d4c03a1abf97",
     "grade": false,
     "grade_id": "cell-99bc4298f3dc8bb1",
     "locked": true,
     "schema_version": 3,
     "solution": false,
     "task": false
    }
   },
   "source": [
    "Result: `3 3.75`\n",
    "\n",
    "[Click for Solution](solutions/sol0401.ipynb)\n",
    "\n",
    "\n",
    "Each `elif` condition **only** gets tested _**if** the previous conditions were **false**_."
   ]
  },
  {
   "cell_type": "markdown",
   "metadata": {
    "deletable": false,
    "editable": false,
    "nbgrader": {
     "cell_type": "markdown",
     "checksum": "fabdec3585551fb4e027954ce6e4cccc",
     "grade": false,
     "grade_id": "cell-ead585f3000eb191",
     "locked": true,
     "schema_version": 3,
     "solution": false,
     "task": false
    }
   },
   "source": [
    "### Using only If \n",
    "\n",
    "It is possible to use an if statement without an else part, but be careful.  \n",
    "It is important to make sure all cases are covered.\n",
    "\n",
    "* Consider the following example:"
   ]
  },
  {
   "cell_type": "code",
   "execution_count": null,
   "metadata": {
    "ExecuteTime": {
     "end_time": "2019-02-01T21:18:06.924101Z",
     "start_time": "2019-02-01T21:18:06.904103Z"
    },
    "deletable": false,
    "editable": false,
    "nbgrader": {
     "cell_type": "code",
     "checksum": "479d59f054cd4c09c1d4160d42a89d9e",
     "grade": false,
     "grade_id": "cell-1e238ff363d54489",
     "locked": true,
     "schema_version": 3,
     "solution": false,
     "task": false
    }
   },
   "outputs": [],
   "source": [
    "x=0\n",
    "\n",
    "if x > 0:\n",
    "    sign = \"Positive!\"\n",
    "if x < 0:\n",
    "    sign = \"Negative!\"\n",
    "\n",
    "print(sign)"
   ]
  },
  {
   "cell_type": "markdown",
   "metadata": {
    "deletable": false,
    "editable": false,
    "nbgrader": {
     "cell_type": "markdown",
     "checksum": "c7f20d756cae33819a198cf1c850a96f",
     "grade": false,
     "grade_id": "cell-03abb900db08fdd0",
     "locked": true,
     "schema_version": 3,
     "solution": false,
     "task": false
    }
   },
   "source": [
    "Even though this looks correct, the case `x == 0` is not covered, can lead to an error.   \n",
    "\n",
    "* **Correct the code in the next cell to correct the error before moving on**"
   ]
  },
  {
   "cell_type": "code",
   "execution_count": null,
   "metadata": {
    "deletable": false,
    "nbgrader": {
     "cell_type": "code",
     "checksum": "e950da02250ea71b6a46dcf8c3eb1678",
     "grade": true,
     "grade_id": "cell-6184b3d610b6edf4",
     "locked": false,
     "points": 0,
     "schema_version": 3,
     "solution": true,
     "task": false
    }
   },
   "outputs": [],
   "source": [
    "x=0\n",
    "\n",
    "if x > 0:\n",
    "    sign = \"Positive!\"\n",
    "if x < 0:\n",
    "    sign = \"Negative!\"\n",
    "# YOUR CODE HERE\n",
    "\n",
    "print(sign)"
   ]
  },
  {
   "cell_type": "markdown",
   "metadata": {
    "deletable": false,
    "editable": false,
    "nbgrader": {
     "cell_type": "markdown",
     "checksum": "2d1bd3dd02ffd2756f84d1c645c02444",
     "grade": false,
     "grade_id": "cell-ea7fa546d0872967",
     "locked": true,
     "schema_version": 3,
     "solution": false,
     "task": false
    }
   },
   "source": [
    "[Click for solution](solutions/sol0402.ipynb)"
   ]
  },
  {
   "cell_type": "markdown",
   "metadata": {
    "deletable": false,
    "editable": false,
    "nbgrader": {
     "cell_type": "markdown",
     "checksum": "34c846c6a17591389a65d4efa900d460",
     "grade": false,
     "grade_id": "cell-22fe8c6a3f4f6e7e",
     "locked": true,
     "schema_version": 3,
     "solution": false,
     "task": false
    }
   },
   "source": [
    "### Comparing Strings\n",
    "\n",
    "Strings can also be compared, as illustrated below:"
   ]
  },
  {
   "cell_type": "code",
   "execution_count": null,
   "metadata": {
    "ExecuteTime": {
     "end_time": "2019-02-01T21:18:14.271591Z",
     "start_time": "2019-02-01T21:18:14.264574Z"
    },
    "deletable": false,
    "editable": false,
    "nbgrader": {
     "cell_type": "code",
     "checksum": "7b56841a51d1cc25145ca2f9c843b191",
     "grade": false,
     "grade_id": "cell-771a737033829f8e",
     "locked": true,
     "schema_version": 3,
     "solution": false,
     "task": false
    }
   },
   "outputs": [],
   "source": [
    "print(\"hello\" == \"Hello\")\n",
    "print(\"hello\" == \"hello\")\n",
    "print(\"a\" < \"b\")\n",
    "print(\"A\" > \"a\")\n",
    "\n",
    "print(\"100\" > \"a\")"
   ]
  },
  {
   "cell_type": "markdown",
   "metadata": {
    "deletable": false,
    "editable": false,
    "nbgrader": {
     "cell_type": "markdown",
     "checksum": "e994868868267b60d54d729fb4cf4bf4",
     "grade": false,
     "grade_id": "cell-59aabd76fa37e19e",
     "locked": true,
     "schema_version": 3,
     "solution": false,
     "task": false
    }
   },
   "source": [
    "* Notice that the strings have to be identical (including capitalisation) to be equal.  \n",
    "\n",
    "* Also the comparison of less than or greater than refers to their alphanumeric order,  \n",
    "where numbers come before letters, and uppercase before lowercase.\n",
    "\n",
    "Therefore to compare strings we could write the following code:"
   ]
  },
  {
   "cell_type": "code",
   "execution_count": null,
   "metadata": {
    "ExecuteTime": {
     "end_time": "2019-02-01T21:18:15.487797Z",
     "start_time": "2019-02-01T21:18:15.481806Z"
    },
    "deletable": false,
    "editable": false,
    "nbgrader": {
     "cell_type": "code",
     "checksum": "b2cb99b933491df94ed60d0cff9c9cc0",
     "grade": false,
     "grade_id": "cell-ba61b84cc7b78d55",
     "locked": true,
     "schema_version": 3,
     "solution": false,
     "task": false
    }
   },
   "outputs": [],
   "source": [
    "s1 = \"Aardvark\"\n",
    "s2 = \"aardvark\"\n",
    "\n",
    "if s1 < s2:\n",
    "    print(s1, \"comes before\", s2, \"in the dictionary.\")\n",
    "elif s1 > s2:\n",
    "    print(s2, \"comes before\", s1, \"in the dictionary.\")\n",
    "else:\n",
    "    print(s1, \"and\", s2, \"are the same!\")"
   ]
  },
  {
   "cell_type": "markdown",
   "metadata": {
    "deletable": false,
    "editable": false,
    "nbgrader": {
     "cell_type": "markdown",
     "checksum": "7f0cb4ea653b659839aaf090511941d0",
     "grade": false,
     "grade_id": "cell-5c2dd8bc615f87c4",
     "locked": true,
     "schema_version": 3,
     "solution": false,
     "task": false
    }
   },
   "source": [
    "## Iteration Using While Loops\n",
    "\n",
    "### Iteration\n",
    "\n",
    "Sometimes you will need to repeat the same step over and over,\n",
    "using the results from one step as the input to the next, this is called *iteration*  \n",
    "(Also see `for` loops in Lesson 5)."
   ]
  },
  {
   "cell_type": "code",
   "execution_count": null,
   "metadata": {
    "deletable": false,
    "editable": false,
    "nbgrader": {
     "cell_type": "code",
     "checksum": "c4a834f6069f6ed93ac83f4f7f73bf11",
     "grade": false,
     "grade_id": "cell-d516ffcecbf3eca0",
     "locked": true,
     "schema_version": 3,
     "solution": false,
     "task": false
    }
   },
   "outputs": [],
   "source": [
    "# Fibonacci sequence\n",
    "a0 = 1\n",
    "a1 = 1\n",
    "a2 = a1+a0\n",
    "a3 = a2+a1\n",
    "a4 = a3+a2\n",
    "a5 = a4+a3\n",
    "\n",
    "print(a0, a1, a2, a3, a4, a5)"
   ]
  },
  {
   "cell_type": "markdown",
   "metadata": {
    "deletable": false,
    "editable": false,
    "nbgrader": {
     "cell_type": "markdown",
     "checksum": "69d4cd6f120ec69701c2c09e8206e372",
     "grade": false,
     "grade_id": "cell-7a7801b7d4b215f3",
     "locked": true,
     "schema_version": 3,
     "solution": false,
     "task": false
    }
   },
   "source": [
    "* You also saw this after the end of the task in Week 2 when putting the previously calculated value for $A_g$ back into the next calculation iterated to the correct answer."
   ]
  },
  {
   "cell_type": "markdown",
   "metadata": {
    "deletable": false,
    "editable": false,
    "nbgrader": {
     "cell_type": "markdown",
     "checksum": "acdacba0a04e9e2dd8114931cd922fc7",
     "grade": false,
     "grade_id": "cell-15b16518c13bbf2d",
     "locked": true,
     "schema_version": 3,
     "solution": false,
     "task": false
    }
   },
   "source": [
    "### Reminder on updating variables:\n",
    "\n",
    "Remember that when we *assign* values to a variable using\n",
    "the equals sign we  \n",
    "**first** take the expression on the\n",
    "right **then** assign it to the variable on the left of the\n",
    "`=`. \n",
    "\n",
    "Therefore we should not interpret `a=b` in the mathematical sense\n",
    "of equality, but *assigning* the value of b to a. \n",
    "\n",
    "This can be used to update a variable to a new value that depends on the old one:"
   ]
  },
  {
   "cell_type": "code",
   "execution_count": null,
   "metadata": {
    "deletable": false,
    "editable": false,
    "nbgrader": {
     "cell_type": "code",
     "checksum": "0ac39aad78908a3bddb72ca985081b31",
     "grade": false,
     "grade_id": "cell-ae8ca478d540e9a0",
     "locked": true,
     "schema_version": 3,
     "solution": false,
     "task": false
    }
   },
   "outputs": [],
   "source": [
    "a = 1\n",
    "a = a+1\n",
    "print(a)\n",
    "\n",
    "a = a/4.0\n",
    "print(a)"
   ]
  },
  {
   "cell_type": "markdown",
   "metadata": {
    "deletable": false,
    "editable": false,
    "nbgrader": {
     "cell_type": "markdown",
     "checksum": "52fbb4c36b64f17be238c802bb535818",
     "grade": false,
     "grade_id": "cell-319fb707d9b35bf7",
     "locked": true,
     "schema_version": 3,
     "solution": false,
     "task": false
    }
   },
   "source": [
    "In this example Python **first** adds one to the old value of `a` **then** overwrites a with this new value."
   ]
  },
  {
   "cell_type": "markdown",
   "metadata": {
    "deletable": false,
    "editable": false,
    "nbgrader": {
     "cell_type": "markdown",
     "checksum": "6668ee66e2fea05a67a296bf0d847159",
     "grade": false,
     "grade_id": "cell-655b9e73324d6337",
     "locked": true,
     "schema_version": 3,
     "solution": false,
     "task": false
    }
   },
   "source": [
    "### Iterating with WHILE Loops\n",
    "\n",
    "A conditional statement such as `a>b` can be used to perform some action repeatedly until the condition is no longer true.\n",
    "\n",
    "This is called a *\"`while` loop\"*, since it will continue repeating a block of code while the statement remains true. \n",
    "\n",
    "Once the condition is no longer true the loop will be exited and the last value used. \n",
    "\n",
    "In the following example we print square numbers as long as the base number is less than 10:"
   ]
  },
  {
   "cell_type": "code",
   "execution_count": null,
   "metadata": {
    "deletable": false,
    "editable": false,
    "nbgrader": {
     "cell_type": "code",
     "checksum": "38423332ce1f250bb79039f75964f468",
     "grade": false,
     "grade_id": "cell-791ffe4619a3a286",
     "locked": true,
     "schema_version": 3,
     "solution": false,
     "task": false
    }
   },
   "outputs": [],
   "source": [
    "number = 1\n",
    "\n",
    "while number <= 10: # check the condition to see whether to skip or run the block\n",
    "    square = number**2    # the block is run if the condition is true\n",
    "    print(number, square) # each line is executed in order\n",
    "    number = number + 1   # the values being compared MUST CHANGE or the block will loop forever! \n",
    "    # at the end of the block the condition is checked again and the program moves on if False\n",
    "\n",
    "print('end of loop')"
   ]
  },
  {
   "cell_type": "markdown",
   "metadata": {
    "deletable": false,
    "editable": false,
    "nbgrader": {
     "cell_type": "markdown",
     "checksum": "ac42d4e381bce939356ceb68fa2c3d81",
     "grade": false,
     "grade_id": "cell-aca93079770ae984",
     "locked": true,
     "schema_version": 3,
     "solution": false,
     "task": false
    }
   },
   "source": [
    "### Exercise: Fibonacci Sequence \n",
    "\n",
    "Follow the instruction in the `#` comment to iterate the sequence to iterate until $a$ reaches $100$.\n",
    "\n",
    "**Hint:** The sequence [above](#Iteration) can be re-written:\n",
    "```python\n",
    "# Fibonacci sequence\n",
    "a0 = 1\n",
    "a1 = 1\n",
    "a2 = a1+a0 #equals 2\n",
    "\n",
    "a0 = a1 # set a0 to the previous value of a1\n",
    "a1 = a2 # set a1 to the previous value of a2 = 2\n",
    "a2 = a1+a0 # re-calculate a2 = 3\n",
    "\n",
    "a0 = a1 # set a0 to ... a1 = 2 \n",
    "a1 = a2 # set a1 to 3\n",
    "a2 = a1+a0 # re-calculate a2 = 5\n",
    "```\n",
    "and so on..."
   ]
  },
  {
   "cell_type": "code",
   "execution_count": null,
   "metadata": {
    "deletable": false,
    "nbgrader": {
     "cell_type": "code",
     "checksum": "0a7b2046dadba8a0daaaca6418e872be",
     "grade": true,
     "grade_id": "cell-123b0c8076817c32",
     "locked": false,
     "points": 0,
     "schema_version": 3,
     "solution": true,
     "task": false
    }
   },
   "outputs": [],
   "source": [
    "# set first value\n",
    "a0 = 1\n",
    "print(a0)\n",
    "\n",
    "# set second value\n",
    "a1 = 1\n",
    "print(a1)\n",
    "\n",
    "# calculate third value\n",
    "a2 = a1+a0\n",
    "print(a2)\n",
    "\n",
    "# put the following block in a while loop to iterate then stop when a goes over 100\n",
    "# YOUR CODE HERE"
   ]
  },
  {
   "cell_type": "markdown",
   "metadata": {
    "deletable": false,
    "editable": false,
    "nbgrader": {
     "cell_type": "markdown",
     "checksum": "a5788dfe1371d5475e0cfc7d36ee1d22",
     "grade": false,
     "grade_id": "cell-ec1de66943e91bbd",
     "locked": true,
     "schema_version": 3,
     "solution": false,
     "task": false
    }
   },
   "source": [
    "* Why is the last value greater than 100?\n",
    "\n",
    "[Click for solution](solutions/sol0403.ipynb)"
   ]
  },
  {
   "cell_type": "markdown",
   "metadata": {
    "deletable": false,
    "editable": false,
    "nbgrader": {
     "cell_type": "markdown",
     "checksum": "1ed1fa49294382ed230af82133a5e3b4",
     "grade": false,
     "grade_id": "cell-7c0134ff6baedc7c",
     "locked": true,
     "schema_version": 3,
     "solution": false,
     "task": false
    }
   },
   "source": [
    "## Example:  Square Root Iteration \n",
    "\n",
    "### Background\n",
    "\n",
    "The value of $\\sqrt{2}$ can be calculated by iteration using: \n",
    "$x_n = \\dfrac{1}{2}\\left(x_{n-1} + \\dfrac{2}{x_{n-1}}\\right)$\n",
    "\n",
    "An example iterating this for 10 steps is given below:"
   ]
  },
  {
   "cell_type": "code",
   "execution_count": null,
   "metadata": {
    "deletable": false,
    "editable": false,
    "nbgrader": {
     "cell_type": "code",
     "checksum": "52252c9cddbb9e0016bafd7a6f3708cf",
     "grade": false,
     "grade_id": "cell-62a1fd9a6959052c",
     "locked": true,
     "schema_version": 3,
     "solution": false,
     "task": false
    }
   },
   "outputs": [],
   "source": [
    "x=1 # initial value for x\n",
    "print(x**2)\n",
    "\n",
    "i=0 # set a counter\n",
    "while i<10:\n",
    "    x = 0.5*(x + 2/x)\n",
    "    print(x**2) # show how close x is to sqrt(2)\n",
    "    i=i+1"
   ]
  },
  {
   "cell_type": "markdown",
   "metadata": {
    "deletable": false,
    "editable": false,
    "nbgrader": {
     "cell_type": "markdown",
     "checksum": "6b7a8e6e18b3c8c103b3a14f8350f3b0",
     "grade": false,
     "grade_id": "cell-bc595ba1f8ff7c18",
     "locked": true,
     "schema_version": 3,
     "solution": false,
     "task": false
    }
   },
   "source": [
    "It only takes a few iterations to get very close to $\\sqrt 2$\n",
    "\n",
    "* Lets see how the sequence converges by looking at the difference between steps:"
   ]
  },
  {
   "cell_type": "code",
   "execution_count": null,
   "metadata": {
    "deletable": false,
    "editable": false,
    "nbgrader": {
     "cell_type": "code",
     "checksum": "5a5c3a9a105275392ed89ca424782bb4",
     "grade": false,
     "grade_id": "cell-a0e50f97280dce11",
     "locked": true,
     "schema_version": 3,
     "solution": false,
     "task": false
    }
   },
   "outputs": [],
   "source": [
    "x=1 # initial value for x\n",
    "print(x**2)\n",
    "\n",
    "i=0 # set a counter\n",
    "while i<10:\n",
    "    x_old = x\n",
    "    x = 0.5*(x_old + 2/x_old)\n",
    "    difference = x - x_old\n",
    "    print(x**2, difference) # print the \"error\" from the true value\n",
    "    i=i+1"
   ]
  },
  {
   "cell_type": "markdown",
   "metadata": {
    "deletable": false,
    "editable": false,
    "nbgrader": {
     "cell_type": "markdown",
     "checksum": "2aa4609948c4f80f16bf916e705889e7",
     "grade": false,
     "grade_id": "cell-f510563813849b1f",
     "locked": true,
     "schema_version": 3,
     "solution": false,
     "task": false
    }
   },
   "source": [
    "The `difference` term is a measure of the precision (or error) of the current value.  \n",
    "\n",
    "* we can define the `while` loop to run while the magnitude of this error is greater than some desired precision (e.g. `1e-6`)\n",
    "    * **Note the `abs(VALUE)` has to be used as the difference is negative so always below our precision!**\n",
    "   "
   ]
  },
  {
   "cell_type": "code",
   "execution_count": null,
   "metadata": {
    "deletable": false,
    "editable": false,
    "nbgrader": {
     "cell_type": "code",
     "checksum": "d742e7dc5926e9eaa2472207099bf0df",
     "grade": false,
     "grade_id": "cell-62c94dd266bdabb5",
     "locked": true,
     "schema_version": 3,
     "solution": false,
     "task": false
    }
   },
   "outputs": [],
   "source": [
    "x=1 # initial value for x\n",
    "print(x**2)\n",
    "\n",
    "difference = 10 # set this initially above the tolerance\n",
    "\n",
    "while abs(difference) > 1e-6:\n",
    "    x_old = x\n",
    "    x = 0.5*(x_old + 2/x_old)\n",
    "    difference = x - x_old\n",
    "    print(x**2, difference) # print the \"error\" from the true value"
   ]
  },
  {
   "cell_type": "markdown",
   "metadata": {
    "deletable": false,
    "editable": false,
    "nbgrader": {
     "cell_type": "markdown",
     "checksum": "6bd910709d23a76f3c7566aaa77bcfd0",
     "grade": false,
     "grade_id": "cell-299005cdd1d0dcde",
     "locked": true,
     "schema_version": 3,
     "solution": false,
     "task": false
    }
   },
   "source": [
    "* **Note** that the last printed value is the first one where the error is _below_ the desired precision."
   ]
  },
  {
   "cell_type": "markdown",
   "metadata": {
    "deletable": false,
    "editable": false,
    "nbgrader": {
     "cell_type": "markdown",
     "checksum": "f25101cf79c90299ce8516fb5cdba0a0",
     "grade": false,
     "grade_id": "cell-f6715358c47c5abd",
     "locked": true,
     "schema_version": 3,
     "solution": false,
     "task": false
    }
   },
   "source": [
    "### Exercise: The $\\pi$ sequence\n",
    "\n",
    "The constant $\\pi$ can be obtained using the infinite sequence:\n",
    "$\\pi = 4\\left( 1 - \\dfrac{1}{3} + \\dfrac{1}{5} - \\dfrac{1}{7} + \\dfrac{1}{9} - \\cdots \\right)$. \n",
    "\n",
    "The following two code cells reuse variables to iteratively add to the sequence in the brackets. "
   ]
  },
  {
   "cell_type": "markdown",
   "metadata": {
    "deletable": false,
    "editable": false,
    "nbgrader": {
     "cell_type": "markdown",
     "checksum": "e9916b4bc7711bdc37ad8ced97c150f8",
     "grade": false,
     "grade_id": "cell-124596088c9426bf",
     "locked": true,
     "schema_version": 3,
     "solution": false,
     "task": false
    }
   },
   "source": [
    "* **run the cell below to assign an initial value to s (the first term in the brackets above)** \n",
    "* **observe how $s_2 = s_1 - \\dfrac{1}{3}$ (the first two terms in the brackets)**"
   ]
  },
  {
   "cell_type": "code",
   "execution_count": null,
   "metadata": {
    "deletable": false,
    "editable": false,
    "nbgrader": {
     "cell_type": "code",
     "checksum": "97000261cc93b6605f49cfeecb65cd4d",
     "grade": false,
     "grade_id": "cell-d311cbabc2a978a1",
     "locked": true,
     "schema_version": 3,
     "solution": false,
     "task": false
    }
   },
   "outputs": [],
   "source": [
    "# series pi, using pi/4 = 1 - 1/3 + 1/5 - 1/7 + 1/9 ...\n",
    "s = 1\n",
    "print(4*s)\n",
    "\n",
    "n = -1.0 # set the sign of the next term to be negative\n",
    "d = 3.0\n",
    "s = s + n/d  # take old value then add next term in sequence (-1/3.0)\n",
    "print(4*s)"
   ]
  },
  {
   "cell_type": "markdown",
   "metadata": {
    "deletable": false,
    "editable": false,
    "nbgrader": {
     "cell_type": "markdown",
     "checksum": "7f187f3640cc844babf851f06a8ada48",
     "grade": false,
     "grade_id": "cell-ea22fcf787ee63c5",
     "locked": true,
     "schema_version": 3,
     "solution": false,
     "task": false
    }
   },
   "source": [
    "* **Run the cell below & notice that the sign of `n` changes from `-1` to `1` and `d` changes from `3` to `5` to add on another term of the series.**"
   ]
  },
  {
   "cell_type": "code",
   "execution_count": null,
   "metadata": {
    "deletable": false,
    "editable": false,
    "nbgrader": {
     "cell_type": "code",
     "checksum": "ccafe539fc493ef9d1cd7cefbc4b6ff1",
     "grade": false,
     "grade_id": "cell-d712d451150bf2a6",
     "locked": true,
     "schema_version": 3,
     "solution": false,
     "task": false
    }
   },
   "outputs": [],
   "source": [
    "n = -1*n  # change the sign of the next term by multiplying by -1\n",
    "d = d + 2  # add 2 to the denominator\n",
    "s = s + n/d\n",
    "\n",
    "print(4*s)"
   ]
  },
  {
   "cell_type": "markdown",
   "metadata": {
    "deletable": false,
    "editable": false,
    "nbgrader": {
     "cell_type": "markdown",
     "checksum": "38450c8f4dd32b7f90f4178ff8163b00",
     "grade": false,
     "grade_id": "cell-e50c6ffba045c5dc",
     "locked": true,
     "schema_version": 3,
     "solution": false,
     "task": false
    }
   },
   "source": [
    "* **Re-run the cell above (use `Ctrl-Enter`) many times over and observe the value of `4*s` as it gets closer to $\\pi$**"
   ]
  },
  {
   "cell_type": "markdown",
   "metadata": {
    "deletable": false,
    "editable": false,
    "nbgrader": {
     "cell_type": "markdown",
     "checksum": "af26f21d15847ce2f2db1f37a9a38822",
     "grade": false,
     "grade_id": "cell-513d1622a0e5a4fc",
     "locked": true,
     "schema_version": 3,
     "solution": false,
     "task": false
    }
   },
   "source": [
    "The above iteration repeats the same steps again and again to accomplish\n",
    "the task. \n",
    "\n",
    "However it will take many iterations to approximate to the answer well. \n",
    "\n",
    "A `while` loop can now be used to calculate $\\pi$ to a given precision. \n",
    "\n",
    "### Exercise: using the $\\sqrt 2$ example to guide you, write program to calculate $\\pi$ to a given precision\n",
    "\n",
    "1. keep track of the changes between each iteration of the $\\pi$ sequence  \n",
    "(the so called *error* term, or correction to each step of the calculation), \n",
    "2. exit the loop once the absolute error is below (not larger than) some precision. \n",
    "3. count the number of steps it takes using a *counter* `i` which increments on each iteration of the loop.\n",
    "\n",
    "\n",
    "* **If your program gets stuck (in an infinite loop) you will see `In [*]` for a long time (more than a few seconds):  \n",
    "if this happens STOP THE KERNEL (square stop button next to `>| Run`)**"
   ]
  },
  {
   "cell_type": "code",
   "execution_count": null,
   "metadata": {
    "deletable": false,
    "nbgrader": {
     "cell_type": "code",
     "checksum": "ca8869b096a8a67824d44b85be4a8b2a",
     "grade": true,
     "grade_id": "cell-a325eeac0583934a",
     "locked": false,
     "points": 0,
     "schema_version": 3,
     "solution": true,
     "task": false
    }
   },
   "outputs": [],
   "source": [
    "# series pi, using pi/4 = 1 - 1/3 + 1/5 - 1/7 + 1/9 ...\n",
    "\n",
    "# set initial values\n",
    "# YOUR CODE HERE\n",
    "\n",
    "#calculate first two terms\n",
    "#s = ...\n",
    "# YOUR CODE HERE\n",
    "\n",
    "\n",
    "# set any initial value  for err that is larger than the condition in the while:\n",
    "#err = ...\n",
    "# YOUR CODE HERE\n",
    "\n",
    "# define a counter to count the steps\n",
    "i = 0  # set the counter i\n",
    "\n",
    "\n",
    "# start a while loop with a condition based on the absolute error\n",
    "#while ???:\n",
    "# YOUR CODE HERE\n",
    "    # iterate using the pi example above as a model\n",
    "    # iterating the counter and keeping track of the error (it MUST CHANGE each iteration)\n",
    "    # YOUR CODE HERE\n",
    "\n",
    "print(4*s, err, i) # print pi, error and number of steps"
   ]
  },
  {
   "cell_type": "markdown",
   "metadata": {
    "deletable": false,
    "editable": false,
    "nbgrader": {
     "cell_type": "markdown",
     "checksum": "ee51910a65aef6d7057084c168e0a6e1",
     "grade": false,
     "grade_id": "cell-017dcd4bae77c4f4",
     "locked": true,
     "schema_version": 3,
     "solution": false,
     "task": false
    }
   },
   "source": [
    "Expected result: `3.1416426510898874 9.999750006262076e-05 19999`\n",
    "\n",
    "* The program should take nearly 20000 iterations to reach a precision of $1\\times10^{-4}$\n",
    "* if it exits too soon check you are calculating the correct error and comparing to the absolute error\n",
    "\n",
    "\n",
    "[Click for solution](solutions/sol0404.ipynb)"
   ]
  },
  {
   "cell_type": "markdown",
   "metadata": {
    "deletable": false,
    "editable": false,
    "nbgrader": {
     "cell_type": "markdown",
     "checksum": "68f7481aeef29438805d9b4488776cf7",
     "grade": false,
     "grade_id": "cell-3333ea189091d720",
     "locked": true,
     "schema_version": 3,
     "solution": false,
     "task": false
    }
   },
   "source": [
    "### Using Conditionals with Functions\n",
    "\n",
    "\n",
    "If statements are often used inside a function. Consider the\n",
    "following function."
   ]
  },
  {
   "cell_type": "code",
   "execution_count": null,
   "metadata": {
    "ExecuteTime": {
     "end_time": "2019-02-01T21:18:08.608971Z",
     "start_time": "2019-02-01T21:18:08.601969Z"
    },
    "deletable": false,
    "editable": false,
    "nbgrader": {
     "cell_type": "code",
     "checksum": "de429af5868ca44dd77d8cc2b0757348",
     "grade": false,
     "grade_id": "cell-33d8feb1ed04067e",
     "locked": true,
     "schema_version": 3,
     "solution": false,
     "task": false
    }
   },
   "outputs": [],
   "source": [
    "def correct_abs(x):\n",
    "    if x > 0:\n",
    "        y = x\n",
    "    elif x < 0:\n",
    "        y = -x\n",
    "    elif x == 0:\n",
    "        y = 0\n",
    "    return y\n",
    "\n",
    "print(correct_abs(5))\n",
    "print(correct_abs(-5))\n",
    "print(correct_abs(0))"
   ]
  },
  {
   "cell_type": "markdown",
   "metadata": {
    "deletable": false,
    "editable": false,
    "nbgrader": {
     "cell_type": "markdown",
     "checksum": "fc541a1e21a65ace1830070b32269c9c",
     "grade": false,
     "grade_id": "cell-217a1a0ef9962d28",
     "locked": true,
     "schema_version": 3,
     "solution": false,
     "task": false
    }
   },
   "source": [
    "* We could also use an `else` part instead of the last `elif`. \n",
    "* The code could be made shorter by using `>=` instead of `>` and `==`."
   ]
  },
  {
   "cell_type": "markdown",
   "metadata": {
    "deletable": false,
    "editable": false,
    "nbgrader": {
     "cell_type": "markdown",
     "checksum": "f9f2e0fd5278d05835b2c5bb07526cfe",
     "grade": false,
     "grade_id": "cell-c16ae9e52605c123",
     "locked": true,
     "schema_version": 3,
     "solution": false,
     "task": false
    }
   },
   "source": [
    "### Exercise: Use an if statement to determine whether a quadratic equation has 0, 1 or 2 real roots. \n",
    "\n",
    "* Implement a function that solves the quadratic equation $a x^2 + b x + c = 0$ given the values of the coefficients. \n",
    "    - There are two roots $x_{1,2} = \\dfrac{-b\\pm \\sqrt{b^2 - 4ac}}{2a}$ if the discriminant $b^2 - 4ac > 0$.\n",
    "    - There is only one root $x = \\dfrac{-b}{2a}$ if the discriminant is zero.\n",
    "    - There are zero real roots otherwise.\n",
    "* The function should take $a$, $b$ and $c$ as arguments. \n",
    "* It should not **return** any results, but print the number of solutions followed by the solutions (if any)."
   ]
  },
  {
   "cell_type": "code",
   "execution_count": null,
   "metadata": {
    "ExecuteTime": {
     "end_time": "2019-02-01T21:18:19.251334Z",
     "start_time": "2019-02-01T21:18:19.243343Z"
    },
    "deletable": false,
    "nbgrader": {
     "cell_type": "code",
     "checksum": "082f2f77fc684743f27b3627d422b882",
     "grade": true,
     "grade_id": "cell-c409fdc4bce64c8f",
     "locked": false,
     "points": 0,
     "schema_version": 3,
     "solution": true,
     "task": false
    }
   },
   "outputs": [],
   "source": [
    "#def ???:\n",
    "# YOUR CODE HERE\n",
    "    #disc = ???\n",
    "    # YOUR CODE HERE\n",
    "    if disc > 0:\n",
    "        #x1 = ???\n",
    "        #x2 = ???\n",
    "        # YOUR CODE HERE\n",
    "        print(\"2 roots =\", x1, x2)\n",
    "    #elif ???:\n",
    "        #???\n",
    "        #print(???)\n",
    "    # YOUR CODE HERE\n",
    "    #???\n",
    "        #???\n",
    "    # YOUR CODE HERE\n",
    "\n",
    "        \n",
    "quads(1, 0, -1)\n",
    "quads(1, 2, 1)\n",
    "quads(1, 0, 1)"
   ]
  },
  {
   "cell_type": "markdown",
   "metadata": {
    "deletable": false,
    "editable": false,
    "nbgrader": {
     "cell_type": "markdown",
     "checksum": "38ff98292cbb53fad362e84928843b33",
     "grade": false,
     "grade_id": "cell-eea446b817d1e905",
     "locked": true,
     "schema_version": 3,
     "solution": false,
     "task": false
    }
   },
   "source": [
    "Expected Result:  \n",
    "```\n",
    "2 roots = 1.0 -1.0\n",
    "1 root = -1.0\n",
    "0 roots\n",
    "```\n",
    "\n",
    "\n",
    "[Click for Solution](solutions/sol0405.ipynb)"
   ]
  },
  {
   "cell_type": "markdown",
   "metadata": {
    "deletable": false,
    "editable": false,
    "nbgrader": {
     "cell_type": "markdown",
     "checksum": "588b3be2a4da6d15ab4b9ee6776b0644",
     "grade": false,
     "grade_id": "cell-31c1b46ca0ba0483",
     "locked": true,
     "schema_version": 3,
     "solution": false,
     "task": false
    }
   },
   "source": [
    "## Summary"
   ]
  },
  {
   "cell_type": "code",
   "execution_count": null,
   "metadata": {
    "ExecuteTime": {
     "end_time": "2019-02-01T21:18:20.178888Z",
     "start_time": "2019-02-01T21:18:20.17085Z"
    },
    "deletable": false,
    "editable": false,
    "nbgrader": {
     "cell_type": "code",
     "checksum": "c0a5dba67386e4cfa0014a477ef5d644",
     "grade": false,
     "grade_id": "cell-bc87ea3a50820ebe",
     "locked": true,
     "schema_version": 3,
     "solution": false,
     "task": false
    }
   },
   "outputs": [],
   "source": [
    "# conditionals\n",
    "a = -1\n",
    "if a > 0 and type(a) == int:\n",
    "    print(\"positive integer\")\n",
    "elif a < 0 or type(a) != int:\n",
    "    print(\"negative or not an integer\")\n",
    "else:\n",
    "    print(\"zero!\")\n",
    "    \n",
    "#while loops\n",
    "def lessthanten(x):\n",
    "    n=0\n",
    "    while x>=10:\n",
    "        n+=1\n",
    "        x=x/10\n",
    "        print(x, end=' ')\n",
    "    print() #blank line\n",
    "    return str(n)+\" iterations\"\n",
    "\n",
    "start=1000000\n",
    "y=lessthanten(start)\n",
    "print(y)"
   ]
  },
  {
   "cell_type": "markdown",
   "metadata": {
    "deletable": false,
    "editable": false,
    "nbgrader": {
     "cell_type": "markdown",
     "checksum": "e48c279bb4886a8860ba72bfb1a8c38d",
     "grade": false,
     "grade_id": "cell-8c3baee2eccbffe5",
     "locked": true,
     "schema_version": 3,
     "solution": false,
     "task": false
    }
   },
   "source": [
    "## Pitfalls\n",
    "\n",
    "\n",
    "Watch out for the following sources of errors:\n",
    "\n",
    "-   Missing colon before indentation block.\n",
    "\n",
    "-   Wrong or inconsistent indentation. Use for 4 spaces (not tabs) per\n",
    "    indentation level.\n",
    "\n",
    "-   If you use an if statement without an else clause, make sure you\n",
    "    know exactly what you are doing.\n",
    "\n",
    "-   Make sure all possible cases are covered in an `if` statement.\n",
    "\n",
    "-   Consider special cases and corner cases, e.g, zero, negative values,\n",
    "    first and last possible values, etc."
   ]
  },
  {
   "cell_type": "markdown",
   "metadata": {
    "deletable": false,
    "editable": false,
    "nbgrader": {
     "cell_type": "markdown",
     "checksum": "314e3594badf03406073e0f9aa2c5344",
     "grade": false,
     "grade_id": "cell-3d5222084aed944b",
     "locked": true,
     "schema_version": 3,
     "solution": false,
     "task": false
    }
   },
   "source": [
    "\n",
    "# Task 4 - (2%)\n",
    "\n",
    "\n",
    "## Background 1: The $\\operatorname{sinc}$ function \n",
    "\n",
    "The $\\operatorname{sinc}$ function, defined by: $\\operatorname{sinc}(x) = \\dfrac{\\sin(x)}{x}$\n",
    "is an important function in science and engineering.\n",
    "![](Figures/sincfunc1.png)\n",
    "\n",
    "## Background 2: Newton's method \n",
    "\n",
    "To find the zeros (roots) of the function we use Newton's method (you will see in Maths 1):  \n",
    "$x_1 = x_0 - \\dfrac{g(x_0)}{g'(x_0)}$."
   ]
  },
  {
   "cell_type": "markdown",
   "metadata": {
    "deletable": false,
    "editable": false,
    "nbgrader": {
     "cell_type": "markdown",
     "checksum": "d1f9a776e95304c0721803a572e1f368",
     "grade": false,
     "grade_id": "cell-4f519c4a544e12ff",
     "locked": true,
     "schema_version": 3,
     "solution": false,
     "task": false
    }
   },
   "source": [
    "## Task: Write a script using functions and a while loop to find the roots of the sinc function.\n",
    "\n",
    "\n",
    "* Define a function to apply the Newton method $\\left( x_1 = x_0 - \\dfrac{f(x_0)}{f'(x_0)}\\right)$ to any function $f(x)$, \n",
    "    - The function should take a dummy function `f` as one of its arguments, along with an initial point `a`. \n",
    "    - Inside it should contain a `while` loop to iterate the Newton method to the desired tolerance. \n",
    "    - you will need to revisit numerical differentiation from the `functions` lesson\n",
    "    - Your function should have a similar structure to the $\\pi$ sequence example above. \n",
    "- Use both a tolerance `err=1e-6` and differentiation step `dx=1e-6` of $10^{-6}$\n"
   ]
  },
  {
   "cell_type": "markdown",
   "metadata": {
    "deletable": false,
    "editable": false,
    "nbgrader": {
     "cell_type": "markdown",
     "checksum": "f7df7c1cba5e90fefb34427cdef514c3",
     "grade": false,
     "grade_id": "cell-10e0f2ed1f9b0d85",
     "locked": true,
     "schema_version": 3,
     "solution": false,
     "task": false
    }
   },
   "source": [
    "# General Tips\n",
    "\n",
    "Below is the basic template as implied in the question:\n",
    "\n",
    "```python\n",
    "#SOME FUNCTION DEFINITION(S) \n",
    "\n",
    "#A newton function containing a `while` LOOP to watch the absolute error term:\n",
    "    #some maths that works out the derivatives needed for the Newton method given in the question \n",
    "    #the error term is the correction to the previous `x` value\n",
    "    #update `x` using this error term in the Newton formula\n",
    "\n",
    "#print the values starting from a few initial guess values: \n",
    "```\n",
    "\n",
    "\n",
    "\n",
    "## Common Pitfalls\n",
    "\n",
    "* Division by zero (use an `if SOMETHING:` statement and set  `x` to be nearly zero).\n",
    "* Not remembering to compare the *absolute error* in the `while` loop (i.e. it can go negative too).\n",
    "* Choosing inappropriate starting values.\n",
    "* Not resetting the error term to be larger than the condition for each while loop (see below).\n",
    "\n"
   ]
  },
  {
   "cell_type": "code",
   "execution_count": null,
   "metadata": {
    "deletable": false,
    "nbgrader": {
     "cell_type": "code",
     "checksum": "a7ba73bbcfb9514149a4d0d14bd2860a",
     "grade": true,
     "grade_id": "cell-65000aa65bf1bee7",
     "locked": false,
     "points": 0,
     "schema_version": 3,
     "solution": true,
     "task": false
    }
   },
   "outputs": [],
   "source": [
    "from math import sin, pi, cos\n",
    "\n",
    "#define the sinc function with an argument x\n",
    "def sinc(x):\n",
    "    # condition to stop division by zero for x=0\n",
    "    # YOUR CODE HERE\n",
    "    #return the sinc function\n",
    "    # YOUR CODE HERE\n",
    "\n",
    "#define a function for newton iteration with a function and a value as arguments\n",
    "def newton(f, x):\n",
    "    #while loop iteration for newton method down to some precision\n",
    "    # YOUR CODE HERE\n",
    "    return x \n",
    "\n",
    "#test sinc(0)\n",
    "s = sinc(0)\n",
    "print(s)\n",
    "\n",
    "#test case 1:\n",
    "r1 = newton(sinc, 1)\n",
    "print(r1) #sin has a root at zero\n",
    "\n",
    "#test case 2:\n",
    "r1 = newton(sin, 1)\n",
    "print(r1) #sin has a root at zero\n",
    "\n",
    "#test case 3:\n",
    "r2 = newton(cos, 1)\n",
    "print(r2) # sinc does not, but has one at pi"
   ]
  },
  {
   "cell_type": "markdown",
   "metadata": {},
   "source": [
    "### Test your code by running it in the cell above with a fresh kernel and then running the cell below:\n",
    "\n",
    "* Only works in the original cloud service online.\n",
    "* Copy into Spyder to double check and also to save as a plain Python `.py` script file."
   ]
  },
  {
   "cell_type": "code",
   "execution_count": null,
   "metadata": {
    "deletable": false,
    "editable": false,
    "nbgrader": {
     "cell_type": "code",
     "checksum": "20a9d31cdfeff2bd429d9d15a45f1270",
     "grade": false,
     "grade_id": "cell-7cd8e25a4068bb49",
     "locked": true,
     "schema_version": 3,
     "solution": false,
     "task": false
    }
   },
   "outputs": [],
   "source": [
    "#this will only work running on the original notebook on the cloud service\n",
    "import sys\n",
    "sys.path.append('.checks/')\n",
    "import check04\n",
    "check04.test(newton, sinc)"
   ]
  }
 ],
 "metadata": {
  "hide_input": false,
  "kernelspec": {
   "display_name": "Python 3",
   "language": "python",
   "name": "python3"
  },
  "language_info": {
   "codemirror_mode": {
    "name": "ipython",
    "version": 3
   },
   "file_extension": ".py",
   "mimetype": "text/x-python",
   "name": "python",
   "nbconvert_exporter": "python",
   "pygments_lexer": "ipython3",
   "version": "3.7.10"
  },
  "toc": {
   "base_numbering": 1,
   "nav_menu": {},
   "number_sections": true,
   "sideBar": true,
   "skip_h1_title": false,
   "title_cell": "Table of Contents",
   "title_sidebar": "Contents",
   "toc_cell": false,
   "toc_position": {},
   "toc_section_display": true,
   "toc_window_display": false
  }
 },
 "nbformat": 4,
 "nbformat_minor": 1
}
