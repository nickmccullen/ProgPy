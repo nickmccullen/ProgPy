{
 "cells": [
  {
   "cell_type": "markdown",
   "metadata": {},
   "source": [
    "### **Problem:** You have over-written the function `mean()` with a variable called `mean` (which is a float), and these cannot be called as a function.\n",
    "\n",
    "#### **Solution:** 1: Use a different name for our mean"
   ]
  },
  {
   "cell_type": "code",
   "execution_count": 1,
   "metadata": {},
   "outputs": [
    {
     "name": "stdout",
     "output_type": "stream",
     "text": [
      "1.8\n",
      "4.666666666666667\n"
     ]
    }
   ],
   "source": [
    "from numpy import mean\n",
    "\n",
    "a = [1.0, 2.0, 3.0, 2.0, 1.0]\n",
    "meanval = sum(a)/len(a)\n",
    "print(meanval)\n",
    "\n",
    "b = [2.0, 5.0, 7.0]\n",
    "\n",
    "print(mean(b))"
   ]
  },
  {
   "cell_type": "markdown",
   "metadata": {},
   "source": [
    "#### **Solution:** 2: import numpy as np and use `np.mean`"
   ]
  },
  {
   "cell_type": "code",
   "execution_count": 2,
   "metadata": {},
   "outputs": [
    {
     "name": "stdout",
     "output_type": "stream",
     "text": [
      "1.8\n",
      "4.666666666666667\n"
     ]
    }
   ],
   "source": [
    "import numpy as np\n",
    "\n",
    "a = [1.0, 2.0, 3.0, 2.0, 1.0]\n",
    "mean = sum(a)/len(a)\n",
    "print(mean)\n",
    "\n",
    "b = [2.0, 5.0, 7.0]\n",
    "\n",
    "print(np.mean(b))"
   ]
  }
 ],
 "metadata": {
  "kernelspec": {
   "display_name": "Python 3",
   "language": "python",
   "name": "python3"
  },
  "language_info": {
   "codemirror_mode": {
    "name": "ipython",
    "version": 3
   },
   "file_extension": ".py",
   "mimetype": "text/x-python",
   "name": "python",
   "nbconvert_exporter": "python",
   "pygments_lexer": "ipython3",
   "version": "3.8.3"
  }
 },
 "nbformat": 4,
 "nbformat_minor": 4
}
