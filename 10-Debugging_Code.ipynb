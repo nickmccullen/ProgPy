{
 "cells": [
  {
   "cell_type": "markdown",
   "metadata": {
    "deletable": false,
    "editable": false,
    "nbgrader": {
     "cell_type": "markdown",
     "checksum": "39572ad44eabf29de013ea2a4503d4a6",
     "grade": false,
     "grade_id": "cell-e16f08659cce93ea",
     "locked": true,
     "schema_version": 3,
     "solution": false,
     "task": false
    }
   },
   "source": [
    "Be sure to do all exercises and run all completed code cells. \n",
    "\n",
    "If anything goes wrong, **restart the kernel** (in the menubar, select Kernel$\\rightarrow$Restart)."
   ]
  },
  {
   "cell_type": "markdown",
   "metadata": {
    "deletable": false,
    "editable": false,
    "nbgrader": {
     "cell_type": "markdown",
     "checksum": "20ed87f59d5261edc30851961107ec8c",
     "grade": false,
     "grade_id": "cell-50b9cb0b3970f0e6",
     "locked": true,
     "schema_version": 3,
     "solution": false,
     "task": false
    }
   },
   "source": [
    "---"
   ]
  },
  {
   "cell_type": "markdown",
   "metadata": {
    "deletable": false,
    "editable": false,
    "nbgrader": {
     "cell_type": "markdown",
     "checksum": "914fe2b076970b624dc0d5824cfe800c",
     "grade": false,
     "grade_id": "cell-80b99a11e7e8917e",
     "locked": true,
     "schema_version": 3,
     "solution": false,
     "task": false
    }
   },
   "source": [
    "# Debugging Code"
   ]
  },
  {
   "cell_type": "markdown",
   "metadata": {
    "deletable": false,
    "editable": false,
    "nbgrader": {
     "cell_type": "markdown",
     "checksum": "5e3fe3e3cd3f66fa1fbbfb347cae033d",
     "grade": false,
     "grade_id": "cell-7860421a2bb5c4ed",
     "locked": true,
     "schema_version": 3,
     "solution": false,
     "task": false
    }
   },
   "source": [
    "Read these notes then try to debug the Task code at the bottom.\n",
    "\n",
    "These notes will be useful to help you debug your own code in your projects.\n",
    "\n",
    "## What is debugging?\n",
    "\n",
    "Adapted from: [http://www.openbookproject.net/thinkcs/python/english2e/](http://www.openbookproject.net/thinkcs/python/english2e/).\n",
    "\n",
    "Programming errors are called\n",
    "**bugs** and the process of tracking them down and correcting them is called\n",
    "**debugging**.  \n",
    "\n",
    "## Experimental debugging\n",
    "\n",
    "One of the most important skills to master is debugging.  It can be frustrating, debugging is one of the most rewarding parts of programming in terms of what you learn.\n",
    "\n",
    "Debugging is like detective work. You are given clues\n",
    "and you have to work out what led to the results you see.\n",
    "You should treat writing a program like experimental science. Once you have an idea what is\n",
    "going wrong, you modify your program and try again. If your hypothesis was\n",
    "correct, then you can predict the result of the modification, and you take a\n",
    "step closer to a working program. \n",
    "\n",
    "For some people, programming and debugging are the same thing. That is,\n",
    "programming is the process of gradually debugging a program until it does what\n",
    "you want. The idea is that **you should start with a program that does\n",
    "*something* and make small modifications, debugging them as you go, so that you\n",
    "always have a working program** (always save version backups)."
   ]
  },
  {
   "cell_type": "markdown",
   "metadata": {
    "deletable": false,
    "editable": false,
    "nbgrader": {
     "cell_type": "markdown",
     "checksum": "edbc73211eabd2ff180cd6177ae71794",
     "grade": false,
     "grade_id": "cell-12459c8a7f99895e",
     "locked": true,
     "schema_version": 3,
     "solution": false,
     "task": false
    }
   },
   "source": [
    "## Error Messages\n",
    "\n",
    "Sometimes error messages can be very long, as they trace their way through a cascade of failures the original error caused in various modules and functions.\n",
    "\n",
    "The most important lines are (a) near the top of the message, where the original error in your code is often identified, and (b) at the bottom, where the type of error it resulted in is listed. Any lines in between this are intermediate errors and less informative to you.\n",
    "\n",
    "In the example *traceback* below the error was on line 10 of the code (`m = np.mean(\"hello\")`) and the resulting category of error is at the bottom (`TypeError`) after making its way through the functions in the numpy module.\n",
    "\n",
    "___\n",
    "```python\n",
    "---------------------------------------------------------------------------\n",
    "TypeError                                 Traceback (most recent call last)\n",
    "<ipython-input-10-6157279637b3> in <module>()\n",
    "      8 b = [2.0, 5.0, 7.0]\n",
    "      9 \n",
    "---> 10 m = np.mean(\"data\")\n",
    "\n",
    "~/anaconda3/lib/python3.6/site-packages/numpy/core/fromnumeric.py in mean(a, axis, dtype, out, keepdims)\n",
    "   2907 \n",
    "   2908     return _methods._mean(a, axis=axis, dtype=dtype,\n",
    "-> 2909                           out=out, **kwargs)\n",
    "   2910 \n",
    "   2911 \n",
    "\n",
    "~/anaconda3/lib/python3.6/site-packages/numpy/core/_methods.py in _mean(a, axis, dtype, out, keepdims)\n",
    "     68             is_float16_result = True\n",
    "     69 \n",
    "---> 70     ret = umr_sum(arr, axis, dtype, out, keepdims)\n",
    "     71     if isinstance(ret, mu.ndarray):\n",
    "     72         ret = um.true_divide(\n",
    "\n",
    "TypeError: cannot perform reduce with flexible type\n",
    "\n",
    "```\n",
    "___\n",
    "\n",
    "- After a bit of investigation the error is found to be trying to give the wrong data type (a string) to the `np.mean` function."
   ]
  },
  {
   "cell_type": "markdown",
   "metadata": {
    "deletable": false,
    "editable": false,
    "nbgrader": {
     "cell_type": "markdown",
     "checksum": "48c959fb0d0a1b76ebd4860fedbde261",
     "grade": false,
     "grade_id": "cell-183208af4563e205",
     "locked": true,
     "schema_version": 3,
     "solution": false,
     "task": false
    }
   },
   "source": [
    "## My program doesn't work!\n",
    "\n",
    "\n",
    "You should ask yourself these questions:\n",
    "\n",
    "1. Is there something the program was supposed to do but which doesn't\n",
    "   seem to be happening? Find the section of the code that performs that\n",
    "   function and make sure it is executing when you think it should.\n",
    "2. Is something happening that shouldn't? Find code in your program\n",
    "   that performs that function and see if it is executing when it\n",
    "   shouldn't.\n",
    "3. Is a section of code producing an effect that is not what you\n",
    "   expected? Make sure that you understand the code in question,\n",
    "   especially if it involves using functions or methods from other\n",
    "   Python modules. Read the documentation for the functions you import and use.\n",
    "   Try them out by writing simple test cases and checking the results.\n",
    "\n",
    "\n",
    "In order to program, you need to have a mental model of how programs\n",
    "work. If you write a program that doesn't do what you expect, very\n",
    "often the problem is not in the program; it's in your mental model.\n",
    "\n",
    "The best way to correct your mental model is to break the program into\n",
    "its components (usually the functions and methods) and test each\n",
    "component independently. Once you find the discrepancy between your\n",
    "model and reality, you can solve the problem.\n",
    "\n",
    "Of course, you should be building and testing components as you\n",
    "develop the program. If you encounter a problem, there should be only\n",
    "a small amount of new code that is not known to be correct.\n",
    "\n",
    "###  Rubber duck debugging \n",
    "\n",
    "From: [[http://en.wikipedia.org/wiki/Rubber_duck_debugging](http://en.wikipedia.org/wiki/Rubber_duck_debugging)]\n",
    "\n",
    "Rubber duck debugging is an informal term used in software engineering for a method of debugging code. The name is a reference to a story in the book The Pragmatic Programmer in which a programmer would carry around a rubber duck and debug their code by forcing themselves to explain it, line-by-line, to the duck. Many other terms exist for this technique, often involving different inanimate objects.\n",
    "\n",
    "### Simplifying big equations (or compound Python statement) that don't do what you expect\n",
    "\n",
    "Writing complex expressions is fine as long as they are readable, but\n",
    "they can be hard to debug. It is often a good idea to break a complex\n",
    "expression into a series of simpler lines containing temporary variables.\n",
    "\n",
    "For example:\n",
    "```python\n",
    "print(\"Mean = {}\".format(sum(arrayname)/len(arrayname)))\n",
    "```\n",
    "is simpler to read as:\n",
    "```python\n",
    "sumvalues=sum(arrayname)\n",
    "N=len(arrayname)\n",
    "meanval=sumvalues/N\n",
    "meanstr = f\"Mean = {meanval}\"\n",
    "print(meanstr)\n",
    "```\n",
    "\n",
    "Another problem that can occur with big expressions is that the order of\n",
    "evaluation may not be what you expect. For example, if you are translating the\n",
    "expression ``x/2pi`` into Python, you might write:\n",
    "\n",
    "```python\n",
    "y = x / 2 * math.pi\n",
    "```\n",
    "\n",
    "That is not correct because multiplication and division have the same\n",
    "precedence and are evaluated from left to right. So this expression computes\n",
    "``(x/2)pi``.\n",
    "\n",
    "A good way to debug expressions is to add parentheses to make the order of\n",
    "evaluation explicit:\n",
    "\n",
    "```python\n",
    "y = x / (2 * math.pi)\n",
    "```\n",
    "\n",
    "Whenever you are not sure of the order of evaluation, use brackets.  Not\n",
    "only will the program be correct (in the sense of doing what you intended), it\n",
    "will also be more readable for other people."
   ]
  },
  {
   "cell_type": "markdown",
   "metadata": {
    "deletable": false,
    "editable": false,
    "nbgrader": {
     "cell_type": "markdown",
     "checksum": "8e8d02d230ebc8be8666968c2770521d",
     "grade": false,
     "grade_id": "cell-4931180ed1444d00",
     "locked": true,
     "schema_version": 3,
     "solution": false,
     "task": false
    }
   },
   "source": [
    "### KISS (Keep it Simple, Stupid)\n",
    "\n",
    "As you build it up, the modifications to your program should be as simple as possible, and you should be\n",
    "working on the smallest input that causes the error. You should have ``print``\n",
    "functions in the appropriate places (and the output they produce should be\n",
    "comprehensible). You should understand the problem well enough to describe it\n",
    "concisely."
   ]
  },
  {
   "cell_type": "markdown",
   "metadata": {
    "deletable": false,
    "editable": false,
    "nbgrader": {
     "cell_type": "markdown",
     "checksum": "a1fcb0bfd898db24b51907eaf9f34f3b",
     "grade": false,
     "grade_id": "cell-f46e2e193b06e917",
     "locked": true,
     "schema_version": 3,
     "solution": false,
     "task": false
    }
   },
   "source": [
    "### You can't get the program to run no matter what you do.\n",
    "\n",
    "If this happens, one approach is to start again with a new program like \"Hello\n",
    "World!\", and make sure you can get a known program to run.  Then gradually add\n",
    "the pieces of the new program to the working one."
   ]
  },
  {
   "cell_type": "markdown",
   "metadata": {
    "deletable": false,
    "editable": false,
    "nbgrader": {
     "cell_type": "markdown",
     "checksum": "d8e554f7af3232d3e4d9c70496781674",
     "grade": false,
     "grade_id": "cell-a216ad72dd7ba63a",
     "locked": true,
     "schema_version": 3,
     "solution": false,
     "task": false
    }
   },
   "source": [
    "## Tracing Different Types of Error\n",
    "\n",
    "Three kinds of errors can occur in a program: \n",
    "\n",
    "1. **syntax** errors [[http://en.wikipedia.org/wiki/Syntax_error](http://en.wikipedia.org/wiki/Syntax_error)], \n",
    "2. **runtime** errors [[http://en.wikipedia.org/wiki/Runtime_error](http://en.wikipedia.org/wiki/Syntax_error)], and \n",
    "3. **semantic** errors [[http://en.wikipedia.org/wiki/Logic_error](http://en.wikipedia.org/wiki/Syntax_error)].  "
   ]
  },
  {
   "cell_type": "markdown",
   "metadata": {
    "deletable": false,
    "editable": false,
    "nbgrader": {
     "cell_type": "markdown",
     "checksum": "dce81db313be0a747602090f58819e44",
     "grade": false,
     "grade_id": "cell-c9df1dcbef85aaa0",
     "locked": true,
     "schema_version": 3,
     "solution": false,
     "task": false
    }
   },
   "source": [
    "### Syntax errors\n",
    "\n",
    "Syntax errors are usually easy to fix once you figure out what they are.\n",
    "The error message tells you where in the program the Python noticed a problem.\n",
    "However, sometimes the real error is before to the location of\n",
    "the error message, often on the preceding line.\n",
    "\n",
    "If you are copying code from another example, start by comparing your code to the original very carefully. Check every character. At the same time, remember that the source code might be wrong, so if you see something that looks like a syntax error, it\n",
    "might be.\n",
    "\n",
    "Here are some ways to avoid the most common syntax errors:\n",
    " \n",
    "1. Make sure you do not use a built-in Python keyword or function for a variable name:\n",
    "    * e.g.: `for, sum, print,...` \n",
    "2. Check that you have a colon (`:`) before indented code blocks including after ``for``, ``while``, ``if``, and ``def`` statements.\n",
    "3. Check that indentation is consistent. You may indent with either spaces or\n",
    "   tabs but it's best not to mix them. Each level should be indented by the same\n",
    "   amount.\n",
    "4. Make sure that any strings in the code have matching quotation marks (E.g.: `\"Hello'` is wrong)\n",
    "    * If you have multiline strings with triple quotes, make\n",
    "   sure you have ended the string properly. \n",
    "    * A string that is not closed correctly may\n",
    "   cause an ``invalid token`` error at the end of your program, or it may treat\n",
    "   the following part of the program as a string until it comes to the next\n",
    "   string. \n",
    "       - In the second case, it might not produce an error message at all!\n",
    "6. An unclosed bracket --- (, {, or [ --- makes Python continue with the next\n",
    "   line as part of the current statement. Generally, an error occurs almost\n",
    "   immediately in the *next* line.\n",
    "7. Check for the classic ``=`` instead of ``==`` inside a conditional.\n",
    "    * `if a=0:` is incorrect; it should be `if a==0:`"
   ]
  },
  {
   "cell_type": "markdown",
   "metadata": {
    "deletable": false,
    "editable": false,
    "nbgrader": {
     "cell_type": "markdown",
     "checksum": "5e1a560d275e3e6c8cd4b5f7306bc155",
     "grade": false,
     "grade_id": "cell-dd0321abeca0e709",
     "locked": true,
     "schema_version": 3,
     "solution": false,
     "task": false
    }
   },
   "source": [
    "#### Exercise: Correct the syntax error below."
   ]
  },
  {
   "cell_type": "code",
   "execution_count": null,
   "metadata": {},
   "outputs": [],
   "source": [
    "from math import pi\n",
    "\n",
    "#size\n",
    "d = 12\n",
    "\n",
    "#radius\n",
    "z = d/2\n",
    "\n",
    "#calculate area: pi r^2\n",
    "pi*z*z=a\n",
    "\n",
    "print(a)"
   ]
  },
  {
   "cell_type": "markdown",
   "metadata": {
    "deletable": false,
    "editable": false,
    "nbgrader": {
     "cell_type": "markdown",
     "checksum": "d972a20ac4aea7fd7e7ec0d7e676fefc",
     "grade": false,
     "grade_id": "cell-53985973aa890467",
     "locked": true,
     "schema_version": 3,
     "solution": false,
     "task": false
    }
   },
   "source": [
    "### Runtime errors\n",
    "\n",
    "Once your program is syntactically correct, Python can at least\n",
    "start running it. What could possibly go wrong?\n",
    "\n",
    "#### Inserting `print` functions\n",
    "\n",
    "One of the  most useful things you can do to help trace errors that occur while the program runs (both *runtime* and *semantic* errors is to insert lots of `print` functions to try to figure out where the error occurs and what is going wrong.\n",
    "\n",
    "For example you can insert `print(\"here\", NUMBER)` with different numbers to see in the output which parts of the program are being executed. "
   ]
  },
  {
   "cell_type": "markdown",
   "metadata": {
    "deletable": false,
    "editable": false,
    "nbgrader": {
     "cell_type": "markdown",
     "checksum": "f8fdc02d3e7acae64b93602161692ea6",
     "grade": false,
     "grade_id": "cell-26cabebe8683ec84",
     "locked": true,
     "schema_version": 3,
     "solution": false,
     "task": false
    }
   },
   "source": [
    "#### Your program hangs.\n",
    "\n",
    "If a program stops and seems to be doing nothing, we say it is *\"hanging\"*. Often\n",
    "that means that it is caught in an infinite loop.\n",
    "\n",
    "1. If there is a particular loop that you suspect is the problem, add a\n",
    "   ``print`` statement immediately before the loop that says entering the loop\n",
    "   and another immediately after that says exiting the loop.\n",
    "2. Run the program. If you get the first message and not the second, you've got\n",
    "   an infinite loop. Go to the **Infinite Loop** section below.\n",
    "3. It is possible that you don't understand the order which functions are being run\n",
    "   in your program. Go to the **Flow of Execution** section below."
   ]
  },
  {
   "cell_type": "markdown",
   "metadata": {
    "deletable": false,
    "editable": false,
    "nbgrader": {
     "cell_type": "markdown",
     "checksum": "827ce638372640fbe17d66fd0818ad03",
     "grade": false,
     "grade_id": "cell-21c90e9ebd6598b7",
     "locked": true,
     "schema_version": 3,
     "solution": false,
     "task": false
    }
   },
   "source": [
    "#### Infinite Loop\n",
    "\n",
    "All programming and debugging require that you have a good mental \n",
    "model of what the algorithm ought to be doing. If you don't understand what \n",
    "ought to happen to ``x`` and ``y``, printing or inspecting their values is\n",
    "of little use. \n",
    "Start to debug the code by understanding what should actually be happening using pen and paper.\n",
    "\n",
    "If you think you have an infinite loop and you think you know what loop is\n",
    "causing the problem, add two things:\n",
    "\n",
    "1. a counter and a `break` statement to get you out of the loop after a set number of iterations.\n",
    "2. a ``print`` statement at the end of the loop that\n",
    "prints the values of the variables in the condition and the value of the\n",
    "condition.\n",
    "\n",
    "For example:"
   ]
  },
  {
   "cell_type": "code",
   "execution_count": null,
   "metadata": {
    "deletable": false,
    "editable": false,
    "nbgrader": {
     "cell_type": "code",
     "checksum": "5adb69ce31ef590c033a31fd5e64cd37",
     "grade": false,
     "grade_id": "cell-18cf196d2aa79c45",
     "locked": true,
     "schema_version": 3,
     "solution": false,
     "task": false
    }
   },
   "outputs": [],
   "source": [
    "x=1\n",
    "y=-1\n",
    "i=0\n",
    "while x > 0 and y < 0:\n",
    "    # Do something to x\n",
    "    # Do something to y\n",
    "    print(\"x: \", x),\n",
    "    print(\"y: \", y),\n",
    "    print(\"condition: \", (x > 0 and y < 0))\n",
    "    i=i+1\n",
    "    if i > 5: break\n",
    "print(i)"
   ]
  },
  {
   "cell_type": "markdown",
   "metadata": {
    "deletable": false,
    "editable": false,
    "nbgrader": {
     "cell_type": "markdown",
     "checksum": "65cd3874125279ed02bfbb17215957f5",
     "grade": false,
     "grade_id": "cell-84d30a90d04f86c6",
     "locked": true,
     "schema_version": 3,
     "solution": false,
     "task": false
    }
   },
   "source": [
    "Now when you run the program, you will see a lines of output for each time\n",
    "through the loop. If the loop exits correctly, the condition should be\n",
    "``False``. If the loop keeps going, you will be able to see the values of ``x``\n",
    "and ``y``, and you might figure out why they are not being updated correctly.\n",
    " "
   ]
  },
  {
   "cell_type": "markdown",
   "metadata": {
    "deletable": false,
    "editable": false,
    "nbgrader": {
     "cell_type": "markdown",
     "checksum": "e47b9229e11aad76836f5fa0756561cc",
     "grade": false,
     "grade_id": "cell-c1062b6a9a45c9e4",
     "locked": true,
     "schema_version": 3,
     "solution": false,
     "task": false
    }
   },
   "source": [
    "#### Flow of Execution\n",
    "\n",
    "The *\"flow of execution\"* is the order that different parts of the code are performed.\n",
    "For example it is not always obvious when different functions will be used, or when conditional loops are or are not used. \n",
    "\n",
    "If you are not sure how the *flow of execution* is moving through your program,\n",
    "add ``print`` function to the beginning of each function with a message like\n",
    "\n",
    "```python\n",
    "print(\"entering function FNAME\")\n",
    "```\n",
    "where ``FNAME`` is the name of the function.\n",
    "\n",
    "Now when you run the program, it will print a *trace* of each function as it is\n",
    "used."
   ]
  },
  {
   "cell_type": "markdown",
   "metadata": {
    "deletable": false,
    "editable": false,
    "nbgrader": {
     "cell_type": "markdown",
     "checksum": "d5021131dc9ffd676db6977c6bb813fc",
     "grade": false,
     "grade_id": "cell-9fb361584b83c932",
     "locked": true,
     "schema_version": 3,
     "solution": false,
     "task": false
    }
   },
   "source": [
    "#### Running the program results in an *exception*.\n",
    "\n",
    "If something goes wrong while the program is running, Python prints a message that includes\n",
    "the name of the exception, the line of the program where the problem occurred,\n",
    "and a so-called *\"traceback\"*.\n",
    "\n",
    "The first step is to examine the place in the program where the error occurred\n",
    "and see if you can figure out what happened. These are some of the most common\n",
    "runtime errors:\n",
    "\n",
    "* NameError\n",
    "    * You are trying to use a variable that doesn't exist in the current\n",
    "    environment. Remember that variables are *local* to functions. You cannot refer to\n",
    "    them from outside the function where they are defined.\n",
    "\n",
    "* TypeError\n",
    "    * There are several possible causes:\n",
    "        1. You are trying to use a value improperly. \n",
    "            * Example: indexing a string or list with something other than an integer.\n",
    "        2. There is a mismatch between the items in a `.format` string and the items passed for conversion. \n",
    "            * This can happen if either the number of items does not match or an invalid conversion is used.\n",
    "        3. You are passing the wrong number of arguments to a function or\n",
    "           method. For \"DOT\" methods, look at the `help()` for the method. \n",
    "           Look at how the method should be used; make\n",
    "           sure you are using the method on an object (variable or function) with the right *type* and\n",
    "           providing the other arguments correctly.\n",
    "\n",
    "* KeyError\n",
    "    * You are trying to access an element of a *dictionary* using a key value that\n",
    "    the dictionary does not contain (look up *Python dictionaries* for more information).\n",
    "\n",
    "* AttributeError\n",
    "    * You are trying to access a \"DOT\" *attribute* or \"DOT\" *method* that does not exist, check your spelling and that you have imported the modules correctly.\n",
    "\n",
    "* IndexError\n",
    "    * The index you are using to access a list or string is greater than\n",
    "    its length minus one. \n",
    "        * Immediately before the site of the error, add a\n",
    "    ``print`` statement to display the value of the index and the length of the\n",
    "    sequence. Is the sequence the right size? Is the index the right value?\n",
    "\n",
    "\n",
    "#### Lots of ``print`` functions results in too much output.\n",
    "\n",
    "To simplify the output, you can remove or comment out ``print``\n",
    "statements that aren't helping, or combine them, or format the output\n",
    "so it is easier to understand.\n",
    "\n",
    "To simplify the program, there are several things you can do. First,\n",
    "scale down the problem the program is working on. For example, if you\n",
    "are sorting a sequence, sort a *small* sequence. If the program takes input\n",
    "from the user, give it the simplest input that causes the problem.\n",
    "\n",
    "Often the process of finding the minimal test case leads you to the\n",
    "bug. If you find that a program works in one situation but not in\n",
    "another, that gives you a clue about what is going on."
   ]
  },
  {
   "cell_type": "markdown",
   "metadata": {
    "deletable": false,
    "editable": false,
    "nbgrader": {
     "cell_type": "markdown",
     "checksum": "5ae30612bc1306736b82f004fadbcf40",
     "grade": false,
     "grade_id": "cell-500a74051910eba9",
     "locked": true,
     "schema_version": 3,
     "solution": false,
     "task": false
    }
   },
   "source": [
    "#### Exercise: Correct the runtime error below, using the error message (and a bit of thought / online searching) for help."
   ]
  },
  {
   "cell_type": "code",
   "execution_count": null,
   "metadata": {},
   "outputs": [],
   "source": [
    "from numpy import mean, sum\n",
    "\n",
    "a = [1.0, 2.0, 3.0, 2.0, 1.0]\n",
    "mean = sum(a)/len(a)\n",
    "print(mean)\n",
    "\n",
    "b = [2.0, 5.0, 7.0]\n",
    "\n",
    "print(mean(b))"
   ]
  },
  {
   "cell_type": "markdown",
   "metadata": {
    "deletable": false,
    "editable": false,
    "nbgrader": {
     "cell_type": "markdown",
     "checksum": "09a9ae06bd1e1a13418597d3662036bd",
     "grade": false,
     "grade_id": "cell-08704cebd9f85eca",
     "locked": true,
     "schema_version": 3,
     "solution": false,
     "task": false
    }
   },
   "source": [
    "Hint 1: The error is saying that you are trying to use (*\"call\"*) a `float` as if it is a function.\n",
    "\n",
    "---\n",
    "\n",
    "[Solution: Click here](solutions/sol1001.ipynb)\n",
    "\n",
    "---"
   ]
  },
  {
   "cell_type": "markdown",
   "metadata": {
    "deletable": false,
    "editable": false,
    "nbgrader": {
     "cell_type": "markdown",
     "checksum": "f2b4c1d67bbc694822b5ddc77da287d6",
     "grade": false,
     "grade_id": "cell-7e8a6d9fe17ca37a",
     "locked": true,
     "schema_version": 3,
     "solution": false,
     "task": false
    }
   },
   "source": [
    "A similar error is overwriting the print function:\n",
    "```python\n",
    "print = \"This is what I want to print.\"\n",
    "\n",
    "output = \"Actually I'll print this instead.\"\n",
    "\n",
    "print(output)\n",
    "```\n",
    "\n",
    "`Output:`\n",
    "```python\n",
    "---------------------------------------------------------------------------\n",
    "TypeError                                 Traceback (most recent call last)\n",
    "<ipython-input-10-d347daba1296> in <module>\n",
    "      3 output = \"Actually I'll print this instead.\"\n",
    "      4 \n",
    "----> 5 print(output)\n",
    "\n",
    "TypeError: 'str' object is not callable\n",
    "```"
   ]
  },
  {
   "cell_type": "markdown",
   "metadata": {
    "deletable": false,
    "editable": false,
    "nbgrader": {
     "cell_type": "markdown",
     "checksum": "ddef762b0e51097ea86df964e087c8c4",
     "grade": false,
     "grade_id": "cell-2b95748cb70d4ac9",
     "locked": true,
     "schema_version": 3,
     "solution": false,
     "task": false
    }
   },
   "source": [
    "* After the first line `print` has become a variable holding a string, so it cannot be called as a function.\n",
    "* The simplest way to cure this is to restart the Python kernel (after correcting the error)."
   ]
  },
  {
   "cell_type": "markdown",
   "metadata": {
    "deletable": false,
    "editable": false,
    "nbgrader": {
     "cell_type": "markdown",
     "checksum": "af8f063a2bf2e7dbfd1d9192ae511144",
     "grade": false,
     "grade_id": "cell-f2d38e213a6e62d4",
     "locked": true,
     "schema_version": 3,
     "solution": false,
     "task": false
    }
   },
   "source": [
    "### Semantic errors\n",
    "\n",
    "*Semantic errors* are errors in the logic of the task you are trying to perform. These could be incorrect calculations or using conditionals incorrectly.\n",
    "\n",
    "Semantic errors can be the hardest type of error to track down. If there is a semantic error\n",
    "in your program, the computer will not generate any error messages but it will not do the right thing. It will do\n",
    "exactly what you told it to do, even if this is wrong!\n",
    "\n",
    "The problem is that the program you wrote is not the program you wanted to\n",
    "write. Identifying semantic errors can be tricky because it requires you to work backward by\n",
    "looking at the output of the program and trying to figure out what it is doing.\n",
    "\n",
    "Inserting a few well-placed ``print`` statements, showing the steps of calculations and how variables change, and comparing them to what you expect from hand calculations can be a very effective way of debugging."
   ]
  },
  {
   "cell_type": "markdown",
   "metadata": {
    "deletable": false,
    "editable": false,
    "nbgrader": {
     "cell_type": "markdown",
     "checksum": "c859b8984aa65967138c9646879af85d",
     "grade": false,
     "grade_id": "cell-f27696fd6f86243a",
     "locked": true,
     "schema_version": 3,
     "solution": false,
     "task": false
    }
   },
   "source": [
    "#### Exercise: The code below runs without giving an error message, but the answer is wrong... \n",
    "\n",
    "1. Insert some `print` functions to trace what each step is doing. You may need to move them around a bit until they are in the correct place to be the most use.\n",
    "2. Work out how you would perform the steps and the numbers you would expect and compare this to the output."
   ]
  },
  {
   "cell_type": "code",
   "execution_count": null,
   "metadata": {},
   "outputs": [],
   "source": [
    "#find the minimum absolute value of a list\n",
    "\n",
    "data = [6, 1, -10, -7, 0, 6, -9, 7, 1, -2]\n",
    "\n",
    "lowest = 1e100 #set to a very big number (a \"googol\": 1x10^100)\n",
    "\n",
    "#iterate through the data\n",
    "for d in data:\n",
    "    #if it's positive and less than the lowest so far\n",
    "    if d > 0 and d < lowest: \n",
    "        #replace the lowest so far with the current value\n",
    "        lowest = d \n",
    "    if d < 0:#if less than zero\n",
    "        #negate \n",
    "        d = -d\n",
    "        if d < lowest:\n",
    "            lowest = d\n",
    "            \n",
    "print(lowest)"
   ]
  },
  {
   "cell_type": "markdown",
   "metadata": {
    "deletable": false,
    "editable": false,
    "nbgrader": {
     "cell_type": "markdown",
     "checksum": "75773a2d4af7cad30cdf2405ccff9ac9",
     "grade": false,
     "grade_id": "cell-eaade439f7722645",
     "locked": true,
     "schema_version": 3,
     "solution": false,
     "task": false
    }
   },
   "source": [
    "[Example code with print functions](solutions/sol1002.ipynb)\n",
    "\n",
    "* Do this first then try to debug the code.\n"
   ]
  },
  {
   "cell_type": "markdown",
   "metadata": {
    "deletable": false,
    "editable": false,
    "nbgrader": {
     "cell_type": "markdown",
     "checksum": "35c0edfe7bcf5093de6946d387d7f33c",
     "grade": false,
     "grade_id": "cell-77f7fe88df6a7697",
     "locked": true,
     "schema_version": 3,
     "solution": false,
     "task": false
    }
   },
   "source": [
    "[Solution code here](solutions/sol1003.ipynb)"
   ]
  },
  {
   "cell_type": "markdown",
   "metadata": {
    "deletable": false,
    "editable": false,
    "nbgrader": {
     "cell_type": "markdown",
     "checksum": "5ba4e3074a87db5ba1deafdb9675cc9d",
     "grade": false,
     "grade_id": "cell-cd5bd7880f74fa6f",
     "locked": true,
     "schema_version": 3,
     "solution": false,
     "task": false
    }
   },
   "source": [
    "# Weekly Task 9\n",
    "\n",
    "## Debugging Code\n",
    "\n",
    "    \n",
    "### The Task\n",
    "    \n",
    "The following code was written to solve the problem below in the appendix, but contains several errors.\n",
    "(Commenting the code to match the steps in the method and understand all other steps will help you debug the code).\n",
    "\n",
    "The correct output should be a figure like this, saved to your working folder as `\"integral.png\"`\n",
    "![](Figures/errfn.png)\n",
    "\n",
    "* **Run the code** and *use the error messages* **one at a time** to debug the code so that it runs correctly and produces the graph shown above.\n",
    "* Submit your Python `.py` file containing the corrected code (make sure it produces the correct graph and the gvals array is called `gvals`!).\n",
    "\n"
   ]
  },
  {
   "cell_type": "code",
   "execution_count": null,
   "metadata": {
    "deletable": false,
    "editable": false,
    "nbgrader": {
     "cell_type": "code",
     "checksum": "ed4954232b548635a412de21655dd13f",
     "grade": false,
     "grade_id": "cell-327110d619aceefa",
     "locked": true,
     "schema_version": 3,
     "solution": false,
     "task": false
    }
   },
   "outputs": [],
   "source": [
    "import numpy as np\n",
    "import matplotlib.pyplot as plt\n",
    "\n",
    "def fx(x)\n",
    "    return np.exp(-x**2)\n",
    "\n",
    "#list for integral values\n",
    "gvals=[]\n",
    "\n",
    "#constant offset (would need to obtain for particular problem).\n",
    "g=0\n",
    "dx=0.1\n",
    "\n",
    "xvals=np.arange(0,3,dx)\n",
    "for x in xvals:\n",
    "g=g+fx(x)*dx\n",
    "\n",
    "      gvals=gvals+[g\n",
    "\n",
    "plt.plot(xvals, yvals,\"-o\")\n",
    "                   \n",
    "#save the figure file as a png image\n",
    "plt.shavefig(integral.png)\n",
    "plt.show()"
   ]
  },
  {
   "cell_type": "markdown",
   "metadata": {
    "deletable": false,
    "editable": false,
    "nbgrader": {
     "cell_type": "markdown",
     "checksum": "62fa94a2cb3e9d35ea8c5a2ac8462142",
     "grade": false,
     "grade_id": "cell-d2312ea73c21241e",
     "locked": true,
     "schema_version": 3,
     "solution": false,
     "task": false
    }
   },
   "source": [
    "### Cut and paste the above code into the cell below to debug it:"
   ]
  },
  {
   "cell_type": "code",
   "execution_count": null,
   "metadata": {
    "deletable": false,
    "nbgrader": {
     "cell_type": "code",
     "checksum": "ffd10216d54be35f85e85a476f0ad911",
     "grade": true,
     "grade_id": "cell-d9560d182b631743",
     "locked": false,
     "points": 0,
     "schema_version": 3,
     "solution": true,
     "task": false
    }
   },
   "outputs": [],
   "source": [
    "# YOUR CODE HERE"
   ]
  },
  {
   "cell_type": "markdown",
   "metadata": {
    "deletable": false,
    "editable": false,
    "nbgrader": {
     "cell_type": "markdown",
     "checksum": "9fd8b0729f2d7b5de78e540a587b8489",
     "grade": false,
     "grade_id": "cell-cb7110db33db6c37",
     "locked": true,
     "schema_version": 3,
     "solution": false,
     "task": false
    }
   },
   "source": [
    "[Click here for some final hints!](solutions/sol1004.ipynb)\n",
    "\n",
    "* Test your `gvals` array has the correct values below:"
   ]
  },
  {
   "cell_type": "code",
   "execution_count": null,
   "metadata": {
    "deletable": false,
    "editable": false,
    "nbgrader": {
     "cell_type": "code",
     "checksum": "7b1f29772dec5425fca44ed5dc727d85",
     "grade": false,
     "grade_id": "cell-cddbab600512813a",
     "locked": true,
     "schema_version": 3,
     "solution": false,
     "task": false
    }
   },
   "outputs": [],
   "source": [
    "import sys\n",
    "sys.path.append(\".checks\")\n",
    "import check10\n",
    "\n",
    "if gvals==check10.gvals: print(\"The data passes the test! (But check there are no remaining errors)\")\n",
    "else: print(f\"Oops! gvals covers the wrong range of values. Try looking at the x-axis and your x values...\")"
   ]
  },
  {
   "cell_type": "markdown",
   "metadata": {
    "deletable": false,
    "editable": false,
    "nbgrader": {
     "cell_type": "markdown",
     "checksum": "cf93924428dfd9f896e817c21f6ed4ce",
     "grade": false,
     "grade_id": "cell-f949be52c8008062",
     "locked": true,
     "schema_version": 3,
     "solution": false,
     "task": false
    }
   },
   "source": [
    "\n",
    "---\n",
    "\n",
    "## Appendix\n",
    "\n",
    "### Practical Application of the above example: Integration using a Cumulative Sum\n",
    "\n",
    "Some functions are impossible to integrate analytically such as: \n",
    "    $$\\displaystyle g(x) = \\int \\mathrm{e}^{-x^2} \\mathrm{d}x.$$ (Try this: you will end up going round in circles!)\n",
    "\n",
    "* We can Numerically Integrate $g(x)$ using:\n",
    "$$\\int\\limits_a^b f(x) \\mathrm{d}x \\approx g_0 + \\sum\\limits_{x=a}^{b} f(x) \\delta x,$$\n",
    "with from some *initial* $g_0$ (given by the particular application).\n",
    "* In this case it is just the *sum of small areas* under $f(x)$, similar to the trapezium rule (or a cumulative sum).\n",
    "\n",
    "### Exercise: Comment the code above so you understand what all the steps are doing."
   ]
  }
 ],
 "metadata": {
  "hide_input": false,
  "kernelspec": {
   "display_name": "Python 3",
   "language": "python",
   "name": "python3"
  },
  "language_info": {
   "codemirror_mode": {
    "name": "ipython",
    "version": 3
   },
   "file_extension": ".py",
   "mimetype": "text/x-python",
   "name": "python",
   "nbconvert_exporter": "python",
   "pygments_lexer": "ipython3",
   "version": "3.8.3"
  },
  "toc": {
   "base_numbering": 1,
   "nav_menu": {},
   "number_sections": true,
   "sideBar": true,
   "skip_h1_title": false,
   "title_cell": "Table of Contents",
   "title_sidebar": "Contents",
   "toc_cell": false,
   "toc_position": {},
   "toc_section_display": true,
   "toc_window_display": false
  }
 },
 "nbformat": 4,
 "nbformat_minor": 1
}
