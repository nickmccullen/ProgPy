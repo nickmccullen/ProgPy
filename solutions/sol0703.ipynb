{
 "cells": [
  {
   "cell_type": "markdown",
   "metadata": {},
   "source": [
    "### If running in the main lesson Notebook:"
   ]
  },
  {
   "cell_type": "code",
   "execution_count": null,
   "metadata": {},
   "outputs": [],
   "source": [
    "oldfile = open(\"sortedfriends.txt\", \"r\")\n",
    "\n",
    "contents = oldfile.readlines()\n",
    "\n",
    "N = len(contents) \n",
    "\n",
    "with open(\"backwardsfriends.txt\", \"w\") as newfile:\n",
    "    for i in range(-1, -N, -1):\n",
    "        newfile.write(contents[i])\n",
    "    "
   ]
  },
  {
   "cell_type": "markdown",
   "metadata": {},
   "source": [
    "### If running in the solutions notebook:\n",
    "* need to refer to the folder above the `solutions` folder using the `../` syntax:"
   ]
  },
  {
   "cell_type": "code",
   "execution_count": null,
   "metadata": {},
   "outputs": [],
   "source": [
    "oldfile = open(\"../sortedfriends.txt\", \"r\")\n",
    "\n",
    "contents = oldfile.readlines()\n",
    "\n",
    "N = len(contents) \n",
    "\n",
    "with open(\"backwardsfriends.txt\", \"w\") as newfile:\n",
    "    for i in range(-1, -N, -1):\n",
    "        newfile.write(contents[i])"
   ]
  }
 ],
 "metadata": {
  "kernelspec": {
   "display_name": "Python 3",
   "language": "python",
   "name": "python3"
  },
  "language_info": {
   "codemirror_mode": {
    "name": "ipython",
    "version": 3
   },
   "file_extension": ".py",
   "mimetype": "text/x-python",
   "name": "python",
   "nbconvert_exporter": "python",
   "pygments_lexer": "ipython3",
   "version": "3.8.3"
  }
 },
 "nbformat": 4,
 "nbformat_minor": 4
}
