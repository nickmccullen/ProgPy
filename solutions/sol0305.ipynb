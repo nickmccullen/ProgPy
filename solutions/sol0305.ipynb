{
 "cells": [
  {
   "cell_type": "code",
   "execution_count": null,
   "metadata": {},
   "outputs": [],
   "source": [
    "def rectangle_geometry(W, H):\n",
    "    P = 2*W + 2*H\n",
    "    A = W*H\n",
    "    return P, A\n",
    "\n",
    "width=3\n",
    "height=4\n",
    "\n",
    "perimeter, area = rectangle_geometry(width, height)\n",
    "print(perimeter)\n",
    "print(area)"
   ]
  }
 ],
 "metadata": {
  "kernelspec": {
   "display_name": "Python 3",
   "language": "python",
   "name": "python3"
  },
  "language_info": {
   "codemirror_mode": {
    "name": "ipython",
    "version": 3
   },
   "file_extension": ".py",
   "mimetype": "text/x-python",
   "name": "python",
   "nbconvert_exporter": "python",
   "pygments_lexer": "ipython3",
   "version": "3.8.3"
  }
 },
 "nbformat": 4,
 "nbformat_minor": 4
}
