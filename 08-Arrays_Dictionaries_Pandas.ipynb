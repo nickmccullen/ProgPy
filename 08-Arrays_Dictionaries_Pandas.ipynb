{
 "cells": [
  {
   "cell_type": "markdown",
   "metadata": {
    "deletable": false,
    "editable": false,
    "nbgrader": {
     "cell_type": "markdown",
     "checksum": "39572ad44eabf29de013ea2a4503d4a6",
     "grade": false,
     "grade_id": "cell-e16f08659cce93ea",
     "locked": true,
     "schema_version": 3,
     "solution": false,
     "task": false
    }
   },
   "source": [
    "Be sure to do all exercises and run all completed code cells. \n",
    "\n",
    "If anything goes wrong, **restart the kernel** (in the menubar, select Kernel$\\rightarrow$Restart)."
   ]
  },
  {
   "cell_type": "markdown",
   "metadata": {
    "deletable": false,
    "editable": false,
    "nbgrader": {
     "cell_type": "markdown",
     "checksum": "20ed87f59d5261edc30851961107ec8c",
     "grade": false,
     "grade_id": "cell-50b9cb0b3970f0e6",
     "locked": true,
     "schema_version": 3,
     "solution": false,
     "task": false
    }
   },
   "source": [
    "---"
   ]
  },
  {
   "cell_type": "markdown",
   "metadata": {
    "deletable": false,
    "editable": false,
    "nbgrader": {
     "cell_type": "markdown",
     "checksum": "f7acb253c49007540832b8fdb4665af5",
     "grade": false,
     "grade_id": "cell-60e65df13614b3d8",
     "locked": true,
     "schema_version": 3,
     "solution": false,
     "task": false
    }
   },
   "source": [
    "# 2-Dimensional Arrays, Dictionaries and DataFrames\n",
    "\n",
    "Let's explore some useful data types and new ways of interacting with data.\n",
    "\n",
    "## Numpy N-D arrays\n",
    "\n",
    "[http://docs.scipy.org/doc/numpy/reference/arrays.ndarray.html](http://docs.scipy.org/doc/numpy/reference/arrays.ndarray.html)\n",
    "\n",
    "You have seen that numerical arrays from *NumPy* can be more than a one-dimensional column. There are various ways to create an array, including converting from a *list*, entering all the values by hand, or generating large arrays using special functions and loops. We can also change the individual values in arrays.\n",
    "\n",
    "Study the following examples and practice changing things and looking at the outputs to understand how things work.\n",
    "\n",
    "### Converting from a list to an array\n",
    "\n",
    "If we have all the values in a (nested) list it can be converted to a numerical array:"
   ]
  },
  {
   "cell_type": "code",
   "execution_count": null,
   "metadata": {
    "ExecuteTime": {
     "end_time": "2019-02-01T23:03:23.666355Z",
     "start_time": "2019-02-01T23:03:23.543955Z"
    },
    "deletable": false,
    "editable": false,
    "nbgrader": {
     "cell_type": "code",
     "checksum": "c24ca2afb981394244fa854003e59b62",
     "grade": false,
     "grade_id": "cell-c522b190e868bb5a",
     "locked": true,
     "schema_version": 3,
     "solution": false,
     "task": false
    }
   },
   "outputs": [],
   "source": [
    "import numpy as np\n",
    "\n",
    "mylist = [[1,2,3],[4,5,6],[7,8,9]]\n",
    "\n",
    "myarray = np.array(mylist)\n",
    "\n",
    "print(myarray)"
   ]
  },
  {
   "cell_type": "markdown",
   "metadata": {
    "deletable": false,
    "editable": false,
    "nbgrader": {
     "cell_type": "markdown",
     "checksum": "7a19513dc1dd08227c57b7b260b9d89d",
     "grade": false,
     "grade_id": "cell-da89958a0a715068",
     "locked": true,
     "schema_version": 3,
     "solution": false,
     "task": false
    }
   },
   "source": [
    "An array has a *dimension* and a  *shape*:"
   ]
  },
  {
   "cell_type": "code",
   "execution_count": null,
   "metadata": {
    "ExecuteTime": {
     "end_time": "2019-02-01T23:03:23.69036Z",
     "start_time": "2019-02-01T23:03:23.683359Z"
    },
    "deletable": false,
    "editable": false,
    "nbgrader": {
     "cell_type": "code",
     "checksum": "ab187a109c3abba6d2b9ad0a1b7d6390",
     "grade": false,
     "grade_id": "cell-e7c31944d607ba16",
     "locked": true,
     "schema_version": 3,
     "solution": false,
     "task": false
    }
   },
   "outputs": [],
   "source": [
    "print(myarray.ndim)\n",
    "print(myarray.shape)"
   ]
  },
  {
   "cell_type": "markdown",
   "metadata": {
    "deletable": false,
    "editable": false,
    "nbgrader": {
     "cell_type": "markdown",
     "checksum": "e15d7effc5c968f5e0c3086066764a19",
     "grade": false,
     "grade_id": "cell-84e79a2daa9f24c2",
     "locked": true,
     "schema_version": 3,
     "solution": false,
     "task": false
    }
   },
   "source": [
    "This means it is a 2 dimensional array, with 3 rows and 3 columns."
   ]
  },
  {
   "cell_type": "markdown",
   "metadata": {
    "deletable": false,
    "editable": false,
    "nbgrader": {
     "cell_type": "markdown",
     "checksum": "47110a4904b5729d1d3fc532cfd3663f",
     "grade": false,
     "grade_id": "cell-cf1d047bc0019b84",
     "locked": true,
     "schema_version": 3,
     "solution": false,
     "task": false
    }
   },
   "source": [
    "### Accessing array values by index\n",
    "\n",
    "We can also access the elements of *square arrays* using indexing: `arrayname[row,col]`, where the variables `row` and `col` are replaced by the values of the row and column number we want to access."
   ]
  },
  {
   "cell_type": "code",
   "execution_count": null,
   "metadata": {
    "deletable": false,
    "editable": false,
    "nbgrader": {
     "cell_type": "code",
     "checksum": "6f7b6578a4f5c528645c67e5210bc984",
     "grade": false,
     "grade_id": "cell-e179763fb6a0455a",
     "locked": true,
     "schema_version": 3,
     "solution": false,
     "task": false
    }
   },
   "outputs": [],
   "source": [
    "print(myarray[0, 2])"
   ]
  },
  {
   "cell_type": "markdown",
   "metadata": {
    "deletable": false,
    "editable": false,
    "nbgrader": {
     "cell_type": "markdown",
     "checksum": "ed3a9cd87691077eea410db7a75de7b0",
     "grade": false,
     "grade_id": "cell-4e9d9b6b4b338c78",
     "locked": true,
     "schema_version": 3,
     "solution": false,
     "task": false
    }
   },
   "source": [
    "Print the middle number in the block (5)."
   ]
  },
  {
   "cell_type": "code",
   "execution_count": null,
   "metadata": {
    "deletable": false,
    "nbgrader": {
     "cell_type": "code",
     "checksum": "f402eb4a6762a393a71e465cdfe1107c",
     "grade": true,
     "grade_id": "cell-a8b7e16ae9885b23",
     "locked": false,
     "points": 0,
     "schema_version": 3,
     "solution": true,
     "task": false
    }
   },
   "outputs": [],
   "source": [
    "# myarray[?, ?]\n",
    "# YOUR CODE HERE"
   ]
  },
  {
   "cell_type": "markdown",
   "metadata": {
    "deletable": false,
    "editable": false,
    "nbgrader": {
     "cell_type": "markdown",
     "checksum": "2137b7a2728140d8add18124f04203e8",
     "grade": false,
     "grade_id": "cell-02791e274bb530e4",
     "locked": true,
     "schema_version": 3,
     "solution": false,
     "task": false
    }
   },
   "source": [
    "Print the last number in the block (9)"
   ]
  },
  {
   "cell_type": "code",
   "execution_count": null,
   "metadata": {
    "ExecuteTime": {
     "end_time": "2019-02-01T23:03:23.717352Z",
     "start_time": "2019-02-01T23:03:23.710353Z"
    },
    "deletable": false,
    "nbgrader": {
     "cell_type": "code",
     "checksum": "7768269be0640b9f96e9bfc309f2d8eb",
     "grade": true,
     "grade_id": "cell-62bca4a2d333d905",
     "locked": false,
     "points": 0,
     "schema_version": 3,
     "solution": true,
     "task": false
    }
   },
   "outputs": [],
   "source": [
    "# YOUR CODE HERE"
   ]
  },
  {
   "cell_type": "markdown",
   "metadata": {
    "deletable": false,
    "editable": false,
    "nbgrader": {
     "cell_type": "markdown",
     "checksum": "3d2e02f1635054a057f8e358c29f0d45",
     "grade": false,
     "grade_id": "cell-da73534ada5a6af4",
     "locked": true,
     "schema_version": 3,
     "solution": false,
     "task": false
    }
   },
   "source": [
    "To change a value"
   ]
  },
  {
   "cell_type": "code",
   "execution_count": null,
   "metadata": {
    "ExecuteTime": {
     "end_time": "2019-02-01T23:03:23.727353Z",
     "start_time": "2019-02-01T23:03:23.721355Z"
    },
    "deletable": false,
    "editable": false,
    "nbgrader": {
     "cell_type": "code",
     "checksum": "a8f6f142159b3d9ff284d6fa7d9935fc",
     "grade": false,
     "grade_id": "cell-231025bf74d5e2ec",
     "locked": true,
     "schema_version": 3,
     "solution": false,
     "task": false
    }
   },
   "outputs": [],
   "source": [
    "myarray[1, 1] = 111\n",
    "\n",
    "print(myarray)"
   ]
  },
  {
   "cell_type": "markdown",
   "metadata": {
    "deletable": false,
    "editable": false,
    "nbgrader": {
     "cell_type": "markdown",
     "checksum": "4f0ccadd58a97347bab27fd2c3b3f8a3",
     "grade": false,
     "grade_id": "cell-0fcfed296d73e527",
     "locked": true,
     "schema_version": 3,
     "solution": false,
     "task": false
    }
   },
   "source": [
    "### Manipulating numerical arrays\n",
    "\n",
    "[http://docs.scipy.org/doc/numpy/reference/routines.array-manipulation.html](http://docs.scipy.org/doc/numpy/reference/routines.array-manipulation.html)"
   ]
  },
  {
   "cell_type": "markdown",
   "metadata": {
    "deletable": false,
    "editable": false,
    "nbgrader": {
     "cell_type": "markdown",
     "checksum": "02c5e208e6cd365466bebbd0634bbb87",
     "grade": false,
     "grade_id": "cell-7da3bd86fe5e8422",
     "locked": true,
     "schema_version": 3,
     "solution": false,
     "task": false
    }
   },
   "source": [
    "### Generating Arrays using Special Functions\n"
   ]
  },
  {
   "cell_type": "code",
   "execution_count": null,
   "metadata": {
    "ExecuteTime": {
     "end_time": "2019-02-01T23:03:30.56284Z",
     "start_time": "2019-02-01T23:03:30.554843Z"
    },
    "deletable": false,
    "editable": false,
    "nbgrader": {
     "cell_type": "code",
     "checksum": "a430462eb32bf844f9672f290b366dc8",
     "grade": false,
     "grade_id": "cell-bc576af804c362c7",
     "locked": true,
     "schema_version": 3,
     "solution": false,
     "task": false
    }
   },
   "outputs": [],
   "source": [
    "nrows = 5\n",
    "ncols = 7\n",
    "dimensions = (nrows, ncols)\n",
    "myzeros = np.zeros(dimensions)\n",
    "print(myzeros)"
   ]
  },
  {
   "cell_type": "markdown",
   "metadata": {
    "deletable": false,
    "editable": false,
    "nbgrader": {
     "cell_type": "markdown",
     "checksum": "5cd37943744e1dfe9f2299ea2c9d433f",
     "grade": false,
     "grade_id": "cell-19f06cf625fff673",
     "locked": true,
     "schema_version": 3,
     "solution": false,
     "task": false
    }
   },
   "source": [
    "Try using different numbers for the parameters in these functions to see what happens."
   ]
  },
  {
   "cell_type": "code",
   "execution_count": null,
   "metadata": {},
   "outputs": [],
   "source": [
    "from numpy.random import random\n",
    "dims = (5, 2)\n",
    "rands = random(dims)\n",
    "randr = rands.round(2)\n",
    "print(randr)"
   ]
  },
  {
   "cell_type": "markdown",
   "metadata": {
    "deletable": false,
    "editable": false,
    "nbgrader": {
     "cell_type": "markdown",
     "checksum": "040f82ad6bc6a362ce94a556967bf1f1",
     "grade": false,
     "grade_id": "cell-5e6f3407e199bb7c",
     "locked": true,
     "schema_version": 3,
     "solution": false,
     "task": false
    }
   },
   "source": [
    "Shorthand notation can also be used:\n",
    "```python\n",
    "myzeros = np.zeros((nrows,ncols))\n",
    "```"
   ]
  },
  {
   "cell_type": "markdown",
   "metadata": {
    "deletable": false,
    "editable": false,
    "nbgrader": {
     "cell_type": "markdown",
     "checksum": "90a74fb9cb76350018a20801dd0291f3",
     "grade": false,
     "grade_id": "cell-8c8a3cd297a1416f",
     "locked": true,
     "schema_version": 3,
     "solution": false,
     "task": false
    }
   },
   "source": [
    "We can take *slices* of an array using the notation `arrayname[ROWSLICE, COLSLICE]`, where `ROWSLICE` and `COLSLICE` use the same slicing rules `STARTAT:ENDBEFORE` as seen in previous sections. \n",
    "\n",
    "For example we can slice off a single row or column:"
   ]
  },
  {
   "cell_type": "markdown",
   "metadata": {
    "deletable": false,
    "editable": false,
    "nbgrader": {
     "cell_type": "markdown",
     "checksum": "29acb25023e91aa6ce6d3daf962dce36",
     "grade": false,
     "grade_id": "cell-929aad35fecace6a",
     "locked": true,
     "schema_version": 3,
     "solution": false,
     "task": false
    }
   },
   "source": [
    "The code below does the following:\n",
    "\n",
    "1. Create an array of ones using the `numpy.ones` function with one column and five rows.\n",
    "2. Change the middle value to 5.\n",
    "3. slice the column into the middle column of an array of $5\\times7$ zeros."
   ]
  },
  {
   "cell_type": "code",
   "execution_count": null,
   "metadata": {
    "ExecuteTime": {
     "end_time": "2019-02-01T23:03:30.598842Z",
     "start_time": "2019-02-01T23:03:30.594849Z"
    },
    "deletable": false,
    "editable": false,
    "nbgrader": {
     "cell_type": "code",
     "checksum": "c349f3147dfa66734fc3859440a76b24",
     "grade": false,
     "grade_id": "cell-af6e0c4d141d9826",
     "locked": true,
     "schema_version": 3,
     "solution": false,
     "task": false
    }
   },
   "outputs": [],
   "source": [
    "myones = np.ones((5,1))\n",
    "print(myones)"
   ]
  },
  {
   "cell_type": "code",
   "execution_count": null,
   "metadata": {
    "deletable": false,
    "editable": false,
    "nbgrader": {
     "cell_type": "code",
     "checksum": "b176b770c3dfe0c8e32d28d0ed5ac76c",
     "grade": false,
     "grade_id": "cell-02adc2ff1d32d4be",
     "locked": true,
     "schema_version": 3,
     "solution": false,
     "task": false
    }
   },
   "outputs": [],
   "source": [
    "myones[2] = 5\n",
    "print(myones)"
   ]
  },
  {
   "cell_type": "code",
   "execution_count": null,
   "metadata": {
    "deletable": false,
    "editable": false,
    "nbgrader": {
     "cell_type": "code",
     "checksum": "c218f9518bafe12f0fce695c6a678dfb",
     "grade": false,
     "grade_id": "cell-6a7114028dfcbde3",
     "locked": true,
     "schema_version": 3,
     "solution": false,
     "task": false
    }
   },
   "outputs": [],
   "source": [
    "newarray = np.zeros((5, 7))\n",
    "\n",
    "newarray[:, 3] = myones[:, 0]\n",
    "print(newarray)"
   ]
  },
  {
   "cell_type": "markdown",
   "metadata": {
    "deletable": false,
    "editable": false,
    "nbgrader": {
     "cell_type": "markdown",
     "checksum": "955050e6ab7d739d14119cf14bc65501",
     "grade": false,
     "grade_id": "cell-4a368a983e88344c",
     "locked": true,
     "schema_version": 3,
     "solution": false,
     "task": false
    }
   },
   "source": [
    "* Note that `myones` is a 2D array so we have to slice all values `:` in column `0` using `[:, 0]`"
   ]
  },
  {
   "cell_type": "markdown",
   "metadata": {
    "deletable": false,
    "editable": false,
    "nbgrader": {
     "cell_type": "markdown",
     "checksum": "73a2d05153b3befcb3081b70b112ba0c",
     "grade": false,
     "grade_id": "cell-3aa5487fcd9379e8",
     "locked": true,
     "schema_version": 3,
     "solution": false,
     "task": false
    }
   },
   "source": [
    "Further reading can be found [here](https://docs.scipy.org/doc/numpy/user/quickstart.html)."
   ]
  },
  {
   "cell_type": "markdown",
   "metadata": {
    "deletable": false,
    "editable": false,
    "nbgrader": {
     "cell_type": "markdown",
     "checksum": "f339e85c237a910dc004498786462b41",
     "grade": false,
     "grade_id": "cell-e6ad97f6a7df9168",
     "locked": true,
     "schema_version": 3,
     "solution": false,
     "task": false
    }
   },
   "source": [
    "### Import an Export of N-D data using NumPy\n",
    "\n",
    "Load a column of text from the file `\"temps.txt\"` into an array using the `ARRAY=np.loadtxt(FILENAME)` method."
   ]
  },
  {
   "cell_type": "markdown",
   "metadata": {
    "deletable": false,
    "editable": false,
    "nbgrader": {
     "cell_type": "markdown",
     "checksum": "1a059634807c23264dc5ffbb814e0943",
     "grade": false,
     "grade_id": "cell-b8dcda5a4d7c9e08",
     "locked": true,
     "schema_version": 3,
     "solution": false,
     "task": false
    }
   },
   "source": [
    "## Python Dictionaries\n",
    "\n",
    "\n",
    "A *dictionary of keys* or `dict` is a data type with pairs of `KEY:value` entries. They are defined in *curly brackets* and the values can be different types. For example:"
   ]
  },
  {
   "cell_type": "code",
   "execution_count": null,
   "metadata": {
    "deletable": false,
    "editable": false,
    "nbgrader": {
     "cell_type": "code",
     "checksum": "f04e03176b635cb1a15b20b63cfc3327",
     "grade": false,
     "grade_id": "cell-f0a479da3d8eedcc",
     "locked": true,
     "schema_version": 3,
     "solution": false,
     "task": false
    }
   },
   "outputs": [],
   "source": [
    "fruit={\"apple\":\"A red fruit.\", \"banana\":\"A yellow fruit.\", \"tomato\":\"A red fruit.\"}"
   ]
  },
  {
   "cell_type": "markdown",
   "metadata": {
    "deletable": false,
    "editable": false,
    "nbgrader": {
     "cell_type": "markdown",
     "checksum": "d8f3b93a7f3f8c5e8a85674e08743b8b",
     "grade": false,
     "grade_id": "cell-9a8fed64eedd800c",
     "locked": true,
     "schema_version": 3,
     "solution": false,
     "task": false
    }
   },
   "source": [
    "You can then *look up* (or change) an item's value in the dictionary using its *key*:"
   ]
  },
  {
   "cell_type": "code",
   "execution_count": null,
   "metadata": {
    "deletable": false,
    "editable": false,
    "nbgrader": {
     "cell_type": "code",
     "checksum": "555b51b5f2266e37d0ec9e89d842c28d",
     "grade": false,
     "grade_id": "cell-3cae545144532847",
     "locked": true,
     "schema_version": 3,
     "solution": false,
     "task": false
    }
   },
   "outputs": [],
   "source": [
    "fruit[\"banana\"]"
   ]
  },
  {
   "cell_type": "code",
   "execution_count": null,
   "metadata": {
    "deletable": false,
    "editable": false,
    "nbgrader": {
     "cell_type": "code",
     "checksum": "49ce45f1b1e8177210a2d29209c4de22",
     "grade": false,
     "grade_id": "cell-e37279a8197f0baa",
     "locked": true,
     "schema_version": 3,
     "solution": false,
     "task": false
    }
   },
   "outputs": [],
   "source": [
    "fruit[\"apple\"] = \"A red or green fruit.\"\n",
    "\n",
    "fruit[\"apple\"]"
   ]
  },
  {
   "cell_type": "markdown",
   "metadata": {
    "deletable": false,
    "editable": false,
    "nbgrader": {
     "cell_type": "markdown",
     "checksum": "50635d4f65236f621d5d358588e6f02c",
     "grade": false,
     "grade_id": "cell-16d63698496ed89b",
     "locked": true,
     "schema_version": 3,
     "solution": false,
     "task": false
    }
   },
   "source": [
    "New entries can also be added:"
   ]
  },
  {
   "cell_type": "code",
   "execution_count": null,
   "metadata": {
    "deletable": false,
    "editable": false,
    "nbgrader": {
     "cell_type": "code",
     "checksum": "a13bd021182f77d1226cf3f7332a8b70",
     "grade": false,
     "grade_id": "cell-283b2198ebcdac02",
     "locked": true,
     "schema_version": 3,
     "solution": false,
     "task": false
    }
   },
   "outputs": [],
   "source": [
    "fruit[\"aubergine\"] = \"A purple fruit\"\n",
    "\n",
    "fruit"
   ]
  },
  {
   "cell_type": "markdown",
   "metadata": {
    "deletable": false,
    "editable": false,
    "nbgrader": {
     "cell_type": "markdown",
     "checksum": "82f0ffcd769de77cda2aa9fb325cc042",
     "grade": false,
     "grade_id": "cell-2fcedccae2c22d97",
     "locked": true,
     "schema_version": 3,
     "solution": false,
     "task": false
    }
   },
   "source": [
    "The *values* can also be numerical, allowing us to count things:"
   ]
  },
  {
   "cell_type": "code",
   "execution_count": null,
   "metadata": {
    "deletable": false,
    "editable": false,
    "nbgrader": {
     "cell_type": "code",
     "checksum": "1eaae7c7a56c7053c67f0eb734f63e95",
     "grade": false,
     "grade_id": "cell-948965c6b1dd1b11",
     "locked": true,
     "schema_version": 3,
     "solution": false,
     "task": false
    }
   },
   "outputs": [],
   "source": [
    "eggs={} #we can start with an empty dict"
   ]
  },
  {
   "cell_type": "code",
   "execution_count": null,
   "metadata": {
    "deletable": false,
    "editable": false,
    "nbgrader": {
     "cell_type": "code",
     "checksum": "a6200b70391224bd211319ca5952c884",
     "grade": false,
     "grade_id": "cell-fcf45b036892f9af",
     "locked": true,
     "schema_version": 3,
     "solution": false,
     "task": false
    }
   },
   "outputs": [],
   "source": [
    "eggs[\"hen\"]=1 #if the key does not exist it is added to the dictionary\n",
    "eggs[\"duck\"]=5\n",
    "print(eggs)"
   ]
  },
  {
   "cell_type": "code",
   "execution_count": null,
   "metadata": {
    "deletable": false,
    "editable": false,
    "nbgrader": {
     "cell_type": "code",
     "checksum": "f3d0bba8669e20e5939e437fc8f2cab4",
     "grade": false,
     "grade_id": "cell-4a180df613c75c7e",
     "locked": true,
     "schema_version": 3,
     "solution": false,
     "task": false
    }
   },
   "outputs": [],
   "source": [
    "eggs[\"hen\"]+=1 # += is a shorthand for \"add one to the value\"\n",
    "\n",
    "print(eggs)"
   ]
  },
  {
   "cell_type": "markdown",
   "metadata": {
    "deletable": false,
    "editable": false,
    "nbgrader": {
     "cell_type": "markdown",
     "checksum": "f8bdc2710da1b3d8707da85e8df7ede5",
     "grade": false,
     "grade_id": "cell-9f40ced6af51c474",
     "locked": true,
     "schema_version": 3,
     "solution": false,
     "task": false
    }
   },
   "source": [
    "Entries can also be lists or arrays (or any other object)"
   ]
  },
  {
   "cell_type": "code",
   "execution_count": null,
   "metadata": {
    "deletable": false,
    "editable": false,
    "nbgrader": {
     "cell_type": "code",
     "checksum": "6238b424806fa006921bcad63604da0e",
     "grade": false,
     "grade_id": "cell-9c48c4c98fc8f8b3",
     "locked": true,
     "schema_version": 3,
     "solution": false,
     "task": false
    }
   },
   "outputs": [],
   "source": [
    "thedata = dict() #another way of making an empty dictionary\n",
    "\n",
    "thedata[\"Days\"] = list(range(1,8))\n",
    "thedata[\"Temperatures\"] = np.array([23.3, 16.9, 21.8, 26.9, 23.5, 21.7, 19.8])\n",
    "\n",
    "thedata"
   ]
  },
  {
   "cell_type": "markdown",
   "metadata": {
    "deletable": false,
    "editable": false,
    "nbgrader": {
     "cell_type": "markdown",
     "checksum": "ed36c66ead9a6e3306bd760d69817e57",
     "grade": false,
     "grade_id": "cell-b198bdd0e66f112f",
     "locked": true,
     "schema_version": 3,
     "solution": false,
     "task": false
    }
   },
   "source": [
    "Which can also be manipulated:"
   ]
  },
  {
   "cell_type": "code",
   "execution_count": null,
   "metadata": {
    "deletable": false,
    "editable": false,
    "nbgrader": {
     "cell_type": "code",
     "checksum": "b35621da22e085b4684b298d6678efd6",
     "grade": false,
     "grade_id": "cell-016fe1d96ada2f49",
     "locked": true,
     "schema_version": 3,
     "solution": false,
     "task": false
    }
   },
   "outputs": [],
   "source": [
    "thedata[\"Temperatures\"] = thedata[\"Temperatures\"]-10\n",
    "\n",
    "thedata[\"Temperatures\"]"
   ]
  },
  {
   "cell_type": "markdown",
   "metadata": {
    "deletable": false,
    "editable": false,
    "nbgrader": {
     "cell_type": "markdown",
     "checksum": "db51d29a6c60fb3ed0179acde9c1ff1d",
     "grade": false,
     "grade_id": "cell-1223c9ba76f45f3d",
     "locked": true,
     "schema_version": 3,
     "solution": false,
     "task": false
    }
   },
   "source": [
    "## Data Frames and Pandas\n",
    "\n",
    "Pandas is a very powerful data analysis library that extends on the functionality of numpy and matplotlib.  \n",
    "It can be used to load, analyse plot and save data.\n",
    "\n",
    "### See the comprehensive cheatsheet on moodle for full information about Pandas\n",
    "\n",
    "\n",
    "The basic data types used by pandas are the dataframe and the series. Here we'll look at dataframes, which are 2D arrays with labels and related to a spreadsheet.\n",
    "\n"
   ]
  },
  {
   "cell_type": "code",
   "execution_count": null,
   "metadata": {
    "deletable": false,
    "editable": false,
    "nbgrader": {
     "cell_type": "code",
     "checksum": "143f4785250cceb46e8c93b237f8c297",
     "grade": false,
     "grade_id": "cell-a8b395b35c884ece",
     "locked": true,
     "schema_version": 3,
     "solution": false,
     "task": false
    }
   },
   "outputs": [],
   "source": [
    "import pandas as pd\n",
    "\n",
    "# make a dataframe called df out of our previous dictionary:\n",
    "df = pd.DataFrame(thedata)\n",
    "print(df)"
   ]
  },
  {
   "cell_type": "markdown",
   "metadata": {
    "deletable": false,
    "editable": false,
    "nbgrader": {
     "cell_type": "markdown",
     "checksum": "aeed59329b7dc46f4c4886c42389d6c5",
     "grade": false,
     "grade_id": "cell-43f1a4d3a70ba6da",
     "locked": true,
     "schema_version": 3,
     "solution": false,
     "task": false
    }
   },
   "source": [
    "In Jupyter-Notebooks dataframes will display with nice formatting by putting just their name at the end of a code cell:"
   ]
  },
  {
   "cell_type": "code",
   "execution_count": null,
   "metadata": {
    "deletable": false,
    "editable": false,
    "nbgrader": {
     "cell_type": "code",
     "checksum": "8e835f6d1bee6af550033fe54c3612df",
     "grade": false,
     "grade_id": "cell-dccbfdacef668890",
     "locked": true,
     "schema_version": 3,
     "solution": false,
     "task": false
    }
   },
   "outputs": [],
   "source": [
    "df"
   ]
  },
  {
   "cell_type": "markdown",
   "metadata": {
    "deletable": false,
    "editable": false,
    "nbgrader": {
     "cell_type": "markdown",
     "checksum": "f91b5fd8a57fa6f10196fc058b562911",
     "grade": false,
     "grade_id": "cell-e94894214d413616",
     "locked": true,
     "schema_version": 3,
     "solution": false,
     "task": false
    }
   },
   "source": [
    "Columns can be accessed in the same way as dictionaries:"
   ]
  },
  {
   "cell_type": "code",
   "execution_count": null,
   "metadata": {
    "deletable": false,
    "editable": false,
    "nbgrader": {
     "cell_type": "code",
     "checksum": "3abad3e01a53aaa140d7f93699e6c4be",
     "grade": false,
     "grade_id": "cell-696ce685f2ff22a1",
     "locked": true,
     "schema_version": 3,
     "solution": false,
     "task": false
    }
   },
   "outputs": [],
   "source": [
    "df[\"Temperatures\"]"
   ]
  },
  {
   "cell_type": "markdown",
   "metadata": {
    "deletable": false,
    "editable": false,
    "nbgrader": {
     "cell_type": "markdown",
     "checksum": "177d930a17872e5de8fa2d98a9870318",
     "grade": false,
     "grade_id": "cell-be89944027bb8709",
     "locked": true,
     "schema_version": 3,
     "solution": false,
     "task": false
    }
   },
   "source": [
    "And they can be manipulated like Numpy arrays:"
   ]
  },
  {
   "cell_type": "code",
   "execution_count": null,
   "metadata": {
    "deletable": false,
    "editable": false,
    "nbgrader": {
     "cell_type": "code",
     "checksum": "59633640b6c98b3734a2cbde77bacc6d",
     "grade": false,
     "grade_id": "cell-dfb9a6d649e11597",
     "locked": true,
     "schema_version": 3,
     "solution": false,
     "task": false
    }
   },
   "outputs": [],
   "source": [
    "average = df[\"Temperatures\"].mean()\n",
    "print(average)\n",
    "\n",
    "deviation = df[\"Temperatures\"]-average\n",
    "print(deviation)"
   ]
  },
  {
   "cell_type": "markdown",
   "metadata": {
    "deletable": false,
    "editable": false,
    "nbgrader": {
     "cell_type": "markdown",
     "checksum": "0ac5cd3abe14ab12b868065e8481bff9",
     "grade": false,
     "grade_id": "cell-fc7e66465109b9ef",
     "locked": true,
     "schema_version": 3,
     "solution": false,
     "task": false
    }
   },
   "source": [
    "As well as writing new columns:"
   ]
  },
  {
   "cell_type": "code",
   "execution_count": null,
   "metadata": {
    "deletable": false,
    "editable": false,
    "nbgrader": {
     "cell_type": "code",
     "checksum": "82d2bebc5494e7424284c1db667d2e56",
     "grade": false,
     "grade_id": "cell-47c7e9f2be23349e",
     "locked": true,
     "schema_version": 3,
     "solution": false,
     "task": false
    }
   },
   "outputs": [],
   "source": [
    "df[\"Deviations\"] = deviation\n",
    "\n",
    "df"
   ]
  },
  {
   "cell_type": "markdown",
   "metadata": {
    "deletable": false,
    "editable": false,
    "nbgrader": {
     "cell_type": "markdown",
     "checksum": "aaac8eceded062efbdf0d6ce6eefe94b",
     "grade": false,
     "grade_id": "cell-d2678d0788e00110",
     "locked": true,
     "schema_version": 3,
     "solution": false,
     "task": false
    }
   },
   "source": [
    "This can then be saved as a CSV using `df.to_csv(\"<FILENAME>.csv\")` or even an Excel spreadsheet:\n",
    "\n",
    "* Note: the `index=False` argument makes sure the left-hand index column (`[0,1,2,3,4,5,6]`) does **not** get written to the spreadsheet.\n",
    "* The `sheet_name` argument allows you to name the sheet tab in Excel."
   ]
  },
  {
   "cell_type": "code",
   "execution_count": null,
   "metadata": {
    "deletable": false,
    "editable": false,
    "nbgrader": {
     "cell_type": "code",
     "checksum": "9531865bc34fc2307cbbf7bb5c36f85d",
     "grade": false,
     "grade_id": "cell-274d592aaa58fa7d",
     "locked": true,
     "schema_version": 3,
     "solution": false,
     "task": false
    }
   },
   "outputs": [],
   "source": [
    "df.to_excel(\"devdata.xlsx\", index=False, sheet_name=\"Temperature Deviations\")"
   ]
  },
  {
   "cell_type": "markdown",
   "metadata": {
    "deletable": false,
    "editable": false,
    "nbgrader": {
     "cell_type": "markdown",
     "checksum": "b51b37e953a66938d5c2598ce03f2faa",
     "grade": false,
     "grade_id": "cell-3bdd5e10d8302a14",
     "locked": true,
     "schema_version": 3,
     "solution": false,
     "task": false
    }
   },
   "source": [
    "* Now download and open the `devdata.xlsx` file that was just created!\n",
    "\n",
    "Lists and arrays can also be used to make Data-Frames:"
   ]
  },
  {
   "cell_type": "code",
   "execution_count": null,
   "metadata": {
    "ExecuteTime": {
     "end_time": "2019-02-01T23:03:33.495681Z",
     "start_time": "2019-02-01T23:03:33.030953Z"
    },
    "deletable": false,
    "editable": false,
    "nbgrader": {
     "cell_type": "code",
     "checksum": "5401ca4737c1b782409214139158864f",
     "grade": false,
     "grade_id": "cell-4d60060058da4e5e",
     "locked": true,
     "schema_version": 3,
     "solution": false,
     "task": false
    }
   },
   "outputs": [],
   "source": [
    "import numpy as np\n",
    "import pandas as pd\n",
    "\n",
    "temps = np.array([23.3, 16.9, 21.8, 26.9, 23.5, 21.7, 19.8])\n",
    "average = temps.mean()\n",
    "devs = temps-average # deviation of each point from the mean\n",
    "stdev = temps.std() # standard deviation of the dataset\n",
    "zscore = devs/stdev # Z-score is the number of standard deviations each reading is from the mean\n",
    "data = [temps, devs, zscore]\n",
    "\n",
    "mynewdataframe = pd.DataFrame(data)\n",
    "mynewdataframe"
   ]
  },
  {
   "cell_type": "code",
   "execution_count": null,
   "metadata": {
    "deletable": false,
    "editable": false,
    "nbgrader": {
     "cell_type": "code",
     "checksum": "10dec8e78b04e50d02693ec67ee10632",
     "grade": false,
     "grade_id": "cell-296218947b05b95c",
     "locked": true,
     "schema_version": 3,
     "solution": false,
     "task": false
    }
   },
   "outputs": [],
   "source": [
    "# rotate the dataframe:\n",
    "newdata = mynewdataframe.transpose()\n",
    "newdata"
   ]
  },
  {
   "cell_type": "markdown",
   "metadata": {
    "deletable": false,
    "editable": false,
    "nbgrader": {
     "cell_type": "markdown",
     "checksum": "b186426f8be7678e14f31da9bdfa43a3",
     "grade": false,
     "grade_id": "cell-edc0bcb57c0bbea3",
     "locked": true,
     "schema_version": 3,
     "solution": false,
     "task": false
    }
   },
   "source": [
    "* Data can be accessed and manipulated in similar ways to 2D arrays, but also accessed by the column name, new columns can be inserted etc.\n",
    "\n",
    "A dataframe also has an *object* variable `.columns` inside which describes the column headings.\n",
    "* In the above example `newdata.columns = [0, 1, 2]` by default."
   ]
  },
  {
   "cell_type": "markdown",
   "metadata": {
    "deletable": false,
    "editable": false,
    "nbgrader": {
     "cell_type": "markdown",
     "checksum": "dc0e15ba457e167b0bd434b0964b9145",
     "grade": false,
     "grade_id": "cell-005d005e4e36be3f",
     "locked": true,
     "schema_version": 3,
     "solution": false,
     "task": false
    }
   },
   "source": [
    "#### Renaming the columns"
   ]
  },
  {
   "cell_type": "code",
   "execution_count": null,
   "metadata": {
    "ExecuteTime": {
     "end_time": "2019-02-01T23:03:35.062656Z",
     "start_time": "2019-02-01T23:03:35.046665Z"
    },
    "deletable": false,
    "editable": false,
    "nbgrader": {
     "cell_type": "code",
     "checksum": "8b9ee9e23ad00d51fe56361c6d44e2d0",
     "grade": false,
     "grade_id": "cell-fc2b8e6e613a2522",
     "locked": true,
     "schema_version": 3,
     "solution": false,
     "task": false
    }
   },
   "outputs": [],
   "source": [
    "newdata.columns = \"Temp\", \"Deviation\", \"Z-value\"\n",
    "\n",
    "newdata"
   ]
  },
  {
   "cell_type": "markdown",
   "metadata": {
    "deletable": false,
    "editable": false,
    "nbgrader": {
     "cell_type": "markdown",
     "checksum": "a9e4994a7a168f7e5e4884dc4aaf347d",
     "grade": false,
     "grade_id": "cell-a5dcc8df2f76632a",
     "locked": true,
     "schema_version": 3,
     "solution": false,
     "task": false
    }
   },
   "source": [
    "\n",
    "\n",
    "A dataframe also has a `.index` property naming the rows, which can be changed:"
   ]
  },
  {
   "cell_type": "code",
   "execution_count": null,
   "metadata": {
    "ExecuteTime": {
     "end_time": "2019-02-01T23:03:35.995754Z",
     "start_time": "2019-02-01T23:03:35.974757Z"
    },
    "deletable": false,
    "editable": false,
    "nbgrader": {
     "cell_type": "code",
     "checksum": "a50eab2edd6cb27dd26a2b4d0668bf34",
     "grade": false,
     "grade_id": "cell-456a7433b97ce8c3",
     "locked": true,
     "schema_version": 3,
     "solution": false,
     "task": false
    }
   },
   "outputs": [],
   "source": [
    "newdata.index = [\"Mon\", \"Tue\", \"Wed\", \"Thu\", \"Fri\", \"Sat\", \"Sun\"]\n",
    "\n",
    "newdata"
   ]
  },
  {
   "cell_type": "markdown",
   "metadata": {
    "deletable": false,
    "editable": false,
    "nbgrader": {
     "cell_type": "markdown",
     "checksum": "014149e5ec0215a878cf2bc2b1278f0a",
     "grade": false,
     "grade_id": "cell-581a5c9633ff8aa0",
     "locked": true,
     "schema_version": 3,
     "solution": false,
     "task": false
    }
   },
   "source": [
    "See the very comprehensive sheet on moodle (also ones such as [this one](https://pandas.pydata.org/Pandas_Cheat_Sheet.pdf)) to find out more details.\n",
    "\n",
    "### Importing spreadsheet data\n",
    "\n",
    "It is possible to import data into a data-frame from plain text files, CSV files or even excel spreadsheets."
   ]
  },
  {
   "cell_type": "code",
   "execution_count": null,
   "metadata": {
    "deletable": false,
    "editable": false,
    "nbgrader": {
     "cell_type": "code",
     "checksum": "310e6161169044dde2ab83b3915e073f",
     "grade": false,
     "grade_id": "cell-13158081153197e3",
     "locked": true,
     "schema_version": 3,
     "solution": false,
     "task": false
    }
   },
   "outputs": [],
   "source": [
    "import pandas as pd\n",
    "\n",
    "data = pd.read_excel(\"Files/Case Study Data.xlsx\", sheet_name=\"Data\")\n",
    "\n",
    "data"
   ]
  },
  {
   "cell_type": "markdown",
   "metadata": {
    "deletable": false,
    "editable": false,
    "nbgrader": {
     "cell_type": "markdown",
     "checksum": "5ae05d84271769d641cc78502c9ae54f",
     "grade": false,
     "grade_id": "cell-c1ac331fd43aa8ee",
     "locked": true,
     "schema_version": 3,
     "solution": false,
     "task": false
    }
   },
   "source": [
    "Individual columns can be extracted using the following syntax:"
   ]
  },
  {
   "cell_type": "code",
   "execution_count": null,
   "metadata": {
    "ExecuteTime": {
     "end_time": "2019-02-01T23:03:37.022625Z",
     "start_time": "2019-02-01T23:03:37.010623Z"
    },
    "deletable": false,
    "editable": false,
    "nbgrader": {
     "cell_type": "code",
     "checksum": "5c402824c8c699b751d95bf70ba07840",
     "grade": false,
     "grade_id": "cell-fe85f7ed42fdc469",
     "locked": true,
     "schema_version": 3,
     "solution": false,
     "task": false
    }
   },
   "outputs": [],
   "source": [
    "projects = data[\"Project\"]\n",
    "\n",
    "print(projects)"
   ]
  },
  {
   "cell_type": "markdown",
   "metadata": {
    "deletable": false,
    "editable": false,
    "nbgrader": {
     "cell_type": "markdown",
     "checksum": "45f1a55ca2baa684b8be0940f1e3341f",
     "grade": false,
     "grade_id": "cell-02ab0854bf27542e",
     "locked": true,
     "schema_version": 3,
     "solution": false,
     "task": false
    }
   },
   "source": [
    "And subsets can be pulled from the data and made into their own dataframe."
   ]
  },
  {
   "cell_type": "code",
   "execution_count": null,
   "metadata": {
    "ExecuteTime": {
     "end_time": "2019-02-01T23:03:37.746235Z",
     "start_time": "2019-02-01T23:03:37.720238Z"
    },
    "deletable": false,
    "editable": false,
    "nbgrader": {
     "cell_type": "code",
     "checksum": "f4d8c6ee81a735b3144df9861026b790",
     "grade": false,
     "grade_id": "cell-90fd2474673c9d9f",
     "locked": true,
     "schema_version": 3,
     "solution": false,
     "task": false
    }
   },
   "outputs": [],
   "source": [
    "selected_columns = [\"Total.Area.sqm\", \"Cost.Million.USD\"]\n",
    "\n",
    "data2 = data[selected_columns]\n",
    "\n",
    "data2.index = projects # from the previous cell\n",
    "\n",
    "data2"
   ]
  },
  {
   "cell_type": "code",
   "execution_count": null,
   "metadata": {
    "deletable": false,
    "editable": false,
    "nbgrader": {
     "cell_type": "code",
     "checksum": "dd0e7b5c707165e128da41e9c58feb74",
     "grade": false,
     "grade_id": "cell-4473e72a009abdab",
     "locked": true,
     "schema_version": 3,
     "solution": false,
     "task": false
    }
   },
   "outputs": [],
   "source": [
    "import pandas as pd\n",
    "\n",
    "data = pd.read_excel(\"Files/Case Study Data.xlsx\", sheet_name=\"Data\")\n",
    "\n",
    "cost = data[\"Cost.Million.USD\"]\n",
    "area = data[\"Total.Area.sqm\"]\n",
    "costpermetre2 = cost/area\n",
    "\n",
    "# create a new column\n",
    "data[\"Cost.Per.sqm\"] = costpermetre2\n",
    "\n",
    "\n",
    "selected_columns = [\"Project\", \"Total.Area.sqm\", \"Cost.Million.USD\", \"Cost.Per.sqm\"]\n",
    "\n",
    "# create a new DataFrame with the selected columns as the data and set the project name column as the index\n",
    "newdata = data[selected_columns].set_index(\"Project\")\n",
    "\n",
    "newdata"
   ]
  },
  {
   "cell_type": "markdown",
   "metadata": {
    "deletable": false,
    "editable": false,
    "nbgrader": {
     "cell_type": "markdown",
     "checksum": "711efa232f8fe3c86f40f4d7b72d3c4a",
     "grade": false,
     "grade_id": "cell-87a67524b992a9ea",
     "locked": true,
     "schema_version": 3,
     "solution": false,
     "task": false
    }
   },
   "source": [
    "Pandas is very good at plotting the data."
   ]
  },
  {
   "cell_type": "code",
   "execution_count": null,
   "metadata": {
    "ExecuteTime": {
     "end_time": "2019-02-01T23:03:41.617256Z",
     "start_time": "2019-02-01T23:03:41.190881Z"
    },
    "deletable": false,
    "editable": false,
    "nbgrader": {
     "cell_type": "code",
     "checksum": "8eebed28524f8461255c18528596a3fa",
     "grade": false,
     "grade_id": "cell-06f053c4bd051957",
     "locked": true,
     "schema_version": 3,
     "solution": false,
     "task": false
    }
   },
   "outputs": [],
   "source": [
    "ax = newdata[\"Total.Area.sqm\"].plot(kind=\"bar\", figsize=(15,5)) # returns a set of figure axes"
   ]
  },
  {
   "cell_type": "markdown",
   "metadata": {
    "deletable": false,
    "editable": false,
    "nbgrader": {
     "cell_type": "markdown",
     "checksum": "316b52cd80e655ffde14ed1bfb54b802",
     "grade": false,
     "grade_id": "cell-832ee17391f83a7a",
     "locked": true,
     "schema_version": 3,
     "solution": false,
     "task": false
    }
   },
   "source": [
    "Different plot styles are available"
   ]
  },
  {
   "cell_type": "code",
   "execution_count": null,
   "metadata": {
    "ExecuteTime": {
     "end_time": "2019-02-01T23:03:42.464638Z",
     "start_time": "2019-02-01T23:03:42.085011Z"
    },
    "deletable": false,
    "editable": false,
    "nbgrader": {
     "cell_type": "code",
     "checksum": "4a051925423b9b5d04c47c31c800aa9e",
     "grade": false,
     "grade_id": "cell-b995e98087455253",
     "locked": true,
     "schema_version": 3,
     "solution": false,
     "task": false
    }
   },
   "outputs": [],
   "source": [
    "ax1 = newdata[\"Total.Area.sqm\"].plot.hist(edgecolor=\"black\")\n",
    "ax2 = newdata.plot.scatter(x=\"Total.Area.sqm\", y=\"Cost.Million.USD\")"
   ]
  },
  {
   "cell_type": "markdown",
   "metadata": {
    "deletable": false,
    "editable": false,
    "nbgrader": {
     "cell_type": "markdown",
     "checksum": "626d1bec389c35ca4edab818d46309ab",
     "grade": false,
     "grade_id": "cell-784d4c1ba36db71e",
     "locked": true,
     "schema_version": 3,
     "solution": false,
     "task": false
    }
   },
   "source": [
    "Plots can be saved or manipulated using this method:"
   ]
  },
  {
   "cell_type": "code",
   "execution_count": null,
   "metadata": {
    "deletable": false,
    "editable": false,
    "nbgrader": {
     "cell_type": "code",
     "checksum": "6906475a9bcc4bbfb6bf88f0f4642137",
     "grade": false,
     "grade_id": "cell-001c6cb38573104a",
     "locked": true,
     "schema_version": 3,
     "solution": false,
     "task": false
    }
   },
   "outputs": [],
   "source": [
    "ax2.figure.savefig(\"scatterplot.png\") # how to access the figure canvas and save it"
   ]
  },
  {
   "cell_type": "markdown",
   "metadata": {
    "deletable": false,
    "editable": false,
    "nbgrader": {
     "cell_type": "markdown",
     "checksum": "5587afd3b4a2f1eaf8c01b7e7bbc5271",
     "grade": false,
     "grade_id": "cell-ef2c60d203f1f1da",
     "locked": true,
     "schema_version": 3,
     "solution": false,
     "task": false
    }
   },
   "source": [
    "And plots can appear on the same axes or in subplots."
   ]
  },
  {
   "cell_type": "code",
   "execution_count": null,
   "metadata": {
    "ExecuteTime": {
     "end_time": "2019-02-01T23:03:45.559224Z",
     "start_time": "2019-02-01T23:03:44.103665Z"
    },
    "deletable": false,
    "editable": false,
    "nbgrader": {
     "cell_type": "code",
     "checksum": "075911aed1d4a97d76e04a3f743c508c",
     "grade": false,
     "grade_id": "cell-1eb90064e9fb2cc6",
     "locked": true,
     "schema_version": 3,
     "solution": false,
     "task": false
    }
   },
   "outputs": [],
   "source": [
    "sortdata = newdata.sort_values(by=\"Total.Area.sqm\")\n",
    "\n",
    "ax3 = sortdata.plot.bar(subplots=True, figsize=(15,9))"
   ]
  },
  {
   "cell_type": "markdown",
   "metadata": {
    "deletable": false,
    "editable": false,
    "nbgrader": {
     "cell_type": "markdown",
     "checksum": "46b036452f574ee07a95cebe42183177",
     "grade": false,
     "grade_id": "cell-51db3caba2e9c560",
     "locked": true,
     "schema_version": 3,
     "solution": false,
     "task": false
    }
   },
   "source": [
    "### Filtering data:\n",
    "\n",
    "Data can also be filtered in the following way:"
   ]
  },
  {
   "cell_type": "code",
   "execution_count": null,
   "metadata": {
    "ExecuteTime": {
     "end_time": "2019-02-01T23:03:36.829633Z",
     "start_time": "2019-02-01T23:03:36.697351Z"
    },
    "deletable": false,
    "editable": false,
    "nbgrader": {
     "cell_type": "code",
     "checksum": "2383dccb820d298de8ec0ed9fcb5f794",
     "grade": false,
     "grade_id": "cell-5b9bb5919305063c",
     "locked": true,
     "schema_version": 3,
     "solution": false,
     "task": false
    }
   },
   "outputs": [],
   "source": [
    "costmilUSD = data2[\"Cost.Million.USD\"] #select the column \n",
    "\n",
    "condition = costmilUSD>100 #filter selected values\n",
    "\n",
    "data3 = data2[condition]\n",
    "\n",
    "data3"
   ]
  },
  {
   "cell_type": "markdown",
   "metadata": {
    "deletable": false,
    "editable": false,
    "nbgrader": {
     "cell_type": "markdown",
     "checksum": "fb0924689ef950caac7caddc5164f88f",
     "grade": false,
     "grade_id": "cell-e01215a526c5ab5e",
     "locked": true,
     "schema_version": 3,
     "solution": false,
     "task": false
    }
   },
   "source": [
    "* Try breaking this down and printing each line to see what's going on in each step.\n",
    "\n",
    "This can then be combined into a single line, which is more compact but harder to read.\n",
    "```python\n",
    "data3 = data2[data2[\"Cost.Million.USD\"]>100]\n",
    "```\n",
    "\n",
    "New columns can also be created by doing calculations on existing ones:"
   ]
  },
  {
   "cell_type": "markdown",
   "metadata": {
    "deletable": false,
    "editable": false,
    "nbgrader": {
     "cell_type": "markdown",
     "checksum": "685d7f9ba5549d36de2cd0b1335e6b60",
     "grade": false,
     "grade_id": "cell-971927eb85e8df7d",
     "locked": true,
     "schema_version": 3,
     "solution": false,
     "task": false
    }
   },
   "source": [
    "### Pivoting Data\n",
    "\n",
    "The data can also be pivoted, like in Excel:"
   ]
  },
  {
   "cell_type": "code",
   "execution_count": null,
   "metadata": {
    "deletable": false,
    "editable": false,
    "nbgrader": {
     "cell_type": "code",
     "checksum": "e3315a5d880366da81bfed25cd87db9b",
     "grade": false,
     "grade_id": "cell-134803f14e6caafb",
     "locked": true,
     "schema_version": 3,
     "solution": false,
     "task": false
    }
   },
   "outputs": [],
   "source": [
    "import pandas as pd\n",
    "\n",
    "data = [[\"A\", \"T-1\", 0.1],\n",
    "        [\"A\", \"T-2\", 0.2],\n",
    "        [\"A\", \"T-3\", 0.3],\n",
    "        [\"B\", \"T-1\", 0.4],\n",
    "        [\"B\", \"T-2\", 0.5],\n",
    "        [\"B\", \"T-3\", 0.6],\n",
    "        [\"C\", \"T-1\", 0.7],\n",
    "        [\"C\", \"T-2\", 0.8],\n",
    "        [\"C\", \"T-3\", 0.9]]\n",
    "\n",
    "df = pd.DataFrame(data)\n",
    "df.columns = \"Class\", \"Type\", \"Value\"\n",
    "df"
   ]
  },
  {
   "cell_type": "markdown",
   "metadata": {
    "deletable": false,
    "editable": false,
    "nbgrader": {
     "cell_type": "markdown",
     "checksum": "4c25cfbc7115d957b0ed0761142c56a5",
     "grade": false,
     "grade_id": "cell-3fb099b6beccaf4a",
     "locked": true,
     "schema_version": 3,
     "solution": false,
     "task": false
    }
   },
   "source": [
    "Pivoting uses the `DataFrame.pivot(index, columns, values)` function method,  \n",
    "`index` : Column to use to make new frame's index.  \n",
    "`columns` : Column to use to make new frame's columns.  \n",
    "`values` :  Column(s) to use for populating new frame's values. "
   ]
  },
  {
   "cell_type": "code",
   "execution_count": null,
   "metadata": {
    "deletable": false,
    "editable": false,
    "nbgrader": {
     "cell_type": "code",
     "checksum": "48aee31b8ec7fb9dc712321d3394951e",
     "grade": false,
     "grade_id": "cell-c05465beee6a15f0",
     "locked": true,
     "schema_version": 3,
     "solution": false,
     "task": false
    }
   },
   "outputs": [],
   "source": [
    "piv = df.pivot(\"Class\", \"Type\", \"Value\")\n",
    "piv"
   ]
  },
  {
   "cell_type": "markdown",
   "metadata": {
    "deletable": false,
    "editable": false,
    "nbgrader": {
     "cell_type": "markdown",
     "checksum": "0d102b09eccd46e4467709fa4d53cdc7",
     "grade": false,
     "grade_id": "cell-3efc176e74ab1586",
     "locked": true,
     "schema_version": 3,
     "solution": false,
     "task": false
    }
   },
   "source": [
    "### Exercises for Weekly Task (2%)\n",
    "\n",
    "\n",
    "* Use the above notes and cheatsheets/online help to guide you through. \n",
    "\n",
    "There are **no model answers** given as this builds into the mini-coursework for this lesson.\n",
    "\n",
    "**You will need to refer to both the notes and the Pandas pdf cheat sheet(s) and online resources to do these exercises**\n",
    "\n",
    "1. Work through the **exercises** in Jupyter-notebook as you do the task step-by-step.\n",
    "2. Once complete copy the code in the numbered blocks to a single python `.py` script for submission.\n",
    "\n",
    "\n",
    "#### Part 1\n",
    "* Read in the csv file `\"energy.csv\"` as a dataframe named `data`.\n",
    "    - You **must** have the input file in the current working folder."
   ]
  },
  {
   "cell_type": "code",
   "execution_count": null,
   "metadata": {
    "deletable": false,
    "nbgrader": {
     "cell_type": "code",
     "checksum": "d029997e27ccf43089242eb5354469f7",
     "grade": true,
     "grade_id": "cell-0e53284904e3ab7d",
     "locked": false,
     "points": 0,
     "schema_version": 3,
     "solution": true,
     "task": false
    }
   },
   "outputs": [],
   "source": [
    "#Part 1\n",
    "import pandas as pd\n",
    "\n",
    "# YOUR CODE HERE\n"
   ]
  },
  {
   "cell_type": "markdown",
   "metadata": {
    "deletable": false,
    "editable": false,
    "nbgrader": {
     "cell_type": "markdown",
     "checksum": "f80cb0ce91937e3d343ababa28c0fe18",
     "grade": false,
     "grade_id": "cell-771a4c0e1aabacb8",
     "locked": true,
     "schema_version": 3,
     "solution": false,
     "task": false
    }
   },
   "source": [
    "Run the next cell to check what was created:"
   ]
  },
  {
   "cell_type": "code",
   "execution_count": null,
   "metadata": {
    "deletable": false,
    "editable": false,
    "nbgrader": {
     "cell_type": "code",
     "checksum": "747821ab6f2a7890e406343fbcdd00b5",
     "grade": false,
     "grade_id": "cell-84809fd37dd2d4bc",
     "locked": true,
     "schema_version": 3,
     "solution": false,
     "task": false
    }
   },
   "outputs": [],
   "source": [
    "print(data.head()) #your dataframe should look like this:"
   ]
  },
  {
   "cell_type": "markdown",
   "metadata": {
    "deletable": false,
    "editable": false,
    "nbgrader": {
     "cell_type": "markdown",
     "checksum": "a081b519b8b54e74026a8ecb1d1c51da",
     "grade": false,
     "grade_id": "cell-2bff64127aa04395",
     "locked": true,
     "schema_version": 3,
     "solution": false,
     "task": false
    }
   },
   "source": [
    "Expected Result:\n",
    "\n",
    "```\n",
    "   month  day  hour  elec   gas \n",
    "0      1    1     1   0.0  0.746\n",
    "1      1    1     2   0.0  0.672\n",
    "2      1    1     3   0.0  0.075\n",
    "3      1    1     4   0.0  0.141\n",
    "4      1    1     5   0.0  0.078\n",
    "```\n",
    "#### Part 2\n",
    "\n",
    "* Make a new column called `total` that is a sum of the \"elec\" + \"gas\" columns"
   ]
  },
  {
   "cell_type": "code",
   "execution_count": null,
   "metadata": {
    "deletable": false,
    "nbgrader": {
     "cell_type": "code",
     "checksum": "acfb0f903c19ceaac7b21ef8fd0361ce",
     "grade": true,
     "grade_id": "cell-4ba0f310939fe0bc",
     "locked": false,
     "points": 0,
     "schema_version": 3,
     "solution": true,
     "task": false
    }
   },
   "outputs": [],
   "source": [
    "# Part 2\n",
    "\n",
    "# YOUR CODE HERE"
   ]
  },
  {
   "cell_type": "code",
   "execution_count": null,
   "metadata": {
    "deletable": false,
    "editable": false,
    "nbgrader": {
     "cell_type": "code",
     "checksum": "9d450813351fe7b752bbe0ca9c3b2e54",
     "grade": false,
     "grade_id": "cell-6abc1a48453a621a",
     "locked": true,
     "schema_version": 3,
     "solution": false,
     "task": false
    }
   },
   "outputs": [],
   "source": [
    "# check result\n",
    "print(data.head())"
   ]
  },
  {
   "cell_type": "markdown",
   "metadata": {
    "deletable": false,
    "editable": false,
    "nbgrader": {
     "cell_type": "markdown",
     "checksum": "3c8b00e6114294a24c96886eaab3e1c0",
     "grade": false,
     "grade_id": "cell-4dbbf3b0d3322f0a",
     "locked": true,
     "schema_version": 3,
     "solution": false,
     "task": false
    }
   },
   "source": [
    "Expected Result:\n",
    "```\n",
    "   month  day  hour  elec    gas  total\n",
    "0      1    1     1   0.0  0.746  0.746\n",
    "1      1    1     2   0.0  0.672  0.672\n",
    "2      1    1     3   0.0  0.075  0.075\n",
    "3      1    1     4   0.0  0.141  0.141\n",
    "4      1    1     5   0.0  0.078  0.078\n",
    "```\n",
    "\n",
    "\n",
    "#### Part 3:\n",
    "Select only Day 21 of each month.\n",
    "* Make a new dataframe `selected` that is only filtering rows of `data` where the `condition = (days==21)`\n",
    "    * [Use the notes here](#Filtering-data:) to help you."
   ]
  },
  {
   "cell_type": "code",
   "execution_count": null,
   "metadata": {
    "deletable": false,
    "nbgrader": {
     "cell_type": "code",
     "checksum": "bdeb156c97be3cd7ac1457aa040397da",
     "grade": true,
     "grade_id": "cell-1132b50c4741f4cb",
     "locked": false,
     "points": 0,
     "schema_version": 3,
     "solution": true,
     "task": false
    }
   },
   "outputs": [],
   "source": [
    "# Part 3\n",
    "# YOUR CODE HERE"
   ]
  },
  {
   "cell_type": "code",
   "execution_count": null,
   "metadata": {
    "deletable": false,
    "editable": false,
    "nbgrader": {
     "cell_type": "code",
     "checksum": "9448f4354711ff9ecdc573288b24fe4c",
     "grade": false,
     "grade_id": "cell-4b0f943aa65a90fe",
     "locked": true,
     "schema_version": 3,
     "solution": false,
     "task": false
    }
   },
   "outputs": [],
   "source": [
    "# check the result\n",
    "selected"
   ]
  },
  {
   "cell_type": "markdown",
   "metadata": {
    "deletable": false,
    "editable": false,
    "nbgrader": {
     "cell_type": "markdown",
     "checksum": "061170387fa090ed422bebde761345ce",
     "grade": false,
     "grade_id": "cell-619bbb010ce7480f",
     "locked": true,
     "schema_version": 3,
     "solution": false,
     "task": false
    }
   },
   "source": [
    "Expected result:\n",
    "```\n",
    "     month  day  hour   elec    gas  total\n",
    "480      1   21     1  4.884  0.557  5.441\n",
    "481      1   21     2  0.000  0.323  0.323\n",
    "482      1   21     3  0.000  0.077  0.077\n",
    "483      1   21     4  0.000  0.056  0.056\n",
    "484      1   21     5  0.000  0.115  0.115 \n",
    "       month  day  hour   elec    gas  total\n",
    "8515     12   21    20  6.409  1.520  7.929\n",
    "8516     12   21    21  5.494  0.763  6.257\n",
    "8517     12   21    22  6.714  1.035  7.749\n",
    "8518     12   21    23  5.799  0.981  6.780\n",
    "8519     12   21    24  5.493  1.096  6.589\n",
    "```\n",
    "\n",
    "#### Part 4: Pivot the data into a table of totals for each hour and month\n",
    "\n",
    "* use `\"hour\"`, `\"month\"`, `\"total\"` as the COL, ROW, DATA arguments in the `.pivot()` function"
   ]
  },
  {
   "cell_type": "code",
   "execution_count": null,
   "metadata": {
    "deletable": false,
    "nbgrader": {
     "cell_type": "code",
     "checksum": "299012cfad7657f838b96a51afc8ae59",
     "grade": true,
     "grade_id": "cell-ef954b841ceb08f2",
     "locked": false,
     "points": 0,
     "schema_version": 3,
     "solution": true,
     "task": false
    }
   },
   "outputs": [],
   "source": [
    "# Part 4\n",
    "\n",
    "# YOUR CODE HERE"
   ]
  },
  {
   "cell_type": "code",
   "execution_count": null,
   "metadata": {
    "deletable": false,
    "editable": false,
    "nbgrader": {
     "cell_type": "code",
     "checksum": "ad885b147857012290d1c67efb2d0ee0",
     "grade": false,
     "grade_id": "cell-2139261de74d8bcd",
     "locked": true,
     "schema_version": 3,
     "solution": false,
     "task": false
    }
   },
   "outputs": [],
   "source": [
    "# check result\n",
    "\n",
    "piv.head()"
   ]
  },
  {
   "cell_type": "markdown",
   "metadata": {
    "deletable": false,
    "editable": false,
    "nbgrader": {
     "cell_type": "markdown",
     "checksum": "f6184207574435307bf34ae05b3501aa",
     "grade": false,
     "grade_id": "cell-1b026163fb90e57e",
     "locked": true,
     "schema_version": 3,
     "solution": false,
     "task": false
    }
   },
   "source": [
    "Expected Result:\n",
    "```\n",
    "month     1      2      3      4      5      6      7      8      9      10   ...\n",
    "hour                                                                          \n",
    "1      5.441  4.521  0.392  0.200  0.357  0.162  0.200  0.131  0.101  0.141   ...\n",
    "2      0.323  0.104  0.056  0.136  0.048  0.072  0.150  0.149  0.120  0.099   ... \n",
    "3      0.077  0.050  0.093  0.128  0.115  0.136  0.122  0.107  0.120  0.091   ...\n",
    "4      0.056  0.107  0.072  0.131  0.075  0.099  0.094  0.098  0.104  0.098   ...\n",
    "5      0.115  0.045  0.056  0.133  0.085  0.093  0.146  0.043  0.093  0.104   ...\n",
    "...\n",
    "```\n",
    "#### Part 5: \n",
    "\n",
    "Change the column titles to `\"Jan\", \"Feb\", \"Mar\", \"Apr\", \"May\", \"Jun\", \"Jul\", \"Aug\", \"Sep\", \"Oct\", \"Nov\", \"Dec\"`"
   ]
  },
  {
   "cell_type": "code",
   "execution_count": null,
   "metadata": {
    "deletable": false,
    "nbgrader": {
     "cell_type": "code",
     "checksum": "2121e1bcdf3d58a8c2296ea191eae555",
     "grade": true,
     "grade_id": "cell-b5fef10b50625130",
     "locked": false,
     "points": 0,
     "schema_version": 3,
     "solution": true,
     "task": false
    }
   },
   "outputs": [],
   "source": [
    "# Part 5\n",
    "\n",
    "# YOUR CODE HERE"
   ]
  },
  {
   "cell_type": "code",
   "execution_count": null,
   "metadata": {
    "deletable": false,
    "editable": false,
    "nbgrader": {
     "cell_type": "code",
     "checksum": "7e8012f12e608baf876cc7677da9369a",
     "grade": false,
     "grade_id": "cell-be80dc53368d02f3",
     "locked": true,
     "schema_version": 3,
     "solution": false,
     "task": false
    }
   },
   "outputs": [],
   "source": [
    "# check the result\n",
    "print(piv.head())"
   ]
  },
  {
   "cell_type": "markdown",
   "metadata": {
    "deletable": false,
    "editable": false,
    "nbgrader": {
     "cell_type": "markdown",
     "checksum": "3e65b94b02fb8db8d51f4100599f0488",
     "grade": false,
     "grade_id": "cell-248bd47a0f665d74",
     "locked": true,
     "schema_version": 3,
     "solution": false,
     "task": false
    }
   },
   "source": [
    "```\n",
    "        Jan    Feb    Mar    Apr    May    Jun    Jul    Aug    Sep    Oct   ...\n",
    "hour                                                                         ...\n",
    "1     5.441  4.521  0.392  0.200  0.357  0.162  0.200  0.131  0.101  0.141   ...\n",
    "2     0.323  0.104  0.056  0.136  0.048  0.072  0.150  0.149  0.120  0.099   ...\n",
    "3     0.077  0.050  0.093  0.128  0.115  0.136  0.122  0.107  0.120  0.091   ...\n",
    "4     0.056  0.107  0.072  0.131  0.075  0.099  0.094  0.098  0.104  0.098   ...\n",
    "5     0.115  0.045  0.056  0.133  0.085  0.093  0.146  0.043  0.093  0.104   ...\n",
    "...\n",
    "```\n",
    "#### Part 6: save the pivoted data as an excel sheet called `\"totals.xlsx\"`\n",
    "* Name the sheet `\"Pivot\"` using the `sheet_name` argument"
   ]
  },
  {
   "cell_type": "code",
   "execution_count": null,
   "metadata": {
    "deletable": false,
    "nbgrader": {
     "cell_type": "code",
     "checksum": "88a648de3f63f15e2f158b5892b9ceec",
     "grade": true,
     "grade_id": "cell-082cdaa740043767",
     "locked": false,
     "points": 0,
     "schema_version": 3,
     "solution": true,
     "task": false
    }
   },
   "outputs": [],
   "source": [
    "# Part 6\n",
    "\n",
    "# YOUR CODE HERE"
   ]
  },
  {
   "cell_type": "markdown",
   "metadata": {
    "deletable": false,
    "editable": false,
    "nbgrader": {
     "cell_type": "markdown",
     "checksum": "85658232507bf85117d7582fc650fa3e",
     "grade": false,
     "grade_id": "cell-ac0fe5dca17461c8",
     "locked": true,
     "schema_version": 3,
     "solution": false,
     "task": false
    }
   },
   "source": [
    "* download the excel file and check it opens and contains the data above"
   ]
  },
  {
   "cell_type": "markdown",
   "metadata": {
    "deletable": false,
    "editable": false,
    "nbgrader": {
     "cell_type": "markdown",
     "checksum": "99b837f3eeab452656144a08f4c246b3",
     "grade": false,
     "grade_id": "cell-92e468e0003b0c8f",
     "locked": true,
     "schema_version": 3,
     "solution": false,
     "task": false
    }
   },
   "source": [
    "### Task 8: \n",
    "\n",
    "* Copy the content from all cells that start with `# Part 1`, `# Part 2`, `# Part 3`, `# Part 4`, `# Part 5`, `# Part 6` to a single script in a new Notebook and check again it works.\n",
    "* Download or copy the code into a python `.py` file, check it works from fresh in Spyder. (You will need the input data and in the same folder on your hard disk.)\n",
    "* Submit only the .py file, your script will generate the output from scratch on the grading server. The excel file it generates should be identical to the one on moodle."
   ]
  },
  {
   "cell_type": "markdown",
   "metadata": {
    "deletable": false,
    "editable": false,
    "nbgrader": {
     "cell_type": "markdown",
     "checksum": "27eec2d6ec6c546218e75edccb73e052",
     "grade": false,
     "grade_id": "cell-2874a558eb9a14be",
     "locked": true,
     "schema_version": 3,
     "solution": false,
     "task": false
    }
   },
   "source": [
    "\n",
    "```\n",
    "\n",
    "\n",
    "```\n",
    "\n",
    "---\n",
    "### Extra Visualisation (not for submiting)\n",
    "\n",
    "Plotting your data should result in this:"
   ]
  },
  {
   "cell_type": "code",
   "execution_count": null,
   "metadata": {
    "deletable": false,
    "editable": false,
    "nbgrader": {
     "cell_type": "code",
     "checksum": "5607745685e39ba88febb95de7b4b782",
     "grade": false,
     "grade_id": "cell-1a98fb0d09d1aa76",
     "locked": true,
     "schema_version": 3,
     "solution": false,
     "task": false
    }
   },
   "outputs": [],
   "source": [
    "%matplotlib inline\n",
    "ax1 = piv.plot()\n",
    "ax1.figure.savefig(\"day21_months.png\")"
   ]
  },
  {
   "cell_type": "markdown",
   "metadata": {
    "deletable": false,
    "editable": false,
    "nbgrader": {
     "cell_type": "markdown",
     "checksum": "d885cc42e0390b3dd0de72403d6d31ea",
     "grade": false,
     "grade_id": "cell-194e061e5c657374",
     "locked": true,
     "schema_version": 3,
     "solution": false,
     "task": false
    }
   },
   "source": [
    "Expected Result:\n",
    "![](Figures/d21m.png)"
   ]
  },
  {
   "cell_type": "code",
   "execution_count": null,
   "metadata": {
    "deletable": false,
    "editable": false,
    "nbgrader": {
     "cell_type": "code",
     "checksum": "07eeb4ceb0635afd9bd1db1882c2955b",
     "grade": false,
     "grade_id": "cell-693ca130b468bb0a",
     "locked": true,
     "schema_version": 3,
     "solution": false,
     "task": false
    }
   },
   "outputs": [],
   "source": [
    "import matplotlib.pyplot as plt\n",
    "\n",
    "plt.matshow(piv)\n",
    "\n",
    "plt.xlabel('Month', fontsize = 12)\n",
    "plt.ylabel('Hour', fontsize = 12)\n",
    "plt.show()"
   ]
  },
  {
   "cell_type": "markdown",
   "metadata": {
    "deletable": false,
    "editable": false,
    "nbgrader": {
     "cell_type": "markdown",
     "checksum": "b5d6bc41b7630adb46d13310424606d6",
     "grade": false,
     "grade_id": "cell-f94cad9b60788816",
     "locked": true,
     "schema_version": 3,
     "solution": false,
     "task": false
    }
   },
   "source": [
    "Expected Result:\n",
    "![](Figures/energymat.png)"
   ]
  }
 ],
 "metadata": {
  "hide_input": false,
  "kernelspec": {
   "display_name": "Python 3",
   "language": "python",
   "name": "python3"
  },
  "language_info": {
   "codemirror_mode": {
    "name": "ipython",
    "version": 3
   },
   "file_extension": ".py",
   "mimetype": "text/x-python",
   "name": "python",
   "nbconvert_exporter": "python",
   "pygments_lexer": "ipython3",
   "version": "3.7.10"
  },
  "toc": {
   "base_numbering": 1,
   "nav_menu": {},
   "number_sections": true,
   "sideBar": true,
   "skip_h1_title": false,
   "title_cell": "Table of Contents",
   "title_sidebar": "Contents",
   "toc_cell": false,
   "toc_position": {},
   "toc_section_display": true,
   "toc_window_display": false
  }
 },
 "nbformat": 4,
 "nbformat_minor": 1
}
