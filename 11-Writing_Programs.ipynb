{
 "cells": [
  {
   "cell_type": "markdown",
   "metadata": {
    "deletable": false,
    "editable": false,
    "nbgrader": {
     "cell_type": "markdown",
     "checksum": "39572ad44eabf29de013ea2a4503d4a6",
     "grade": false,
     "grade_id": "cell-e16f08659cce93ea",
     "locked": true,
     "schema_version": 3,
     "solution": false,
     "task": false
    }
   },
   "source": [
    "Be sure to do all exercises and run all completed code cells. \n",
    "\n",
    "If anything goes wrong, **restart the kernel** (in the menubar, select Kernel$\\rightarrow$Restart)."
   ]
  },
  {
   "cell_type": "markdown",
   "metadata": {
    "deletable": false,
    "editable": false,
    "nbgrader": {
     "cell_type": "markdown",
     "checksum": "20ed87f59d5261edc30851961107ec8c",
     "grade": false,
     "grade_id": "cell-50b9cb0b3970f0e6",
     "locked": true,
     "schema_version": 3,
     "solution": false,
     "task": false
    }
   },
   "source": [
    "---"
   ]
  },
  {
   "cell_type": "markdown",
   "metadata": {
    "deletable": false,
    "editable": false,
    "nbgrader": {
     "cell_type": "markdown",
     "checksum": "305154ae8f5869b383e7f1d8ba3ff8fa",
     "grade": false,
     "grade_id": "cell-4e5ee4a3f8d77872",
     "locked": true,
     "schema_version": 3,
     "solution": false,
     "task": false
    }
   },
   "source": [
    "# Writing Programs\n",
    "\n",
    "See **10. Notes on Debugging** before going through this lesson. \n",
    "\n",
    "Adapted in part from *The Way of the Program* in https://openbookproject.net/thinkcs/python/english3e/way_of_the_program.html\n",
    "\n",
    "## Introduction\n",
    "\n",
    "The most important skill using computers in Science and Engineering is **problem\n",
    "solving**.  \n",
    "Problem solving means the ability to formulate problems, think\n",
    "creatively about solutions, and express a solution clearly and accurately. \n",
    "\n",
    "All computer languages include the following core components, which you have now seen:\n",
    "\n",
    "1. **inputs**: Getting data from the keyboard, a file, or some other device.\n",
    "2. **outputs**: Displaying data on the screen or sending data to a file, etc.\n",
    "3. **maths**: Performing mathematical operations.\n",
    "4. **conditional execution**: Check if certain conditions are true and execute some code only when this is so.\n",
    "5. **repetition**: Perform some action repeatedly, usually with some variation.\n",
    "\n",
    "Every program, no matter how complicated, is made up of variations on these core building-blocks.  \n",
    "\n",
    "Programming is simply the process of breaking a *large, complex task* into *smaller and smaller subtasks* until the\n",
    "subtasks are simple enough to be performed with sequences of these basic instructions."
   ]
  },
  {
   "cell_type": "markdown",
   "metadata": {
    "deletable": false,
    "editable": false,
    "nbgrader": {
     "cell_type": "markdown",
     "checksum": "80f01c43b089c0ab52d3167593f2e8f6",
     "grade": false,
     "grade_id": "cell-3bc05d20fbd7d209",
     "locked": true,
     "schema_version": 3,
     "solution": false,
     "task": false
    }
   },
   "source": [
    "## Modelling the Problem\n",
    "\n",
    "Modelling does not just mean writing a computer simulation of a problem. It can be a mathematical model, a physical model, or just a sketch of the basic features of the situation.\n",
    "\n",
    "When you are faced with any task you want to perform, follow the procedure below:\n",
    "\n",
    "1. think what you have and what you want to achieve: what are your (a) *inputs* and (b) *outputs* \n",
    "2. write down on paper basic steps you would perform by hand  to get from (a) to (b): an *algorithm*.\n",
    "3. Start with a simple working example or, if you can't find one, a list of commented steps *outlining* the procedure above that you will follow (*\"pseudocode\"*).\n",
    "4. Write the program from the middle out:\n",
    "    * Start with the *core* components and test they work on a simple case.\n",
    "    * Build more complexity around this, one step at a time, testing as you go.\n",
    "5. Experiment, play around, try things (but make back-ups) and debug until it works as required.\n",
    "\n",
    "### Mental Models to Algorithms\n",
    "\n",
    "Start by sketching (with a pencil and paper) the process you want to make the computer perform. This can be in the form of a numbered list, a flow chart, a diagram or sketch, or anything else that helps you visualise the problem.  \n",
    "If there are mathematical steps write the equations and convert them into the form they must be used in a Python script.  \n",
    "If there are logical steps (such as `IF`) then write these as a diagram with arrows and options.  \n",
    "\n",
    "Next think of the **most simple example** you can of the problem. Do the steps by hand and then write what you did in a logical series of steps and instructions. You can then start converting this to *Psudocode*."
   ]
  },
  {
   "cell_type": "markdown",
   "metadata": {
    "deletable": false,
    "editable": false,
    "nbgrader": {
     "cell_type": "markdown",
     "checksum": "7976468fa0517d3750aaf4cd17e0c64a",
     "grade": false,
     "grade_id": "cell-7ff84524379315cb",
     "locked": true,
     "schema_version": 3,
     "solution": false,
     "task": false
    }
   },
   "source": [
    "## Structuring your Code\n",
    "\n",
    "### Using Comments\n",
    "\n",
    "A good program contains a lot of useful comments (any line following a `#` in the code).\n",
    "These can be to help you understand, modify and debug your code at a later date, or to make it easier for the next person to use it. Good comments can be used to label units, which are not used by Python, and to tell you what different symbols and variables mean, as well as how things link together.\n",
    "\n",
    "You can also use comments to add placemarkers for things you want to include later, or to help you build new code from *Pseudocode* and lists of human-readable steps."
   ]
  },
  {
   "cell_type": "markdown",
   "metadata": {
    "deletable": false,
    "editable": false,
    "nbgrader": {
     "cell_type": "markdown",
     "checksum": "94e903a95153a32ababd30a1d6dc3a24",
     "grade": false,
     "grade_id": "cell-472dbbca8fdf4d25",
     "locked": true,
     "schema_version": 3,
     "solution": false,
     "task": false
    }
   },
   "source": [
    "### Pseudocode\n",
    "\n",
    "Pseudocode are the above steps, but with the instructions written in the positions that they would be in a real program. You do not need to use the actual Python syntax here, just instructions such as:\n",
    "```\n",
    "#1 SET UP MY VARIABLES AND FUNCTIONS\n",
    "#2 REPEAT THE NEXT STEPS for 10 INITIAL VALUES:\n",
    "    #2.1 DO SOME INITIAL TASK\n",
    "    #2.2 SET AN INITIAL VALUE FOR something\n",
    "    #2.3 REPEAT THE X METHOD while SOME CONDITION (ABOUT something) IS TRUE:\n",
    "        #2.3.1 THE X METHOD GOES HERE\n",
    "        #2.3.2 UPDATE THE VALUE OF something\n",
    "    #2.4 STORE WHATEVER RESULT WAS FOUND IN 2.3 \n",
    "#3 CLEAN UP, DO PLOTS AND SAVE DATA\n",
    "#4 HAVE A NICE CUP OF TEA\n",
    "```\n",
    "\n",
    "### Building Your Programme\n",
    "\n",
    "The most important thing here is: **do not try to write the whole programme at once!**  \n",
    "Start with the most basic core component (`THE X METHOD`) and test it works correctly in as many circumstances as you can think of. If there are lots of steps to it, or you will want to use it more than once then write it as a *function* you can use inside the loops.\n",
    "\n",
    "Once the middle part works build the next step around it. Do not forget to make the old part consistent with the alterations you have made. For example, if you used a single initial value in developing `THE X METHOD`, and are replacing it with a series of values taken from a FOR loop, then you will need to make sure these changes still work in `THE X METHOD`.\n",
    "\n",
    "You will need to constantly **test and debug** for every minor change you make (see the next section)."
   ]
  },
  {
   "cell_type": "markdown",
   "metadata": {
    "deletable": false,
    "editable": false,
    "nbgrader": {
     "cell_type": "markdown",
     "checksum": "667242e41ab6e5ad898bbde7905baa84",
     "grade": false,
     "grade_id": "cell-5c507894a1baf697",
     "locked": true,
     "schema_version": 3,
     "solution": false,
     "task": false
    }
   },
   "source": [
    "### Example: Number Guessing Game\n",
    "\n",
    "The game: Person A chooses a number from 1 to 10 *at random* and person B has to guess the number to win. We must simulate the situation and compare it to the result from probability theory that the probability of winning is $\\displaystyle P(win)=0.1$.\n",
    "\n",
    "#### Sketch Model:\n",
    "\n",
    "1. I'll have to pick a random number X for person A and another Y for person B\n",
    "2. I'll have to compare if X is equal to Y to see if it a winning game.\n",
    "3. I'll have to repeat steps 1--3 many times (100? 1000?), and \n",
    "4. look at the proportion of wins.\n",
    "5. To do this I'll have to keep track of the number of wins from step 2\n",
    "\n",
    "#### Pseudo-code:\n",
    "\n",
    "Note we have to put step 3 logically above 1 and 2 since it *includes* repeating them. The numbers below refer to the steps above.\n",
    "\n",
    "```\n",
    "#5.1 Set a win counter at zero\n",
    "#3. repeat the process below for 1000 times -- set up a counter from 1 to 1000\n",
    "    #1 pick two random integers X and Y in the range 1-10\n",
    "    #2 compare X and Y to see if same:\n",
    "        #5.2 if true then add 1 to win counter\n",
    "#4. print the number of wins/1000 to give the proportion of wins\n",
    "```\n",
    "I wrote the steps as it occurred to me that it would be necessary. For example step 5.1 only became apparent once I knew I'd have to add 1 to a counter, so it had to start at some value (0).  \n",
    "Some of these steps will require more thought, but lets start to get something working first.\n",
    "\n",
    "#### Building the Programme:  \n",
    "\n",
    "We start by building and testing the core component: the random number generator. For this we will look on the web and in the manuals and find that the `random` module can generate random numbers. We see that there is a basic `random.random` function that returns a float in the range zero to one, so we test it."
   ]
  },
  {
   "cell_type": "code",
   "execution_count": null,
   "metadata": {
    "ExecuteTime": {
     "end_time": "2019-02-01T22:48:33.807845Z",
     "start_time": "2019-02-01T22:48:33.799848Z"
    },
    "deletable": false,
    "editable": false,
    "nbgrader": {
     "cell_type": "code",
     "checksum": "93a587a11f245bc2f43d18b034cec318",
     "grade": false,
     "grade_id": "cell-7876edacf3063888",
     "locked": true,
     "schema_version": 3,
     "solution": false,
     "task": false
    }
   },
   "outputs": [],
   "source": [
    "import random\n",
    "X = random.random()\n",
    "print(X)"
   ]
  },
  {
   "cell_type": "markdown",
   "metadata": {
    "deletable": false,
    "editable": false,
    "nbgrader": {
     "cell_type": "markdown",
     "checksum": "ce3131e46cc6003785b04b8e5511bf70",
     "grade": false,
     "grade_id": "cell-98b382d04e1d09a4",
     "locked": true,
     "schema_version": 3,
     "solution": false,
     "task": false
    }
   },
   "source": [
    "Great! The only problem is we want an integer in the range 1$-$10.  \n",
    "This is easily done multiplying the result by 10 and using `int()`.  \n",
    "\n",
    "```python\n",
    "X = int(10*random.random())\n",
    "```\n",
    "\n",
    "Now we test it 50 times (in a FOR loop) to make sure it's doing the right thing now (`i` is just a counter that we never use):"
   ]
  },
  {
   "cell_type": "code",
   "execution_count": null,
   "metadata": {
    "ExecuteTime": {
     "end_time": "2019-02-01T22:48:33.819844Z",
     "start_time": "2019-02-01T22:48:33.812848Z"
    },
    "deletable": false,
    "editable": false,
    "nbgrader": {
     "cell_type": "code",
     "checksum": "79306db368e28f4a1c0d459135422424",
     "grade": false,
     "grade_id": "cell-e279698a307c633d",
     "locked": true,
     "schema_version": 3,
     "solution": false,
     "task": false
    }
   },
   "outputs": [],
   "source": [
    "import random\n",
    "\n",
    "for i in range(50):\n",
    "    X = int(10*random.random())\n",
    "    print(X, end=' ')"
   ]
  },
  {
   "cell_type": "markdown",
   "metadata": {
    "deletable": false,
    "editable": false,
    "nbgrader": {
     "cell_type": "markdown",
     "checksum": "dbb7f125d1a14e654689b8478f3949e6",
     "grade": false,
     "grade_id": "cell-4ecd05cdaa036b61",
     "locked": true,
     "schema_version": 3,
     "solution": false,
     "task": false
    }
   },
   "source": [
    "But these numbers go from 0,..., 9.\n",
    "\n",
    "* Remember that `int()` simply cuts off the decimal point, so we're getting a value from [0,1,2,3,4,5,6,7,8,9]. \n",
    "* OK, let's add one:"
   ]
  },
  {
   "cell_type": "code",
   "execution_count": null,
   "metadata": {
    "ExecuteTime": {
     "end_time": "2019-02-01T22:48:33.830854Z",
     "start_time": "2019-02-01T22:48:33.824847Z"
    },
    "deletable": false,
    "editable": false,
    "nbgrader": {
     "cell_type": "code",
     "checksum": "972bb548eef0c9c2de985144c9fe8ec2",
     "grade": false,
     "grade_id": "cell-53d8657067aaa4de",
     "locked": true,
     "schema_version": 3,
     "solution": false,
     "task": false
    }
   },
   "outputs": [],
   "source": [
    "import random\n",
    "\n",
    "for i in range(50):\n",
    "    X = int(10*random.random()+1)\n",
    "    print(X, end=' ')"
   ]
  },
  {
   "cell_type": "markdown",
   "metadata": {
    "deletable": false,
    "editable": false,
    "nbgrader": {
     "cell_type": "markdown",
     "checksum": "72edd3702b334dd904b0b6fc8650d37b",
     "grade": false,
     "grade_id": "cell-be62f48f7fee75f0",
     "locked": true,
     "schema_version": 3,
     "solution": false,
     "task": false
    }
   },
   "source": [
    "Seems to be working! We might as well leave the FOR loop in now, since we'll need it in the final programme anyway.  \n",
    "\n",
    "Now to generate two numbers and compare them (remember `==` is the question: \"is it equal to?\"):"
   ]
  },
  {
   "cell_type": "code",
   "execution_count": null,
   "metadata": {
    "ExecuteTime": {
     "end_time": "2019-02-01T22:48:33.857847Z",
     "start_time": "2019-02-01T22:48:33.841868Z"
    },
    "deletable": false,
    "editable": false,
    "nbgrader": {
     "cell_type": "code",
     "checksum": "3cd10ec5c404ac0d9f8305e52130e361",
     "grade": false,
     "grade_id": "cell-0ec2d7c86c23c66e",
     "locked": true,
     "schema_version": 3,
     "solution": false,
     "task": false
    }
   },
   "outputs": [],
   "source": [
    "import random\n",
    "\n",
    "for i in range(20):\n",
    "    X = int(10*random.random()+1)\n",
    "    Y = int(10*random.random()+1)\n",
    "    print(X, Y, X == Y, ';')"
   ]
  },
  {
   "cell_type": "markdown",
   "metadata": {
    "deletable": false,
    "editable": false,
    "nbgrader": {
     "cell_type": "markdown",
     "checksum": "b05018a2a5cf0a4b824c2cfb9aa5ebb3",
     "grade": false,
     "grade_id": "cell-5cdaf5a515a9d15b",
     "locked": true,
     "schema_version": 3,
     "solution": false,
     "task": false
    }
   },
   "source": [
    "Right. Now this works we can replace the `print` function with an IF condition: "
   ]
  },
  {
   "cell_type": "code",
   "execution_count": null,
   "metadata": {
    "ExecuteTime": {
     "end_time": "2019-02-01T22:48:33.989847Z",
     "start_time": "2019-02-01T22:48:33.860846Z"
    },
    "deletable": false,
    "editable": false,
    "nbgrader": {
     "cell_type": "code",
     "checksum": "aab408f4053409a050ae34bc134ab1d5",
     "grade": false,
     "grade_id": "cell-841a3e2b800bda1e",
     "locked": true,
     "schema_version": 3,
     "solution": false,
     "task": false
    }
   },
   "outputs": [],
   "source": [
    "import random\n",
    "\n",
    "for i in range(20):\n",
    "    X = int(10*random.random()+1)\n",
    "    Y = int(10*random.random()+1)\n",
    "    if X == Y:\n",
    "        wins = wins+1"
   ]
  },
  {
   "cell_type": "markdown",
   "metadata": {
    "deletable": false,
    "editable": false,
    "nbgrader": {
     "cell_type": "markdown",
     "checksum": "b4669a018b864730e442b5f992cb2bd0",
     "grade": false,
     "grade_id": "cell-8fa93b17e72349f4",
     "locked": true,
     "schema_version": 3,
     "solution": false,
     "task": false
    }
   },
   "source": [
    "Oops! I forgot to give a starting value to `wins`. \n",
    "\n",
    "#### Fix this error (curt and paste) in the cell below and rerun the code before moving on."
   ]
  },
  {
   "cell_type": "code",
   "execution_count": null,
   "metadata": {
    "deletable": false,
    "nbgrader": {
     "cell_type": "code",
     "checksum": "7b459d60a6d93b23cfea6505c1323f2c",
     "grade": true,
     "grade_id": "cell-e0c8aee671eaaa9f",
     "locked": false,
     "points": 0,
     "schema_version": 3,
     "solution": true,
     "task": false
    }
   },
   "outputs": [],
   "source": [
    "# YOUR CODE HERE"
   ]
  },
  {
   "cell_type": "markdown",
   "metadata": {
    "deletable": false,
    "editable": false,
    "nbgrader": {
     "cell_type": "markdown",
     "checksum": "18d7ac9b1fd3aa05535b4df7a602da46",
     "grade": false,
     "grade_id": "cell-9b587d513eb553eb",
     "locked": true,
     "schema_version": 3,
     "solution": false,
     "task": false
    }
   },
   "source": [
    "```\n",
    ".\n",
    ".\n",
    ".\n",
    ".\n",
    ".\n",
    ".\n",
    ".\n",
    ".\n",
    ".\n",
    "```"
   ]
  },
  {
   "cell_type": "markdown",
   "metadata": {
    "deletable": false,
    "editable": false,
    "nbgrader": {
     "cell_type": "markdown",
     "checksum": "c10cc9a79e07749d67d9c92e15e379d4",
     "grade": false,
     "grade_id": "cell-da01b957df880649",
     "locked": true,
     "schema_version": 3,
     "solution": false,
     "task": false
    }
   },
   "source": [
    "Only now we think it's working do we do it for 1000 turns:"
   ]
  },
  {
   "cell_type": "code",
   "execution_count": null,
   "metadata": {
    "ExecuteTime": {
     "end_time": "2019-02-01T22:48:58.318784Z",
     "start_time": "2019-02-01T22:48:58.310794Z"
    },
    "deletable": false,
    "editable": false,
    "nbgrader": {
     "cell_type": "code",
     "checksum": "5ac0315797189c7ee2a5218bc56779e9",
     "grade": false,
     "grade_id": "cell-b673f714328b24ad",
     "locked": true,
     "schema_version": 3,
     "solution": false,
     "task": false
    }
   },
   "outputs": [],
   "source": [
    "import random\n",
    "\n",
    "N = 1000\n",
    "wins = 0\n",
    "for i in range(N):\n",
    "    X = int(10*random.random()+1)\n",
    "    Y = int(10*random.random()+1)\n",
    "    if X == Y:\n",
    "        wins = wins+1\n",
    "print(wins, N)\n",
    "print(1.0*wins/N)"
   ]
  },
  {
   "cell_type": "markdown",
   "metadata": {
    "deletable": false,
    "editable": false,
    "nbgrader": {
     "cell_type": "markdown",
     "checksum": "b8df90b9071ccb077eb42b42ab7bb57b",
     "grade": false,
     "grade_id": "cell-a56011b4a793d0fd",
     "locked": true,
     "schema_version": 3,
     "solution": false,
     "task": false
    }
   },
   "source": [
    "Excellent! And the result seems to support the theoretical value. \n",
    "\n",
    "**Exercise:** Check this with better statistics by changing $N$ to a million (set `N=1e6`) and see if it agrees.  \n",
    "\n",
    "**Note**: This will introduce an error that you will need to correct by yourself by inspecting the error message.  \n",
    "Look at the last line `TypeError:` and try to work out what it means."
   ]
  },
  {
   "cell_type": "code",
   "execution_count": null,
   "metadata": {
    "deletable": false,
    "nbgrader": {
     "cell_type": "code",
     "checksum": "76f22bad9b08767a7b737f830688106d",
     "grade": true,
     "grade_id": "cell-6fb18d1f40c79ee9",
     "locked": false,
     "points": 0,
     "schema_version": 3,
     "solution": true,
     "task": false
    }
   },
   "outputs": [],
   "source": [
    "# YOUR CODE HERE"
   ]
  },
  {
   "cell_type": "markdown",
   "metadata": {
    "deletable": false,
    "editable": false,
    "nbgrader": {
     "cell_type": "markdown",
     "checksum": "920c7a64e94c597590e7a300fb09bf61",
     "grade": false,
     "grade_id": "cell-ad6a8d16ff737844",
     "locked": true,
     "schema_version": 3,
     "solution": false,
     "task": false
    }
   },
   "source": [
    "\n",
    "[Tell me the answer!](solutions/sol1101.ipynb)\n",
    "___\n",
    "\n",
    "\n",
    "One thing to notice here is how many refinements I had to make to get just a simple program working. \n",
    "\n",
    "The more experienced you get the more steps you'll be able to make in one go, but it takes practice to become proficient. The process of debugging and refinement is how most programmers actually program from scratch. Also relying heavily on finding a similar bit of code and editing it to suit their needs.\n",
    "\n",
    "See the previous section on **Debugging Code** for details on solving errors and debugging exercises."
   ]
  },
  {
   "cell_type": "markdown",
   "metadata": {
    "deletable": false,
    "editable": false,
    "nbgrader": {
     "cell_type": "markdown",
     "checksum": "eedbe616a04e361deb3fd82c944f6a5a",
     "grade": false,
     "grade_id": "cell-63cf53c66b3c43c2",
     "locked": true,
     "schema_version": 3,
     "solution": false,
     "task": false
    }
   },
   "source": [
    "### Exercise: The Dice Game\n",
    "\n",
    "A great way of programming is to take an existing code and modify it for your own task.  \n",
    "\n",
    "Take the working code for the last example above and modify it in the following ways:\n",
    "\n",
    "**Part 1.** Simulate a person rolling three dice $A, B, C$ (each with numbers from 1 to 6). Scores are calculated according to the following rules. Is the person likely to win on average, or lose?\n",
    "* **$A=B=C=N$**: Plus N points.\n",
    "* **$A, B, C$ *not* all same, and $A+B+C=M\\leq 6$**: Minus M points.\n",
    "* **$A, B, C$ *not* all same, and $A+B+C=M > 6$**: No points lost/gained.\n",
    "    "
   ]
  },
  {
   "cell_type": "code",
   "execution_count": null,
   "metadata": {
    "deletable": false,
    "nbgrader": {
     "cell_type": "code",
     "checksum": "2c1c46aabf0810d750ed7d652c31b376",
     "grade": true,
     "grade_id": "cell-a8c5060a2c96137f",
     "locked": false,
     "points": 0,
     "schema_version": 3,
     "solution": true,
     "task": false
    }
   },
   "outputs": [],
   "source": [
    "# Part 1: modify the last working code above here\n",
    "# YOUR CODE HERE"
   ]
  },
  {
   "cell_type": "markdown",
   "metadata": {
    "deletable": false,
    "editable": false,
    "nbgrader": {
     "cell_type": "markdown",
     "checksum": "2c2823247694859efbc1b1ea997d8601",
     "grade": false,
     "grade_id": "cell-4b5fb7c983713240",
     "locked": true,
     "schema_version": 3,
     "solution": false,
     "task": false
    }
   },
   "source": [
    "\n",
    "[Click here to reveal model solution](solutions/sol1102.ipynb)\n"
   ]
  },
  {
   "cell_type": "markdown",
   "metadata": {
    "deletable": false,
    "editable": false,
    "nbgrader": {
     "cell_type": "markdown",
     "checksum": "b8656ce26412161347b3f7c13347bf3d",
     "grade": false,
     "grade_id": "cell-9eadb0a23c5798fa",
     "locked": true,
     "schema_version": 3,
     "solution": false,
     "task": false
    }
   },
   "source": [
    "**Part 2.** Simplify the programme by looking up and using the `random.choice` function."
   ]
  },
  {
   "cell_type": "code",
   "execution_count": null,
   "metadata": {
    "deletable": false,
    "nbgrader": {
     "cell_type": "code",
     "checksum": "0aca537e11c570038295f7feb3bbcc7a",
     "grade": true,
     "grade_id": "cell-771becd505be8ee2",
     "locked": false,
     "points": 0,
     "schema_version": 3,
     "solution": true,
     "task": false
    }
   },
   "outputs": [],
   "source": [
    "# Part 2: Copy the code above and modify it here.\n",
    "# YOUR CODE HERE\n"
   ]
  },
  {
   "cell_type": "markdown",
   "metadata": {
    "deletable": false,
    "editable": false,
    "nbgrader": {
     "cell_type": "markdown",
     "checksum": "eeb0e90598c9163b4431b19fb1a54b0e",
     "grade": false,
     "grade_id": "cell-783511c77212bfb4",
     "locked": true,
     "schema_version": 3,
     "solution": false,
     "task": false
    }
   },
   "source": [
    "\n",
    "[Click here for model solution](solutions/sol1103.ipynb)\n"
   ]
  },
  {
   "cell_type": "markdown",
   "metadata": {
    "deletable": false,
    "editable": false,
    "nbgrader": {
     "cell_type": "markdown",
     "checksum": "c48b3e99c80d38a23d1918d7485a8378",
     "grade": false,
     "grade_id": "cell-b6d0120c9e3c7fd3",
     "locked": true,
     "schema_version": 3,
     "solution": false,
     "task": false
    }
   },
   "source": [
    "## Practice Exercise 1a:\n",
    "\n",
    "### Rock/paper/scissors \n",
    "\n",
    "For this problem you will need to think through the logical steps of the problem **before** trying to modify your Dice Game code.\n",
    "* Remember to build your code **one step at a time** and print each step as you go along.\n",
    "\n",
    "The rules of rock/paper/scissors are:\n",
    "\n",
    "* Two people randomly choose between \"rock\", \"paper\" and \"scissors\".\n",
    "* **Rock** *beats* **Scissors**;\n",
    "* **Scisors** *beats* **Paper**;\n",
    "* **Paper** *beats* **rock**;\n",
    "* **same**: play again.\n",
    "\n",
    "Simulate this game and print the result until someone wins 2 hands in a row. \n",
    "\n",
    "You will need to use a `WHILE` loop to keep going until someone wins, and some conditional statements to check who wins each game (if anyone).\n",
    "\n",
    "Try to use the `.format()` method when printing the answer. You will have to replace the FOR loop to make this work properly.\n",
    "\n",
    "The output could be something like:\n",
    "```\n",
    "A chooses Paper,    B Chooses Paper       Draw!      score=(0,0)\n",
    "A chooses Paper,    B Chooses Scissors    B Wins!    score=(0,1)\n",
    "A chooses Rock,     B Chooses Rock        Draw!      score=(0,0)\n",
    "A chooses Paper,    B Chooses Scissors    B Wins!    score=(0,1)\n",
    "A chooses Paper,    B Chooses Rock        A Wins!    score=(1,0)\n",
    "A chooses Paper,    B Chooses Rock        A Wins!    score=(2,0)\n",
    "```"
   ]
  },
  {
   "cell_type": "code",
   "execution_count": null,
   "metadata": {
    "deletable": false,
    "nbgrader": {
     "cell_type": "code",
     "checksum": "b3f9026f06c35c8a6df65c84ea6cdd45",
     "grade": true,
     "grade_id": "cell-daf583bd75f19f96",
     "locked": false,
     "points": 0,
     "schema_version": 3,
     "solution": true,
     "task": false
    }
   },
   "outputs": [],
   "source": [
    "# YOUR CODE HERE"
   ]
  },
  {
   "cell_type": "markdown",
   "metadata": {
    "deletable": false,
    "editable": false,
    "nbgrader": {
     "cell_type": "markdown",
     "checksum": "ffde09bbde67ff923855d63bbb465bcb",
     "grade": false,
     "grade_id": "cell-80461c971008ce83",
     "locked": true,
     "schema_version": 3,
     "solution": false,
     "task": false
    }
   },
   "source": [
    "[Click here for model answer](solutions/sol1104.ipynb)\n",
    "\n",
    "---\n",
    "\n",
    "## Practice exercise 1b:\n",
    "\n",
    "### Average Number of Hands\n",
    "\n",
    "Can you modify the previous example so that it simulates the game for 1000 separate games and prints the average number of hands per game.  Hint:  Use a `FOR` loop for the number of games.\n",
    "\n",
    "* The answer should be about 6"
   ]
  },
  {
   "cell_type": "code",
   "execution_count": null,
   "metadata": {
    "deletable": false,
    "nbgrader": {
     "cell_type": "code",
     "checksum": "1b798b129237ebf261e670aef49db330",
     "grade": true,
     "grade_id": "cell-e61859c6ea1377a6",
     "locked": false,
     "points": 0,
     "schema_version": 3,
     "solution": true,
     "task": false
    }
   },
   "outputs": [],
   "source": [
    "# YOUR CODE HERE"
   ]
  },
  {
   "cell_type": "markdown",
   "metadata": {
    "deletable": false,
    "editable": false,
    "nbgrader": {
     "cell_type": "markdown",
     "checksum": "a9526ee83db4428737fc6c6f2d23b33c",
     "grade": false,
     "grade_id": "cell-fec1b944f5910c5d",
     "locked": true,
     "schema_version": 3,
     "solution": false,
     "task": false
    }
   },
   "source": [
    "[Click here for model answer](solutions/sol1105.ipynb)\n",
    "\n",
    "\n",
    "---\n",
    "\n",
    "# Practice Programming from Scratch\n",
    "### Worked Example for practice: NOT assessed\n",
    "\n",
    "## Euler Method for Numerical Integration\n",
    "\n",
    "#### Background:\n",
    "\n",
    "1. In engineering we often start with a *differential equation* of the form $\\dfrac{\\mathrm{d}y}{\\mathrm{d}x} = F(x,y)$ and need to *integrate* $F(x,y)$ with respect to $x$, to obtain $y(x)$.\n",
    "\n",
    "2. The formula for differentiation by small changes: \n",
    "$\\dfrac{\\mathrm{d}y}{\\mathrm{d}x} \\approx \\dfrac{y(x + \\delta x) - y(x)}{\\delta x} = F(x,y),$\n",
    "can be rearranged to *reverse differentiate* (integrate) the function $F$ with respect to $x$:  \n",
    "\n",
    "    * $y(x + \\delta x) = y(x) + F\\delta x$, where $\\delta x$ is a small change in $x$ (call it `dx` for simplicity).  \n",
    "        * This is **Euler's Method** of 1770.\n",
    "    * This can be used as an *iterative* scheme for finding the next $x_{i+1}$ from the current $x_i$.\n",
    "    * We must start with some *initial* $x_0$ then *integrate* forwards using the scheme above ($x_0$ relates to the *constant of integration* and can be any value.)\n",
    "\n",
    "This can be used to solve engineering problems where we know about forces, which relate to derivatives.    \n",
    "In the following heat-flow problem $F(u)=-k(u - T)$, where $u$ is the temperature inside the building, $T$ is the (constant) outside temperature $T=5$ (degrees C, but don't tell Python the units!) and $k$ is related to the thermal properties of the building.  \n",
    "\n",
    "##### Exercise:\n",
    "\n",
    "1. Use the Euler Method to plot an integral curve for the integrated function...  \n",
    "\n",
    "* **Do this!:**   \n",
    "    (a) a plan of how you would do this by hand,  \n",
    "    (b) work through *pseudocode* and  \n",
    "    (c) build your code bit-by-bit, to write a programme to solve the differential equation for heat flow from a building:  \n",
    "$\\dfrac{\\mathrm{d}u}{\\mathrm{d}t} = -k(u-T),$  \n",
    "    * Take `k=0.1` and `dt=4`. \n",
    "*  Draw the curve from $t=0$ to $t=24$ (you can think of being in hours).\n",
    "\n",
    "The steps are shown below to compare with the output from your code.\n",
    "\n",
    "| $t$   | $u(t)$ | $F(u)$ | $F\\delta t$ |\n",
    "|-------|--------|--------|:---------:|\n",
    "| 0.0 | 20.000 | -1.500 | -6.000 |\n",
    "| 4.0 | 14.000 | -0.900 | -3.600 |\n",
    "| 8.0 | 10.400 | -0.540 | -2.160 |\n",
    "| 12.0 | 8.240 | -0.324 | -1.296 |\n",
    "| 16.0 | 6.944 | -0.194 | -0.778 |\n",
    "| 20.0 | 6.166 | -0.117 | -0.467 |\n",
    "| 24.0 | 5.700 | -0.070 | -0.280 |\n",
    "\n",
    "2. Try changing the value of $\\delta t$ (e.g.: 8, 1, 0.5) and see how it affects the accuracy of the calculation.\n",
    "3. Try different values of the starting temperature and look at how long it takes to reach equilibrium.\n",
    "4. **Advanced:** Put in a variable external temperature $T$ (e.g. a sine function) and see how it responds..."
   ]
  }
 ],
 "metadata": {
  "hide_input": false,
  "kernelspec": {
   "display_name": "Python 3",
   "language": "python",
   "name": "python3"
  },
  "language_info": {
   "codemirror_mode": {
    "name": "ipython",
    "version": 3
   },
   "file_extension": ".py",
   "mimetype": "text/x-python",
   "name": "python",
   "nbconvert_exporter": "python",
   "pygments_lexer": "ipython3",
   "version": "3.8.3"
  },
  "toc": {
   "base_numbering": 1,
   "nav_menu": {},
   "number_sections": true,
   "sideBar": true,
   "skip_h1_title": false,
   "title_cell": "Table of Contents",
   "title_sidebar": "Contents",
   "toc_cell": false,
   "toc_position": {},
   "toc_section_display": true,
   "toc_window_display": false
  }
 },
 "nbformat": 4,
 "nbformat_minor": 1
}
