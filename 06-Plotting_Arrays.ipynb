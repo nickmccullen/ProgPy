{
 "cells": [
  {
   "cell_type": "markdown",
   "metadata": {
    "deletable": false,
    "editable": false,
    "nbgrader": {
     "cell_type": "markdown",
     "checksum": "39572ad44eabf29de013ea2a4503d4a6",
     "grade": false,
     "grade_id": "cell-e16f08659cce93ea",
     "locked": true,
     "schema_version": 3,
     "solution": false,
     "task": false
    }
   },
   "source": [
    "Be sure to do all exercises and run all completed code cells. \n",
    "\n",
    "If anything goes wrong, **restart the kernel** (in the menubar, select Kernel$\\rightarrow$Restart)."
   ]
  },
  {
   "cell_type": "markdown",
   "metadata": {
    "deletable": false,
    "editable": false,
    "nbgrader": {
     "cell_type": "markdown",
     "checksum": "20ed87f59d5261edc30851961107ec8c",
     "grade": false,
     "grade_id": "cell-50b9cb0b3970f0e6",
     "locked": true,
     "schema_version": 3,
     "solution": false,
     "task": false
    }
   },
   "source": [
    "---"
   ]
  },
  {
   "cell_type": "markdown",
   "metadata": {
    "deletable": false,
    "editable": false,
    "nbgrader": {
     "cell_type": "markdown",
     "checksum": "f8928a967dbcf1ce03d151a9459f9b17",
     "grade": false,
     "grade_id": "cell-03dbcf766c127e15",
     "locked": true,
     "schema_version": 3,
     "solution": false,
     "task": false
    }
   },
   "source": [
    "# Plotting and Arrays\n",
    "\n",
    "You have now seen the basic Python language (_\"syntax\"_) and programming methods.  \n",
    "These basic building blocks can be built-up to construct advanced programs for things such as:\n",
    "* solving the equations for engineering problems;\n",
    "* simulating the behaviour of constructions and other designs;\n",
    "* optimising structures, energy flows or other problems;\n",
    "* analysing data from measurements in order to present the results.\n",
    "\n",
    "For the last item you will need some extra tools, including how to plot your results in high-quality figures and how to load your data from files and save the results.\n",
    "\n",
    "In this section we will learn how to plot professional quality figures and save them for use in reports and presentations.  \n",
    "This section covers 2D plotting in this section but 3D can be seen in the supplementary notes.\n",
    "\n",
    "## General advice on working through these notes:\n",
    "\n",
    "New functions new methods of manipulating data will be introduced as they are needed.\n",
    "* **Keep a file or notebook** to make a note of the most useful functions and methods for you to look up when you need them, as it is impossible to remember everything.\n",
    "* For things you use less frequently **look them up on the internet** or in the manuals by searching for what you want to do and the keywords \"Python\" or \"Matplotlib\" along with any other snippets you remember. \n",
    "    * Most programmers consult the online guides frequently.\n",
    "\n",
    "## Importing Modules and Accessing Attributes\n",
    "\n",
    "In order to manipulate numerical data effectively we need to use a new data type called a numerical `array`.  \n",
    "These can be used more mathematically than lists and behave a little differently.  \n",
    "\n",
    "Arrays and plotting functions are imported from external libraries, in the same way we have already seen for the `math` and `numpy` libraries."
   ]
  },
  {
   "cell_type": "markdown",
   "metadata": {
    "deletable": false,
    "editable": false,
    "nbgrader": {
     "cell_type": "markdown",
     "checksum": "c33916cec4894256f0fb869ae3ba37ab",
     "grade": false,
     "grade_id": "cell-ff893767839994c9",
     "locked": true,
     "schema_version": 3,
     "solution": false,
     "task": false
    }
   },
   "source": [
    "### Matplotlib\n",
    "\n",
    "Matplotlib, and particularly its plotting capabilities in `pyplot`, are used to create publication quality figures of functions and data. The functionality is vast, and you will need to refer to the documentation frequently until you are familiar with what you need from it and the details of how it is used:  \n",
    "https://matplotlib.org/stable/tutorials/introductory/usage.html.   \n",
    "Most of the functionality we will be using are contained in the `pyplot` functionality of Matplotlib, which is normally accessed using:"
   ]
  },
  {
   "cell_type": "code",
   "execution_count": null,
   "metadata": {
    "ExecuteTime": {
     "end_time": "2019-02-01T21:54:55.195076Z",
     "start_time": "2019-02-01T21:54:54.886969Z"
    },
    "deletable": false,
    "editable": false,
    "nbgrader": {
     "cell_type": "code",
     "checksum": "e034f419129cf48eb72f8d2c2decbc70",
     "grade": false,
     "grade_id": "cell-82eada0ac1a7b980",
     "locked": true,
     "schema_version": 3,
     "solution": false,
     "task": false
    }
   },
   "outputs": [],
   "source": [
    "import matplotlib.pyplot as plt"
   ]
  },
  {
   "cell_type": "markdown",
   "metadata": {
    "deletable": false,
    "editable": false,
    "nbgrader": {
     "cell_type": "markdown",
     "checksum": "749dbaed0d76d0eca20f1239ff6a0fa9",
     "grade": false,
     "grade_id": "cell-2b59a9ed0c27107b",
     "locked": true,
     "schema_version": 3,
     "solution": false,
     "task": false
    }
   },
   "source": [
    "The various plotting tools and ways of specifying figure attributes are then accessed using the syntax:\n",
    "```python\n",
    "plt.ATTRIBUTE(ARGUMENTS)\n",
    "\n",
    "```"
   ]
  },
  {
   "cell_type": "markdown",
   "metadata": {
    "deletable": false,
    "editable": false,
    "nbgrader": {
     "cell_type": "markdown",
     "checksum": "1157bbcb8fe8b291a571c296be0e2181",
     "grade": false,
     "grade_id": "cell-6e8382a56f8670ce",
     "locked": true,
     "schema_version": 3,
     "solution": false,
     "task": false
    }
   },
   "source": [
    "## The Basics of Plotting\n",
    "\n",
    "In its simplest terms the `plot()` function in `pyplot` takes a list of $x$ values and plots each one on the $x-$axis against a  corresponding $y-$value from a list of $y$ values of the same length.\n",
    "\n",
    "This is demonstrated for the squares of $x=[1,2,3,4]$ below:"
   ]
  },
  {
   "cell_type": "code",
   "execution_count": null,
   "metadata": {
    "ExecuteTime": {
     "end_time": "2019-02-01T21:54:55.355013Z",
     "start_time": "2019-02-01T21:54:55.196965Z"
    },
    "deletable": false,
    "editable": false,
    "nbgrader": {
     "cell_type": "code",
     "checksum": "d2cb7157023088036002ccb88b4e9c71",
     "grade": false,
     "grade_id": "cell-395ddeb0f9c2666a",
     "locked": true,
     "schema_version": 3,
     "solution": false,
     "task": false
    }
   },
   "outputs": [],
   "source": [
    "import matplotlib.pyplot as plt\n",
    "\n",
    "xvals = [1, 2, 3, 4]\n",
    "yvals = [1, 4, 9, 16]\n",
    "\n",
    "plt.plot(xvals, yvals)\n",
    "\n",
    "plt.show()"
   ]
  },
  {
   "cell_type": "markdown",
   "metadata": {
    "deletable": false,
    "editable": false,
    "nbgrader": {
     "cell_type": "markdown",
     "checksum": "e0daef1f9333303519da5614a0fd64fe",
     "grade": false,
     "grade_id": "cell-d9cde7d3e091237d",
     "locked": true,
     "schema_version": 3,
     "solution": false,
     "task": false
    }
   },
   "source": [
    "**However:** there are two main methods of plotting figures, so the online documentation can sometimes be confusing at first.  \n",
    "\n",
    "[See the guide here](https://matplotlib.org/3.1.1/tutorials/introductory/pyplot.html) for the alternative way of making figures as used above. Although this may seem simpler at first (and looks like other languages such as MATLAB) the method used below is more flexible and [\"object oriented\"](https://en.wikipedia.org/wiki/Object-oriented_programming)."
   ]
  },
  {
   "cell_type": "markdown",
   "metadata": {
    "deletable": false,
    "editable": false,
    "nbgrader": {
     "cell_type": "markdown",
     "checksum": "c1aada9e10f3a4889754526d4d34406a",
     "grade": false,
     "grade_id": "cell-aadfcb514e8d8afb",
     "locked": true,
     "schema_version": 3,
     "solution": false,
     "task": false
    }
   },
   "source": [
    "### Creating a Figure\n",
    "\n",
    "The [`plt.subplots`](https://matplotlib.org/stable/api/_as_gen/matplotlib.pyplot.subplots.html#matplotlib.pyplot.subplots) function returns two things: a **fig**ure _canvas_ to construct a figure on, and a set of _**ax**es_ to draw specific plots on.\n",
    "* The `fig` object has `.ATTRIBUTES` for changing things such as the figure title, axis labels and decorations\n",
    "* The `ax` object has `.ATTRIBUTES` such as functions for specific plot types etc."
   ]
  },
  {
   "cell_type": "code",
   "execution_count": null,
   "metadata": {
    "ExecuteTime": {
     "end_time": "2019-02-01T21:54:55.355013Z",
     "start_time": "2019-02-01T21:54:55.196965Z"
    },
    "deletable": false,
    "editable": false,
    "nbgrader": {
     "cell_type": "code",
     "checksum": "a587fa7775bdcf39dd4ea3ecf4fb5e96",
     "grade": false,
     "grade_id": "cell-2b45cf31c297c756",
     "locked": true,
     "schema_version": 3,
     "solution": false,
     "task": false
    }
   },
   "outputs": [],
   "source": [
    "fig, ax = plt.subplots()"
   ]
  },
  {
   "cell_type": "markdown",
   "metadata": {
    "deletable": false,
    "editable": false,
    "nbgrader": {
     "cell_type": "markdown",
     "checksum": "1456f74233e648e9341d5d111f95d4c6",
     "grade": false,
     "grade_id": "cell-f5b0bff91fb2c257",
     "locked": true,
     "schema_version": 3,
     "solution": false,
     "task": false
    }
   },
   "source": [
    "Once you have some axes (on a figure) you can start drawing things directly on them.\n",
    "\n",
    "### Example: Square Wave\n",
    "\n",
    "To plot a \"square wave\" that switches between the values $y=+1,-1,+1,-1,\\dots$ every $\\pi$ radians:"
   ]
  },
  {
   "cell_type": "code",
   "execution_count": null,
   "metadata": {
    "deletable": false,
    "editable": false,
    "nbgrader": {
     "cell_type": "code",
     "checksum": "292d75607cda5e3e988c226634aebf1e",
     "grade": false,
     "grade_id": "cell-2f1e8297d69d8824",
     "locked": true,
     "schema_version": 3,
     "solution": false,
     "task": false
    }
   },
   "outputs": [],
   "source": [
    "import matplotlib.pyplot as plt\n",
    "\n",
    "# create a single set of axes on a figure\n",
    "fig, ax = plt.subplots()\n",
    "\n",
    "pi=3.14\n",
    "xvals = [-2*pi, -pi, -pi, 0, 0, pi, pi, 2*pi]\n",
    "yvals = [    1,   1,  -1,-1, 1,  1, -1,   -1]\n",
    "\n",
    "ax.plot(xvals, yvals)\n",
    "\n",
    "plt.show()"
   ]
  },
  {
   "cell_type": "markdown",
   "metadata": {
    "deletable": false,
    "editable": false,
    "nbgrader": {
     "cell_type": "markdown",
     "checksum": "141c86fe538338dd95a926a13d63b2fe",
     "grade": false,
     "grade_id": "cell-1855fda1e3a17eda",
     "locked": true,
     "schema_version": 3,
     "solution": false,
     "task": false
    }
   },
   "source": [
    "### Multiple axes on the same plot\n",
    "\n",
    "The possible arguments to `plt.subplots()` are given in the documentation here: https://matplotlib.org/stable/api/_as_gen/matplotlib.pyplot.subplots.html#matplotlib.pyplot.subplots\n",
    "\n",
    "```python\n",
    "matplotlib.pyplot.subplots(nrows=1, ncols=1, *, sharex=False, \n",
    "                  sharey=False, squeeze=True, subplot_kw=None, \n",
    "                  gridspec_kw=None, **fig_kw)\n",
    "```\n",
    "\n",
    "Of particular interest are the number of rows `nrows` and columns `ncols` of axes on the figure.  \n",
    "If you don't specify there will only be a single set of axes as above, but if you give two values as arguments they stand for the number of rows and number of columns.  \n",
    "The `ax` object will then be a `[list]` of axes or a set of axes, depending on how you unpack the returned values:"
   ]
  },
  {
   "cell_type": "markdown",
   "metadata": {
    "deletable": false,
    "editable": false,
    "nbgrader": {
     "cell_type": "markdown",
     "checksum": "29064ef52814100c21ec3815fa0ca8c8",
     "grade": false,
     "grade_id": "cell-40d28617130f5099",
     "locked": true,
     "schema_version": 3,
     "solution": false,
     "task": false
    }
   },
   "source": [
    "### Try out the following examples below to see what they do\n",
    "\n",
    "#### Two rows (one column by default) and the variable ax contains a list of two axes ax[0] and ax[1]\n",
    "```python\n",
    "fig, ax = plt.subplots(2)\n",
    "```\n",
    "\n",
    "\n",
    "#### a 2x2 grid of axes using the variable `axs` for multiple Axes: axs = [axs[0], axs[1], axs[2], axs[3]]\n",
    "```python\n",
    "fig, axs = plt.subplots(2, 2)\n",
    "```\n",
    "\n",
    "#### Each axis has its own variable name, for multiple Axes, here ax1 and ax2\n",
    "```python\n",
    "fig, (ax1, ax2) = plt.subplots(1, 2)\n",
    "```"
   ]
  },
  {
   "cell_type": "code",
   "execution_count": null,
   "metadata": {
    "deletable": false,
    "nbgrader": {
     "cell_type": "code",
     "checksum": "37b2c446c229749863faea7eb9fed663",
     "grade": true,
     "grade_id": "cell-a72cb95c632be541",
     "locked": false,
     "points": 0,
     "schema_version": 3,
     "solution": true,
     "task": false
    }
   },
   "outputs": [],
   "source": [
    "# YOUR CODE HERE"
   ]
  },
  {
   "cell_type": "markdown",
   "metadata": {
    "deletable": false,
    "editable": false,
    "nbgrader": {
     "cell_type": "markdown",
     "checksum": "8bcb7cef7f966ebbd14c550528094d52",
     "grade": false,
     "grade_id": "cell-41595c4964496589",
     "locked": true,
     "schema_version": 3,
     "solution": false,
     "task": false
    }
   },
   "source": [
    "## Numpy and Numerical Arrays\n",
    "\n",
    "Lists are useful but it can be fiddly to perform mathematical operations for each element, e.g.::\n",
    "\n",
    "```python \n",
    "b = [3*sin(x)**2+10 for x in a]\n",
    "```\n",
    "\n",
    "Also multiplying a list by a number is interpreted as adding the list to itself that number of times:\n",
    "\n",
    "```python\n",
    "alist = [1, 2, 3]\n",
    "print(alist+alist)\n",
    "print(alist*3)\n",
    "```\n",
    "> ```[1, 2, 3, 1, 2, 3]\n",
    "[1, 2, 3, 1, 2, 3, 1, 2, 3]```\n",
    "\n",
    "\n",
    "Another data type can be imported with the Numerical Python (NumPy) module that behave in a more mathematically logical way.  \n",
    "\n",
    "### Numpy\n",
    "\n",
    "NumPy is a Python library that provides efficient operation on arrays of data.  \n",
    "NumPy stores data in what are called *numerical arrays*, along with many functions for generating and methods for manipulating them.\n",
    "\n",
    "It is usually imported using the alias `np`:\n",
    "```python\n",
    "import numpy as np\n",
    "```\n",
    "You can then get help by using the `help(MODULE.THING)` command, for example type:\n",
    "```python\n",
    "help(np.random)\n",
    "```\n",
    "To see the help manual on the `random` functions in NumPy.  "
   ]
  },
  {
   "cell_type": "markdown",
   "metadata": {
    "deletable": false,
    "editable": false,
    "nbgrader": {
     "cell_type": "markdown",
     "checksum": "e9f26edcf0a04e8dd7ef1afe6e832f72",
     "grade": false,
     "grade_id": "cell-dfb8f9abd37623bc",
     "locked": true,
     "schema_version": 3,
     "solution": false,
     "task": false
    }
   },
   "source": [
    "### Converting Lists to Arrays"
   ]
  },
  {
   "cell_type": "markdown",
   "metadata": {
    "deletable": false,
    "editable": false,
    "nbgrader": {
     "cell_type": "markdown",
     "checksum": "d27b6c841ea150c18e2a1938e80ad355",
     "grade": false,
     "grade_id": "cell-707b5702453376c2",
     "locked": true,
     "schema_version": 3,
     "solution": false,
     "task": false
    }
   },
   "source": [
    "An array *looks* like a `list` but it is a NumPy N-Dimensional Array (in this case 1D).  \n",
    "\n",
    "NumPy arrays have element-by-element (_elementwise_) operations, which is more logical mathematically:"
   ]
  },
  {
   "cell_type": "code",
   "execution_count": null,
   "metadata": {
    "ExecuteTime": {
     "end_time": "2019-02-01T21:55:03.121091Z",
     "start_time": "2019-02-01T21:55:03.114096Z"
    },
    "deletable": false,
    "editable": false,
    "nbgrader": {
     "cell_type": "code",
     "checksum": "971f993242e1693f3433e437065aa1cf",
     "grade": false,
     "grade_id": "cell-960fbea6017aecf8",
     "locked": true,
     "schema_version": 3,
     "solution": false,
     "task": false
    }
   },
   "outputs": [],
   "source": [
    "import numpy as np\n",
    "\n",
    "alist = [1, 2, 3, 4]\n",
    "ary = np.array(alist)\n",
    "\n",
    "print(ary+ary)\n",
    "print(ary*ary)\n",
    "print(ary**3)"
   ]
  },
  {
   "cell_type": "markdown",
   "metadata": {
    "deletable": false,
    "editable": false,
    "nbgrader": {
     "cell_type": "markdown",
     "checksum": "6e5d5081041fd706c704204601585622",
     "grade": false,
     "grade_id": "cell-d9afd76737c43454",
     "locked": true,
     "schema_version": 3,
     "solution": false,
     "task": false
    }
   },
   "source": [
    "Plotting can be done on arrays the same as with lists:"
   ]
  },
  {
   "cell_type": "code",
   "execution_count": null,
   "metadata": {
    "deletable": false,
    "editable": false,
    "nbgrader": {
     "cell_type": "code",
     "checksum": "a69a681e8ad668200e386f9e1d79040e",
     "grade": false,
     "grade_id": "cell-4dfcf36d288d8fcf",
     "locked": true,
     "schema_version": 3,
     "solution": false,
     "task": false
    }
   },
   "outputs": [],
   "source": [
    "import matplotlib.pyplot as plt\n",
    "import numpy as np\n",
    "\n",
    "\n",
    "xvals = np.array([1,2,3,4,5,6,7,8,9,10])\n",
    "xsquared = xvals**2\n",
    "\n",
    "fig, (ax1, ax2) = plt.subplots(1, 2)\n",
    "\n",
    "ax1.plot(xvals, xsquared)\n",
    "ax2.plot(xvals, np.sqrt(xvals))\n",
    "\n",
    "fig.show()"
   ]
  },
  {
   "cell_type": "markdown",
   "metadata": {
    "deletable": false,
    "editable": false,
    "nbgrader": {
     "cell_type": "markdown",
     "checksum": "47e53227697f059c4ef75cbf638b135c",
     "grade": false,
     "grade_id": "cell-2af8b62539de9751",
     "locked": true,
     "schema_version": 3,
     "solution": false,
     "task": false
    }
   },
   "source": [
    "* NumPy also contains functions that can act directly on all the elements of an array (unlike those in the `math` library`)\n",
    "\n",
    "### Generating Arrays with `arange()`\n",
    "\n",
    "NumPy can generate arrays directly using the function `arange()`:"
   ]
  },
  {
   "cell_type": "code",
   "execution_count": null,
   "metadata": {
    "ExecuteTime": {
     "end_time": "2019-02-01T21:55:04.076447Z",
     "start_time": "2019-02-01T21:55:04.07144Z"
    },
    "deletable": false,
    "editable": false,
    "nbgrader": {
     "cell_type": "code",
     "checksum": "8ad944481a4645d458e47260bfc07e05",
     "grade": false,
     "grade_id": "cell-f806489407aa112f",
     "locked": true,
     "schema_version": 3,
     "solution": false,
     "task": false
    }
   },
   "outputs": [],
   "source": [
    "import numpy as np\n",
    "\n",
    "a = np.arange(1, 8)\n",
    "print(a)\n",
    "print(a**2)"
   ]
  },
  {
   "cell_type": "markdown",
   "metadata": {
    "deletable": false,
    "editable": false,
    "nbgrader": {
     "cell_type": "markdown",
     "checksum": "0834f3e18eaf979c1909a4dfdce531ce",
     "grade": false,
     "grade_id": "cell-93e561592cd78245",
     "locked": true,
     "schema_version": 3,
     "solution": false,
     "task": false
    }
   },
   "source": [
    "The `arange` function can also use fractional values \n",
    "\n",
    "The syntax is `range(VAR1,VAR2,STEP)`, where the  values created are those between `VAR1` and `VAR2`, including `VAR1` but not `VAR2`:"
   ]
  },
  {
   "cell_type": "code",
   "execution_count": null,
   "metadata": {
    "ExecuteTime": {
     "end_time": "2019-02-01T21:55:04.688619Z",
     "start_time": "2019-02-01T21:55:04.681626Z"
    },
    "deletable": false,
    "editable": false,
    "nbgrader": {
     "cell_type": "code",
     "checksum": "6d160271029ec304b59c66fec36cf73e",
     "grade": false,
     "grade_id": "cell-fc2c34df79fa2f58",
     "locked": true,
     "schema_version": 3,
     "solution": false,
     "task": false
    }
   },
   "outputs": [],
   "source": [
    "import numpy as np\n",
    "\n",
    "a = np.arange(-1, 1, 0.5)\n",
    "\n",
    "print(a)"
   ]
  },
  {
   "cell_type": "markdown",
   "metadata": {
    "deletable": false,
    "editable": false,
    "nbgrader": {
     "cell_type": "markdown",
     "checksum": "78714f6f995553daf1936373f9ec0fd3",
     "grade": false,
     "grade_id": "cell-53fbd9146367260a",
     "locked": true,
     "schema_version": 3,
     "solution": false,
     "task": false
    }
   },
   "source": [
    "**Note:** the second  value is not included in the array, so to get around this the value needs to be slightly above the required end-point.\n",
    "\n",
    "#### Exercise: Create an array that goes from `-2` to `2` in steps of `0.2` and _includes_ the numbers `-2`, `0` and `2`"
   ]
  },
  {
   "cell_type": "code",
   "execution_count": null,
   "metadata": {
    "deletable": false,
    "nbgrader": {
     "cell_type": "code",
     "checksum": "51a459bd9bce8c8ed50c786e16d98fdd",
     "grade": true,
     "grade_id": "cell-c2a15f66cd74eb60",
     "locked": false,
     "points": 0,
     "schema_version": 3,
     "solution": true,
     "task": false
    }
   },
   "outputs": [],
   "source": [
    "# YOUR CODE HERE"
   ]
  },
  {
   "cell_type": "markdown",
   "metadata": {
    "deletable": false,
    "editable": false,
    "nbgrader": {
     "cell_type": "markdown",
     "checksum": "339d92d50fe2749fbfe8d928c8452c97",
     "grade": false,
     "grade_id": "cell-536535b939231f2b",
     "locked": true,
     "schema_version": 3,
     "solution": false,
     "task": false
    }
   },
   "source": [
    "**Note:** Sometimes the `arange` function returns the values in scientific notation, as above.\n",
    "\n",
    "This is due to the central value being _very close_ to zero but not quite (due to precision accuracy).\n",
    "\n",
    "One solution to this is to use the `.round()` function method built in to arrays:"
   ]
  },
  {
   "cell_type": "code",
   "execution_count": null,
   "metadata": {
    "ExecuteTime": {
     "end_time": "2019-02-01T21:55:05.278489Z",
     "start_time": "2019-02-01T21:55:05.27248Z"
    },
    "deletable": false,
    "editable": false,
    "nbgrader": {
     "cell_type": "code",
     "checksum": "85b162255fe02e056e7294b1eda38c73",
     "grade": false,
     "grade_id": "cell-deb1671b4e7b87fb",
     "locked": true,
     "schema_version": 3,
     "solution": false,
     "task": false
    }
   },
   "outputs": [],
   "source": [
    "import numpy as np\n",
    "a = np.arange(-2, 2.1, 0.2)\n",
    "\n",
    "print(a.round(1))"
   ]
  },
  {
   "cell_type": "markdown",
   "metadata": {
    "deletable": false,
    "editable": false,
    "nbgrader": {
     "cell_type": "markdown",
     "checksum": "c05fb2a39546f3e9fcb49755d4c8809a",
     "grade": false,
     "grade_id": "cell-276d52864fdbe7a7",
     "locked": true,
     "schema_version": 3,
     "solution": false,
     "task": false
    }
   },
   "source": [
    "### Generating Arrays with `linspace()`\n",
    "\n",
    "The `arange` function is useful when we want an array of numbers with a fixed spacing.\n",
    "However, in some applications we might want an array that starts and ends at fixed values but has a certain *number* of steps in between.\n",
    "\n",
    "For this we can use the `linspace` function from NumPy, which stands for *\"linear spacing\"*.  \n",
    "Type `help(np.linspace)` to read more about it:"
   ]
  },
  {
   "cell_type": "code",
   "execution_count": null,
   "metadata": {
    "ExecuteTime": {
     "end_time": "2019-02-01T21:55:06.894917Z",
     "start_time": "2019-02-01T21:55:06.887908Z"
    },
    "deletable": false,
    "editable": false,
    "nbgrader": {
     "cell_type": "code",
     "checksum": "2980c8504418d76f7449b4bde22f7017",
     "grade": false,
     "grade_id": "cell-faa55980fe39901a",
     "locked": true,
     "schema_version": 3,
     "solution": false,
     "task": false
    }
   },
   "outputs": [],
   "source": [
    "import numpy as np\n",
    "pi = np.pi\n",
    "\n",
    "a = np.linspace(-pi, pi, 5)\n",
    "print(a)"
   ]
  },
  {
   "cell_type": "markdown",
   "metadata": {
    "deletable": false,
    "editable": false,
    "nbgrader": {
     "cell_type": "markdown",
     "checksum": "035d5ac03e4549835dedd756e5b1071e",
     "grade": false,
     "grade_id": "cell-c8de8c93e69da33f",
     "locked": true,
     "schema_version": 3,
     "solution": false,
     "task": false
    }
   },
   "source": [
    "\n",
    "This has returned 5 values in total, including **both** the start value $-\\pi$ and end value $\\pi$.  \n",
    "That is, with `x=linspace(a,b,n)` $a \\leq x \\leq b$ (unlike with `x=arange(a,b,dx)` where $a \\leq x < b$).  \n",
    "\n",
    "Both `linspace` and the previous `arange` function are very useful when plotting mathematical functions."
   ]
  },
  {
   "cell_type": "markdown",
   "metadata": {
    "deletable": false,
    "editable": false,
    "nbgrader": {
     "cell_type": "markdown",
     "checksum": "d1da892098ec516fd3a438c79cbf1aba",
     "grade": false,
     "grade_id": "cell-2a63b56c26ccd9e7",
     "locked": true,
     "schema_version": 3,
     "solution": false,
     "task": false
    }
   },
   "source": [
    "## Plotting using Arrays\n",
    "\n",
    "Arrays can be used to generate the $x$ and $y$ values for plotting against each other, and the maths on arrays makes it much easier to generate $y$ values from an array of $x$ values:\n",
    "\n",
    "#### Exercise: Create an array of 100 values from $-\\pi$ to $\\pi$ using `linspace()` for x-values, create a plot with two axes (two rows and one column), one above the other and  plot $\\cos(x)$ on the top `ax1` and $\\sin(x)$ on the bottom `ax2`:"
   ]
  },
  {
   "cell_type": "code",
   "execution_count": null,
   "metadata": {
    "ExecuteTime": {
     "end_time": "2019-02-01T21:55:07.930973Z",
     "start_time": "2019-02-01T21:55:07.784468Z"
    },
    "deletable": false,
    "nbgrader": {
     "cell_type": "code",
     "checksum": "930f4ee185cc0ee22d81be60161f68c9",
     "grade": true,
     "grade_id": "cell-f1b8fb990d8faa88",
     "locked": false,
     "points": 0,
     "schema_version": 3,
     "solution": true,
     "task": false
    }
   },
   "outputs": [],
   "source": [
    "import numpy as np\n",
    "import matplotlib.pyplot as plt\n",
    "pi = np.pi\n",
    "sin = np.sin\n",
    "cos = np.cos\n",
    "\n",
    "#xvals = ???  \n",
    "#cosx = ???\n",
    "#sinx = ???\n",
    "# YOUR CODE HERE\n",
    "\n",
    "#create your plot canvas and pair of axes (ax1, ax2) (see examples further up in the notes)\n",
    "# YOUR CODE HERE\n",
    "\n",
    "# plot cos(x) on ax1 and sin(x) on ax2\n",
    "# YOUR CODE HERE\n",
    "\n",
    "fig.show()"
   ]
  },
  {
   "cell_type": "markdown",
   "metadata": {
    "deletable": false,
    "editable": false,
    "nbgrader": {
     "cell_type": "markdown",
     "checksum": "7b89f6e02f15990478c0a805d57e28a8",
     "grade": false,
     "grade_id": "cell-cfb89586a32e31e0",
     "locked": true,
     "schema_version": 3,
     "solution": false,
     "task": false
    }
   },
   "source": [
    "Expected Result: \n",
    "![](Figures/ccss.png)\n",
    "\n",
    "\n",
    "[Click for solution](solutions/sol0601.ipynb)"
   ]
  },
  {
   "cell_type": "markdown",
   "metadata": {
    "deletable": false,
    "editable": false,
    "nbgrader": {
     "cell_type": "markdown",
     "checksum": "bbdd5e8a5fc87969117133d471785235",
     "grade": false,
     "grade_id": "cell-f62f2387c18e2b62",
     "locked": true,
     "schema_version": 3,
     "solution": false,
     "task": false
    }
   },
   "source": [
    "## Changing the Plotting Attributes\n",
    "\n",
    "### Plotting Styles\n",
    "\n",
    "We can change the plotting style (and many other features) using extra arguments to the `subplots` and `plot` functions.  \n",
    "The plot attributes can be given as keyword arguments after the x-values and y-values.   \n",
    "The arguments are given as strings and consist of either a symbol to specify a marker or line type or the colour  \n",
    "(spelled using the American spelling `color`, without a \"u\"):"
   ]
  },
  {
   "cell_type": "code",
   "execution_count": null,
   "metadata": {
    "ExecuteTime": {
     "end_time": "2019-02-01T21:55:08.693127Z",
     "start_time": "2019-02-01T21:55:08.520692Z"
    },
    "deletable": false,
    "editable": false,
    "nbgrader": {
     "cell_type": "code",
     "checksum": "4f460f144819a3dc62d3f3ff465c02f5",
     "grade": false,
     "grade_id": "cell-f429bb5f95f0cfc5",
     "locked": true,
     "schema_version": 3,
     "solution": false,
     "task": false
    }
   },
   "outputs": [],
   "source": [
    "import numpy as np\n",
    "import matplotlib.pyplot as plt\n",
    "\n",
    "xvals = np.arange(11)\n",
    "yvals = xvals**2\n",
    "\n",
    "# set some x and y dimensions (in inch !!!)\n",
    "dims = (8,8)\n",
    "fig, ax = plt.subplots(figsize=dims) # specify the size of the figure\n",
    "\n",
    "ax.plot(xvals, yvals, linestyle='--', marker='o', color='red')\n",
    "\n",
    "plt.show()"
   ]
  },
  {
   "cell_type": "markdown",
   "metadata": {
    "deletable": false,
    "editable": false,
    "nbgrader": {
     "cell_type": "markdown",
     "checksum": "9dd8ae8750b1bd250ce25877a9e8a5d0",
     "grade": false,
     "grade_id": "cell-0d3589d77062e9a7",
     "locked": true,
     "schema_version": 3,
     "solution": false,
     "task": false
    }
   },
   "source": [
    "Use `help(ax.plot)` to see what else is available and experiment with line styles and points etc.  \n",
    "Also refer to the many online resources for matplotlib as well as the extra cheat-sheet."
   ]
  },
  {
   "cell_type": "code",
   "execution_count": null,
   "metadata": {
    "deletable": false,
    "editable": false,
    "nbgrader": {
     "cell_type": "code",
     "checksum": "f68d1393642890a4cf3eaec02a436745",
     "grade": false,
     "grade_id": "cell-e3cf67184c2114df",
     "locked": true,
     "schema_version": 3,
     "solution": false,
     "task": false
    }
   },
   "outputs": [],
   "source": [
    "help(ax.plot)"
   ]
  },
  {
   "cell_type": "markdown",
   "metadata": {
    "deletable": false,
    "editable": false,
    "nbgrader": {
     "cell_type": "markdown",
     "checksum": "59d6bd21985b513a69998d2d66a64999",
     "grade": false,
     "grade_id": "cell-63cbcbb36e41918d",
     "locked": true,
     "schema_version": 3,
     "solution": false,
     "task": false
    }
   },
   "source": [
    "### Multiple Plots on the same axis\n",
    "\n",
    "The following example shows that we can plot more than one function on the same graph.\n",
    "A different colour is automatically used for each function."
   ]
  },
  {
   "cell_type": "code",
   "execution_count": null,
   "metadata": {
    "ExecuteTime": {
     "end_time": "2019-02-01T21:55:09.646411Z",
     "start_time": "2019-02-01T21:55:09.48133Z"
    },
    "deletable": false,
    "editable": false,
    "nbgrader": {
     "cell_type": "code",
     "checksum": "f438a12548d1f1e1e071af5dab31125e",
     "grade": false,
     "grade_id": "cell-5d186b8c464abff2",
     "locked": true,
     "schema_version": 3,
     "solution": false,
     "task": false
    }
   },
   "outputs": [],
   "source": [
    "import numpy as np\n",
    "import matplotlib.pyplot as plt\n",
    "pi = np.pi\n",
    "\n",
    "fig, ax = plt.subplots()\n",
    "\n",
    "xs = np.linspace(0, 2*pi, 50)\n",
    "ys = np.sin(xs)\n",
    "zs = np.cos(xs)\n",
    "\n",
    "ax.plot(xs, ys)\n",
    "ax.plot(xs, zs)\n",
    "\n",
    "plt.show()"
   ]
  },
  {
   "cell_type": "markdown",
   "metadata": {
    "deletable": false,
    "editable": false,
    "nbgrader": {
     "cell_type": "markdown",
     "checksum": "46879ad90a21c740558d2b197a60e136",
     "grade": false,
     "grade_id": "cell-18aa84ae08345b18",
     "locked": true,
     "schema_version": 3,
     "solution": false,
     "task": false
    }
   },
   "source": [
    "### Labels and Legends\n",
    "\n",
    "We next improve the plot by adding labels for the horizontal and vertical axes and we add a legend as well as a title.\n",
    "\n",
    "* **Add lines between `ax.plot()` and `fig.show()` to include the following functions: `ax.set_xlabel(<TEXT>)`, `ax.set_ylabel(<TEXT>)`, `ax.set_title(<TEXT>)` and `ax.legend()`.**\n",
    "* The optional keyword argument `size=12` can be used to specify the text size.\n",
    "\n",
    "The figure should look like the example below the code block.  \n",
    "Use the `help()` function if you are unsure."
   ]
  },
  {
   "cell_type": "code",
   "execution_count": null,
   "metadata": {
    "ExecuteTime": {
     "end_time": "2019-02-01T21:55:10.380543Z",
     "start_time": "2019-02-01T21:55:10.183493Z"
    },
    "deletable": false,
    "nbgrader": {
     "cell_type": "code",
     "checksum": "e0c16f5d586751e58be960d991b0ecff",
     "grade": true,
     "grade_id": "cell-c2a418e2dd8682d5",
     "locked": false,
     "points": 0,
     "schema_version": 3,
     "solution": true,
     "task": false
    }
   },
   "outputs": [],
   "source": [
    "import numpy as np\n",
    "import matplotlib.pyplot as plt\n",
    "pi = np.pi\n",
    "\n",
    "\n",
    "xs = np.linspace(0, 2*pi, 50)\n",
    "ys = np.sin(xs)\n",
    "zs = np.cos(xs)\n",
    "\n",
    "fig, ax = plt.subplots()\n",
    "\n",
    "ax.plot(xs, ys, label=\"sin(t)\")\n",
    "ax.plot(xs, zs, label=\"cos(t)\")\n",
    "\n",
    "# YOUR CODE HERE\n",
    "\n",
    "fig.show()"
   ]
  },
  {
   "cell_type": "code",
   "execution_count": null,
   "metadata": {},
   "outputs": [],
   "source": [
    "help(ax.set_xlabel)"
   ]
  },
  {
   "cell_type": "markdown",
   "metadata": {
    "deletable": false,
    "editable": false,
    "nbgrader": {
     "cell_type": "markdown",
     "checksum": "1594bd1f5dbbda8dc82425f18e960ab0",
     "grade": false,
     "grade_id": "cell-62c78c0ef271b538",
     "locked": true,
     "schema_version": 3,
     "solution": false,
     "task": false
    }
   },
   "source": [
    "Expected Result: ![](Figures/examplesins.png)\n",
    "\n",
    "[Click for solution](solutions/sol0602.ipynb)"
   ]
  },
  {
   "cell_type": "markdown",
   "metadata": {
    "deletable": false,
    "editable": false,
    "nbgrader": {
     "cell_type": "markdown",
     "checksum": "52b230e7a50d5d998bb11df8cf19e763",
     "grade": false,
     "grade_id": "cell-65b67a2c574f87ad",
     "locked": true,
     "schema_version": 3,
     "solution": false,
     "task": false
    }
   },
   "source": [
    "Other features can be changed, such as defining the x and y ranges using the function:\n",
    "```python\n",
    "ax.set(xlim=(XMIN, XMAX), ylim=(YMIN, YMAX))\n",
    "``` \n",
    "Where `XMIN`, `XMAX`, `YMIN` and `YMAX` are replaced by values.\n",
    "\n",
    "The position of the legend can also be specified using one of four built-in position numbers or a pair of numbers in brackets for the relative position on the plot. Other options are available such as `\"best\"`, which can be found in the help manual.\n",
    "\n",
    "* **Copy the code from above to the cell below and use the `ax.set()` function to limit the range to $0\\leq x \\leq\\pi$ and $0 \\leq y \\leq 1$**\n",
    "* Also use the `loc=(XPOS,YPOS)` argument in `legend()` to specify the legend position relative to the axes. (You may need to experiment with some values between 0 and 1)\n",
    "* Changing the font size can be done individually as above, or for the whole plot using the command `plt.rc('font', size=14)`, which changes the *\"resource configuration\"* for matplotlib generally."
   ]
  },
  {
   "cell_type": "code",
   "execution_count": null,
   "metadata": {
    "ExecuteTime": {
     "end_time": "2019-02-01T21:55:11.203437Z",
     "start_time": "2019-02-01T21:55:11.017196Z"
    },
    "deletable": false,
    "nbgrader": {
     "cell_type": "code",
     "checksum": "2b27ba63ed95b56a2fc2c912fc77ae5a",
     "grade": true,
     "grade_id": "cell-401915c2a38a4c5a",
     "locked": false,
     "points": 0,
     "schema_version": 3,
     "solution": true,
     "task": false
    }
   },
   "outputs": [],
   "source": [
    "import numpy as np\n",
    "import matplotlib.pyplot as plt\n",
    "pi = np.pi\n",
    "plt.rc('font', size=12)\n",
    "\n",
    "# YOUR CODE HERE\n",
    "\n",
    "fig.show()"
   ]
  },
  {
   "cell_type": "markdown",
   "metadata": {
    "deletable": false,
    "editable": false,
    "nbgrader": {
     "cell_type": "markdown",
     "checksum": "17d9a1f8bac41fa64554b2645e4e1311",
     "grade": false,
     "grade_id": "cell-e248d72c5e67a099",
     "locked": true,
     "schema_version": 3,
     "solution": false,
     "task": false
    }
   },
   "source": [
    "Expected Result: ![](Figures/sinfig2.png)\n",
    "\n",
    "[Click for model code](solutions/sol0603.ipynb)\n"
   ]
  },
  {
   "cell_type": "markdown",
   "metadata": {
    "deletable": false,
    "editable": false,
    "nbgrader": {
     "cell_type": "markdown",
     "checksum": "279ee3b86d57fd436437640450b8d999",
     "grade": false,
     "grade_id": "cell-4738c1ffc5313283",
     "locked": true,
     "schema_version": 3,
     "solution": false,
     "task": false
    }
   },
   "source": [
    "# Saving Figures to a File on Your Hard Drive\n",
    "\n",
    "`fig.savefig('FILENAME.extension')` saves the figure to a file named `FILENAME` with the image format given by the `.extension`: e.g.: `.png` `.jpg` `.pdf` etc.\n",
    "* note this **must come before** `fig.show()` in your scripts, as `show()` clears the palette and results in a blank figure being saved if it appears above anything.\n",
    "**DO NOT PUT A `show()` function before any other commands (including `savefig()`) as it blanks the canvas when finished!**"
   ]
  },
  {
   "cell_type": "code",
   "execution_count": null,
   "metadata": {
    "ExecuteTime": {
     "end_time": "2019-02-01T21:55:12.115623Z",
     "start_time": "2019-02-01T21:55:11.864541Z"
    }
   },
   "outputs": [],
   "source": [
    "# run the code above (or paste it here) before running this cell\n",
    "\n",
    "plt.savefig('sinusoids.png')"
   ]
  },
  {
   "cell_type": "markdown",
   "metadata": {
    "deletable": false,
    "editable": false,
    "nbgrader": {
     "cell_type": "markdown",
     "checksum": "0815f50b9a49548af67165b67a9cda1f",
     "grade": false,
     "grade_id": "cell-6ae510a6e7b40d00",
     "locked": true,
     "schema_version": 3,
     "solution": false,
     "task": false
    }
   },
   "source": [
    "### Finding your figures on your computer:\n",
    "\n",
    "The last line in the above shows the function for saving the figure directly to the working folder. It will be saved in whatever folder you are running the Jupyter notebook from.  \n",
    "Look in the main Jupyterhub browser menu to find the figure (or use a file-browser on your own computer).\n",
    "\n",
    "You can also specify relative folders (if they exist) such as:\n",
    "```python\n",
    "# save in a subfolder called Figures (if it exists):\n",
    "plt.savefig('Figures/my_figure.png')\n",
    "\n",
    "# save to the folder *above* the one containing the Notebook:\n",
    "plt.savefig('../my_figure.png')\n",
    "\n",
    "# save to a folder **inside** the one above the working folder (if it exists):\n",
    "plt.savefig('../Pictures/my_figure.png')\n",
    "```\n",
    "\n",
    "---\n",
    "\n",
    "\n",
    "---\n",
    "\n",
    "## The rest of this section consists of useful practical examples for you to work through and think about.\n",
    "\n",
    "* There are far too many features to remember them all, so use the online (and other) help as much as possible and keep a note book of the ones you find most useful.\n",
    "\n",
    "\n",
    "**DO NOT PUT A `show()` function before any other commands (including `savefig()`) as it blanks the canvas when finished!**"
   ]
  },
  {
   "cell_type": "markdown",
   "metadata": {
    "deletable": false,
    "editable": false,
    "nbgrader": {
     "cell_type": "markdown",
     "checksum": "3672bda6232f150ad84a5499dc17a403",
     "grade": false,
     "grade_id": "cell-6af176cdeb3162f7",
     "locked": true,
     "schema_version": 3,
     "solution": false,
     "task": false
    }
   },
   "source": [
    "## Filled Charts and Plots\n",
    "\n",
    "The following examples show how to draw filled areas such as pie charts and bar graphs, as well as more complicated things such as approximate areas under curves.\n",
    "\n",
    "Look at the help and online guides and try to improve the figures and use them for your own data.\n",
    "\n",
    "### Pie Charts\n",
    "\n",
    "Look at the code below for plotting a pie chart and also in the other documentation (help files and online). "
   ]
  },
  {
   "cell_type": "code",
   "execution_count": null,
   "metadata": {
    "deletable": false,
    "editable": false,
    "nbgrader": {
     "cell_type": "code",
     "checksum": "3c2e65384fe61086a031e613ef6ee9b4",
     "grade": false,
     "grade_id": "cell-f9c8c5e617eb63a2",
     "locked": true,
     "schema_version": 3,
     "solution": false,
     "task": false
    }
   },
   "outputs": [],
   "source": [
    "# Pie charts\n",
    "\n",
    "fig, ax = plt.subplots(figsize=(6, 6))  # make the figure have a square aspect ratio\n",
    "\n",
    "segs = [1, 3, 4, 7]\n",
    "explode = [0.2, 0, 0, 0]\n",
    "labels = [\"This\", \"That\", \"Other\", \"Nothing\"]\n",
    "\n",
    "ax.pie(segs, explode, labels)\n",
    "ax.set_title(\"Pie charts are bad!\\n3D Pie charts are EVIL!\")\n",
    "\n",
    "fig.savefig(\"LOOK_AT_ME.png\") #find this using the browser and open it!\n",
    "fig.show()"
   ]
  },
  {
   "cell_type": "markdown",
   "metadata": {
    "deletable": false,
    "editable": false,
    "nbgrader": {
     "cell_type": "markdown",
     "checksum": "f0fe1659ccb9bf6779049a29adbdf6c3",
     "grade": false,
     "grade_id": "cell-88e0a28eda780dd1",
     "locked": true,
     "schema_version": 3,
     "solution": false,
     "task": false
    }
   },
   "source": [
    "Now see if you can: \n",
    "1. Increase the font size; \n",
    "2. change the labels to display the percentage of the pie that each segment represents; and \n",
    "3. change the colours to yellow, orange, red and purple."
   ]
  },
  {
   "cell_type": "code",
   "execution_count": null,
   "metadata": {
    "deletable": false,
    "nbgrader": {
     "cell_type": "code",
     "checksum": "1f475f90c64f49c2ab93e80571a480cd",
     "grade": true,
     "grade_id": "cell-160b7ab2bf6f59f2",
     "locked": false,
     "points": 0,
     "schema_version": 3,
     "solution": true,
     "task": false
    }
   },
   "outputs": [],
   "source": [
    "# YOUR CODE HERE"
   ]
  },
  {
   "cell_type": "markdown",
   "metadata": {
    "deletable": false,
    "editable": false,
    "nbgrader": {
     "cell_type": "markdown",
     "checksum": "b1f6efb753b456c203a7cb638e7891eb",
     "grade": false,
     "grade_id": "cell-aedf86b318a43178",
     "locked": true,
     "schema_version": 3,
     "solution": false,
     "task": false
    }
   },
   "source": [
    "### Bar Plots\n",
    "\n",
    "Bar charts can be created using `plt.bar(xvals,yvals,OPTIONS)`. "
   ]
  },
  {
   "cell_type": "code",
   "execution_count": null,
   "metadata": {
    "deletable": false,
    "editable": false,
    "nbgrader": {
     "cell_type": "code",
     "checksum": "a900cdd8cd04bfb859ccef7253443d4e",
     "grade": false,
     "grade_id": "cell-8142349e91aa96fe",
     "locked": true,
     "schema_version": 3,
     "solution": false,
     "task": false
    }
   },
   "outputs": [],
   "source": [
    "fig, ax = plt.subplots(figsize=(6, 6))\n",
    "\n",
    "xvals = [1,2,3,4,5]\n",
    "yvals = [2,4,6,5,1]\n",
    "labels = [\"First Thing\", \"Second\", \"Third\", \"Another\", \"One More\"]\n",
    "faces = [\"green\", 'red', 'blue', 'orange', 'cyan']\n",
    "borders = [\"black\"]*5 # a list repeating the string \"black\" five times\n",
    "\n",
    "ax.bar(xvals, yvals, color=faces, edgecolor=borders)\n",
    "ax.set_xticks([1,2,3,4,5]) # positions of the x labels and tickmarks\n",
    "ax.set_xticklabels(labels, rotation=45)\n",
    "\n",
    "fig.show()"
   ]
  },
  {
   "cell_type": "markdown",
   "metadata": {
    "deletable": false,
    "editable": false,
    "nbgrader": {
     "cell_type": "markdown",
     "checksum": "f41c5ab8d209489b16af7474bdd69f5f",
     "grade": false,
     "grade_id": "cell-46a1aa0412cbbf77",
     "locked": true,
     "schema_version": 3,
     "solution": false,
     "task": false
    }
   },
   "source": [
    "### Exercise: Fill in the following code to produce a bar plot that uses `np.exp(x)` to create $y=e^{-(x^2)}$ as $y$ values:"
   ]
  },
  {
   "cell_type": "code",
   "execution_count": null,
   "metadata": {
    "deletable": false,
    "nbgrader": {
     "cell_type": "code",
     "checksum": "0394af6612d3cde8f2abeacf43d15191",
     "grade": true,
     "grade_id": "cell-6723c59fdc37826c",
     "locked": false,
     "points": 0,
     "schema_version": 3,
     "solution": true,
     "task": false
    }
   },
   "outputs": [],
   "source": [
    "# import what you need\n",
    "# YOUR CODE HERE\n",
    "\n",
    "#Approximation to area under a cosine function using bars\n",
    "#import the usual modules\n",
    "\n",
    "# set dx to 0.2\n",
    "# YOUR CODE HERE\n",
    "# use arange to generate an array for x values between -3 and 3 pi in steps of dx\n",
    "# YOUR CODE HERE\n",
    "\n",
    "# let the ys be exp(-xs**2)\n",
    "# YOUR CODE HERE\n",
    "\n",
    "# plot a bar plot with the options color='cyan', edgecolor=['black']*len(xvals), width=dx\n",
    "# YOUR CODE HERE\n",
    "\n",
    "\n",
    "# show the figure\n",
    "# YOUR CODE HERE"
   ]
  },
  {
   "cell_type": "markdown",
   "metadata": {
    "deletable": false,
    "editable": false,
    "nbgrader": {
     "cell_type": "markdown",
     "checksum": "37ab7ddef8f651469fdeb89c6d574608",
     "grade": false,
     "grade_id": "cell-01846c18b9ab84e8",
     "locked": true,
     "schema_version": 3,
     "solution": false,
     "task": false
    }
   },
   "source": [
    "Expected output:\n",
    "![](Figures/output_norm.png)\n",
    "\n",
    "\n",
    "[Click for solution](solutions/sol0604.ipynb)"
   ]
  },
  {
   "cell_type": "markdown",
   "metadata": {
    "deletable": false,
    "editable": false,
    "nbgrader": {
     "cell_type": "markdown",
     "checksum": "635975b478264d5e4a61073de987cf3c",
     "grade": false,
     "grade_id": "cell-76eeec4301fb7fa8",
     "locked": true,
     "schema_version": 3,
     "solution": false,
     "task": false
    }
   },
   "source": [
    "# Task 6\n",
    "\n",
    "A useful thing to do is to define a function that does all the steps of creating a figure template, so you can apply it to lots of different datasets.   \n",
    "Here you will recreate your own version of the following two-axis figure using the resources listed below. \n",
    "* your figure will _not_ be identical as it is using \"random\" data\n",
    "\n",
    "![](Figures/task_6_model_example.png)\n",
    "\n",
    "### RESTART THE KERNEL before starting this exercise\n",
    "\n",
    "#### Complete the function in the cell below that takes some $x$ and $y$ data and returns a figure object to display or save, then apply the function to some random data and save it.\n",
    "\n",
    "* The structure is like this:\n",
    "\n",
    "```python\n",
    "def plotter(xdata, ydata):\n",
    "    # 1. your code in a block\n",
    "    # 2. that creates the figure\n",
    "    # 3. and edits its properties\n",
    "    # 4. on both sets of axes\n",
    "    return fig\n",
    "\n",
    "##########\n",
    "# some code to apply (\"call\") the function \n",
    "x,y, = #some data\n",
    "fig = plotter(x,y)\n",
    "##########\n",
    "\n",
    "# 5. save the figure to an image in the same folder \n",
    "```\n",
    "\n",
    "**Submit BOTH a Python `.py` script file *AND* the generated `.png` PNG image file** (NOT A SCREENSHOT and NOT right click \"save-as\")\n",
    "\n",
    "### Use the following steps for using the plotting functions and styles: \n",
    "\n",
    "1. Import the plotting libraries as `plt`\n",
    "2. Make a figure canvas with one row and two columns of axes\n",
    "    * Set the figure with a `figsize` of $10 \\times 4$ in\n",
    "    * your two axes will have different names such as `ax1` and `ax2`, or `ax[0]` and `ax[1]`\n",
    "3. On the first (left) axes you will need to plot the x-data against the y-data\n",
    "    * in the `.plot()` function you will also need to specify the following optional (keyword) arguments:\n",
    "        * set the optional keyword argument `linewidth=0.2` \n",
    "        * set the `color=` parameter to `'red'` to adjust the marker colour\n",
    "        * set the `marker` option to `'*'` and adust the `markersize` parameter to make them bigger\n",
    "        * the `markerfacecolor` should be green\n",
    "    * You will need to set the title, x-label and y-label, all with their own `size=??` for the fonts\n",
    "    * use `<AXNAME>.grid()` to put a grid on the axis, where `<AXNAME>` is replaced with your axes name\n",
    "    * Set the limits on the x-axis to match the example data ($0:300$)\n",
    "4. On the second (right hand) axes use the `.hist()` function to plot a *histogram* of **only** the $y-$data\n",
    "    * Use the `orientation='horizontal'` optional keyword argument to rotate the histogram to align it with the data\n",
    "    * Other keyword arguments to experiment with are `edgecolor` and `linewidth`\n",
    "    * Ensure that the figure has all the elements in the example\n",
    "\n",
    "5. Save the figure using the `.savefig()` function at the end of the script (**not** inside the function).\n",
    "\n",
    "\n",
    "\n",
    "## Self-help\n",
    "\n",
    "To find out what any of the functions do, use the `help` function in a new code Cell.  \n",
    "For example, to learn how to use `random.normal` in NumPy, type:\n",
    "```python\n",
    "help(random.normal)\n",
    "```"
   ]
  },
  {
   "cell_type": "code",
   "execution_count": null,
   "metadata": {
    "deletable": false,
    "nbgrader": {
     "cell_type": "code",
     "checksum": "9756841d848b4fc212ce6bb626f7802b",
     "grade": true,
     "grade_id": "cell-ed09c126ebe34ee9",
     "locked": false,
     "points": 0,
     "schema_version": 3,
     "solution": true,
     "task": false
    }
   },
   "outputs": [],
   "source": [
    "# do NOT change the name of this function\n",
    "def plotter(xdata, ydata):\n",
    "    # 1. import the library for plotting\n",
    "    # YOUR CODE HERE\n",
    "    plt.rc('font', size=12) # leave this in place, it will change all text to 12 point\n",
    "\n",
    "    # 2., 3., 4. do all the plotting and style elements in the function code block below\n",
    "    # starting by creating the figure and axes...\n",
    "    #fig, ??? = ???\n",
    "    # YOUR CODE HERE\n",
    "\n",
    "    # leave this next line in place to return the main figure object\n",
    "    return fig\n",
    "\n",
    "###############################################################################\n",
    "###############################################################################\n",
    "# YOU DO **NOT** NEED TO CHANGE THIS BLOCK\n",
    "# the lines in this area make some random data and give it to your function to plot...\n",
    "import numpy as np\n",
    "\n",
    "N = 300\n",
    "xdata = np.arange(N)\n",
    "mean = 50; std = 15\n",
    "ydata = np.random.normal(mean, std, N)\n",
    "#help(np.random.normal)\n",
    "\n",
    "#your function MUST return a fig object for the following to work\n",
    "fig = plotter(xdata, ydata)\n",
    "###############################################################################\n",
    "###############################################################################\n",
    "\n",
    "\n",
    "# 5. save the figure to the working folder as a png image, (1% for doing  this)\n",
    "\n",
    "# YOUR CODE HERE\n",
    "\n",
    "# => check the saved file looks OK then submit BOTH your task6.py script AND the figure.png to moodle"
   ]
  },
  {
   "cell_type": "markdown",
   "metadata": {
    "deletable": false,
    "editable": false,
    "nbgrader": {
     "cell_type": "markdown",
     "checksum": "a7e6c3de285efed58ffe5400b4a72755",
     "grade": false,
     "grade_id": "cell-60428f0427cb6c40",
     "locked": true,
     "schema_version": 3,
     "solution": false,
     "task": false
    }
   },
   "source": [
    "### Feedback cell:\n",
    "\n",
    "* Remember to run the cell above **_after_ restarting the KERNEL**, then:\n",
    "* Run the cell below (only works on the online cloud service notebook) to get feedback on your plot.\n",
    "* Note: this is a new and quite complicated checking script:\n",
    "    * it may not detect every problem;\n",
    "    * it may throw errors when there is nothing really wrong.\n",
    "    * Please let me know if this is the case.\n",
    "    * Use your own judgment on if the plot looks good quality."
   ]
  },
  {
   "cell_type": "code",
   "execution_count": null,
   "metadata": {
    "deletable": false,
    "editable": false,
    "nbgrader": {
     "cell_type": "code",
     "checksum": "392730d1f2115447d9f9c2be4d93f7ae",
     "grade": false,
     "grade_id": "cell-1647420b019defdf",
     "locked": true,
     "schema_version": 3,
     "solution": false,
     "task": false
    }
   },
   "outputs": [],
   "source": [
    "import sys\n",
    "sys.path.append(\".checks\")\n",
    "import check06\n",
    "\n",
    "try: check06.test(plotter)\n",
    "except NameError as e: print(str(e)+\"\\nYou need to run the cell above to define the plotter function\")"
   ]
  },
  {
   "cell_type": "markdown",
   "metadata": {
    "deletable": false,
    "editable": false,
    "nbgrader": {
     "cell_type": "markdown",
     "checksum": "d48abe726f8aafb8cf241cf425a641d6",
     "grade": false,
     "grade_id": "cell-37871b6b7b9c02cc",
     "locked": true,
     "schema_version": 3,
     "solution": false,
     "task": false
    }
   },
   "source": [
    "---\n",
    "```\n",
    "\n",
    "\n",
    "\n",
    "\n",
    "```\n",
    "---\n",
    "## Further Material: Creating Multiple Plots using Loops\n",
    "\n",
    "Loops can be used to create multiple plots without having to type each individually.  \n",
    "This can be useful both when plotting many datasets and also plotting things such as series representations of mathematical functions.\n",
    "\n",
    "The next example shows the power series that can be used to approximate the function $\\sin(x)$:\n",
    "$$\n",
    "\\sin(x)\\approx x - \\frac{x^3}{3!} + \\frac{x^5}{5!} - \\cdots\n",
    "$$\n",
    "\n",
    "### Use the following example as a template to help build up the exercises below it."
   ]
  },
  {
   "cell_type": "code",
   "execution_count": null,
   "metadata": {
    "ExecuteTime": {
     "end_time": "2019-02-01T21:55:13.299648Z",
     "start_time": "2019-02-01T21:55:13.111464Z"
    },
    "deletable": false,
    "editable": false,
    "nbgrader": {
     "cell_type": "code",
     "checksum": "fb35dbd5f0173531d379fdd3e2d11a68",
     "grade": false,
     "grade_id": "cell-fb2e87b668c80002",
     "locked": true,
     "schema_version": 3,
     "solution": false,
     "task": false
    }
   },
   "outputs": [],
   "source": [
    "import numpy as np\n",
    "from math import factorial\n",
    "import matplotlib.pyplot as plt\n",
    "\n",
    "fig, ax = plt.subplots()\n",
    "\n",
    "xs = np.linspace(-np.pi, np.pi, 50)\n",
    "\n",
    "# plot the real sine function\n",
    "ax.plot(xs, np.sin(xs), label='sin(x)', linewidth=3, color='black')\n",
    "\n",
    "ys = 0  # give an initial value for the ys value here, the arrays in the loop will then be added to zero\n",
    "p = 1\n",
    "for i in [1, 2, 3]:\n",
    "    n = 2*i-1\n",
    "    ys = ys + p*xs**n / factorial(n) #try printing ys each time to see how they change\n",
    "    ax.plot(xs, ys, label=f\"{n} terms\")\n",
    "    p = -p  # this value alternates between positive and negative\n",
    "\n",
    "ax.set( xlim=(-np.pi, np.pi), ylim=(-3, 3) )\n",
    "ax.legend(loc=(0.15, 0.6))\n",
    "\n",
    "\n",
    "plt.savefig('more_sinusoids.png')"
   ]
  },
  {
   "cell_type": "markdown",
   "metadata": {
    "deletable": false,
    "editable": false,
    "nbgrader": {
     "cell_type": "markdown",
     "checksum": "d398b30c4666c9ce2920ca6d224d6077",
     "grade": false,
     "grade_id": "cell-044e9a59f44cf721",
     "locked": true,
     "schema_version": 3,
     "solution": false,
     "task": false
    }
   },
   "source": [
    "## Exercise: Fourier Series\n",
    "\n",
    "A *Fourier Sine Series* is an infinite series made up of sine or cosine terms.  \n",
    "An example is the approximation to a \"square wave\" that switches between the values $y=+1,-1,+1,-1,\\dots$ every $x=n\\pi$ ($n=1,2,3,\\dots$).\n",
    "\n",
    "The square wave in **Exercise 1** can be approximated as the Fourier Series:  \n",
    "\n",
    "$$f(x) \\approx a_1\\sin(x)+a_3\\sin(3x)+a_5\\sin(5x)+\\cdots,$$\n",
    "\n",
    "with the coefficients $a_1=1$, $a_3=1/3$, $a_5=1/5$, ... $a_n=1/n^2$.  \n",
    "\n",
    "\n",
    "### Plotting the component functions\n",
    "\n",
    "Use the template below to make a script for plotting the individual terms for the series.  \n",
    "You will expand on this later to plot the resulting series with increasing numbers of terms."
   ]
  },
  {
   "cell_type": "code",
   "execution_count": null,
   "metadata": {
    "deletable": false,
    "nbgrader": {
     "cell_type": "code",
     "checksum": "92f46af58c911966c38a4b38113d8c8f",
     "grade": true,
     "grade_id": "cell-5fcee5892e28c12d",
     "locked": false,
     "points": 0,
     "schema_version": 3,
     "solution": true,
     "task": false
    }
   },
   "outputs": [],
   "source": [
    "#import both the NumPy and plotting modules\n",
    "# YOUR CODE HERE\n",
    "\n",
    "#use linspace to generate a 50 element array between 0 and pi for the x values\n",
    "# YOUR CODE HERE\n",
    "\n",
    "# initialise the figure\n",
    "# YOUR CODE HERE\n",
    "\n",
    "\n",
    "#use a FOR loop to assign the values 1, 3 and 5 to a variable n\n",
    "# YOUR CODE HERE\n",
    "    #define a coefficient a to be the value 1.0/n\n",
    "    # YOUR CODE HERE\n",
    "    \n",
    "    #calculate the y values as a*sin(n*xvalues)\n",
    "    # YOUR CODE HERE\n",
    "    \n",
    "    #plot the x-values against the y-values \n",
    "    #  - use the following for the label: label=f'1/{n} sin({n}x)')\n",
    "    #  - (try to break this down to think about how it works)\n",
    "    # YOUR CODE HERE\n",
    "\n",
    "# create a legend and show the figure\n",
    "# YOUR CODE HERE"
   ]
  },
  {
   "cell_type": "markdown",
   "metadata": {
    "deletable": false,
    "editable": false,
    "nbgrader": {
     "cell_type": "markdown",
     "checksum": "6e0a947f2c932dc0a3b7351be37fb5e2",
     "grade": false,
     "grade_id": "cell-9ed4eb1d04541f40",
     "locked": true,
     "schema_version": 3,
     "solution": false,
     "task": false
    }
   },
   "source": [
    "Expected Output: ![](Figures/output_62_0.png)\n",
    "\n",
    "[Click for solution](solutions/sol0605.ipynb)"
   ]
  },
  {
   "cell_type": "markdown",
   "metadata": {
    "deletable": false,
    "editable": false,
    "nbgrader": {
     "cell_type": "markdown",
     "checksum": "c829dab4d2cff7c5621e48d394e82e1b",
     "grade": false,
     "grade_id": "cell-c5643bdea58e6c55",
     "locked": true,
     "schema_version": 3,
     "solution": false,
     "task": false
    }
   },
   "source": [
    "### Summing the Terms  \n",
    "\n",
    "We will now sum the terms in the series to see how the function starts to build up.  \n",
    "Simply copy your code from the problem above into a new code Cell and change the following aspects:\n"
   ]
  },
  {
   "cell_type": "code",
   "execution_count": null,
   "metadata": {
    "deletable": false,
    "nbgrader": {
     "cell_type": "code",
     "checksum": "5803cd321e05f01d30793db222b9f20f",
     "grade": true,
     "grade_id": "cell-7fa143ec0167a31e",
     "locked": false,
     "points": 0,
     "schema_version": 3,
     "solution": true,
     "task": false
    }
   },
   "outputs": [],
   "source": [
    "#import both the NumPy and plotting modules\n",
    "# YOUR CODE HERE\n",
    "\n",
    "#use linspace to generate a 50 element array between 0 and pi for the x values\n",
    "# YOUR CODE HERE\n",
    "\n",
    "# initialise the figure\n",
    "# YOUR CODE HERE\n",
    "\n",
    "#before the loop set an initial y-values of zero (see the power-series example)\n",
    "# YOUR CODE HERE\n",
    "\n",
    "#use the line below to set an \"empty\" label to add information to on each iteration:\n",
    "lbl=''\n",
    "\n",
    "#use a FOR loop to assign the values 1, 3 and 5 to a variable n\n",
    "# YOUR CODE HERE\n",
    "    # inside the loop...\n",
    "    #define a coefficient a to be the value 1.0/n\n",
    "    # YOUR CODE HERE\n",
    "    \n",
    "    #change the y-value definition to ADD TO the previous value: yvalues=yvalues+a*sin(n*xs)\n",
    "    # YOUR CODE HERE\n",
    "    \n",
    "    #use the line below as it is to define the label \n",
    "    lbl = lbl + f\"1/{n} sin({n}x)\"    \n",
    "    \n",
    "    # plot the x-values against the y-values \n",
    "    #  - in the plot command set label=lbl\n",
    "    # YOUR CODE HERE\n",
    "    \n",
    "    #add the following line to put a \"plus\" after each term...\n",
    "    lbl = lbl + '+' #why do we add the \"+\" at this point?\n",
    "\n",
    "\n",
    "    \n",
    "# set the legend and show the figure\n",
    "ax.legend(loc=(1.01, 0))\n",
    "fig.show()"
   ]
  },
  {
   "cell_type": "markdown",
   "metadata": {
    "deletable": false,
    "editable": false,
    "nbgrader": {
     "cell_type": "markdown",
     "checksum": "7db2036a78358d74c253a1e9ca96431b",
     "grade": false,
     "grade_id": "cell-5f2875baed953539",
     "locked": true,
     "schema_version": 3,
     "solution": false,
     "task": false
    }
   },
   "source": [
    "Expected Output: ![](Figures/output_64_0.png)\n",
    "\n",
    "[Click for solution](solutions/sol0606.ipynb)"
   ]
  },
  {
   "cell_type": "markdown",
   "metadata": {
    "deletable": false,
    "editable": false,
    "nbgrader": {
     "cell_type": "markdown",
     "checksum": "21880d4eacdaec937b277acb6025a773",
     "grade": false,
     "grade_id": "cell-077ee872d0fcedf6",
     "locked": true,
     "schema_version": 3,
     "solution": false,
     "task": false
    }
   },
   "source": [
    "### Convergence  \n",
    "\n",
    "Finally, it's interesting to see how the series will end up after many terms.  "
   ]
  },
  {
   "cell_type": "code",
   "execution_count": null,
   "metadata": {
    "deletable": false,
    "editable": false,
    "nbgrader": {
     "cell_type": "code",
     "checksum": "52e1d4d4e94142a6f4ebaa017d937385",
     "grade": false,
     "grade_id": "cell-8a64aa242f7c06dd",
     "locked": true,
     "schema_version": 3,
     "solution": false,
     "task": false
    }
   },
   "outputs": [],
   "source": [
    "import matplotlib.pyplot as plt\n",
    "import numpy as np\n",
    "\n",
    "xs = np.linspace(0, np.pi, 50)\n",
    "ys = 0\n",
    "i = 0\n",
    "\n",
    "for n in range(1, 100, 2):\n",
    "    i = i+1\n",
    "    a = 1.0/n\n",
    "    ys = ys+a*np.sin(n*xs)\n",
    "    \n",
    "# move the plot function to OUTSIDE the indented loop code block to only plot the final plot...\n",
    "plt.plot(xs, ys, label=str(i)+' terms')\n",
    "\n",
    "plt.legend(loc='best')\n",
    "plt.show()"
   ]
  },
  {
   "cell_type": "markdown",
   "metadata": {
    "deletable": false,
    "editable": false,
    "nbgrader": {
     "cell_type": "markdown",
     "checksum": "274b124a4e9c6f82f5167a0454715829",
     "grade": false,
     "grade_id": "cell-247d32e7e20a2b6c",
     "locked": true,
     "schema_version": 3,
     "solution": false,
     "task": false
    }
   },
   "source": [
    "## Using loops with subplots\n",
    "\n",
    "Creating a figure using the function `subplots(NUMROWS, NUMCOLS, *ARGUMENTS)` returns a list of axes:"
   ]
  },
  {
   "cell_type": "code",
   "execution_count": null,
   "metadata": {
    "ExecuteTime": {
     "end_time": "2019-02-01T21:56:04.301771Z",
     "start_time": "2019-02-01T21:56:04.05598Z"
    },
    "deletable": false,
    "editable": false,
    "nbgrader": {
     "cell_type": "code",
     "checksum": "1b700802bfad2b7eb639a5c3a538aeec",
     "grade": false,
     "grade_id": "cell-dd15fadc044fd6b3",
     "locked": true,
     "schema_version": 3,
     "solution": false,
     "task": false
    }
   },
   "outputs": [],
   "source": [
    "import matplotlib.pyplot as plt\n",
    "import numpy as np\n",
    "\n",
    "xs = np.linspace(-np.pi, np.pi, 50)\n",
    "\n",
    "fig, ax = plt.subplots(2, 1, figsize=(10,8))  # two rows, one column, start first plot\n",
    "# ax is a list ax = [ax1, ax2, ax3 ...] accessed using ax[0], ax[1] etc...\n",
    "\n",
    "# plot to the first set of axes\n",
    "ax[0].plot(xs, np.sin(xs), color='red', label=\"sin(x)\")\n",
    "\n",
    "# plot to the second set of axes (bottom row)\n",
    "ax[1].plot(xs, np.cos(xs), color='blue', label=\"cos(x)\")\n",
    "ax[1].text(-4, 1.0, \"(b)\")\n",
    "ax[1].set_title(\"Second\")\n",
    "ax[1].legend()\n",
    "\n",
    "# go back to the first set of axes\n",
    "ax[0].legend(loc=2)\n",
    "ax[0].set_title(\"First\")\n",
    "ax[0].text(-4, 1.0, \"(a)\")\n",
    "\n",
    "plt.savefig('subplot1.png')"
   ]
  },
  {
   "cell_type": "markdown",
   "metadata": {
    "deletable": false,
    "editable": false,
    "nbgrader": {
     "cell_type": "markdown",
     "checksum": "917c2be7744ed77b040031cd000d880e",
     "grade": false,
     "grade_id": "cell-4e2153d4c7bad487",
     "locked": true,
     "schema_version": 3,
     "solution": false,
     "task": false
    }
   },
   "source": [
    "Loops can be useful to simplify repetition in code:"
   ]
  },
  {
   "cell_type": "code",
   "execution_count": null,
   "metadata": {
    "deletable": false,
    "editable": false,
    "nbgrader": {
     "cell_type": "code",
     "checksum": "e90a861c62438dbdcf314a0efddcc27a",
     "grade": false,
     "grade_id": "cell-e327e175e189b272",
     "locked": true,
     "schema_version": 3,
     "solution": false,
     "task": false
    }
   },
   "outputs": [],
   "source": [
    "import matplotlib.pyplot as plt\n",
    "import numpy as np\n",
    "\n",
    "xs = np.linspace(-np.pi, np.pi, 50)\n",
    "\n",
    "funcs = [np.sin, np.cos, np.tan]\n",
    "cols = [\"red\", \"blue\", \"green\"]\n",
    "labs = [\"sin(x)\", \"cos(x)\", \"tan(x)\"]\n",
    "txt = [\"(a)\", \"(b)\", \"(c)\"]\n",
    "\n",
    "N = len(funcs)\n",
    "\n",
    "fig, ax = plt.subplots(1, N, figsize=(12,4))  # 1 row, N columns,\n",
    "# ax is a list ax = [ax1, ax2, ax3 ...] accessed using ax[0], ax[1] etc...\n",
    "\n",
    "for i in range(N):\n",
    "    fn = funcs[i]\n",
    "    # plot to the ith set of axes\n",
    "    ax[i].plot(xs, fn(xs), color=cols[i], label=labs[i])\n",
    "    a,b,c,d = ax[i].axis() # extract the axis scaling factors\n",
    "    ax[i].text(0, d*1.1, txt[i])\n",
    "\n",
    "fig.legend() # create a legend for the whole figure, not for each axes\n",
    "plt.show()"
   ]
  },
  {
   "cell_type": "markdown",
   "metadata": {
    "deletable": false,
    "editable": false,
    "nbgrader": {
     "cell_type": "markdown",
     "checksum": "91b7635c082ef222607f47d6d476db96",
     "grade": false,
     "grade_id": "cell-3b290578504001fe",
     "locked": true,
     "schema_version": 3,
     "solution": false,
     "task": false
    }
   },
   "source": [
    "You can even do multiple rows and columns, but it starts to get complicated....\n",
    "\n",
    "* **Note:** that Numpy ND arrays use `array_name[ROWNUM, COLNUM]` to access an element\n",
    "* But nested lists use `list_name[ROWNUM][COLNUM]`"
   ]
  },
  {
   "cell_type": "code",
   "execution_count": null,
   "metadata": {
    "ExecuteTime": {
     "end_time": "2019-02-01T21:56:12.14135Z",
     "start_time": "2019-02-01T21:56:11.417118Z"
    },
    "deletable": false,
    "editable": false,
    "nbgrader": {
     "cell_type": "code",
     "checksum": "120067d2febcb60fb094a8f33c2ec466",
     "grade": false,
     "grade_id": "cell-9e030e470a370206",
     "locked": true,
     "schema_version": 3,
     "solution": false,
     "task": false
    }
   },
   "outputs": [],
   "source": [
    "from numpy import random as rnd\n",
    "\n",
    "nrows=3\n",
    "ncols=2\n",
    "fig, ax = plt.subplots(nrows, ncols, figsize=(12, 9))\n",
    "# ax is a 2D array ax = [[ax1, ax2], [ax3 ...], ] accessed using ax[0, 0], ax[0, 1] etc...\n",
    "\n",
    "#define the marker symbols to use in each plot\n",
    "ms = [[\"o\", \"*\"], \n",
    "      [\">\", \"<\"], \n",
    "      [\".\", \"p\"]]\n",
    "\n",
    "# loop though all the axes indices (len(ax)=6)\n",
    "for i in range(nrows):\n",
    "    for j in range(ncols):\n",
    "        # generate lists of 100 randomly drawn floats between 0 and 1\n",
    "        xdata = rnd.random(100) \n",
    "        ydata = rnd.random(100)\n",
    "        \n",
    "        aij = ax[i,j]\n",
    "        aij.plot(xdata, ydata, marker=ms[i][j], linestyle=\"\")\n",
    "        aij.text(0.4, 0.5, f\"{i},{j}\", size=50)\n",
    "        aij.axis([0,1, 0,1]) # another way of scaling the axis dimensions to [xmin, xmax, ymin, ymax]\n",
    "    \n",
    "plt.savefig('subplot_from_list.png')"
   ]
  }
 ],
 "metadata": {
  "hide_input": false,
  "kernelspec": {
   "display_name": "Python 3",
   "language": "python",
   "name": "python3"
  },
  "language_info": {
   "codemirror_mode": {
    "name": "ipython",
    "version": 3
   },
   "file_extension": ".py",
   "mimetype": "text/x-python",
   "name": "python",
   "nbconvert_exporter": "python",
   "pygments_lexer": "ipython3",
   "version": "3.7.10"
  },
  "toc": {
   "base_numbering": 1,
   "nav_menu": {},
   "number_sections": true,
   "sideBar": true,
   "skip_h1_title": false,
   "title_cell": "Table of Contents",
   "title_sidebar": "Contents",
   "toc_cell": false,
   "toc_position": {},
   "toc_section_display": true,
   "toc_window_display": false
  }
 },
 "nbformat": 4,
 "nbformat_minor": 1
}
