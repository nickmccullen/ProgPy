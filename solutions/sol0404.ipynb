{
 "cells": [
  {
   "cell_type": "markdown",
   "metadata": {},
   "source": [
    "### Pi"
   ]
  },
  {
   "cell_type": "code",
   "execution_count": null,
   "metadata": {},
   "outputs": [],
   "source": [
    "s = 1\n",
    "n = -1.0 # set the sign of the next term to be negative\n",
    "d = 3.0\n",
    "\n",
    "# calculate the first two terms\n",
    "s = s + n/d  # take old value then add next term in sequence (-1/3.0)\n",
    "\n",
    "# set any initial value  for err that is larger than the condition in the while:\n",
    "err = 10\n",
    "\n",
    "i = 0  # set the counter i\n",
    "\n",
    "# start a while loop with a condition based on the absolute error\n",
    "while abs(err) > 1e-4:\n",
    "    i = i+1\n",
    "    n = -1*n\n",
    "    d = d + 2\n",
    "    old = s\n",
    "    s = s + n/d\n",
    "    err = 4*(s - old)\n",
    "\n",
    "print(4*s, err, i) # print pi, error and number of steps"
   ]
  }
 ],
 "metadata": {
  "kernelspec": {
   "display_name": "Python 3",
   "language": "python",
   "name": "python3"
  },
  "language_info": {
   "codemirror_mode": {
    "name": "ipython",
    "version": 3
   },
   "file_extension": ".py",
   "mimetype": "text/x-python",
   "name": "python",
   "nbconvert_exporter": "python",
   "pygments_lexer": "ipython3",
   "version": "3.8.3"
  }
 },
 "nbformat": 4,
 "nbformat_minor": 4
}
