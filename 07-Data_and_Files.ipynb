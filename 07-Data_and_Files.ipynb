{
 "cells": [
  {
   "cell_type": "markdown",
   "metadata": {
    "deletable": false,
    "editable": false,
    "nbgrader": {
     "cell_type": "markdown",
     "checksum": "39572ad44eabf29de013ea2a4503d4a6",
     "grade": false,
     "grade_id": "cell-e16f08659cce93ea",
     "locked": true,
     "schema_version": 3,
     "solution": false,
     "task": false
    }
   },
   "source": [
    "Be sure to do all exercises and run all completed code cells. \n",
    "\n",
    "If anything goes wrong, **restart the kernel** (in the menubar, select Kernel$\\rightarrow$Restart)."
   ]
  },
  {
   "cell_type": "markdown",
   "metadata": {
    "deletable": false,
    "editable": false,
    "nbgrader": {
     "cell_type": "markdown",
     "checksum": "20ed87f59d5261edc30851961107ec8c",
     "grade": false,
     "grade_id": "cell-50b9cb0b3970f0e6",
     "locked": true,
     "schema_version": 3,
     "solution": false,
     "task": false
    }
   },
   "source": [
    "---"
   ]
  },
  {
   "cell_type": "markdown",
   "metadata": {
    "deletable": false,
    "editable": false,
    "nbgrader": {
     "cell_type": "markdown",
     "checksum": "1dfad066d98be546b28c45c24c1df027",
     "grade": false,
     "grade_id": "cell-9ce21bcaedd595a6",
     "locked": true,
     "schema_version": 3,
     "solution": false,
     "task": false
    }
   },
   "source": [
    "Manipulating Data and Files\n",
    "=====\n",
    "\n",
    "About files\n",
    "-----------\n",
    "\n",
    "In this Section we will learn how to write and read data to and from files using Python.\n",
    "\n",
    "We can then use this data to do useful things like plotting or calculations.\n",
    "\n",
    "To use a file it has to be opened, and when finished it has to be closed.  \n",
    "While the file is open, it can either be read from or written to.  \n",
    "\n",
    "To open a file, we specify its name and indicate whether we want to read or write."
   ]
  },
  {
   "cell_type": "markdown",
   "metadata": {
    "deletable": false,
    "editable": false,
    "nbgrader": {
     "cell_type": "markdown",
     "checksum": "1d906eebb92feb0d5040ed43fdc6ffcc",
     "grade": false,
     "grade_id": "cell-539a9e2fa5ac13cb",
     "locked": true,
     "schema_version": 3,
     "solution": false,
     "task": false
    }
   },
   "source": [
    "## Files for Examples:\n",
    "\n",
    "These examples and the ones later require us having some files to process, these are in the `Files` folder, so make sure you download the files in this if working on your own machine. \n",
    "* Make sure they are inside correctly named sub-folders on your hard disk.\n",
    "* **Use the same capitalisation as the original for cross platform compatibility**. (Many operating systems are case sensitive).\n",
    "\n",
    "### To find out where  a Jupyter Notebook is running run the following command:"
   ]
  },
  {
   "cell_type": "code",
   "execution_count": null,
   "metadata": {
    "deletable": false,
    "editable": false,
    "nbgrader": {
     "cell_type": "code",
     "checksum": "3f49b0e9a4f5af67ed9d1ee1efbab9b8",
     "grade": false,
     "grade_id": "cell-13ef2d4e07e2577b",
     "locked": true,
     "schema_version": 3,
     "solution": false,
     "task": false
    }
   },
   "outputs": [],
   "source": [
    "import os\n",
    "\n",
    "here = os.getcwd() #get location of Current Working Directory\n",
    "print(here)"
   ]
  },
  {
   "cell_type": "markdown",
   "metadata": {
    "deletable": false,
    "editable": false,
    "nbgrader": {
     "cell_type": "markdown",
     "checksum": "c4ab999dec8ad26d80df11df2b5324c5",
     "grade": false,
     "grade_id": "cell-b4d3159c23dc3d49",
     "locked": true,
     "schema_version": 3,
     "solution": false,
     "task": false
    }
   },
   "source": [
    "* You can then navigate to this folder using the file-browser on your operating system."
   ]
  },
  {
   "cell_type": "markdown",
   "metadata": {
    "deletable": false,
    "editable": false,
    "nbgrader": {
     "cell_type": "markdown",
     "checksum": "8a4f7f45284ffec81e576d42f69871f4",
     "grade": false,
     "grade_id": "cell-b307bb1b799f4d52",
     "locked": true,
     "schema_version": 3,
     "solution": false,
     "task": false
    }
   },
   "source": [
    "## Organising Folders\n",
    "\n",
    "When we create a new file by opening it and writing, the new file goes\n",
    "in the current working folder (also called a *\"directory\"*).  \n",
    "When we open a file for reading, Python also looks for it in the\n",
    "same place.\n",
    "\n",
    "If we want to open a file somewhere else, we have to specify the\n",
    "**path** to the file, which is the name of the directory (or folder)\n",
    "where the file is located.\n",
    "\n",
    "Usually we use *relative* paths, when we have a subfolder in the current working directory e.g.: `Files/Work/mynotes.txt`.  \n",
    "The directory above is `../` etc.\n",
    "* Use the same case (uppercase capitals etc.), which may not matter on Windows byt will affect the script on other operating systems and for marking the work.\n",
    "\n",
    "A full (_\"absolute\"_) Windows path might be `\"c:/Users/Nick/words.txt\"` or\n",
    "`\"c:\\\\Users\\\\Nick\\\\words.txt\"`, but **do NOT use these in shared or submitted files** only if you are ever going to use the script on a single machine.  \n",
    "Because backslashes are used to escape things like newlines and tabs, we need to write two backslashes in a \n",
    "string to get a real backslash `\\`, so can use a forward slash instead (like web addresses).\n",
    "\n",
    "* We cannot use `/` or `\\` as part of a filename; they are reserved as a\n",
    "**delimiter** between directory and filenames."
   ]
  },
  {
   "cell_type": "markdown",
   "metadata": {
    "deletable": false,
    "editable": false,
    "nbgrader": {
     "cell_type": "markdown",
     "checksum": "6e0aa7d3d8ced879e202222177642432",
     "grade": false,
     "grade_id": "cell-0850a3bd95a4f1d0",
     "locked": true,
     "schema_version": 3,
     "solution": false,
     "task": false
    }
   },
   "source": [
    "Writing our First File\n",
    "----------------------\n",
    "\n",
    "To open a file we use the `open(NAME, MODE)` function, which takes two *arguments*.  \n",
    "The first is the name of the file, and the second is called the **mode**.  \n",
    "Mode `\"w\"` means that we are opening the file for **w**riting. \n",
    "\n",
    "With mode `\"w\"`, if there is no file named `test.txt` on the disk, it\n",
    "will be created.  \n",
    "If there already is one, it will be replaced by the\n",
    "file we are writing (be careful to not overwrite important files!)."
   ]
  },
  {
   "cell_type": "code",
   "execution_count": null,
   "metadata": {
    "ExecuteTime": {
     "end_time": "2019-02-01T22:43:08.198482Z",
     "start_time": "2019-02-01T22:43:08.186813Z"
    },
    "deletable": false,
    "editable": false,
    "nbgrader": {
     "cell_type": "code",
     "checksum": "f62a0774a700821cffa4017a66056bec",
     "grade": false,
     "grade_id": "cell-9110763bb76bec50",
     "locked": true,
     "schema_version": 3,
     "solution": false,
     "task": false
    }
   },
   "outputs": [],
   "source": [
    "myfile = open(\"workfile.txt\", \"w\")\n",
    "print(myfile)"
   ]
  },
  {
   "cell_type": "markdown",
   "metadata": {
    "deletable": false,
    "editable": false,
    "nbgrader": {
     "cell_type": "markdown",
     "checksum": "c774320626a48792be05538567ea0905",
     "grade": false,
     "grade_id": "cell-87cdd8d660a6e4b0",
     "locked": true,
     "schema_version": 3,
     "solution": false,
     "task": false
    }
   },
   "source": [
    "The variable named `myfile` acts like a *container* holding all the contents copied to memory from the file on disk.  \n",
    "You can move information from the container a piece at  time, or all at once until it is empty.\n",
    "\n",
    "You can then use different *methods* on the file, using a **dot** as in: `FILE`**.**`METHOD`, \n",
    "and this makes changes to the `myfile` container.\n",
    "\n",
    "The following line writes text into a file, using the `write` method. The file is written to the current working folder where the programme script is run from (See Section below on **Using the OS Module} for more on working folders)."
   ]
  },
  {
   "cell_type": "code",
   "execution_count": null,
   "metadata": {
    "ExecuteTime": {
     "end_time": "2019-02-01T22:43:08.220473Z",
     "start_time": "2019-02-01T22:43:08.204476Z"
    },
    "deletable": false,
    "editable": false,
    "nbgrader": {
     "cell_type": "code",
     "checksum": "fad4526ddfdb9ce6cd17ce7ac44f14b5",
     "grade": false,
     "grade_id": "cell-abc693a8070a83cb",
     "locked": true,
     "schema_version": 3,
     "solution": false,
     "task": false
    }
   },
   "outputs": [],
   "source": [
    "myfile.write(\"This is a test...\")"
   ]
  },
  {
   "cell_type": "markdown",
   "metadata": {
    "deletable": false,
    "editable": false,
    "nbgrader": {
     "cell_type": "markdown",
     "checksum": "e5dc58c367b5441ef0861a285ef939bf",
     "grade": false,
     "grade_id": "cell-e7e941994a2f9be6",
     "locked": true,
     "schema_version": 3,
     "solution": false,
     "task": false
    }
   },
   "source": [
    "* Try opening the new file from the main JupyterHub file menu or on your disk using the file browser. \n",
    "    - notice that it will be empty.\n",
    "    - This is because you haven't yet saved the file to disk (like editing but not pressing **save** in a word processor).  \n",
    "\n",
    "To send any data to the file before we are finished we can use the `flush` method. "
   ]
  },
  {
   "cell_type": "code",
   "execution_count": null,
   "metadata": {
    "ExecuteTime": {
     "end_time": "2019-02-01T22:43:08.230475Z",
     "start_time": "2019-02-01T22:43:08.226476Z"
    },
    "deletable": false,
    "editable": false,
    "nbgrader": {
     "cell_type": "code",
     "checksum": "457078f16a96220ecb651c369352b4f0",
     "grade": false,
     "grade_id": "cell-0fb5f73b8d0d6619",
     "locked": true,
     "schema_version": 3,
     "solution": false,
     "task": false
    }
   },
   "outputs": [],
   "source": [
    "myfile.flush()"
   ]
  },
  {
   "cell_type": "markdown",
   "metadata": {
    "deletable": false,
    "editable": false,
    "nbgrader": {
     "cell_type": "markdown",
     "checksum": "c4f21ae0f4608f8c7184ce6440fa3e9b",
     "grade": false,
     "grade_id": "cell-a4f55043fbab7a3d",
     "locked": true,
     "schema_version": 3,
     "solution": false,
     "task": false
    }
   },
   "source": [
    "* Now try reopening the file to see if the contents have appeared.\n",
    "\n",
    "Using the `close` method will both **save** the data *and* **close** the file.\n",
    "\n",
    "To write something other than a string, it needs to be converted to a string first:"
   ]
  },
  {
   "cell_type": "code",
   "execution_count": null,
   "metadata": {
    "ExecuteTime": {
     "end_time": "2019-02-01T22:43:08.239473Z",
     "start_time": "2019-02-01T22:43:08.233474Z"
    },
    "deletable": false,
    "editable": false,
    "nbgrader": {
     "cell_type": "code",
     "checksum": "b775238faffe37bef300099cddbcf049",
     "grade": false,
     "grade_id": "cell-acb44f6c04defe90",
     "locked": true,
     "schema_version": 3,
     "solution": false,
     "task": false
    }
   },
   "outputs": [],
   "source": [
    "value = 42\n",
    "s = str(value)\n",
    "myfile.write(s)\n",
    "myfile.close()"
   ]
  },
  {
   "cell_type": "markdown",
   "metadata": {
    "deletable": false,
    "editable": false,
    "nbgrader": {
     "cell_type": "markdown",
     "checksum": "62784fd1c3a1102fb2c5b47022ab16cf",
     "grade": false,
     "grade_id": "cell-c2ec2e48227c8e3a",
     "locked": true,
     "schema_version": 3,
     "solution": false,
     "task": false
    }
   },
   "source": [
    "* Reopen the file and see the new contents.\n",
    "\n",
    "Note: if you try to save something other than a string, or a variable that does not exist we will get an error."
   ]
  },
  {
   "cell_type": "markdown",
   "metadata": {
    "deletable": false,
    "editable": false,
    "nbgrader": {
     "cell_type": "markdown",
     "checksum": "c50748d3f544267435be1b51ae0d6588",
     "grade": false,
     "grade_id": "cell-d1e12f8bf0ab2a86",
     "locked": true,
     "schema_version": 3,
     "solution": false,
     "task": false
    }
   },
   "source": [
    "### The `with` statement\n",
    "\n",
    "A safe way of writing to files is using the `with` statement and an indented block of code that does something to the file.\n",
    "This is safe because you do not need to specify `close()` at the end. The contents are written to the file whether the code exited normally or not. This means you do not lose any work in progress.\n",
    "\n",
    "The general syntax for opening the file FILENAME and assigning it to a FILEHANDLE (`like FH=FN.open()`) is:\n",
    "```python\n",
    "with open(FILEMNAME, MODE) as FILEHANDLE:\n",
    "    DO FUN STUFF\n",
    "    FILEHANDLE.write()\n",
    "    OTHER STUFF\n",
    "    ...\n",
    "```\n",
    "* Note in the example below the \"triple quotes\" allow us to use a multi-line string."
   ]
  },
  {
   "cell_type": "code",
   "execution_count": null,
   "metadata": {
    "deletable": false,
    "editable": false,
    "nbgrader": {
     "cell_type": "code",
     "checksum": "88abcc09ec8239de9aff751d9d481845",
     "grade": false,
     "grade_id": "cell-b741edde95a721ab",
     "locked": true,
     "schema_version": 3,
     "solution": false,
     "task": false
    }
   },
   "outputs": [],
   "source": [
    "textlines=\"\"\"A bit of text I want to write to a file.\n",
    "1. The first point I want to make is this.\n",
    "2. Next I want to tell you that...\"\"\"\n",
    "\n",
    "fname=\"outfile.txt\"\n",
    "\n",
    "with open(fname,\"w\") as f:\n",
    "    f.write(textlines)"
   ]
  },
  {
   "cell_type": "markdown",
   "metadata": {
    "deletable": false,
    "editable": false,
    "nbgrader": {
     "cell_type": "markdown",
     "checksum": "5b0fc6664527d3dca39cbf9e279faebe",
     "grade": false,
     "grade_id": "cell-80d56d40df8924eb",
     "locked": true,
     "schema_version": 3,
     "solution": false,
     "task": false
    }
   },
   "source": [
    "* Just to prove that the file has been written and closed properly, read its contents, which we will cover in the next subsection"
   ]
  },
  {
   "cell_type": "code",
   "execution_count": null,
   "metadata": {
    "deletable": false,
    "editable": false,
    "nbgrader": {
     "cell_type": "code",
     "checksum": "82f600071cb33bfab04d8ee28094832f",
     "grade": false,
     "grade_id": "cell-2bb47bbc40a158ee",
     "locked": true,
     "schema_version": 3,
     "solution": false,
     "task": false
    }
   },
   "outputs": [],
   "source": [
    "print(open(fname,\"r\").read())"
   ]
  },
  {
   "cell_type": "markdown",
   "metadata": {
    "deletable": false,
    "editable": false,
    "nbgrader": {
     "cell_type": "markdown",
     "checksum": "cc70363afcc816fba7a82b0c15317aad",
     "grade": false,
     "grade_id": "cell-66c7fdf6fb6859f6",
     "locked": true,
     "schema_version": 3,
     "solution": false,
     "task": false
    }
   },
   "source": [
    "The `write` method can be used repeatedly to print more output to the file, as\n",
    "shown in lines 2, 3 and 4 below.  \n",
    "In bigger programs, lines 2-4 will usually be replaced by a loop that writes many more lines into the file."
   ]
  },
  {
   "cell_type": "code",
   "execution_count": null,
   "metadata": {
    "ExecuteTime": {
     "end_time": "2019-02-01T22:43:08.250472Z",
     "start_time": "2019-02-01T22:43:08.24247Z"
    },
    "deletable": false,
    "editable": false,
    "nbgrader": {
     "cell_type": "code",
     "checksum": "27343c6dc9047fd40787c1baeda60f86",
     "grade": false,
     "grade_id": "cell-9154f5cc43e17a12",
     "locked": true,
     "schema_version": 3,
     "solution": false,
     "task": false
    }
   },
   "outputs": [],
   "source": [
    "with open(\"test.txt\", \"w\") as mynewfile:\n",
    "    mynewfile.write(\"# A bit of text I want to write to a file.\")\n",
    "    mynewfile.write(\"1. The first point I want to make is this.\")\n",
    "    mynewfile.write(\"2. Next I want to tell you that...\")"
   ]
  },
  {
   "cell_type": "markdown",
   "metadata": {
    "deletable": false,
    "editable": false,
    "nbgrader": {
     "cell_type": "markdown",
     "checksum": "b41b40d74c5d5e6aaf03817a639cf9f2",
     "grade": false,
     "grade_id": "cell-4628777b89c31c4b",
     "locked": true,
     "schema_version": 3,
     "solution": false,
     "task": false
    }
   },
   "source": [
    "* Now look in your working folder and you will be able to open the new file **test.txt**.  \n",
    "    - You will notice that the text is all on one line. This is because we didn't tell Python to start a new line.  \n",
    "    * We do this using the *special* character `\"\\n\"` (backslash n), which stands for \"newline\". \n",
    "    - This is like pressing **enter** or **return** on the keyboard. Other special characters exist, such as `\"\\t\"` for **tab**.\n",
    "\n",
    "* **Exercise:** Try again, but putting a `\\n` inside the end of each string"
   ]
  },
  {
   "cell_type": "code",
   "execution_count": null,
   "metadata": {
    "ExecuteTime": {
     "end_time": "2019-02-01T22:43:08.260473Z",
     "start_time": "2019-02-01T22:43:08.252478Z"
    },
    "deletable": false,
    "nbgrader": {
     "cell_type": "code",
     "checksum": "f6501e4483019fa0b194ea0aa01f6a0e",
     "grade": true,
     "grade_id": "cell-39d3b4bee89a38fa",
     "locked": false,
     "points": 0,
     "schema_version": 3,
     "solution": true,
     "task": false
    }
   },
   "outputs": [],
   "source": [
    "#with opener\n",
    "# YOUR CODE HERE\n",
    "    # YOUR CODE HERE\n",
    "    # YOUR CODE HERE\n",
    "    # YOUR CODE HERE"
   ]
  },
  {
   "cell_type": "markdown",
   "metadata": {
    "deletable": false,
    "editable": false,
    "nbgrader": {
     "cell_type": "markdown",
     "checksum": "7fbe6254a63d649e1e52256ec4474b00",
     "grade": false,
     "grade_id": "cell-4f7f773e38c87294",
     "locked": true,
     "schema_version": 3,
     "solution": false,
     "task": false
    }
   },
   "source": [
    "Now reload the file in a browser to see it.\n",
    "\n",
    "It should look like this:\n",
    "```\n",
    "# A bit of text I want to write to a file.\n",
    "1. The first point I want to make is this.\n",
    "2. Next I want to tell you that...\n",
    "```\n",
    "\n",
    "[Click here for solution](solutions/sol0701.ipynb)\n",
    "\n",
    "* **You will need the correct code run above for the following exercises to work!**"
   ]
  },
  {
   "cell_type": "markdown",
   "metadata": {},
   "source": [
    "## Reading from Files\n",
    "\n",
    "If a file exists on our disk, we can open it for reading.  \n",
    "This time, the mode argument is `\"r\"` for **r**ead:"
   ]
  },
  {
   "cell_type": "code",
   "execution_count": null,
   "metadata": {
    "ExecuteTime": {
     "end_time": "2019-02-01T22:43:08.268475Z",
     "start_time": "2019-02-01T22:43:08.263475Z"
    },
    "deletable": false,
    "editable": false,
    "nbgrader": {
     "cell_type": "code",
     "checksum": "b896061788aee191fce311e29e661669",
     "grade": false,
     "grade_id": "cell-2aeb3c612a1b872d",
     "locked": true,
     "schema_version": 3,
     "solution": false,
     "task": false
    }
   },
   "outputs": [],
   "source": [
    "thefile = open(\"test.txt\", \"r\")\n",
    "print(thefile)"
   ]
  },
  {
   "cell_type": "markdown",
   "metadata": {
    "deletable": false,
    "editable": false,
    "nbgrader": {
     "cell_type": "markdown",
     "checksum": "1cae0cb8383aa362a01b12a336476b35",
     "grade": false,
     "grade_id": "cell-0f5aaec5cefa9e6b",
     "locked": true,
     "schema_version": 3,
     "solution": false,
     "task": false
    }
   },
   "source": [
    "* This returns the contents of the file in a *\"container\"* object.\n",
    "\n",
    "However, if we try to open a file for reading that doesn't exist, we get an error:"
   ]
  },
  {
   "cell_type": "code",
   "execution_count": null,
   "metadata": {
    "deletable": false,
    "editable": false,
    "nbgrader": {
     "cell_type": "code",
     "checksum": "c67ee9ee3bd5c81f7442fd433454455e",
     "grade": false,
     "grade_id": "cell-cc364947efd39744",
     "locked": true,
     "schema_version": 3,
     "solution": false,
     "task": false
    }
   },
   "outputs": [],
   "source": [
    "anotherfile = open(\"iamnotafile.txt\", \"r\")"
   ]
  },
  {
   "cell_type": "markdown",
   "metadata": {
    "deletable": false,
    "editable": false,
    "nbgrader": {
     "cell_type": "markdown",
     "checksum": "f9cd1cfc91cf3a81c0e7e3a99ac1b954",
     "grade": false,
     "grade_id": "cell-a078540daa490ad1",
     "locked": true,
     "schema_version": 3,
     "solution": false,
     "task": false
    }
   },
   "source": [
    "We can write some code to catch errors and prevent them from raising an error message (a so called *\"exception\"*)."
   ]
  },
  {
   "cell_type": "code",
   "execution_count": null,
   "metadata": {
    "ExecuteTime": {
     "end_time": "2019-02-01T22:43:09.077418Z",
     "start_time": "2019-02-01T22:43:08.272483Z"
    },
    "deletable": false,
    "editable": false,
    "nbgrader": {
     "cell_type": "code",
     "checksum": "9c604736667156d8b7b6c1f63429c024",
     "grade": false,
     "grade_id": "cell-47f82591364913e6",
     "locked": true,
     "schema_version": 3,
     "solution": false,
     "task": false
    }
   },
   "outputs": [],
   "source": [
    "# This checks that the expected error is raised and raises an exception\n",
    "fname = \"iamnotafile.txt\"\n",
    "\n",
    "try: open(fname, \"r\")\n",
    "except: print(f'File \"{fname}\" could not be opened.')"
   ]
  },
  {
   "cell_type": "markdown",
   "metadata": {
    "deletable": false,
    "editable": false,
    "nbgrader": {
     "cell_type": "markdown",
     "checksum": "50cdc03385bad60d229e993730b032f9",
     "grade": false,
     "grade_id": "cell-67428c93377ebf28",
     "locked": true,
     "schema_version": 3,
     "solution": false,
     "task": false
    }
   },
   "source": [
    "## File Methods\n",
    "\n",
    "There are a variety of methods for reading data and text from files, depending on the format of the data and how we want to use it. \n",
    "We can either read the contents of the whole file at once, or scan it in line-by-line.\n",
    "\n",
    "### Reading the Whole File\n",
    "\n",
    "The `read` method returns the entire contents of the file, emptying the whole \"container\" into the string called `this` at the same time:"
   ]
  },
  {
   "cell_type": "code",
   "execution_count": null,
   "metadata": {
    "ExecuteTime": {
     "end_time": "2019-02-01T22:43:09.087423Z",
     "start_time": "2019-02-01T22:43:09.080416Z"
    },
    "deletable": false,
    "editable": false,
    "nbgrader": {
     "cell_type": "code",
     "checksum": "33fea17f01f37a242b7be5038d8c3c85",
     "grade": false,
     "grade_id": "cell-292f5e0b844884df",
     "locked": true,
     "schema_version": 3,
     "solution": false,
     "task": false
    }
   },
   "outputs": [],
   "source": [
    "thefile = open(\"test.txt\", \"r\")\n",
    "this = thefile.read()\n",
    "print(this)"
   ]
  },
  {
   "cell_type": "markdown",
   "metadata": {
    "deletable": false,
    "editable": false,
    "nbgrader": {
     "cell_type": "markdown",
     "checksum": "9cadf72538603bb37d039204b392f546",
     "grade": false,
     "grade_id": "cell-b6cef499a3cc9e8f",
     "locked": true,
     "schema_version": 3,
     "solution": false,
     "task": false
    }
   },
   "source": [
    "If we try to read it a second time, the file *container* called `thefile` is now empty, so will return an empty string:"
   ]
  },
  {
   "cell_type": "code",
   "execution_count": null,
   "metadata": {
    "ExecuteTime": {
     "end_time": "2019-02-01T22:43:09.106421Z",
     "start_time": "2019-02-01T22:43:09.092416Z"
    },
    "deletable": false,
    "editable": false,
    "nbgrader": {
     "cell_type": "code",
     "checksum": "d13b60703c2dedc16c64f52c8ce22601",
     "grade": false,
     "grade_id": "cell-b2fc3627182d66a1",
     "locked": true,
     "schema_version": 3,
     "solution": false,
     "task": false
    }
   },
   "outputs": [],
   "source": [
    "that = thefile.read()\n",
    "print(that)"
   ]
  },
  {
   "cell_type": "markdown",
   "metadata": {
    "deletable": false,
    "editable": false,
    "nbgrader": {
     "cell_type": "markdown",
     "checksum": "cefa24ffa72f5eca354cf3f97ae8c790",
     "grade": false,
     "grade_id": "cell-276ef8e74c75995d",
     "locked": true,
     "schema_version": 3,
     "solution": false,
     "task": false
    }
   },
   "source": [
    "### Reading Files a Line at a Time\n",
    "\n",
    "Another file method is `readline`, which scans the contents line-by-line: "
   ]
  },
  {
   "cell_type": "code",
   "execution_count": null,
   "metadata": {
    "ExecuteTime": {
     "end_time": "2019-02-01T22:43:09.123462Z",
     "start_time": "2019-02-01T22:43:09.110421Z"
    },
    "deletable": false,
    "editable": false,
    "nbgrader": {
     "cell_type": "code",
     "checksum": "290041e56f924b9c16e0a2ac32776474",
     "grade": false,
     "grade_id": "cell-0ef6cd4a6d3e36a2",
     "locked": true,
     "schema_version": 3,
     "solution": false,
     "task": false
    }
   },
   "outputs": [],
   "source": [
    "f = open(\"test.txt\", \"r\")\n",
    "print(0, f.readline())  # This will read the first line of the file.\n",
    "print(1, f.readline())  # and next the second line\n",
    "print(2, f.readline())  # and the last line\n",
    "print(3, f.readline())  # the handle (container) is now empty..."
   ]
  },
  {
   "cell_type": "markdown",
   "metadata": {
    "deletable": false,
    "editable": false,
    "nbgrader": {
     "cell_type": "markdown",
     "checksum": "26bb241ad108cce4f0eb2ff7db6ba3f2",
     "grade": false,
     "grade_id": "cell-d6f383e06e89f80f",
     "locked": true,
     "schema_version": 3,
     "solution": false,
     "task": false
    }
   },
   "source": [
    "The `end=\"\"` argument prevents an extra newline being added:"
   ]
  },
  {
   "cell_type": "code",
   "execution_count": null,
   "metadata": {
    "deletable": false,
    "editable": false,
    "nbgrader": {
     "cell_type": "code",
     "checksum": "248da656222c58c9f7a9faa28da5965a",
     "grade": false,
     "grade_id": "cell-1ae198538a861047",
     "locked": true,
     "schema_version": 3,
     "solution": false,
     "task": false
    }
   },
   "outputs": [],
   "source": [
    "f = open(\"test.txt\", \"r\")\n",
    "print(0, f.readline(), end=\"\")  # This will read the first line of the file.\n",
    "print(1, f.readline(), end=\"\")  # and next the second line\n",
    "print(2, f.readline(), end=\"\")  # and the last line\n",
    "print(3, f.readline(), end=\"\")  # the handle (container) is now empty..."
   ]
  },
  {
   "cell_type": "markdown",
   "metadata": {
    "deletable": false,
    "editable": false,
    "nbgrader": {
     "cell_type": "markdown",
     "checksum": "91470407ac5e8afd5ef586d0ebc3541f",
     "grade": false,
     "grade_id": "cell-5a5a6008f33068b4",
     "locked": true,
     "schema_version": 3,
     "solution": false,
     "task": false
    }
   },
   "source": [
    "### Iterative Methods for Scanning Files\n",
    "\n",
    "A file can also be iterated over in the same way as a list.\n",
    "\n",
    "* **Exercise:** Put the previous code in a loop using `for i in range(3):` and changing the numbers for the counter `i`"
   ]
  },
  {
   "cell_type": "code",
   "execution_count": null,
   "metadata": {
    "deletable": false,
    "nbgrader": {
     "cell_type": "code",
     "checksum": "d2b8e42644399c9e36360011c1b89828",
     "grade": true,
     "grade_id": "cell-e6b9800bb79eb5b0",
     "locked": false,
     "points": 0,
     "schema_version": 3,
     "solution": true,
     "task": false
    }
   },
   "outputs": [],
   "source": [
    "# open the file\n",
    "# YOUR CODE HERE\n",
    "#FOR loop condition:\n",
    "# YOUR CODE HERE\n",
    "    #single print function\n",
    "    # YOUR CODE HERE\n",
    "#end of loop"
   ]
  },
  {
   "cell_type": "markdown",
   "metadata": {
    "deletable": false,
    "editable": false,
    "nbgrader": {
     "cell_type": "markdown",
     "checksum": "ed01dfd43dd9231ef050f7e42d4fff04",
     "grade": false,
     "grade_id": "cell-8c6130bbfe5b93ee",
     "locked": true,
     "schema_version": 3,
     "solution": false,
     "task": false
    }
   },
   "source": [
    "[Click for solution](solutions/sol0702.ipynb)\n"
   ]
  },
  {
   "cell_type": "markdown",
   "metadata": {
    "deletable": false,
    "editable": false,
    "nbgrader": {
     "cell_type": "markdown",
     "checksum": "e0f9588220fcd5958ada66a855b225a4",
     "grade": false,
     "grade_id": "cell-ba262787c5902dc6",
     "locked": true,
     "schema_version": 3,
     "solution": false,
     "task": false
    }
   },
   "source": [
    "Alternatively you can just iterate over the file contents directly:"
   ]
  },
  {
   "cell_type": "code",
   "execution_count": null,
   "metadata": {
    "ExecuteTime": {
     "end_time": "2019-02-01T22:43:09.133422Z",
     "start_time": "2019-02-01T22:43:09.127418Z"
    },
    "deletable": false,
    "editable": false,
    "nbgrader": {
     "cell_type": "code",
     "checksum": "986dc17e796ceaf2e1e38f90c2d19b53",
     "grade": false,
     "grade_id": "cell-c2fd6a6f183cd921",
     "locked": true,
     "schema_version": 3,
     "solution": false,
     "task": false
    }
   },
   "outputs": [],
   "source": [
    "the_file = open(\"test.txt\", \"r\")\n",
    "\n",
    "for each_line in the_file:\n",
    "    print(each_line, end=\"\")"
   ]
  },
  {
   "cell_type": "markdown",
   "metadata": {
    "deletable": false,
    "editable": false,
    "nbgrader": {
     "cell_type": "markdown",
     "checksum": "5fb2164c7f5baf6279c51dccab9dd2bc",
     "grade": false,
     "grade_id": "cell-0a79955ed18eea15",
     "locked": true,
     "schema_version": 3,
     "solution": false,
     "task": false
    }
   },
   "source": [
    "Reading a File in to a List of Lines\n",
    "-----------------------------------\n",
    "\n",
    "It is often useful to fetch data from a disk file and turn it into a\n",
    "list of lines.  \n",
    "We can then perform useful tasks on this list.   \n",
    "The `readlines` method in line 2 reads all the lines and returns a list\n",
    "of the strings.  "
   ]
  },
  {
   "cell_type": "code",
   "execution_count": null,
   "metadata": {
    "deletable": false,
    "editable": false,
    "nbgrader": {
     "cell_type": "code",
     "checksum": "d8d9b482fb31ecbcbef667a702f7eacb",
     "grade": false,
     "grade_id": "cell-483f6e49fa6e1252",
     "locked": true,
     "schema_version": 3,
     "solution": false,
     "task": false
    }
   },
   "outputs": [],
   "source": [
    "f = open(\"test.txt\", \"r\")\n",
    "list_of_lines = f.readlines()\n",
    "print(list_of_lines)"
   ]
  },
  {
   "cell_type": "code",
   "execution_count": null,
   "metadata": {
    "ExecuteTime": {
     "end_time": "2019-02-01T22:43:09.161418Z",
     "start_time": "2019-02-01T22:43:09.152417Z"
    },
    "deletable": false,
    "editable": false,
    "nbgrader": {
     "cell_type": "code",
     "checksum": "78aefbedeb4b24ec04f6a486352b1dde",
     "grade": false,
     "grade_id": "cell-ac84ffe6e7e8308c",
     "locked": true,
     "schema_version": 3,
     "solution": false,
     "task": false
    }
   },
   "outputs": [],
   "source": [
    "print(\"The last line is:\\n\", list_of_lines[-1])"
   ]
  },
  {
   "cell_type": "markdown",
   "metadata": {
    "deletable": false,
    "editable": false,
    "nbgrader": {
     "cell_type": "markdown",
     "checksum": "4bde6f46728f3505a2097d286cf39a67",
     "grade": false,
     "grade_id": "cell-e8410bba36e6dfaa",
     "locked": true,
     "schema_version": 3,
     "solution": false,
     "task": false
    }
   },
   "source": [
    "### Sorting a File\n",
    "\n",
    "This example sorts the lines of a file alphabetically (with capitalised words first).  \n",
    "We will use the `friends.txt` file we downloaded, which has a name per line.  \n",
    "* Take a look at this file using a normal text editor.  \n",
    "\n",
    "First we read everything into a list of lines, then sort the list, and then write the sorted list back\n",
    "to another file:"
   ]
  },
  {
   "cell_type": "code",
   "execution_count": null,
   "metadata": {},
   "outputs": [],
   "source": [
    "thefile = open(\"Files/friends.txt\", \"r\")\n",
    "contentlist = thefile.readlines()\n",
    "thefile.close()\n",
    "\n",
    "print(contentlist)"
   ]
  },
  {
   "cell_type": "markdown",
   "metadata": {
    "deletable": false,
    "editable": false,
    "nbgrader": {
     "cell_type": "markdown",
     "checksum": "96ea208d3fa1dda84a6e461f1489a63b",
     "grade": false,
     "grade_id": "cell-2a02450fb437c981",
     "locked": true,
     "schema_version": 3,
     "solution": false,
     "task": false
    }
   },
   "source": [
    "Now we can sort the list alphanumerically:"
   ]
  },
  {
   "cell_type": "code",
   "execution_count": null,
   "metadata": {
    "deletable": false,
    "editable": false,
    "nbgrader": {
     "cell_type": "code",
     "checksum": "26d0b0d88fe4ffb90254ace96d423e40",
     "grade": false,
     "grade_id": "cell-9525e013e675dbbc",
     "locked": true,
     "schema_version": 3,
     "solution": false,
     "task": false
    }
   },
   "outputs": [],
   "source": [
    "contentlist.sort()  # sort is a list method, guess what it does before running this cell\n",
    "list(contentlist) # spot the difference!"
   ]
  },
  {
   "cell_type": "markdown",
   "metadata": {
    "deletable": false,
    "editable": false,
    "nbgrader": {
     "cell_type": "markdown",
     "checksum": "fbbf8f42617afcee34607bd961ca54b2",
     "grade": false,
     "grade_id": "cell-0a3367d2919648ac",
     "locked": true,
     "schema_version": 3,
     "solution": false,
     "task": false
    }
   },
   "source": [
    "Now write back to another file:"
   ]
  },
  {
   "cell_type": "code",
   "execution_count": null,
   "metadata": {
    "ExecuteTime": {
     "end_time": "2019-02-01T22:43:09.179428Z",
     "start_time": "2019-02-01T22:43:09.164422Z"
    },
    "deletable": false,
    "editable": false,
    "nbgrader": {
     "cell_type": "code",
     "checksum": "1df19bc3d0c0a97506ad7d3fe1915adf",
     "grade": false,
     "grade_id": "cell-7e3a34361ee9f709",
     "locked": true,
     "schema_version": 3,
     "solution": false,
     "task": false
    }
   },
   "outputs": [],
   "source": [
    "with open(\"sortedfriends.txt\", \"w\") as outfile:\n",
    "    for next_entry in contentlist:\n",
    "        outfile.write(next_entry)"
   ]
  },
  {
   "cell_type": "markdown",
   "metadata": {
    "deletable": false,
    "editable": false,
    "nbgrader": {
     "cell_type": "markdown",
     "checksum": "36cee26b4f8fa232b2f0d879f4bbf954",
     "grade": false,
     "grade_id": "cell-378ab13f8553e1d2",
     "locked": true,
     "schema_version": 3,
     "solution": false,
     "task": false
    }
   },
   "source": [
    "* Open the file using the browser to see its contents."
   ]
  },
  {
   "cell_type": "markdown",
   "metadata": {
    "deletable": false,
    "editable": false,
    "nbgrader": {
     "cell_type": "markdown",
     "checksum": "e6563649013ff43db0efefff806d7c01",
     "grade": false,
     "grade_id": "cell-774ec7e3143517df",
     "locked": true,
     "schema_version": 3,
     "solution": false,
     "task": false
    }
   },
   "source": [
    "### Exercise: File Reversing\n",
    "\n",
    "Write a program that reads a file and writes out a new file with the lines in reversed order (i.e. the first line in the old file becomes the last one in the new file.)\n",
    "* Hint: use reverse indexing using: \n",
    "```python\n",
    "range(-1,-N,-1)\n",
    "```"
   ]
  },
  {
   "cell_type": "code",
   "execution_count": null,
   "metadata": {
    "deletable": false,
    "nbgrader": {
     "cell_type": "code",
     "checksum": "89ee4a1fe5b5439d49d368291d3afe7a",
     "grade": true,
     "grade_id": "cell-f455ccf061d4d653",
     "locked": false,
     "points": 0,
     "schema_version": 3,
     "solution": true,
     "task": false
    }
   },
   "outputs": [],
   "source": [
    "#open the input file\n",
    "# YOUR CODE HERE\n",
    "\n",
    "# read into a list (called contents) using readlines\n",
    "# YOUR CODE HERE\n",
    "\n",
    "N = len(contents) # may be needed later...\n",
    "\n",
    "# open your new file to write to, using a WITH statement:\n",
    "# YOUR CODE HERE\n",
    "    ## EVERYTHING INDENTED IN THE WITH BLOCK ##\n",
    "    # loop backwards FOR the LENgth of the contents list obtained above\n",
    "    # YOUR CODE HERE\n",
    "        # write lines back to your file \n",
    "        # YOUR CODE HERE\n",
    "    ## END OF THE WITH BLOCK ##"
   ]
  },
  {
   "cell_type": "markdown",
   "metadata": {
    "deletable": false,
    "editable": false,
    "nbgrader": {
     "cell_type": "markdown",
     "checksum": "6824ab04ed54f21d0aab46106bf020b2",
     "grade": false,
     "grade_id": "cell-b99292db4cea42f8",
     "locked": true,
     "schema_version": 3,
     "solution": false,
     "task": false
    }
   },
   "source": [
    "[Click for solution](solutions/sol0703.ipynb)"
   ]
  },
  {
   "cell_type": "markdown",
   "metadata": {
    "deletable": false,
    "editable": false,
    "nbgrader": {
     "cell_type": "markdown",
     "checksum": "33cacb7527c8079517042cb16a648f15",
     "grade": false,
     "grade_id": "cell-7adc59bfe3978e97",
     "locked": true,
     "schema_version": 3,
     "solution": false,
     "task": false
    }
   },
   "source": [
    "### Filtering a File\n",
    "\n",
    "Many useful line-processing programs will read a text file\n",
    "line-at-a-time and do some minor processing as they write the lines to\n",
    "an output file. They might number the lines in the output file, or\n",
    "insert extra blank lines after every 60 lines to make it convenient for\n",
    "printing on sheets of paper, or extract some specific columns only from\n",
    "each line in the source file, or only print lines that contain a\n",
    "specific substring.  \n",
    "We call this kind of program a **filter**.\n",
    "\n",
    "Here is a filter that copies one file to another, omitting any lines\n",
    "that begin with `#`. \n",
    "\n",
    "* Have a look at the contents of the file `Files/intext.txt` to see what it looks like before running the next cell."
   ]
  },
  {
   "cell_type": "code",
   "execution_count": null,
   "metadata": {
    "ExecuteTime": {
     "end_time": "2019-02-01T22:43:09.199417Z",
     "start_time": "2019-02-01T22:43:09.191417Z"
    },
    "deletable": false,
    "editable": false,
    "nbgrader": {
     "cell_type": "code",
     "checksum": "3f85a81334c9abd3d5c0a443150d9615",
     "grade": false,
     "grade_id": "cell-7d1efe4362b93daf",
     "locked": true,
     "schema_version": 3,
     "solution": false,
     "task": false
    }
   },
   "outputs": [],
   "source": [
    "oldfilename = \"Files/intext.txt\"\n",
    "newfilename = \"outtext.txt\"\n",
    "\n",
    "infile = open(oldfilename, \"r\")\n",
    "\n",
    "with open(newfilename, \"w\") as outfile:\n",
    "    for text in infile:\n",
    "        if text[0] != \"#\":\n",
    "            outfile.write(text)\n",
    "    outfile.close()"
   ]
  },
  {
   "cell_type": "markdown",
   "metadata": {
    "deletable": false,
    "editable": false,
    "nbgrader": {
     "cell_type": "markdown",
     "checksum": "11a7972a4453fa1b74539559ca411eb9",
     "grade": false,
     "grade_id": "cell-96d92d36ab737c51",
     "locked": true,
     "schema_version": 3,
     "solution": false,
     "task": false
    }
   },
   "source": [
    "* Look at `outtext.txt` to see what this did to the data."
   ]
  },
  {
   "cell_type": "markdown",
   "metadata": {
    "deletable": false,
    "editable": false,
    "nbgrader": {
     "cell_type": "markdown",
     "checksum": "209a8b162780cf81ad70cb3a69b30200",
     "grade": false,
     "grade_id": "cell-0b04df78fc1b6c3e",
     "locked": true,
     "schema_version": 3,
     "solution": false,
     "task": false
    }
   },
   "source": [
    "Methods such as sorting and filtering are also very useful on numerical data."
   ]
  },
  {
   "cell_type": "markdown",
   "metadata": {
    "deletable": false,
    "editable": false,
    "nbgrader": {
     "cell_type": "markdown",
     "checksum": "8ffc8af8344b1eebd26572e0c15aba37",
     "grade": false,
     "grade_id": "cell-fe795f5cf768b874",
     "locked": true,
     "schema_version": 3,
     "solution": false,
     "task": false
    }
   },
   "source": [
    "## Manipulating Numerical Data\n",
    "\n",
    "Numerical data can be read in, processed and written to files in the same way as text.  \n",
    "Instead of using text methods we simply perform mathematical operation on the numbers.\n",
    "\n",
    "### Import of data using NumPy\n",
    "\n",
    "Numerical data manipulation is made easier by importing and using the numerical module NumPy.  \n",
    "NumPy also has special methods for saving and loading purely numerical array data to and from files.\n",
    "\n",
    "The following programme loads a column of text from the file `\"temps.txt\"` into an array using the `ARRAY=np.loadtxt(FILENAME)` method."
   ]
  },
  {
   "cell_type": "code",
   "execution_count": null,
   "metadata": {
    "deletable": false,
    "editable": false,
    "nbgrader": {
     "cell_type": "code",
     "checksum": "2f5af4e53d298d9e4f3eb32d0d19c82b",
     "grade": false,
     "grade_id": "cell-c5d4404f70914b0b",
     "locked": true,
     "schema_version": 3,
     "solution": false,
     "task": false
    }
   },
   "outputs": [],
   "source": [
    "import numpy as np\n",
    "\n",
    "data = np.loadtxt(\"Files/temps.txt\")\n",
    "\n",
    "print(data)"
   ]
  },
  {
   "cell_type": "markdown",
   "metadata": {
    "deletable": false,
    "editable": false,
    "nbgrader": {
     "cell_type": "markdown",
     "checksum": "a2d47e89046153d25cc33c63445aa3f6",
     "grade": false,
     "grade_id": "cell-ec55d9e921a5ce14",
     "locked": true,
     "schema_version": 3,
     "solution": false,
     "task": false
    }
   },
   "source": [
    "We can then take the *mean* (average) and standard deviation of the data using the `.mean()` function:"
   ]
  },
  {
   "cell_type": "code",
   "execution_count": null,
   "metadata": {
    "deletable": false,
    "editable": false,
    "nbgrader": {
     "cell_type": "code",
     "checksum": "5583dbdd617913a9f1401c49a3ca2cbc",
     "grade": false,
     "grade_id": "cell-3219e83a57813f5c",
     "locked": true,
     "schema_version": 3,
     "solution": false,
     "task": false
    }
   },
   "outputs": [],
   "source": [
    "help(np.mean)"
   ]
  },
  {
   "cell_type": "code",
   "execution_count": null,
   "metadata": {
    "ExecuteTime": {
     "end_time": "2019-02-01T22:43:09.533416Z",
     "start_time": "2019-02-01T22:43:09.364424Z"
    },
    "deletable": false,
    "editable": false,
    "nbgrader": {
     "cell_type": "code",
     "checksum": "a5e123432e01d7827073c0055464c448",
     "grade": false,
     "grade_id": "cell-9ca7039412c15597",
     "locked": true,
     "schema_version": 3,
     "solution": false,
     "task": false
    }
   },
   "outputs": [],
   "source": [
    "m = data.mean()\n",
    "s = data.std()\n",
    "\n",
    "print(f\"mean = {m:.1f}, standard deviation = {s :.1f}\")"
   ]
  },
  {
   "cell_type": "markdown",
   "metadata": {
    "deletable": false,
    "editable": false,
    "nbgrader": {
     "cell_type": "markdown",
     "checksum": "4bbf8e69ecd7838175b761948687993b",
     "grade": false,
     "grade_id": "cell-3d641d46d5435663",
     "locked": true,
     "schema_version": 3,
     "solution": false,
     "task": false
    }
   },
   "source": [
    "### Export of Data using Numpy\n",
    "\n",
    "Continuing the last example we will now: \n",
    "\n",
    "1. Calculate the the difference of the individual temperature values from the mean.\n",
    "2. Save these to a new file using the `np.savetxt(FILENAME, DATA)` method."
   ]
  },
  {
   "cell_type": "code",
   "execution_count": null,
   "metadata": {
    "ExecuteTime": {
     "end_time": "2019-02-01T22:43:09.553419Z",
     "start_time": "2019-02-01T22:43:09.536416Z"
    },
    "deletable": false,
    "editable": false,
    "nbgrader": {
     "cell_type": "code",
     "checksum": "ff3e624a6b10c8ffa3ed11a4462a1df7",
     "grade": false,
     "grade_id": "cell-57fe2a0c439ece15",
     "locked": true,
     "schema_version": 3,
     "solution": false,
     "task": false
    }
   },
   "outputs": [],
   "source": [
    "devs = data-m # a new array with the differences\n",
    "print(devs) #print the array\n",
    "np.savetxt(\"deviations.txt\", devs)"
   ]
  },
  {
   "cell_type": "markdown",
   "metadata": {
    "deletable": false,
    "editable": false,
    "nbgrader": {
     "cell_type": "markdown",
     "checksum": "0b0d653745abb730de14849ce76952fb",
     "grade": false,
     "grade_id": "cell-7c027b5eaea3bf2c",
     "locked": true,
     "schema_version": 3,
     "solution": false,
     "task": false
    }
   },
   "source": [
    "* Look at the contents of the file from the file browser.\n"
   ]
  },
  {
   "cell_type": "markdown",
   "metadata": {
    "deletable": false,
    "editable": false,
    "nbgrader": {
     "cell_type": "markdown",
     "checksum": "74f4996fe3141fd4e05fd824bd4802f3",
     "grade": false,
     "grade_id": "cell-acdf1cf375cf14a3",
     "locked": true,
     "schema_version": 3,
     "solution": false,
     "task": false
    }
   },
   "source": [
    "### Manipulating CSV files\n",
    "\n",
    "Numerical columns of data are commonly sored as *Comma Separated Value* files with a `.csv` extension\n",
    "\n",
    "The file `Files/weatherdata.csv` contains hourly weather data in plain text, with values separated by commas (or other so called *\"delimiters\"*).  \n",
    "\n",
    "The file looks like this in a plain text editor:\n",
    "```\n",
    "Dry Bulb Temperature {C}, Dew Point Temperature {C}, Relative Humidity {%}, ...\n",
    "2.50E+0, 1.2, 91, ...\n",
    "5.70E+0, 3.5, 86, ...\n",
    "7.90E+0, 4.7, 80, ...\n",
    "... , ... , ...,\n",
    "```\n",
    "But when opened in Excel appears as a table like this:\n",
    "\n",
    "|Dry Bulb Temperature {C} |\tDew Point Temperature {C} |\tRelative Humidity {%} | ... |\n",
    "|-|-|-|-|\n",
    "|2.5 | 1.2 | 91 | ... |\n",
    "|5.7 | 3.5 | 86\t| ... |\n",
    "|7.9 | 4.7 | 80\t| ... |\n",
    "|8.7 | 5.6 | 81\t| ... |\n",
    "|8.9 | 5.8 | 81\t| ... |\n",
    "| ...| ... | ...| ... |\n",
    "\n",
    "\n",
    "The `np.loadtxt()` function method can read the values into a data array by telling `.loadtxt` how the data is laid out in the `.csv` file.\n",
    "* The *keyword argument* `delimiter=<SOME_STRING>` tells numpy how the data is separated (without this option it assumes a space).  \n",
    "* The keyword argument  `skiprows=1` is used to ignore the first row, which is the non-numerical header."
   ]
  },
  {
   "cell_type": "code",
   "execution_count": null,
   "metadata": {
    "deletable": false,
    "editable": false,
    "nbgrader": {
     "cell_type": "code",
     "checksum": "df46845e50b16dc59663426b720bed01",
     "grade": false,
     "grade_id": "cell-e285e10f19aee806",
     "locked": true,
     "schema_version": 3,
     "solution": false,
     "task": false
    }
   },
   "outputs": [],
   "source": [
    "import numpy as np\n",
    "\n",
    "# delimiter=',' tells .loadtxt that the values are separated with commas (rather than spaces)\n",
    "filedata = np.loadtxt(\"Files/weatherdata.csv\", delimiter=\",\", skiprows=1)\n",
    "\n",
    "print(filedata) #will show only the head (top rows) and tail (bottom rows) of a long array"
   ]
  },
  {
   "cell_type": "markdown",
   "metadata": {
    "deletable": false,
    "editable": false,
    "nbgrader": {
     "cell_type": "markdown",
     "checksum": "34a87baf77bf8d0295aa03e24017e6f2",
     "grade": false,
     "grade_id": "cell-e524af84baab053a",
     "locked": true,
     "schema_version": 3,
     "solution": false,
     "task": false
    }
   },
   "source": [
    "Each row is an hour's weather data, with the temperatures in the first column.\n",
    "\n",
    "### Slicing data from an array\n",
    "\n",
    "Numpy arrays can be sliced using `ARRAYNAME[<STARTROW>:<ENDROW>, <STARTCOL>:<ENDCOL>]` for example:\n",
    "* Taking the value in the 1st row (`i=0`) and third column (`j=2`):\n",
    "```python\n",
    "filedata[0, 2]\n",
    "```\n",
    "```91.0```\n",
    "\n",
    "\n",
    "* Taking the value in the second row (`i=1`), from the second (`j=1`) to third (`j=2`) column:\n",
    "```python\n",
    "filedata[1, 1:3] #note the end position is not included\n",
    "```\n",
    "```array([ 3.5, 86. ])```\n",
    "\n",
    "\n",
    "* Values before the fourth column (`j=3`) in the last row:\n",
    "```python\n",
    "filedata[-1, :3]\n",
    "```\n",
    "```array([ 4.3,  2. , 85. ])```\n",
    "\n",
    "\n",
    "* the entire second column (`i=1`):\n",
    "```python\n",
    "filedata[:, 1]\n",
    "```\n",
    "```array([1.2, 3.5, 4.7, ..., 3.4, 2.8, 2. ])```\n",
    "\n",
    "\n",
    "\n",
    "* Note that an empty value in a `A:B` specifier takes value to the **end** of the row or column.\n",
    "---\n",
    "### Example: Calculating the average temperature:"
   ]
  },
  {
   "cell_type": "code",
   "execution_count": null,
   "metadata": {
    "deletable": false,
    "editable": false,
    "nbgrader": {
     "cell_type": "code",
     "checksum": "adbf7719975fdc1c76830658144a004f",
     "grade": false,
     "grade_id": "cell-371b38160175481b",
     "locked": true,
     "schema_version": 3,
     "solution": false,
     "task": false
    }
   },
   "outputs": [],
   "source": [
    "import numpy as np\n",
    "\n",
    "filedata = np.loadtxt(\"Files/weatherdata.csv\", delimiter=\",\", skiprows=1)\n",
    "temperatures = filedata[:, 0] # take the first (temperature) column\n",
    "\n",
    "average = temperatures.mean()\n",
    "print(f\"Average temperature: {average:.2f} degrees C\")"
   ]
  },
  {
   "cell_type": "markdown",
   "metadata": {
    "deletable": false,
    "editable": false,
    "nbgrader": {
     "cell_type": "markdown",
     "checksum": "4ae145112fe51180b3de9f67861d3f6a",
     "grade": false,
     "grade_id": "cell-b8d08839ba182a81",
     "locked": true,
     "schema_version": 3,
     "solution": false,
     "task": false
    }
   },
   "source": [
    "### Saving Numerical Only Data  \n",
    "\n",
    "We can instead write the output to a file using `np.savetxt(FILENAME, DATA, <keyword=options>)` using the keyword options:\n",
    "\n",
    "* `delimiter = \",\"` to use commas in the `.csv` file (if there are multiple columns)\n",
    "* `fmt=\"%.2f\"` to format the numbers as `floats` with **2** decimal places (similar to the `format` method above)."
   ]
  },
  {
   "cell_type": "code",
   "execution_count": null,
   "metadata": {
    "deletable": false,
    "editable": false,
    "nbgrader": {
     "cell_type": "code",
     "checksum": "55c0575a9b657ed7d0822270a0aeca2e",
     "grade": false,
     "grade_id": "cell-d84f756e2507c84c",
     "locked": true,
     "schema_version": 3,
     "solution": false,
     "task": false
    }
   },
   "outputs": [],
   "source": [
    "np.savetxt(\"temperatures.csv\", temperatures, delimiter = \",\", fmt=\"%.1f\")"
   ]
  },
  {
   "cell_type": "markdown",
   "metadata": {
    "deletable": false,
    "editable": false,
    "nbgrader": {
     "cell_type": "markdown",
     "checksum": "be2ee9cf95b880d9d89a70b7d66511b0",
     "grade": false,
     "grade_id": "cell-06ac2f6ee553cfd9",
     "locked": true,
     "schema_version": 3,
     "solution": false,
     "task": false
    }
   },
   "source": [
    "The file contents look like this:\n",
    "```\n",
    "2.5\n",
    "5.7\n",
    "7.9\n",
    ".\n",
    ".\n",
    ".\n",
    "```\n",
    "\n",
    "* Download it and open it in Excel"
   ]
  },
  {
   "cell_type": "markdown",
   "metadata": {
    "deletable": false,
    "editable": false,
    "nbgrader": {
     "cell_type": "markdown",
     "checksum": "704e635d3837e1abcf17332631adebaf",
     "grade": false,
     "grade_id": "cell-e84d152c51b6a2c7",
     "locked": true,
     "schema_version": 3,
     "solution": false,
     "task": false
    }
   },
   "source": [
    "### Exercise: Deviations from the average.\n",
    "\n",
    "1. Load the weather data from the file.\n",
    "2. Slice out the first column of temperatures.\n",
    "3. Take the average value of the temperatures.\n",
    "4. Subtract the average value from the temperatures array to give the deviations ($d = T - \\mu(T)$)\n",
    "5. Save this back to a file called `\"deviations.csv\"` with `1dp` floating point precision "
   ]
  },
  {
   "cell_type": "code",
   "execution_count": null,
   "metadata": {
    "deletable": false,
    "nbgrader": {
     "cell_type": "code",
     "checksum": "d5ec2f795473e376a5e1d588be5cef7a",
     "grade": true,
     "grade_id": "cell-5aa8c36a4f7956b4",
     "locked": false,
     "points": 0,
     "schema_version": 3,
     "solution": true,
     "task": false
    }
   },
   "outputs": [],
   "source": [
    "import numpy as np\n",
    "\n",
    "# load the weather file\n",
    "# YOUR CODE HERE\n",
    "\n",
    "# slice column 0\n",
    "# YOUR CODE HERE\n",
    "\n",
    "# obtain the mean\n",
    "# YOUR CODE HERE\n",
    "\n",
    "# calculate the deviations\n",
    "# YOUR CODE HERE\n",
    "\n",
    "# save back to a CSV text file\n",
    "# YOUR CODE HERE\n"
   ]
  },
  {
   "cell_type": "markdown",
   "metadata": {
    "deletable": false,
    "editable": false,
    "nbgrader": {
     "cell_type": "markdown",
     "checksum": "c866d90b8c921f78bff64d7a78f631f9",
     "grade": false,
     "grade_id": "cell-094178a763a4d7ca",
     "locked": true,
     "schema_version": 3,
     "solution": false,
     "task": false
    }
   },
   "source": [
    "* Opening the file should have the contents:\n",
    "\n",
    "```\n",
    "-7.7\n",
    "-4.5\n",
    "-2.3\n",
    "...\n",
    "\n",
    "```\n",
    "\n",
    "[Click for solution](solutions/sol0704.ipynb)"
   ]
  },
  {
   "cell_type": "markdown",
   "metadata": {
    "deletable": false,
    "editable": false,
    "nbgrader": {
     "cell_type": "markdown",
     "checksum": "f8c489a67d137ac4e28cbdbd00957d62",
     "grade": false,
     "grade_id": "cell-2e142c2ec3e83388",
     "locked": true,
     "schema_version": 3,
     "solution": false,
     "task": false
    }
   },
   "source": [
    "## Processing Multiple Files\n",
    "\n",
    "Scripts can allow you to process many files in one go. You can split up a single file into many, join data from lots of files into one place or plot data to  a range of figures in one go. "
   ]
  },
  {
   "cell_type": "markdown",
   "metadata": {
    "deletable": false,
    "editable": false,
    "nbgrader": {
     "cell_type": "markdown",
     "checksum": "0b6f7a0dcd27b8d554664ea9049ef71a",
     "grade": false,
     "grade_id": "cell-1114b558fee0019e",
     "locked": true,
     "schema_version": 3,
     "solution": false,
     "task": false
    }
   },
   "source": [
    "### Using the `os` module.\n",
    "\n",
    "A nice module for working with our Operating System is the `os` module.  \n",
    "This allows us to see/change our current working location as well as make new folders.  \n",
    "To view your *current working directory* use the `.getcwd` function method:"
   ]
  },
  {
   "cell_type": "code",
   "execution_count": null,
   "metadata": {
    "ExecuteTime": {
     "end_time": "2019-02-01T22:43:10.318421Z",
     "start_time": "2019-02-01T22:43:10.313415Z"
    },
    "deletable": false,
    "editable": false,
    "nbgrader": {
     "cell_type": "code",
     "checksum": "cbb56181f2e816e9a484c33efcb107af",
     "grade": false,
     "grade_id": "cell-58cf86c529962367",
     "locked": true,
     "schema_version": 3,
     "solution": false,
     "task": false
    }
   },
   "outputs": [],
   "source": [
    "import os\n",
    "myWD = os.getcwd()\n",
    "\n",
    "print(myWD)"
   ]
  },
  {
   "cell_type": "markdown",
   "metadata": {
    "deletable": false,
    "editable": false,
    "nbgrader": {
     "cell_type": "markdown",
     "checksum": "45e6d33d265e44edceb6d21b3145eb0a",
     "grade": false,
     "grade_id": "cell-685d513dfaac09bb",
     "locked": true,
     "schema_version": 3,
     "solution": false,
     "task": false
    }
   },
   "source": [
    "The method `.listdir(FOLDER)` allows us to list the contents of a directory (FOLDER).\n",
    "\n",
    "* Note that when referring to the current folder we can use the string `\".\"` and the one above we can use `\"..\"` \n",
    "\n",
    "Try the following command:"
   ]
  },
  {
   "cell_type": "code",
   "execution_count": null,
   "metadata": {
    "ExecuteTime": {
     "end_time": "2019-02-01T22:43:10.338415Z",
     "start_time": "2019-02-01T22:43:10.322417Z"
    },
    "deletable": false,
    "editable": false,
    "nbgrader": {
     "cell_type": "code",
     "checksum": "deb2ba61b534bf6a55a83dbb5c5be478",
     "grade": false,
     "grade_id": "cell-60fbabecb941de44",
     "locked": true,
     "schema_version": 3,
     "solution": false,
     "task": false
    }
   },
   "outputs": [],
   "source": [
    "contents = os.listdir(myWD)  # lists the contents of the working directory\n",
    "print(contents)"
   ]
  },
  {
   "cell_type": "code",
   "execution_count": null,
   "metadata": {
    "deletable": false,
    "editable": false,
    "nbgrader": {
     "cell_type": "code",
     "checksum": "3a0400f1b627a8bbfdd95731114f87c4",
     "grade": false,
     "grade_id": "cell-7f5b171557cb743b",
     "locked": true,
     "schema_version": 3,
     "solution": false,
     "task": false
    }
   },
   "outputs": [],
   "source": [
    "os.listdir(\"Files\") # this will only work if the `Files` folder exists"
   ]
  },
  {
   "cell_type": "markdown",
   "metadata": {
    "deletable": false,
    "editable": false,
    "nbgrader": {
     "cell_type": "markdown",
     "checksum": "40737062625e31057a8cf162d1002dd8",
     "grade": false,
     "grade_id": "cell-df821e861d348b65",
     "locked": true,
     "schema_version": 3,
     "solution": false,
     "task": false
    }
   },
   "source": [
    "* the `os.mkdir(<FOLDERNAME>)` tries to create a new directory named whatever string you replace `<FOLDERNAME>` with.\n",
    "* We use `try:` and `except:` to catch and ignore any errors such as the folder already existing."
   ]
  },
  {
   "cell_type": "markdown",
   "metadata": {
    "deletable": false,
    "editable": false,
    "nbgrader": {
     "cell_type": "markdown",
     "checksum": "a2b4b3038d1c67815585b25377e9bde5",
     "grade": false,
     "grade_id": "cell-e393c4e0f7fac9d7",
     "locked": true,
     "schema_version": 3,
     "solution": false,
     "task": false
    }
   },
   "source": [
    "#### Weekly Weather files:"
   ]
  },
  {
   "cell_type": "code",
   "execution_count": null,
   "metadata": {
    "deletable": false,
    "editable": false,
    "nbgrader": {
     "cell_type": "code",
     "checksum": "b51bf70456bfd88610e3b1cf5bb45aef",
     "grade": false,
     "grade_id": "cell-8112fd7931711d3e",
     "locked": true,
     "schema_version": 3,
     "solution": false,
     "task": false
    }
   },
   "outputs": [],
   "source": [
    "import numpy as np\n",
    "import os\n",
    "\n",
    "filedata = np.loadtxt(\"Files/weatherdata.csv\", delimiter=\",\", skiprows=1)\n",
    "temperatures = filedata[:, 0]\n",
    "\n",
    "folder = \"Weather/\"\n",
    "try: os.mkdir(folder) # try to make the new folder if it doesn't exist\n",
    "except: pass # if the folder already exists move on\n",
    "\n",
    "hours_per_week = 24*7\n",
    "\n",
    "# count for 52 weeks:\n",
    "for i in range(52):\n",
    "    start_hour = i*hours_per_week #takes values: 0, hours_per_week, 2*hours_per_week, ...\n",
    "    end_hour = start_hour + hours_per_week\n",
    "    weekly_temperatures = temperatures[start_hour:end_hour] #slice out the hours for that week\n",
    "    \n",
    "    # make a two digit week number 01, 02, 03, ..., 50, 51, 52\n",
    "    week_number = i+1\n",
    "    week_string = str(week_number).zfill(2) # fill with leading zeros to make all two digits\n",
    "    \n",
    "    # create a new file\n",
    "    newfilename = f\"temp_week{week_string}.txt\"\n",
    "    filepath = folder+newfilename\n",
    "    np.savetxt(filepath, weekly_temperatures, fmt=\"%.1f\")"
   ]
  },
  {
   "cell_type": "markdown",
   "metadata": {
    "deletable": false,
    "editable": false,
    "nbgrader": {
     "cell_type": "markdown",
     "checksum": "3552a364f563f7644067c962dc22316f",
     "grade": false,
     "grade_id": "cell-526098a2a906f2dc",
     "locked": true,
     "schema_version": 3,
     "solution": false,
     "task": false
    }
   },
   "source": [
    "The [Weather](Weather) folder should now contain 52 files, each with a week's worth of hourly temperature data as a single column. "
   ]
  },
  {
   "cell_type": "code",
   "execution_count": null,
   "metadata": {
    "ExecuteTime": {
     "end_time": "2019-02-01T22:43:10.352416Z",
     "start_time": "2019-02-01T22:43:10.345421Z"
    },
    "deletable": false,
    "editable": false,
    "nbgrader": {
     "cell_type": "code",
     "checksum": "2c02ee6efbe4727998b72702533bd969",
     "grade": false,
     "grade_id": "cell-f8df6fd764a1b01f",
     "locked": true,
     "schema_version": 3,
     "solution": false,
     "task": false
    }
   },
   "outputs": [],
   "source": [
    "wfiles = os.listdir(\"Weather\")\n",
    "print(wfiles)"
   ]
  },
  {
   "cell_type": "markdown",
   "metadata": {
    "deletable": false,
    "editable": false,
    "nbgrader": {
     "cell_type": "markdown",
     "checksum": "2936ed4e5e1fe2c7bd23947a441aa3f6",
     "grade": false,
     "grade_id": "cell-42d41c712dc99641",
     "locked": true,
     "schema_version": 3,
     "solution": false,
     "task": false
    }
   },
   "source": [
    "\n",
    "# Task 7: File Manipulation (2%)\n",
    "\n",
    "For this task you will read in a CSV energy file and produce a new file of daily totals.\n",
    "\n",
    "* **Use previous examples** to guide you in solving the various parts of solving this problem. \n",
    "* Take it **step by step**. Do the first step and check it works before doing anything else and so on.\n",
    "* Use lots of `print()` functions when developing your code, but remove them in the final version."
   ]
  },
  {
   "cell_type": "markdown",
   "metadata": {
    "deletable": false,
    "editable": false,
    "nbgrader": {
     "cell_type": "markdown",
     "checksum": "48869a415d32db581a226f62b16f8f39",
     "grade": false,
     "grade_id": "cell-be45bc06ef93b69c",
     "locked": true,
     "schema_version": 3,
     "solution": false,
     "task": false
    }
   },
   "source": [
    "### Task: Energy Data\n",
    "\n",
    "The data in the file: `Files/houseenergy.csv` is in the following format:\n",
    "\n",
    "|month | day | hour | elec | gas |\n",
    "|  -   |  -  |  -   |  -   |  -  |\n",
    "|  1   |  1  |   1  |   0  |0.746| \n",
    "|  1   |  1  |   2  |   0  |0.672|\n",
    "|  1   |  1  |   3  |   0  |0.075|\n",
    "\n",
    "For the task you must do the following:\n",
    "1. Load the numerical data into a Numpy array \n",
    "    * Make sure you load the file from a folder called `Files` with an uppercase `F` or it **will fail** on the grading server.\n",
    "2. Slice out the columns for Electricity and Gas\n",
    "3. Add them together to work out the total energy each hour\n",
    "4. Open a file to write the new data to\n",
    "5. Work out the hourly totals for each day (use a similar method as in [the weekly weather example](#Weekly-Weather-files:))\n",
    "6. Sum them to give the total energy for that day\n",
    "7. Write this sum to a line of the outfile inside the for loop, using syntax like:\n",
    "\n",
    "```python\n",
    "outfile = ??? # open the outfile to write \n",
    "\n",
    "for day in range(365):\n",
    "    start_hour = ???\n",
    "    end_hour = ???\n",
    "    daily_energy = ???\n",
    "    ??? # write the daily_energy to the outfile\n",
    "    \n",
    "???  # close the outfile\n",
    "    \n",
    "```\n",
    "Or alternatively:\n",
    "```python\n",
    "???: # use the WITH method to open the outfile\n",
    "    for day in range(365):\n",
    "        start_hour = ???\n",
    "        end_hour = ???\n",
    "        daily_energy = ???\n",
    "        ??? # write the daily_energy to the outfile\n",
    "```\n",
    "\n",
    "* You will need to format the lines properly to have a new line after each value.\n",
    "\n",
    "The plain text file `\"energy_totals.txt\"` should contain simple numerical lines like:\n",
    "```\n",
    "81.121\n",
    "79.466\n",
    "108.238\n",
    "...\n",
    "```\n",
    "* Note: this is rounded to 3 d.p.\n",
    "* There should be nothing but a column of numbers \n",
    "    * no commas, no text, no units...\n",
    "* Hint: you will need to use the newline specifier \"\\n\" when writing lines individually."
   ]
  },
  {
   "cell_type": "code",
   "execution_count": null,
   "metadata": {
    "deletable": false,
    "nbgrader": {
     "cell_type": "code",
     "checksum": "2425f868e291575d2ccea02c2be2970b",
     "grade": true,
     "grade_id": "cell-a98d9c05025a924c",
     "locked": false,
     "points": 0,
     "schema_version": 3,
     "solution": true,
     "task": false
    }
   },
   "outputs": [],
   "source": [
    "import numpy as np\n",
    "\n",
    "# Import file to data array\n",
    "# YOUR CODE HERE\n",
    "\n",
    "# Slice out the columns for Electricity and Gas\n",
    "# YOUR CODE HERE\n",
    "\n",
    "# Add them together to work out the total energy each hour\n",
    "# YOUR CODE HERE\n",
    "\n",
    "# open an outfile \n",
    "    # for each day of the year\n",
    "    #   work out the hourly totals for each day\n",
    "    #   sum them to get the daily total\n",
    "    #   writing each day's single total one per line\n",
    "# YOUR CODE HERE"
   ]
  },
  {
   "cell_type": "markdown",
   "metadata": {
    "deletable": false,
    "editable": false,
    "nbgrader": {
     "cell_type": "markdown",
     "checksum": "65f76be2524821b50739aed4132d18a4",
     "grade": false,
     "grade_id": "cell-05ebc9229a754dfa",
     "locked": true,
     "schema_version": 3,
     "solution": false,
     "task": false
    }
   },
   "source": [
    "#### The script below checks if your code has produced the desired output file  and its contents are as expected."
   ]
  },
  {
   "cell_type": "code",
   "execution_count": null,
   "metadata": {
    "deletable": false,
    "editable": false,
    "nbgrader": {
     "cell_type": "code",
     "checksum": "9bd8b2dcc3979ec05973b8f78c125458",
     "grade": false,
     "grade_id": "cell-f821ce03c2d7977c",
     "locked": true,
     "schema_version": 3,
     "solution": false,
     "task": false
    }
   },
   "outputs": [],
   "source": [
    "import sys\n",
    "sys.path.append(\".checks\")\n",
    "import check07\n",
    "    \n",
    "try: student_file = np.loadtxt(\"energy_totals.txt\")\n",
    "except OSError as e: print(e, \n",
    "    \"\\nDid you save the data to the correct file in the current working folder?\")\n",
    "except: pass\n",
    "\n",
    "check07.test()"
   ]
  },
  {
   "cell_type": "markdown",
   "metadata": {
    "deletable": false,
    "editable": false,
    "nbgrader": {
     "cell_type": "markdown",
     "checksum": "8e88e62518d4dd060114405020f673d8",
     "grade": false,
     "grade_id": "cell-3715c080fe604769",
     "locked": true,
     "schema_version": 3,
     "solution": false,
     "task": false
    }
   },
   "source": [
    "```\n",
    "\n",
    "\n",
    "\n",
    "\n",
    "\n",
    "\n",
    "\n",
    "```\n",
    "---\n",
    "\n",
    "## Extra Example: Plotting Data from a Set of Files\n",
    "\n",
    "### 1. Plotting a figure for each file\n",
    "\n",
    "* study the code below and try to understand what is happening on each line."
   ]
  },
  {
   "cell_type": "code",
   "execution_count": null,
   "metadata": {
    "deletable": false,
    "editable": false,
    "nbgrader": {
     "cell_type": "code",
     "checksum": "a7e0635af2c45706bbec44f55b11ab25",
     "grade": false,
     "grade_id": "cell-9b5bbed8d5dc4cde",
     "locked": true,
     "schema_version": 3,
     "solution": false,
     "task": false
    }
   },
   "outputs": [],
   "source": [
    "import os, matplotlib.pyplot as plt, numpy as np\n",
    "\n",
    "dirname = \"Weather/\"\n",
    "file_list = os.listdir(dirname)\n",
    "\n",
    "try: os.mkdir(\"WeatherFigs\")\n",
    "except: pass\n",
    "\n",
    "fig,ax = plt.subplots(figsize=(10,5))\n",
    "for file_name in sorted(file_list):\n",
    "    data = np.loadtxt(dirname+file_name)\n",
    "    ax.plot(data)\n",
    "    ax.set_xlabel(\"Time (h)\")\n",
    "    ax.set_ylabel(\"Temperature ($^\\circ$C)\")\n",
    "    figname = file_name.replace(\".txt\", \".png\")\n",
    "    fig.savefig(\"WeatherFigs/\"+figname)\n",
    "    ax.cla() # clear the axis content to start a new graph"
   ]
  },
  {
   "cell_type": "markdown",
   "metadata": {
    "deletable": false,
    "editable": false,
    "nbgrader": {
     "cell_type": "markdown",
     "checksum": "d53743928ab53211c163089105cf6555",
     "grade": false,
     "grade_id": "cell-49c9f8068be9f4b8",
     "locked": true,
     "schema_version": 3,
     "solution": false,
     "task": false
    }
   },
   "source": [
    "* Now look in the new `WeatherFigs` folder to see the image files.\n",
    "\n",
    "### 2. Collecting data from many files into one figure\n",
    "\n",
    "First we will get the data from all the files created earlier and put each week's average into a new list (the example continues below):"
   ]
  },
  {
   "cell_type": "code",
   "execution_count": null,
   "metadata": {
    "ExecuteTime": {
     "end_time": "2019-02-01T22:43:10.469418Z",
     "start_time": "2019-02-01T22:43:10.355419Z"
    }
   },
   "outputs": [],
   "source": [
    "import os\n",
    "import numpy as np\n",
    "\n",
    "dirname = \"Weather/\"\n",
    "file_list = os.listdir(dirname)\n",
    "avdata = []\n",
    "\n",
    "# sort the file list so the weeks are in order (needed later)\n",
    "for file_name in sorted(file_list):\n",
    "    weekdata = np.loadtxt(dirname+file_name)\n",
    "    av = np.mean(weekdata)\n",
    "    avdata.append(av)\n",
    "\n",
    "print(avdata)"
   ]
  },
  {
   "cell_type": "markdown",
   "metadata": {
    "deletable": false,
    "editable": false,
    "nbgrader": {
     "cell_type": "markdown",
     "checksum": "3742e70bc226580d44845b94481499c0",
     "grade": false,
     "grade_id": "cell-c364e5c8cf01477e",
     "locked": true,
     "schema_version": 3,
     "solution": false,
     "task": false
    }
   },
   "source": [
    "Continued... Next we:\n",
    "\n",
    "1. Calculate the average over the whole year (the average of all week's averages).\n",
    "2. Loop through each week looking if they are above or below the yearly average, and then\n",
    "3. Plot them as red points if hotter and blue points if colder. "
   ]
  },
  {
   "cell_type": "code",
   "execution_count": null,
   "metadata": {
    "ExecuteTime": {
     "end_time": "2019-02-01T22:43:10.995873Z",
     "start_time": "2019-02-01T22:43:10.471415Z"
    },
    "deletable": false,
    "editable": false,
    "nbgrader": {
     "cell_type": "code",
     "checksum": "4de78c4e3749166196d534983e5d15a3",
     "grade": false,
     "grade_id": "cell-626f2da19811549f",
     "locked": true,
     "schema_version": 3,
     "solution": false,
     "task": false
    }
   },
   "outputs": [],
   "source": [
    "import matplotlib.pyplot as plt\n",
    "\n",
    "fig, ax = plt.subplots(figsize=(10,5))\n",
    "\n",
    "yearav = np.mean(avdata)\n",
    "\n",
    "wnum = 0  # counter for week number\n",
    "for weekav in avdata:\n",
    "    wnum = wnum + 1\n",
    "    if weekav >= yearav:\n",
    "        #plot in red\n",
    "        ax.plot(wnum, weekav, \"ro\")\n",
    "    else:\n",
    "        #plot in blue\n",
    "        ax.plot(wnum, weekav, \"bo\")\n",
    "        \n",
    "#add some formatting and an average line then save figure\n",
    "textstring = f\"mean = {yearav:.1f}$^\\circ$C\"\n",
    "ax.text(1, yearav+0.2, textstring, size=14)\n",
    "xpts = [0, 52]  # two points for x values for the average line\n",
    "ypts = [yearav, yearav]  # two points for y values for the average\n",
    "ax.plot(xpts, ypts, \"g-\")  # plot the average line in green\n",
    "ax.axis([0, 52, 0, 20])\n",
    "ax.set_xlabel(\"Week Number\")\n",
    "ax.set_ylabel(\"Temperatures (Deg C)\")\n",
    "fig.savefig(\"weekly_temperatures.png\")\n",
    "fig.show()"
   ]
  }
 ],
 "metadata": {
  "hide_input": false,
  "kernelspec": {
   "display_name": "Python 3",
   "language": "python",
   "name": "python3"
  },
  "language_info": {
   "codemirror_mode": {
    "name": "ipython",
    "version": 3
   },
   "file_extension": ".py",
   "mimetype": "text/x-python",
   "name": "python",
   "nbconvert_exporter": "python",
   "pygments_lexer": "ipython3",
   "version": "3.7.10"
  },
  "toc": {
   "base_numbering": 1,
   "nav_menu": {},
   "number_sections": true,
   "sideBar": true,
   "skip_h1_title": false,
   "title_cell": "Table of Contents",
   "title_sidebar": "Contents",
   "toc_cell": false,
   "toc_position": {},
   "toc_section_display": true,
   "toc_window_display": false
  }
 },
 "nbformat": 4,
 "nbformat_minor": 1
}
