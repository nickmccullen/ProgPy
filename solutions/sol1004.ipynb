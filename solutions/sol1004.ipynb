{
 "cells": [
  {
   "cell_type": "markdown",
   "metadata": {},
   "source": [
    "# Task 10 hints\n",
    "\n",
    "1. Check all opened brackets are closed properly\n",
    "2. Check indentation of functions and loops\n",
    "3. Check the spelling of all functions is correct\n",
    "4. Check the data you are saving is correct by printing it\n",
    "    * It might help to look at the range of data you are generating against that in the example!"
   ]
  }
 ],
 "metadata": {
  "kernelspec": {
   "display_name": "Python 3",
   "language": "python",
   "name": "python3"
  },
  "language_info": {
   "codemirror_mode": {
    "name": "ipython",
    "version": 3
   },
   "file_extension": ".py",
   "mimetype": "text/x-python",
   "name": "python",
   "nbconvert_exporter": "python",
   "pygments_lexer": "ipython3",
   "version": "3.8.3"
  }
 },
 "nbformat": 4,
 "nbformat_minor": 4
}
