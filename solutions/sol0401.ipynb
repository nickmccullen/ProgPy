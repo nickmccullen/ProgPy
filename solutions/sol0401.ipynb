{
 "cells": [
  {
   "cell_type": "code",
   "execution_count": null,
   "metadata": {},
   "outputs": [],
   "source": [
    "x = 3\n",
    "\n",
    "if x < -4:\n",
    "    y = -4.0\n",
    "    \n",
    "elif x < 0:\n",
    "    y = (x + 4)**2/4.0 - 4.0\n",
    "    \n",
    "elif x < 4:\n",
    "    y = 4.0 - (x - 4)**2/4.0\n",
    "    \n",
    "else:\n",
    "    y = 4.0\n",
    "\n",
    "\n",
    "print(x, y)"
   ]
  }
 ],
 "metadata": {
  "kernelspec": {
   "display_name": "Python 3",
   "language": "python",
   "name": "python3"
  },
  "language_info": {
   "codemirror_mode": {
    "name": "ipython",
    "version": 3
   },
   "file_extension": ".py",
   "mimetype": "text/x-python",
   "name": "python",
   "nbconvert_exporter": "python",
   "pygments_lexer": "ipython3",
   "version": "3.8.3"
  }
 },
 "nbformat": 4,
 "nbformat_minor": 4
}
