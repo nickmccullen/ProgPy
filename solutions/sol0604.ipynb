{
 "cells": [
  {
   "cell_type": "code",
   "execution_count": null,
   "metadata": {},
   "outputs": [],
   "source": [
    "import numpy as np\n",
    "import matplotlib.pyplot as plt\n",
    "\n",
    "dx=0.2\n",
    "xvals = np.arange(-3, 3+dx, dx)\n",
    "\n",
    "yvals = np.exp(-xvals**2)\n",
    "\n",
    "fig, ax = plt.subplots()\n",
    "\n",
    "ax.bar(xvals, yvals, color='cyan', edgecolor=['black']*len(xvals), width=dx)\n",
    "\n",
    "fig.show()"
   ]
  }
 ],
 "metadata": {
  "kernelspec": {
   "display_name": "Python 3",
   "language": "python",
   "name": "python3"
  },
  "language_info": {
   "codemirror_mode": {
    "name": "ipython",
    "version": 3
   },
   "file_extension": ".py",
   "mimetype": "text/x-python",
   "name": "python",
   "nbconvert_exporter": "python",
   "pygments_lexer": "ipython3",
   "version": "3.8.3"
  }
 },
 "nbformat": 4,
 "nbformat_minor": 4
}
