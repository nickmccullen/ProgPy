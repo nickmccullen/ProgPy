{
 "cells": [
  {
   "cell_type": "markdown",
   "metadata": {
    "deletable": false,
    "editable": false,
    "nbgrader": {
     "cell_type": "markdown",
     "checksum": "39572ad44eabf29de013ea2a4503d4a6",
     "grade": false,
     "grade_id": "cell-e16f08659cce93ea",
     "locked": true,
     "schema_version": 3,
     "solution": false,
     "task": false
    }
   },
   "source": [
    "Be sure to do all exercises and run all completed code cells. \n",
    "\n",
    "If anything goes wrong, **restart the kernel** (in the menubar, select Kernel$\\rightarrow$Restart)."
   ]
  },
  {
   "cell_type": "markdown",
   "metadata": {
    "deletable": false,
    "editable": false,
    "nbgrader": {
     "cell_type": "markdown",
     "checksum": "20ed87f59d5261edc30851961107ec8c",
     "grade": false,
     "grade_id": "cell-50b9cb0b3970f0e6",
     "locked": true,
     "schema_version": 3,
     "solution": false,
     "task": false
    }
   },
   "source": [
    "---"
   ]
  },
  {
   "cell_type": "markdown",
   "metadata": {
    "deletable": false,
    "editable": false,
    "nbgrader": {
     "cell_type": "markdown",
     "checksum": "5c11bc535ca3f10d6aba438530c26027",
     "grade": false,
     "grade_id": "cell-1ffc3e5a63d643cb",
     "locked": true,
     "schema_version": 3,
     "solution": false,
     "task": false
    }
   },
   "source": [
    "# Statistical Data Analysis\n",
    "\n",
    "This section is using some of the skills you've learned to perform data analysis, which is an important use of coding and using the Pandas data analysis library and Numpy.\n",
    "\n",
    "Watch the two video lectures on statistics then work independently on coding up the parameters shown in the videos in the parts below.\n",
    "\n",
    "* Submit parts 1$-$3 in a single python script (worth 3%)\n",
    "\n",
    "## Part 1 (1%)\n",
    "\n",
    "* Read in `Files/soil_regression.xlsx`\n",
    "* Take out the `\"PI (%)\"` column as $x$ values and the `\"CBR (%)\"` column as $y$ values\n",
    "* Calculate the fitting parameters `a0` and `a1`"
   ]
  },
  {
   "cell_type": "code",
   "execution_count": null,
   "metadata": {
    "deletable": false,
    "nbgrader": {
     "cell_type": "code",
     "checksum": "811c7a338d9a451650a27bdf3807c888",
     "grade": true,
     "grade_id": "cell-4b5494259ca16e62",
     "locked": false,
     "points": 0,
     "schema_version": 3,
     "solution": true,
     "task": false
    }
   },
   "outputs": [],
   "source": [
    "# Part 1\n",
    "# YOUR CODE HERE\n",
    "              "
   ]
  },
  {
   "cell_type": "markdown",
   "metadata": {
    "deletable": false,
    "editable": false,
    "nbgrader": {
     "cell_type": "markdown",
     "checksum": "d316dd3f30298d48aabebbc2ab198190",
     "grade": false,
     "grade_id": "cell-923d40b14fb1f603",
     "locked": true,
     "schema_version": 3,
     "solution": false,
     "task": false
    }
   },
   "source": [
    "* Run the cell below to check your values of $a_0$ and $a_1$"
   ]
  },
  {
   "cell_type": "code",
   "execution_count": null,
   "metadata": {
    "deletable": false,
    "editable": false,
    "nbgrader": {
     "cell_type": "code",
     "checksum": "a87520129043bf1dd3619f8d7fec13db",
     "grade": false,
     "grade_id": "cell-ea19709b50035944",
     "locked": true,
     "schema_version": 3,
     "solution": false,
     "task": false
    }
   },
   "outputs": [],
   "source": [
    "print(a0, a1)"
   ]
  },
  {
   "cell_type": "markdown",
   "metadata": {
    "deletable": false,
    "editable": false,
    "nbgrader": {
     "cell_type": "markdown",
     "checksum": "69bde3ef1d080106129376eae098b873",
     "grade": false,
     "grade_id": "cell-3b98671a0699c583",
     "locked": true,
     "schema_version": 3,
     "solution": false,
     "task": false
    }
   },
   "source": [
    "#### Expected result:\n",
    "```\n",
    "5.304019... -0.112705...\n",
    "```\n",
    "(these will be checked by the marking script with more decimal places)\n",
    "\n",
    "---"
   ]
  },
  {
   "cell_type": "markdown",
   "metadata": {
    "deletable": false,
    "editable": false,
    "nbgrader": {
     "cell_type": "markdown",
     "checksum": "d5601c3e73a64e27a815d35a1e2442ba",
     "grade": false,
     "grade_id": "cell-004a114d6ce7c48b",
     "locked": true,
     "schema_version": 3,
     "solution": false,
     "task": false
    }
   },
   "source": [
    "## Part 2 (1%)\n",
    "\n",
    "* Write a function that returns a predicted $y$ value based on a new $x$ value, based on the linear model $\\widehat y = a_0 + a_1 x$"
   ]
  },
  {
   "cell_type": "code",
   "execution_count": null,
   "metadata": {
    "deletable": false,
    "nbgrader": {
     "cell_type": "code",
     "checksum": "cc86e97f8bb345a2ad9718cf1aa04ab7",
     "grade": true,
     "grade_id": "cell-d8eb518f1d3bc341",
     "locked": false,
     "points": 0,
     "schema_version": 3,
     "solution": true,
     "task": false
    }
   },
   "outputs": [],
   "source": [
    "# Part 2\n",
    "# YOUR CODE HERE"
   ]
  },
  {
   "cell_type": "markdown",
   "metadata": {
    "deletable": false,
    "editable": false,
    "nbgrader": {
     "cell_type": "markdown",
     "checksum": "7499095511ec44c57e1e7acecf8382ff",
     "grade": false,
     "grade_id": "cell-a2aa4d35ca9c67ab",
     "locked": true,
     "schema_version": 3,
     "solution": false,
     "task": false
    }
   },
   "source": [
    "* Run the cell below to check your function"
   ]
  },
  {
   "cell_type": "code",
   "execution_count": null,
   "metadata": {
    "deletable": false,
    "editable": false,
    "nbgrader": {
     "cell_type": "code",
     "checksum": "dcedd29e437add3d5bdd43ba9979a4d4",
     "grade": true,
     "grade_id": "cell-aea22fe665ed94f6",
     "locked": true,
     "points": 0,
     "schema_version": 3,
     "solution": false,
     "task": false
    }
   },
   "outputs": [],
   "source": [
    "xnew = 30\n",
    "ypred = prediction(a0, a1, xnew)\n",
    "print(ypred)"
   ]
  },
  {
   "cell_type": "markdown",
   "metadata": {
    "deletable": false,
    "editable": false,
    "nbgrader": {
     "cell_type": "markdown",
     "checksum": "5c1f416300dcc2492e868d5e041f7982",
     "grade": false,
     "grade_id": "cell-9013bb4af9bf18b5",
     "locked": true,
     "schema_version": 3,
     "solution": false,
     "task": false
    }
   },
   "source": [
    "#### Expected result:\n",
    "\n",
    "```\n",
    "1.922861...\n",
    "```\n",
    "(this will be checked by the marking script with extra decimal places)\n",
    "\n",
    "---"
   ]
  },
  {
   "cell_type": "markdown",
   "metadata": {
    "deletable": false,
    "editable": false,
    "nbgrader": {
     "cell_type": "markdown",
     "checksum": "5778c6246c8570fba81ea535f0ccf606",
     "grade": false,
     "grade_id": "cell-8a0a072d5a402a2c",
     "locked": true,
     "schema_version": 3,
     "solution": false,
     "task": false
    }
   },
   "source": [
    "## Part 3 (1%)\n",
    "\n",
    "* Using the array of `PI (%)` measurements as the $x$ values, calculate an array of model $\\widehat y$ values, given by the linear model $\\widehat y = a_0 + a_1 x$\n",
    "* Calculate the coefficient of determination (goodness of fit) based on the equation at the end of the second statistics lecture:  \n",
    "\n",
    "$$R^2 = 1-\\dfrac{\\text{unexplained variation}}{\\text{total variation}}.$$"
   ]
  },
  {
   "cell_type": "code",
   "execution_count": null,
   "metadata": {
    "deletable": false,
    "nbgrader": {
     "cell_type": "code",
     "checksum": "83d570322e22270ac35668394d0a7025",
     "grade": true,
     "grade_id": "cell-745dea11729654bd",
     "locked": false,
     "points": 0,
     "schema_version": 3,
     "solution": true,
     "task": false
    }
   },
   "outputs": [],
   "source": [
    "# Part 3\n",
    "# YOUR CODE HERE"
   ]
  },
  {
   "cell_type": "code",
   "execution_count": null,
   "metadata": {
    "deletable": false,
    "editable": false,
    "nbgrader": {
     "cell_type": "code",
     "checksum": "867c8f300892d78b7f3b16f58be1f5ea",
     "grade": false,
     "grade_id": "cell-c58988bd7d130f7a",
     "locked": true,
     "schema_version": 3,
     "solution": false,
     "task": false
    }
   },
   "outputs": [],
   "source": [
    "print(r2)"
   ]
  },
  {
   "cell_type": "markdown",
   "metadata": {
    "deletable": false,
    "editable": false,
    "nbgrader": {
     "cell_type": "markdown",
     "checksum": "c41ecad0232df4486aab0b6e218b9415",
     "grade": false,
     "grade_id": "cell-363060c21212585b",
     "locked": true,
     "schema_version": 3,
     "solution": false,
     "task": false
    }
   },
   "source": [
    "#### Expected result:\n",
    "```\n",
    "0.457818...\n",
    "```\n",
    "(this will be checked by the marking script with extra decimal places)"
   ]
  },
  {
   "cell_type": "markdown",
   "metadata": {
    "deletable": false,
    "editable": false,
    "nbgrader": {
     "cell_type": "markdown",
     "checksum": "f3f23e3e601ba278a7c7a94ff85a3642",
     "grade": false,
     "grade_id": "cell-6f421841e85c052e",
     "locked": true,
     "schema_version": 3,
     "solution": false,
     "task": false
    }
   },
   "source": [
    "## Extra (for fun)\n",
    "\n",
    "### Part A\n",
    "\n",
    "* Put the (rounded) model $\\widehat y$ values back into the DataFrame\n",
    "* Sort the DataFrame by the `\"PI (%)\"` column"
   ]
  },
  {
   "cell_type": "code",
   "execution_count": null,
   "metadata": {
    "deletable": false,
    "nbgrader": {
     "cell_type": "code",
     "checksum": "bbbd575b6ad642f0ea19fcd8686d5d81",
     "grade": true,
     "grade_id": "cell-5921bbcd6cdd9582",
     "locked": false,
     "points": 0,
     "schema_version": 3,
     "solution": true,
     "task": false
    }
   },
   "outputs": [],
   "source": [
    "# YOUR CODE HERE\n",
    "\n",
    "data"
   ]
  },
  {
   "cell_type": "markdown",
   "metadata": {
    "deletable": false,
    "editable": false,
    "nbgrader": {
     "cell_type": "markdown",
     "checksum": "75def4c11bddfd548445575941e35f25",
     "grade": false,
     "grade_id": "cell-8594ca96478b29c8",
     "locked": true,
     "schema_version": 3,
     "solution": false,
     "task": false
    }
   },
   "source": [
    "#### Expected format:\n",
    "\n",
    "| sample | PI (%) | CBR (%) | model y |\n",
    "| - | - | - | - |\n",
    "| $\\bf 4$ | 10.0 | 4.18 | 4.18 |\n",
    "| $\\bf 10$ | 10.7 | 3.45 | 4.1 |\n",
    "| $\\bf 11$ | 16.0 | 3.94 | 3.5 |\n",
    "| $\\bf 12$ | 18.5 | 3.28 | 3.22 |\n",
    "| $\\bf 20$ | 20.0 | 1.5 | 3.05 |\n",
    "| $\\bf 6$ | 20.0 | 3.2 | 3.05 |\n",
    "| $\\bf 15$ | 22.0 | 4.92 | 2.82 |\n",
    "| $\\bf 18$ | 22.0 | 3.12 | 2.82 |\n",
    "| $\\bf 16$ | 22.4 | 3.28 | 2.78 |\n",
    "| $\\bf 7$ | 24.0 | 1.56 | 2.6 |\n",
    "| $\\bf 13$ | 24.0 | 2.95 | 2.6 |\n",
    "| $\\bf 3$ | 25.0 | 2.03 | 2.49 |\n",
    "| $\\bf 9$ | 26.0 | 2.05 | 2.37 |\n",
    "| $\\bf 5$ | 27.0 | 2.79 | 2.26 |\n",
    "| $\\bf 8$ | 28.0 | 2.54 | 2.15 |\n",
    "| $\\bf 19$ | 31.0 | 1.31 | 1.81 |\n",
    "| $\\bf 2$ | 35.0 | 1.06 | 1.36 |\n",
    "\n",
    "---\n",
    "\n",
    "### Part B\n",
    "\n",
    "* Plot a scatter graph of the measured `PI (%)` against `CBR (%)` values\n",
    "* Plot the `model y` ($\\widehat y$) values as a line on top of this."
   ]
  },
  {
   "cell_type": "code",
   "execution_count": null,
   "metadata": {
    "deletable": false,
    "nbgrader": {
     "cell_type": "code",
     "checksum": "6d747a810ab806344914e4e48c8d03cb",
     "grade": true,
     "grade_id": "cell-e0321786878f2b36",
     "locked": false,
     "points": 0,
     "schema_version": 3,
     "solution": true,
     "task": false
    }
   },
   "outputs": [],
   "source": [
    "# YOUR CODE HERE"
   ]
  },
  {
   "cell_type": "markdown",
   "metadata": {
    "deletable": false,
    "editable": false,
    "nbgrader": {
     "cell_type": "markdown",
     "checksum": "ab19557553909374ac99e13e2ddeabae",
     "grade": false,
     "grade_id": "cell-f219c874a1717f8a",
     "locked": true,
     "schema_version": 3,
     "solution": false,
     "task": false
    }
   },
   "source": [
    "#### Expected result:\n",
    "\n",
    "![](Figures/modely.png)"
   ]
  },
  {
   "cell_type": "markdown",
   "metadata": {
    "deletable": false,
    "editable": false,
    "nbgrader": {
     "cell_type": "markdown",
     "checksum": "8a80ab89de8fad42a2c489f76a83c607",
     "grade": false,
     "grade_id": "cell-2faa55267c144720",
     "locked": true,
     "schema_version": 3,
     "solution": false,
     "task": false
    }
   },
   "source": [
    "## Finally\n",
    "\n",
    "Various libraries can be used to do the tasks for you.\n",
    "\n",
    "### Fitting"
   ]
  },
  {
   "cell_type": "code",
   "execution_count": null,
   "metadata": {
    "deletable": false,
    "editable": false,
    "nbgrader": {
     "cell_type": "code",
     "checksum": "dc1da1bdf02745209dad16c6a2886aff",
     "grade": false,
     "grade_id": "cell-8b28c90e94bb77d8",
     "locked": true,
     "schema_version": 3,
     "solution": false,
     "task": false
    }
   },
   "outputs": [],
   "source": [
    "import numpy as np\n",
    "\n",
    "xvals,yvals = np.loadtxt(\"Files/soils.csv\", delimiter=',', skiprows=1).transpose()[1:3]\n",
    "\n",
    "degree = 1 # 1D \"linear\" fit\n",
    "m, c = np.polyfit(xvals, yvals, degree)\n",
    "\n",
    "print(c, m)"
   ]
  },
  {
   "cell_type": "markdown",
   "metadata": {
    "deletable": false,
    "editable": false,
    "nbgrader": {
     "cell_type": "markdown",
     "checksum": "e5f90f7a22be2c9bf9b1b21c4f053efa",
     "grade": false,
     "grade_id": "cell-1ab4834655b8adf7",
     "locked": true,
     "schema_version": 3,
     "solution": false,
     "task": false
    }
   },
   "source": [
    "* Compare these values with the ones you got in **Part 1**"
   ]
  },
  {
   "cell_type": "markdown",
   "metadata": {
    "deletable": false,
    "editable": false,
    "nbgrader": {
     "cell_type": "markdown",
     "checksum": "e1bf12a08188faf95c3639e5987ef135",
     "grade": false,
     "grade_id": "cell-8abff29f6e897984",
     "locked": true,
     "schema_version": 3,
     "solution": false,
     "task": false
    }
   },
   "source": [
    "### Coefficient of determination\n",
    "\n",
    "In Numpy you can use the correlation coefficient function:"
   ]
  },
  {
   "cell_type": "code",
   "execution_count": null,
   "metadata": {
    "deletable": false,
    "editable": false,
    "nbgrader": {
     "cell_type": "code",
     "checksum": "31e798563cf8275d5a1683a08ef135b8",
     "grade": false,
     "grade_id": "cell-a3ffff340f10a45e",
     "locked": true,
     "schema_version": 3,
     "solution": false,
     "task": false
    }
   },
   "outputs": [],
   "source": [
    "corrs = np.corrcoef(xvals, yvals)\n",
    "\n",
    "print(corrs**2)"
   ]
  },
  {
   "cell_type": "markdown",
   "metadata": {
    "deletable": false,
    "editable": false,
    "nbgrader": {
     "cell_type": "markdown",
     "checksum": "542446c4f856112b7e2f9ab375d9073b",
     "grade": false,
     "grade_id": "cell-8438985fc16dc1fc",
     "locked": true,
     "schema_version": 3,
     "solution": false,
     "task": false
    }
   },
   "source": [
    "* Compare the value at index `[0,1]` to your $R^2$ calculation in Part 3"
   ]
  },
  {
   "cell_type": "markdown",
   "metadata": {
    "deletable": false,
    "editable": false,
    "nbgrader": {
     "cell_type": "markdown",
     "checksum": "9f2e5b049fc7fdd3f8ea9bc0830e32b0",
     "grade": false,
     "grade_id": "cell-210818483a3cbb93",
     "locked": true,
     "schema_version": 3,
     "solution": false,
     "task": false
    }
   },
   "source": [
    "Another way is using the Scientific Python `scipy` library"
   ]
  },
  {
   "cell_type": "code",
   "execution_count": null,
   "metadata": {
    "deletable": false,
    "editable": false,
    "nbgrader": {
     "cell_type": "code",
     "checksum": "1a8d1c0c50cff20b5d4235e9438909ea",
     "grade": false,
     "grade_id": "cell-60ed09f5201654a2",
     "locked": true,
     "schema_version": 3,
     "solution": false,
     "task": false
    }
   },
   "outputs": [],
   "source": [
    "from scipy.stats import linregress\n",
    "\n",
    "slope, intercept, r_value, p_value, std_err = linregress(xvals, yvals)\n",
    "\n",
    "print(r_value**2, intercept, slope)"
   ]
  },
  {
   "cell_type": "markdown",
   "metadata": {
    "deletable": false,
    "editable": false,
    "nbgrader": {
     "cell_type": "markdown",
     "checksum": "a01983580e79e7040c91fe149425ec03",
     "grade": false,
     "grade_id": "cell-d18e5b7a2aab8ee1",
     "locked": true,
     "schema_version": 3,
     "solution": false,
     "task": false
    }
   },
   "source": [
    "Or even a simple function in the powerful machine learning library `sklearn`"
   ]
  },
  {
   "cell_type": "code",
   "execution_count": null,
   "metadata": {
    "deletable": false,
    "editable": false,
    "nbgrader": {
     "cell_type": "code",
     "checksum": "f113114b3132499b5ccc59301dc5a5a3",
     "grade": false,
     "grade_id": "cell-1bc98ba41c251648",
     "locked": true,
     "schema_version": 3,
     "solution": false,
     "task": false
    }
   },
   "outputs": [],
   "source": [
    "from sklearn.metrics import r2_score\n",
    "\n",
    "ypred = slope*xvals+intercept\n",
    "print(r2_score(yvals, ypred))"
   ]
  }
 ],
 "metadata": {
  "kernelspec": {
   "display_name": "Python 3",
   "language": "python",
   "name": "python3"
  },
  "language_info": {
   "codemirror_mode": {
    "name": "ipython",
    "version": 3
   },
   "file_extension": ".py",
   "mimetype": "text/x-python",
   "name": "python",
   "nbconvert_exporter": "python",
   "pygments_lexer": "ipython3",
   "version": "3.8.3"
  }
 },
 "nbformat": 4,
 "nbformat_minor": 4
}
