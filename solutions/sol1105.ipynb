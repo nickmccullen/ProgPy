{
 "cells": [
  {
   "cell_type": "code",
   "execution_count": null,
   "metadata": {},
   "outputs": [],
   "source": [
    "import random\n",
    "\n",
    "N = 1000\n",
    "\n",
    "handcount = 0\n",
    "for game in range(N):\n",
    "    Awins = 0\n",
    "    Bwins = 0\n",
    "    while (Awins < 2) and (Bwins < 2):\n",
    "        handcount += 1\n",
    "        choices = [\"Rock\", \"Paper\", \"Scissors\"]\n",
    "        A = random.choice(choices)\n",
    "        B = random.choice(choices)\n",
    "        if A == B:\n",
    "            Awins = Bwins = 0\n",
    "        elif ((A == \"Rock\") and (B == \"Scissors\")) or ((A == \"Scissors\") and (B == \"Paper\")) or ((A == \"Paper\") and (B == \"Rock\")):\n",
    "            Awins = Awins+1\n",
    "            Bwins = 0\n",
    "        else:\n",
    "            Bwins = Bwins+1\n",
    "            Awins = 0\n",
    "print((handcount/1000.0))"
   ]
  }
 ],
 "metadata": {
  "kernelspec": {
   "display_name": "Python 3",
   "language": "python",
   "name": "python3"
  },
  "language_info": {
   "codemirror_mode": {
    "name": "ipython",
    "version": 3
   },
   "file_extension": ".py",
   "mimetype": "text/x-python",
   "name": "python",
   "nbconvert_exporter": "python",
   "pygments_lexer": "ipython3",
   "version": "3.8.3"
  }
 },
 "nbformat": 4,
 "nbformat_minor": 4
}
