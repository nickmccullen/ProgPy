{
 "cells": [
  {
   "cell_type": "code",
   "execution_count": 1,
   "metadata": {},
   "outputs": [
    {
     "name": "stdout",
     "output_type": "stream",
     "text": [
      "y = 7.48\n",
      "0.31034543701622325 2.29923662210712\n"
     ]
    }
   ],
   "source": [
    "g = 9.81   # acceleration due to gravity\n",
    "y_0 = 1.5   # initial height\n",
    "v_0 = 12.8   # initial velocity\n",
    "\n",
    "t = 2\n",
    "print(\"y =\", y_0 + v_0 * t - 0.5 * g * t**2)\n",
    "\n",
    "y_1 = 5\n",
    "\n",
    "# equation for t\n",
    "# y_1 = y_0 + v_0 * t - 0.5 * g * t**2\n",
    "# equation rearranged\n",
    "# (0.5 * g) * t**2 - v_0 * t + (y_1 - y_0) = 0\n",
    "# a t^2 + b t + c = 0\n",
    "\n",
    "a = 0.5 * g\n",
    "b = -v_0\n",
    "c = y_1 - y_0\n",
    "disc = b**2 - 4*a*c\n",
    "t_1 = (-b - disc**0.5)/(2*a)\n",
    "t_2 = (-b + disc**0.5)/(2*a)\n",
    "\n",
    "print(t_1, t_2)"
   ]
  }
 ],
 "metadata": {
  "kernelspec": {
   "display_name": "Python 3",
   "language": "python",
   "name": "python3"
  },
  "language_info": {
   "codemirror_mode": {
    "name": "ipython",
    "version": 3
   },
   "file_extension": ".py",
   "mimetype": "text/x-python",
   "name": "python",
   "nbconvert_exporter": "python",
   "pygments_lexer": "ipython3",
   "version": "3.8.3"
  }
 },
 "nbformat": 4,
 "nbformat_minor": 4
}
