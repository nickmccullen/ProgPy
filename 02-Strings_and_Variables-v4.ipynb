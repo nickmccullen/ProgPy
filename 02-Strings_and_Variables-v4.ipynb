{
 "cells": [
  {
   "cell_type": "markdown",
   "metadata": {
    "deletable": false,
    "editable": false,
    "nbgrader": {
     "cell_type": "markdown",
     "checksum": "39572ad44eabf29de013ea2a4503d4a6",
     "grade": false,
     "grade_id": "cell-e16f08659cce93ea",
     "locked": true,
     "schema_version": 3,
     "solution": false,
     "task": false
    }
   },
   "source": [
    "Be sure to do all exercises and run all completed code cells. \n",
    "\n",
    "If anything goes wrong, **restart the kernel** (in the menubar, select Kernel$\\rightarrow$Restart)."
   ]
  },
  {
   "cell_type": "markdown",
   "metadata": {
    "deletable": false,
    "editable": false,
    "nbgrader": {
     "cell_type": "markdown",
     "checksum": "20ed87f59d5261edc30851961107ec8c",
     "grade": false,
     "grade_id": "cell-50b9cb0b3970f0e6",
     "locked": true,
     "schema_version": 3,
     "solution": false,
     "task": false
    }
   },
   "source": [
    "---"
   ]
  },
  {
   "cell_type": "markdown",
   "metadata": {
    "deletable": false,
    "editable": false,
    "nbgrader": {
     "cell_type": "markdown",
     "checksum": "794df14231a096f31af6d0d8bb4c35da",
     "grade": false,
     "grade_id": "cell-adb50bcfe6e00655",
     "locked": true,
     "schema_version": 3,
     "solution": false,
     "task": false
    }
   },
   "source": [
    "# Strings and Variables\n",
    "\n",
    "## Strings\n",
    "\n",
    "As we have seen in the introduction a string is a string of letters or numbers –\n",
    "enclosed in quotes – that is not interpreted mathematically.\n",
    "\n",
    "Operations such as `+` and `*` work differently on strings to on numerical data types."
   ]
  },
  {
   "cell_type": "code",
   "execution_count": null,
   "metadata": {
    "ExecuteTime": {
     "end_time": "2019-02-01T20:54:21.119497Z",
     "start_time": "2019-02-01T20:54:21.114493Z"
    },
    "deletable": false,
    "editable": false,
    "nbgrader": {
     "cell_type": "code",
     "checksum": "f94761df9b206f838b8e9ffa45175f66",
     "grade": false,
     "grade_id": "cell-87ede8a4b1fae15c",
     "locked": true,
     "schema_version": 3,
     "solution": false,
     "task": false
    }
   },
   "outputs": [],
   "source": [
    "print(\"Hello\" + \"World!\")"
   ]
  },
  {
   "cell_type": "markdown",
   "metadata": {
    "deletable": false,
    "editable": false,
    "nbgrader": {
     "cell_type": "markdown",
     "checksum": "d1feb79e978739e311d5db74c95b0845",
     "grade": false,
     "grade_id": "cell-314f8b107c071ec5",
     "locked": true,
     "schema_version": 3,
     "solution": false,
     "task": false
    }
   },
   "source": [
    "Here, we did not enter a space when adding (joining) the two strings. \n",
    "\n",
    "There are various ways we can include a space, the last one including a space character `\" \"`:"
   ]
  },
  {
   "cell_type": "code",
   "execution_count": null,
   "metadata": {
    "ExecuteTime": {
     "end_time": "2019-02-01T20:54:22.177369Z",
     "start_time": "2019-02-01T20:54:22.171409Z"
    },
    "deletable": false,
    "editable": false,
    "nbgrader": {
     "cell_type": "code",
     "checksum": "b5c0d171e0dd1f69a23aa4fb8544f1bb",
     "grade": false,
     "grade_id": "cell-19e224e8603af44f",
     "locked": true,
     "schema_version": 3,
     "solution": false,
     "task": false
    }
   },
   "outputs": [],
   "source": [
    "print(\"Hello \" + \"World!\")\n",
    "print(\"Hello\" + \" World!\")\n",
    "print(\"Hello\" + \" \" + \"World!\")"
   ]
  },
  {
   "cell_type": "markdown",
   "metadata": {
    "deletable": false,
    "editable": false,
    "nbgrader": {
     "cell_type": "markdown",
     "checksum": "2c620eef8fe9b553241463188e8e0858",
     "grade": false,
     "grade_id": "cell-6926e4102525907d",
     "locked": true,
     "schema_version": 3,
     "solution": false,
     "task": false
    }
   },
   "source": [
    "\n",
    "\n",
    "The following two examples are equivalent:"
   ]
  },
  {
   "cell_type": "code",
   "execution_count": null,
   "metadata": {
    "ExecuteTime": {
     "end_time": "2019-02-01T20:54:23.038298Z",
     "start_time": "2019-02-01T20:54:23.033293Z"
    },
    "deletable": false,
    "editable": false,
    "nbgrader": {
     "cell_type": "code",
     "checksum": "7b18840507aab966651d263edc68751d",
     "grade": false,
     "grade_id": "cell-973c6bac2ce1ae94",
     "locked": true,
     "schema_version": 3,
     "solution": false,
     "task": false
    }
   },
   "outputs": [],
   "source": [
    "print(\"Hello\" + \"Hello \" + \"Hello\")\n",
    "print(\"Hello \" * 3)"
   ]
  },
  {
   "cell_type": "markdown",
   "metadata": {
    "deletable": false,
    "editable": false,
    "nbgrader": {
     "cell_type": "markdown",
     "checksum": "04d50e6a9bf730b710baefb7322fe368",
     "grade": false,
     "grade_id": "cell-3fd1545c7e04f3b1",
     "locked": true,
     "schema_version": 3,
     "solution": false,
     "task": false
    }
   },
   "source": [
    "However, strings cannot be multiplied together so this will not work:"
   ]
  },
  {
   "cell_type": "code",
   "execution_count": null,
   "metadata": {
    "ExecuteTime": {
     "end_time": "2019-02-01T20:54:24.246064Z",
     "start_time": "2019-02-01T20:54:24.137034Z"
    },
    "deletable": false,
    "editable": false,
    "nbgrader": {
     "cell_type": "code",
     "checksum": "111f4405b10f391e8af85abf55ade44e",
     "grade": false,
     "grade_id": "cell-7a83b01015f4d155",
     "locked": true,
     "schema_version": 3,
     "solution": false,
     "task": false
    }
   },
   "outputs": [],
   "source": [
    "print(\"Hello\" * \"World!\")"
   ]
  },
  {
   "cell_type": "markdown",
   "metadata": {
    "deletable": false,
    "editable": false,
    "nbgrader": {
     "cell_type": "markdown",
     "checksum": "4b618bad77997e03ab0739be13a9c735",
     "grade": false,
     "grade_id": "cell-0c1bdfdc84a14ae5",
     "locked": true,
     "schema_version": 3,
     "solution": false,
     "task": false
    }
   },
   "source": [
    "Other things that do not work include: string + int and string \\* float\n",
    "(try them to see what happens).\n",
    "\n",
    "Strings can be useful for displaying numerical in a more clear format.\n",
    "If you want to use a numerical value in a text string it first needs\n",
    "converting to string format using the built-in conversion function\n",
    "`str`:"
   ]
  },
  {
   "cell_type": "code",
   "execution_count": null,
   "metadata": {
    "ExecuteTime": {
     "end_time": "2019-02-01T20:54:27.04244Z",
     "start_time": "2019-02-01T20:54:27.03744Z"
    },
    "deletable": false,
    "editable": false,
    "nbgrader": {
     "cell_type": "code",
     "checksum": "6d7a7bd83d23cf1e84cab912dfb4aaf0",
     "grade": false,
     "grade_id": "cell-4af3940782923e76",
     "locked": true,
     "schema_version": 3,
     "solution": false,
     "task": false
    }
   },
   "outputs": [],
   "source": [
    "print(\"The answer is \" + str(6*7))"
   ]
  },
  {
   "cell_type": "markdown",
   "metadata": {
    "deletable": false,
    "editable": false,
    "nbgrader": {
     "cell_type": "markdown",
     "checksum": "3bfbb638865fe8a3d953145e2027cadb",
     "grade": false,
     "grade_id": "cell-7b4894cf868820b7",
     "locked": true,
     "schema_version": 3,
     "solution": false,
     "task": false
    }
   },
   "source": [
    "The conversion function takes a numerical <span>*argument*</span> (in brackets) and converts it into a string of characters. \n",
    "In the previous case the number 42 was converted into the plain text (*ascii*) characters 4\n",
    "and 2."
   ]
  },
  {
   "cell_type": "markdown",
   "metadata": {
    "deletable": false,
    "editable": false,
    "nbgrader": {
     "cell_type": "markdown",
     "checksum": "1cf869c6f6b66b1f2adf28fc02ec4272",
     "grade": false,
     "grade_id": "cell-93802182f71e56ff",
     "locked": true,
     "schema_version": 3,
     "solution": false,
     "task": false
    }
   },
   "source": [
    "### String Methods and Functions \n",
    "\n",
    "Strings have certain inbuilt functions called *\"methods\"* that can be used to change them.  \n",
    "Study the ones below to see what they do."
   ]
  },
  {
   "cell_type": "code",
   "execution_count": null,
   "metadata": {
    "deletable": false,
    "editable": false,
    "nbgrader": {
     "cell_type": "code",
     "checksum": "309549b3de434cf99df2da2cd424ae00",
     "grade": false,
     "grade_id": "cell-ff4a68aa77000c64",
     "locked": true,
     "schema_version": 3,
     "solution": false,
     "task": false
    }
   },
   "outputs": [],
   "source": [
    "#Here we set a variable to store the string then use it instead of typing the whole thing\n",
    "quote = \"the QUICK BROWN Fox jumps over the LAZY Dog\"\n",
    "\n",
    "print( quote )\n",
    "print( quote.upper() )\n",
    "print( quote.lower() )\n",
    "print( quote.title() )\n",
    "print( quote.capitalize() )"
   ]
  },
  {
   "cell_type": "markdown",
   "metadata": {
    "deletable": false,
    "editable": false,
    "nbgrader": {
     "cell_type": "markdown",
     "checksum": "c733366b0729d13ad9dc340a57cab1b6",
     "grade": false,
     "grade_id": "cell-c43ec2f4b6d3d35b",
     "locked": true,
     "schema_version": 3,
     "solution": false,
     "task": false
    }
   },
   "source": [
    "Some functions take *arguments*, like the `STR.replace(FIND, REPLACE)` function, which replaces every instance of the string variable stored in FIND with that in REPLACE."
   ]
  },
  {
   "cell_type": "code",
   "execution_count": null,
   "metadata": {
    "deletable": false,
    "editable": false,
    "nbgrader": {
     "cell_type": "code",
     "checksum": "cc893928d7db085de00a81a75f7c411e",
     "grade": false,
     "grade_id": "cell-74f5bc17939c713e",
     "locked": true,
     "schema_version": 3,
     "solution": false,
     "task": false
    }
   },
   "outputs": [],
   "source": [
    "print( quote.replace(\"the\", \"every\") )"
   ]
  },
  {
   "cell_type": "markdown",
   "metadata": {
    "deletable": false,
    "editable": false,
    "nbgrader": {
     "cell_type": "markdown",
     "checksum": "3390a66d788208d72d8862f82e3a3b18",
     "grade": false,
     "grade_id": "cell-f8c77dc37967a95e",
     "locked": true,
     "schema_version": 3,
     "solution": false,
     "task": false
    }
   },
   "source": [
    "Also functions can be *chained* in sequence:"
   ]
  },
  {
   "cell_type": "code",
   "execution_count": null,
   "metadata": {
    "deletable": false,
    "editable": false,
    "nbgrader": {
     "cell_type": "code",
     "checksum": "412536ad40f407c3558eff9a4d323b71",
     "grade": false,
     "grade_id": "cell-3b6bc77491ed4852",
     "locked": true,
     "schema_version": 3,
     "solution": false,
     "task": false
    }
   },
   "outputs": [],
   "source": [
    "print( quote.replace(\"BROWN\", \"RED\").title().replace(\"Lazy\", \"Sleeping\") )"
   ]
  },
  {
   "cell_type": "markdown",
   "metadata": {
    "deletable": false,
    "editable": false,
    "nbgrader": {
     "cell_type": "markdown",
     "checksum": "8b3135d0bc3d7b66aceaee78b04113d9",
     "grade": false,
     "grade_id": "cell-3dafadd2147d4120",
     "locked": true,
     "schema_version": 3,
     "solution": false,
     "task": false
    }
   },
   "source": [
    "## Variables\n",
    "\n",
    "One of the things that makes a programming language like Python more\n",
    "powerful than a calculator is the fact that we can give a name to an\n",
    "intermediate result. \n",
    "\n",
    "### The *assignment* statement: =\n",
    "\n",
    "We give a name to a value using an equals sign (`=`) called the *\"assignment statement\"*. \n",
    "\n",
    "The name appears on the left hand side of the equals sign and the value (or calculation) appears\n",
    "on the right hand side. \n",
    "\n",
    "After a variable is assigned a value, the value will replace the name anywhere it is used in the script below it. "
   ]
  },
  {
   "cell_type": "code",
   "execution_count": null,
   "metadata": {
    "ExecuteTime": {
     "end_time": "2019-02-01T20:54:28.814602Z",
     "start_time": "2019-02-01T20:54:28.81061Z"
    },
    "deletable": false,
    "editable": false,
    "nbgrader": {
     "cell_type": "code",
     "checksum": "c71e60d8ab601684ec89b94652a55f70",
     "grade": false,
     "grade_id": "cell-394d670dcbcdec36",
     "locked": true,
     "schema_version": 3,
     "solution": false,
     "task": false
    }
   },
   "outputs": [],
   "source": [
    "distance = 45.6  # assignment statement\n",
    "time = 0.5  # another assignment statement\n",
    "print(distance / time)  # the two names will be replace by their values"
   ]
  },
  {
   "cell_type": "markdown",
   "metadata": {
    "deletable": false,
    "editable": false,
    "nbgrader": {
     "cell_type": "markdown",
     "checksum": "46bff96b399272b867b1f285ac53588f",
     "grade": false,
     "grade_id": "cell-7a8919dce853da9f",
     "locked": true,
     "schema_version": 3,
     "solution": false,
     "task": false
    }
   },
   "source": [
    "Names are  called *variables*. \n",
    "\n",
    "\n",
    "Variables can be useful\n",
    "to make a complicated expression more clear. \n",
    "\n",
    "The calculation:"
   ]
  },
  {
   "cell_type": "code",
   "execution_count": null,
   "metadata": {
    "ExecuteTime": {
     "end_time": "2019-02-01T20:54:30.282578Z",
     "start_time": "2019-02-01T20:54:30.267601Z"
    },
    "deletable": false,
    "editable": false,
    "nbgrader": {
     "cell_type": "code",
     "checksum": "3e2c698bfa04f8e18b7a77293057a166",
     "grade": false,
     "grade_id": "cell-c6567b5bc2c35182",
     "locked": true,
     "schema_version": 3,
     "solution": false,
     "task": false
    }
   },
   "outputs": [],
   "source": [
    "((4*9.81*0.05)/(3*0.47) * (2650.0 - 1000.0)/1000.0)**0.5"
   ]
  },
  {
   "cell_type": "markdown",
   "metadata": {
    "deletable": false,
    "editable": false,
    "nbgrader": {
     "cell_type": "markdown",
     "checksum": "8b699d5808d4140a55ff7b9a8099b8f2",
     "grade": false,
     "grade_id": "cell-f773d204ca50f499",
     "locked": true,
     "schema_version": 3,
     "solution": false,
     "task": false
    }
   },
   "source": [
    "can be made a lot clearer by giving names to some of the parameters\n",
    "and intermediate results and by adding comments. \n"
   ]
  },
  {
   "cell_type": "code",
   "execution_count": null,
   "metadata": {
    "ExecuteTime": {
     "end_time": "2019-02-01T20:54:31.679328Z",
     "start_time": "2019-02-01T20:54:31.672329Z"
    },
    "deletable": false,
    "editable": false,
    "nbgrader": {
     "cell_type": "code",
     "checksum": "3a8fb831d54e450846b6142525fea2e0",
     "grade": false,
     "grade_id": "cell-bbd55236447962b2",
     "locked": true,
     "schema_version": 3,
     "solution": false,
     "task": false
    }
   },
   "outputs": [],
   "source": [
    "# Terminal velocity of spherical object\n",
    "\n",
    "g = 9.81  # acceleration due to gravity (m/s^2^)\n",
    "d = 0.05  # object diameter (m)\n",
    "C_d = 0.47  # drag coefficient (1)\n",
    "rho = 1000.0  # fluid density (kg/m^3^)\n",
    "rho_s = 2650.0  # object density (kg/m^3^)\n",
    "geometry_factor = (4*g*d)/(3*C_d)\n",
    "buoyancy_factor = (rho_s - rho)/rho\n",
    "V_t = (geometry_factor * buoyancy_factor)**0.5\n",
    "\n",
    "print(V_t)"
   ]
  },
  {
   "cell_type": "markdown",
   "metadata": {
    "deletable": false,
    "editable": false,
    "nbgrader": {
     "cell_type": "markdown",
     "checksum": "50a1f97343341cc3e48c5e1a12715b23",
     "grade": false,
     "grade_id": "cell-0f81bc923cf8cc31",
     "locked": true,
     "schema_version": 3,
     "solution": false,
     "task": false
    }
   },
   "source": [
    "This makes it also much\n",
    "easier to make changes or corrections.\n",
    "\n",
    "### Exercise:\n",
    "\n",
    "Let $a = 5$, $b = -1$ and $c=10$.  "
   ]
  },
  {
   "cell_type": "code",
   "execution_count": null,
   "metadata": {
    "deletable": false,
    "nbgrader": {
     "cell_type": "code",
     "checksum": "da5b4fa923b831bfbae220eebfc32ffe",
     "grade": true,
     "grade_id": "cell-50b9da9f0ce8dcff",
     "locked": false,
     "points": 0,
     "schema_version": 3,
     "solution": true,
     "task": false
    }
   },
   "outputs": [],
   "source": [
    "# YOUR CODE HERE"
   ]
  },
  {
   "cell_type": "markdown",
   "metadata": {
    "deletable": false,
    "editable": false,
    "nbgrader": {
     "cell_type": "markdown",
     "checksum": "edb4f91abc39234c9afb59563e6f440f",
     "grade": false,
     "grade_id": "cell-2261e8e3b9469bf9",
     "locked": true,
     "schema_version": 3,
     "solution": false,
     "task": false
    }
   },
   "source": [
    "### Evaluate $w$ where:\n",
    "\n",
    "* $w = 3 a - 5 b + 2 c$"
   ]
  },
  {
   "cell_type": "code",
   "execution_count": null,
   "metadata": {
    "deletable": false,
    "nbgrader": {
     "cell_type": "code",
     "checksum": "e0b2833a01aa679e3918c4f5a6358402",
     "grade": true,
     "grade_id": "cell-6d60c253cbcbed35",
     "locked": false,
     "points": 0,
     "schema_version": 3,
     "solution": true,
     "task": false
    }
   },
   "outputs": [],
   "source": [
    "#set w equal to the mathematical expression\n",
    "\n",
    "# YOUR CODE HERE\n",
    "\n",
    "print(w)"
   ]
  },
  {
   "cell_type": "markdown",
   "metadata": {
    "deletable": false,
    "editable": false,
    "nbgrader": {
     "cell_type": "markdown",
     "checksum": "3def461b198a3f7872b6e08c5fb47361",
     "grade": false,
     "grade_id": "cell-14eff45bfdece926",
     "locked": true,
     "schema_version": 3,
     "solution": false,
     "task": false
    }
   },
   "source": [
    "Expected Result: `40`\n",
    "\n",
    "[Click here for Solution](solutions/sol0201.ipynb)\n",
    "\n",
    "### Evaluate $w$ where:\n",
    "\n",
    "* $\\displaystyle w = \\frac{5 a - 2 b}{4 c + 2 a}$\n",
    "\n",
    "Result: `0.54`"
   ]
  },
  {
   "cell_type": "code",
   "execution_count": null,
   "metadata": {
    "deletable": false,
    "nbgrader": {
     "cell_type": "code",
     "checksum": "312d563ad2a8677049ac2371bad58a00",
     "grade": true,
     "grade_id": "cell-cfc9f7d1ddcb0694",
     "locked": false,
     "points": 0,
     "schema_version": 3,
     "solution": true,
     "task": false
    }
   },
   "outputs": [],
   "source": [
    "# YOUR CODE HERE\n",
    "\n",
    "print(w)"
   ]
  },
  {
   "cell_type": "markdown",
   "metadata": {
    "deletable": false,
    "editable": false,
    "nbgrader": {
     "cell_type": "markdown",
     "checksum": "dce3c51a30664468ad607d880de2e361",
     "grade": false,
     "grade_id": "cell-d05e4d8db072b4f7",
     "locked": true,
     "schema_version": 3,
     "solution": false,
     "task": false
    }
   },
   "source": [
    "Expected Result: `0.54`\n",
    "\n",
    "[Click here for Solution](solutions/sol0202.ipynb)\n",
    "\n",
    "\n",
    "### Evaluate $w$ where:\n",
    "\n",
    "* $\\displaystyle w = \\sqrt{2 a - b}$\n"
   ]
  },
  {
   "cell_type": "code",
   "execution_count": null,
   "metadata": {
    "deletable": false,
    "nbgrader": {
     "cell_type": "code",
     "checksum": "d9184be134df91577552b40e56e110bd",
     "grade": true,
     "grade_id": "cell-6c618859726f3be5",
     "locked": false,
     "points": 0,
     "schema_version": 3,
     "solution": true,
     "task": false
    }
   },
   "outputs": [],
   "source": [
    "# YOUR CODE HERE\n",
    "\n",
    "print(w)"
   ]
  },
  {
   "cell_type": "markdown",
   "metadata": {
    "deletable": false,
    "editable": false,
    "nbgrader": {
     "cell_type": "markdown",
     "checksum": "7d61376d2f4527a422cd254929bc27af",
     "grade": false,
     "grade_id": "cell-e9081d1c7d7544a7",
     "locked": true,
     "schema_version": 3,
     "solution": false,
     "task": false
    }
   },
   "source": [
    "Expected Result: `3.3166247903554`\n",
    "\n",
    "[Click here for Solution](solutions/sol0203.ipynb)\n",
    "\n",
    "\n",
    "---\n",
    "\n",
    "\n",
    "The word *variable* refers to the fact that we can change what value a name refers to. \n",
    "\n",
    "The same name can be reused for different values. "
   ]
  },
  {
   "cell_type": "code",
   "execution_count": null,
   "metadata": {
    "ExecuteTime": {
     "end_time": "2019-02-01T20:54:34.670456Z",
     "start_time": "2019-02-01T20:54:34.664454Z"
    },
    "deletable": false,
    "editable": false,
    "nbgrader": {
     "cell_type": "code",
     "checksum": "7ab5d138dba406b23959b829ba7a50b3",
     "grade": false,
     "grade_id": "cell-3e7d45cd30ef4f09",
     "locked": true,
     "schema_version": 3,
     "solution": false,
     "task": false
    }
   },
   "outputs": [],
   "source": [
    "a = 0.618\n",
    "print(a)\n",
    "a = 1.618\n",
    "print(a)"
   ]
  },
  {
   "cell_type": "markdown",
   "metadata": {
    "deletable": false,
    "editable": false,
    "nbgrader": {
     "cell_type": "markdown",
     "checksum": "dddd47be636f0a6e0038591cd6c40b6f",
     "grade": false,
     "grade_id": "cell-30c7f3a0ff5eae06",
     "locked": true,
     "schema_version": 3,
     "solution": false,
     "task": false
    }
   },
   "source": [
    "### IMPORTANT: Assignment is ***not*** equals!\n",
    "\n",
    "Note that the use of the equals sign can be confusing at first.  \n",
    "The\n",
    "equals sign denotes *assignment* and not an equation in the mathematical\n",
    "sense.  \n",
    "`A = B` takes the rigt hand side (B) and *assigns* it to the variable (A) on the left.\n",
    "\n",
    "#### Notes:\n",
    "\n",
    "* The following example will generate an error message since this not legal Python code."
   ]
  },
  {
   "cell_type": "code",
   "execution_count": null,
   "metadata": {
    "ExecuteTime": {
     "end_time": "2019-02-01T20:54:38.207558Z",
     "start_time": "2019-02-01T20:54:38.20155Z"
    },
    "deletable": false,
    "editable": false,
    "nbgrader": {
     "cell_type": "code",
     "checksum": "6c0f480bc8b4a3f7b58ff1b84f982fcf",
     "grade": false,
     "grade_id": "cell-50a101ecb5c0bdef",
     "locked": true,
     "schema_version": 3,
     "solution": false,
     "task": false
    }
   },
   "outputs": [],
   "source": [
    "2*3 = a  "
   ]
  },
  {
   "cell_type": "markdown",
   "metadata": {
    "deletable": false,
    "editable": false,
    "nbgrader": {
     "cell_type": "markdown",
     "checksum": "6b7acdbfe7067f5059040b0af66daefe",
     "grade": false,
     "grade_id": "cell-639de714455986ac",
     "locked": true,
     "schema_version": 3,
     "solution": false,
     "task": false
    }
   },
   "source": [
    "* If one variable is assigned to another, it takes its *current value* but they do not remain equal forever:"
   ]
  },
  {
   "cell_type": "code",
   "execution_count": null,
   "metadata": {
    "ExecuteTime": {
     "end_time": "2019-02-01T20:54:57.983498Z",
     "start_time": "2019-02-01T20:54:57.978493Z"
    },
    "deletable": false,
    "editable": false,
    "nbgrader": {
     "cell_type": "code",
     "checksum": "c7eac85a30c54b65faadc50089d34f85",
     "grade": false,
     "grade_id": "cell-bba65c155ca526e5",
     "locked": true,
     "schema_version": 3,
     "solution": false,
     "task": false
    }
   },
   "outputs": [],
   "source": [
    "a = 1  # set a to 1\n",
    "b = a  # b takes the current value of a\n",
    "a = 2  # change the value of a\n",
    "print(a, b)  # note that b does not change"
   ]
  },
  {
   "cell_type": "markdown",
   "metadata": {
    "deletable": false,
    "editable": false,
    "nbgrader": {
     "cell_type": "markdown",
     "checksum": "682500d0d8b869a96ec7753dbd0c3bba",
     "grade": false,
     "grade_id": "cell-3b7d5d34aba7e5cd",
     "locked": true,
     "schema_version": 3,
     "solution": false,
     "task": false
    }
   },
   "source": [
    "* The right hand side (**RHS**) is evaluated *before* assignment to the varible on the left (**LHS**), so the following examples are possible in Python:"
   ]
  },
  {
   "cell_type": "code",
   "execution_count": null,
   "metadata": {
    "deletable": false,
    "editable": false,
    "nbgrader": {
     "cell_type": "code",
     "checksum": "33ac7975b1702fa79a070bc3645171b4",
     "grade": false,
     "grade_id": "cell-851527b514689664",
     "locked": true,
     "schema_version": 3,
     "solution": false,
     "task": false
    }
   },
   "outputs": [],
   "source": [
    "a = 1\n",
    "print(a)"
   ]
  },
  {
   "cell_type": "code",
   "execution_count": null,
   "metadata": {
    "deletable": false,
    "editable": false,
    "nbgrader": {
     "cell_type": "code",
     "checksum": "d6229ae174db95d5a3aac52840fffc6b",
     "grade": false,
     "grade_id": "cell-5f856b96daf5f43c",
     "locked": true,
     "schema_version": 3,
     "solution": false,
     "task": false
    }
   },
   "outputs": [],
   "source": [
    "# take the value of a and add 1 to it, assign this back to `a`\n",
    "a = a + 1\n",
    "print(a)"
   ]
  },
  {
   "cell_type": "code",
   "execution_count": null,
   "metadata": {
    "deletable": false,
    "editable": false,
    "nbgrader": {
     "cell_type": "code",
     "checksum": "774efe95da130d5482eb633f33e4cf77",
     "grade": false,
     "grade_id": "cell-5c4cbdc1c8f5a73b",
     "locked": true,
     "schema_version": 3,
     "solution": false,
     "task": false
    }
   },
   "outputs": [],
   "source": [
    "# multiply the current value of `a` by 2 and overwrite `a`\n",
    "a = 2*a\n",
    "print(a)"
   ]
  },
  {
   "cell_type": "code",
   "execution_count": null,
   "metadata": {
    "ExecuteTime": {
     "end_time": "2019-02-01T20:54:58.576732Z",
     "start_time": "2019-02-01T20:54:58.570742Z"
    },
    "deletable": false,
    "editable": false,
    "nbgrader": {
     "cell_type": "code",
     "checksum": "ad7b40ddd435273ca109e6b1b3b8139e",
     "grade": false,
     "grade_id": "cell-fc66ee82ef406fb2",
     "locked": true,
     "schema_version": 3,
     "solution": false,
     "task": false
    }
   },
   "outputs": [],
   "source": [
    "# replace the value of the variable `a` with its old value squared\n",
    "a = a**2\n",
    "print(a)"
   ]
  },
  {
   "cell_type": "markdown",
   "metadata": {
    "deletable": false,
    "editable": false,
    "nbgrader": {
     "cell_type": "markdown",
     "checksum": "5c761757bebf2713250fb6dc01b0871c",
     "grade": false,
     "grade_id": "cell-9d4acb90d27d9341",
     "locked": true,
     "schema_version": 3,
     "solution": false,
     "task": false
    }
   },
   "source": [
    "**Note:** \n",
    "in each case the **old value of `a`** is taken and used for the calculation, **before** *replacing* it using the assignment statement (=). "
   ]
  },
  {
   "cell_type": "markdown",
   "metadata": {
    "deletable": false,
    "editable": false,
    "nbgrader": {
     "cell_type": "markdown",
     "checksum": "2772cf30a186065718c5cfea4ca273ce",
     "grade": false,
     "grade_id": "cell-488e309c370a33f6",
     "locked": true,
     "schema_version": 3,
     "solution": false,
     "task": false
    }
   },
   "source": [
    "#### Example: Swapping two values \n",
    "\n",
    "Suppose we have assigned the names `varA` and `varB` to two different\n",
    "values.  \n",
    "To swap the values, we have to\n",
    "use a temporary name to refer to one of the values."
   ]
  },
  {
   "cell_type": "code",
   "execution_count": null,
   "metadata": {
    "ExecuteTime": {
     "end_time": "2019-02-01T20:55:01.279425Z",
     "start_time": "2019-02-01T20:55:01.273418Z"
    },
    "deletable": false,
    "editable": false,
    "nbgrader": {
     "cell_type": "code",
     "checksum": "555037c3d65c5ee1b6a8a1f0902321b9",
     "grade": false,
     "grade_id": "cell-5867aff6138fac5c",
     "locked": true,
     "schema_version": 3,
     "solution": false,
     "task": false
    }
   },
   "outputs": [],
   "source": [
    "varA = 7\n",
    "varB = -99\n",
    "\n",
    "print(varA, varB)\n",
    "\n",
    "tmp = varA\n",
    "varA = varB\n",
    "varB = tmp\n",
    "\n",
    "print(varA, varB)"
   ]
  },
  {
   "cell_type": "markdown",
   "metadata": {
    "deletable": false,
    "editable": false,
    "nbgrader": {
     "cell_type": "markdown",
     "checksum": "6c68b97633a02ac43b9e7270889f7b95",
     "grade": false,
     "grade_id": "cell-2b163377b1085092",
     "locked": true,
     "schema_version": 3,
     "solution": false,
     "task": false
    }
   },
   "source": [
    "### Allowed Variable Names\n",
    "\n",
    "* A valid variable name consists of *letters* (A,a,B,b,...), *digits* (1,2,3,...) and *underscores* ( _ )  \n",
    "but\n",
    "** *cannot* start with a digit**. \n",
    "* **Spaces are *not* allowed** in variable names. \n",
    "* You should not use an underscore at the start of a variable name, since\n",
    "this has a special meaning in Python.\n",
    "* Python is *case-sensitive*, which means that upper and lower case letters\n",
    "are distinct. "
   ]
  },
  {
   "cell_type": "code",
   "execution_count": null,
   "metadata": {
    "ExecuteTime": {
     "end_time": "2019-02-01T20:56:40.606529Z",
     "start_time": "2019-02-01T20:56:40.600539Z"
    },
    "deletable": false,
    "editable": false,
    "nbgrader": {
     "cell_type": "code",
     "checksum": "19324d73840979c2f719065ca4ac105c",
     "grade": false,
     "grade_id": "cell-2de7530ea04243dd",
     "locked": true,
     "schema_version": 3,
     "solution": false,
     "task": false
    }
   },
   "outputs": [],
   "source": [
    "a = 5\n",
    "b2 = a + a\n",
    "quite_a_long_variable_name = 0.1\n",
    "A = 50.0\n",
    "outerRadius = 5.7\n",
    "print(a, b2, quite_a_long_variable_name, A, outerRadius)"
   ]
  },
  {
   "cell_type": "markdown",
   "metadata": {
    "deletable": false,
    "editable": false,
    "nbgrader": {
     "cell_type": "markdown",
     "checksum": "2479d0a2984ac0c9da36ca1094bba16f",
     "grade": false,
     "grade_id": "cell-2afd421d3364172c",
     "locked": true,
     "schema_version": 3,
     "solution": false,
     "task": false
    }
   },
   "source": [
    "### Example: Quadratic Formula\n",
    "\n",
    "The following program finds the solutions of the quadratic equation\n",
    "$a x^2 + b x + c$ using the quadratic formula:\n",
    "$$x = \\frac{-b\\pm\\sqrt{b^2-4ac}}{2a},$$ where $b^2-4ac$ is known as the\n",
    "<span>*discriminant*</span>.  \n",
    "We assume in this example that there are\n",
    "two solutions."
   ]
  },
  {
   "cell_type": "code",
   "execution_count": null,
   "metadata": {
    "ExecuteTime": {
     "end_time": "2019-02-01T20:56:41.518323Z",
     "start_time": "2019-02-01T20:56:41.512334Z"
    },
    "deletable": false,
    "editable": false,
    "nbgrader": {
     "cell_type": "code",
     "checksum": "a47382bde523414edde1c8533649a5e7",
     "grade": false,
     "grade_id": "cell-7c6491276aca505c",
     "locked": true,
     "schema_version": 3,
     "solution": false,
     "task": false
    }
   },
   "outputs": [],
   "source": [
    "# coefficients of the quadratic a*x**2 + b*x + c\n",
    "\n",
    "a = 1.0\n",
    "b = -5.0\n",
    "c = 6.0  # quadratic formula for the equation a*x**2 + b*x + c = 0\n",
    "\n",
    "disc = b**2 - 4*a*c  # assumed to be positive\n",
    "print(disc)\n",
    "\n",
    "x1 = (-b + disc**0.5)/(2*a)\n",
    "x2 = (-b - disc**0.5)/(2*a)\n",
    "\n",
    "print(x1, x2)"
   ]
  },
  {
   "cell_type": "markdown",
   "metadata": {
    "deletable": false,
    "editable": false,
    "nbgrader": {
     "cell_type": "markdown",
     "checksum": "ca89df1a55ae7eb5ded10f6a713ac7cc",
     "grade": false,
     "grade_id": "cell-7d2ea649b88b5c7b",
     "locked": true,
     "schema_version": 3,
     "solution": false,
     "task": false
    }
   },
   "source": [
    "#### Exercise run the quadratic formula program with different coefficients  \n",
    "    \n",
    "1. Use an equations for which you know what the results should be:\n",
    "    * e.g.: $x^2 - 4 = 0$.  "
   ]
  },
  {
   "cell_type": "code",
   "execution_count": null,
   "metadata": {
    "deletable": false,
    "nbgrader": {
     "cell_type": "code",
     "checksum": "a9b0eb27f7ff0d2ce887b72dc63bb7a7",
     "grade": true,
     "grade_id": "cell-298bcea54481f74a",
     "locked": false,
     "points": 0,
     "schema_version": 3,
     "solution": true,
     "task": false
    }
   },
   "outputs": [],
   "source": [
    "# YOUR CODE HERE\n",
    "\n",
    "print(x1, x2)"
   ]
  },
  {
   "cell_type": "markdown",
   "metadata": {
    "deletable": false,
    "editable": false,
    "nbgrader": {
     "cell_type": "markdown",
     "checksum": "a87ad05c3cbe574897fdc27053c7a946",
     "grade": false,
     "grade_id": "cell-0828f16fd0480317",
     "locked": true,
     "schema_version": 3,
     "solution": false,
     "task": false
    }
   },
   "source": [
    "[Possible Solution](solutions/sol0204.ipynb)\n",
    "\n",
    "2. Find out what happens when the discriminant is negative."
   ]
  },
  {
   "cell_type": "code",
   "execution_count": null,
   "metadata": {
    "deletable": false,
    "nbgrader": {
     "cell_type": "code",
     "checksum": "c48a1ce1efe5b9a5ea67a79f6e92c28e",
     "grade": true,
     "grade_id": "cell-400ace63d00e0846",
     "locked": false,
     "points": 0,
     "schema_version": 3,
     "solution": true,
     "task": false
    }
   },
   "outputs": [],
   "source": [
    "# YOUR CODE HERE\n",
    "\n",
    "print(x1, x2)"
   ]
  },
  {
   "cell_type": "markdown",
   "metadata": {
    "deletable": false,
    "editable": false,
    "nbgrader": {
     "cell_type": "markdown",
     "checksum": "a62da2f90a6ebda0dceafba423e0b112",
     "grade": false,
     "grade_id": "cell-5300e6dafd57a0ec",
     "locked": true,
     "schema_version": 3,
     "solution": false,
     "task": false
    }
   },
   "source": [
    "[Possible Solution](solutions/sol0205.ipynb)"
   ]
  },
  {
   "cell_type": "markdown",
   "metadata": {
    "deletable": false,
    "editable": false,
    "nbgrader": {
     "cell_type": "markdown",
     "checksum": "fc6376afed563751d9d4e4d019c374d6",
     "grade": false,
     "grade_id": "cell-3208415b81ced9e7",
     "locked": true,
     "schema_version": 3,
     "solution": false,
     "task": false
    }
   },
   "source": [
    "### Using Built-in Constants\n",
    "\n",
    "Important constants like $\\pi$ and $e$ can be accessed by loading the `math` library using\n",
    "`import`.  \n",
    "The *imaginary number* $i=\\sqrt{-1}$ (called $j$ by electrical engineers) is accessed using `1j`."
   ]
  },
  {
   "cell_type": "code",
   "execution_count": null,
   "metadata": {
    "ExecuteTime": {
     "end_time": "2019-02-01T20:56:45.647725Z",
     "start_time": "2019-02-01T20:56:45.641736Z"
    },
    "deletable": false,
    "editable": false,
    "nbgrader": {
     "cell_type": "code",
     "checksum": "acc26498067a3ab682b8d92ff1c65b0d",
     "grade": false,
     "grade_id": "cell-6792de2cb49e5f5f",
     "locked": true,
     "schema_version": 3,
     "solution": false,
     "task": false
    }
   },
   "outputs": [],
   "source": [
    "from math import pi, e\n",
    "\n",
    "print(pi, e, e**(1j*pi) + 1)"
   ]
  },
  {
   "cell_type": "markdown",
   "metadata": {
    "deletable": false,
    "editable": false,
    "nbgrader": {
     "cell_type": "markdown",
     "checksum": "2b74903f2c889bdfc26aca5c5da71d86",
     "grade": false,
     "grade_id": "cell-47251ee8aa2f6895",
     "locked": true,
     "schema_version": 3,
     "solution": false,
     "task": false
    }
   },
   "source": [
    "* Note that the last result is $1.2\\times10^{-16}i = 0.00000000000000012i\\approx 0$, due to floating-point precision (see appendix of Section 1)."
   ]
  },
  {
   "cell_type": "markdown",
   "metadata": {
    "deletable": false,
    "editable": false,
    "nbgrader": {
     "cell_type": "markdown",
     "checksum": "63607997ad2c0c6b805c23dba625d81a",
     "grade": false,
     "grade_id": "cell-3ca995a68114fa05",
     "locked": true,
     "schema_version": 3,
     "solution": false,
     "task": false
    }
   },
   "source": [
    "## Strings as Variables \n",
    "\n",
    "Strings can also be assigned to variable names, and it important to not\n",
    "confuse the two. For example:"
   ]
  },
  {
   "cell_type": "code",
   "execution_count": null,
   "metadata": {
    "ExecuteTime": {
     "end_time": "2019-02-01T20:56:48.813564Z",
     "start_time": "2019-02-01T20:56:48.809565Z"
    },
    "deletable": false,
    "editable": false,
    "nbgrader": {
     "cell_type": "code",
     "checksum": "2d0ad76e697eb93d9a045a32d5efe4ad",
     "grade": false,
     "grade_id": "cell-a7a86d21a8f33792",
     "locked": true,
     "schema_version": 3,
     "solution": false,
     "task": false
    }
   },
   "outputs": [],
   "source": [
    "word1 = \"Hello World!\"\n",
    "print(\"word1\")\n",
    "print(word1)"
   ]
  },
  {
   "cell_type": "markdown",
   "metadata": {
    "deletable": false,
    "editable": false,
    "nbgrader": {
     "cell_type": "markdown",
     "checksum": "144339c47377dc9ab6e4e11b40102c26",
     "grade": false,
     "grade_id": "cell-4ed44133121d9064",
     "locked": true,
     "schema_version": 3,
     "solution": false,
     "task": false
    }
   },
   "source": [
    "Notice that in the first instance the string `word1` that was enclosed\n",
    "in quotes was \n",
    "print ed and in the second the *string value* `hello`\n",
    "assigned to the variable named `word1` was \n",
    "printed."
   ]
  },
  {
   "cell_type": "markdown",
   "metadata": {
    "deletable": false,
    "editable": false,
    "nbgrader": {
     "cell_type": "markdown",
     "checksum": "720cd546773e00947715b9e9e14da925",
     "grade": false,
     "grade_id": "cell-3eb322ccf1490d91",
     "locked": true,
     "schema_version": 3,
     "solution": false,
     "task": false
    }
   },
   "source": [
    "### Formatting Numbers in Strings\n",
    "\n",
    "Integer or floating point\n",
    "numbers can also also be combined with strings in other ways. They can be\n",
    "directly interspersed with text strings by separating them with commas\n",
    "without conversion:"
   ]
  },
  {
   "cell_type": "code",
   "execution_count": null,
   "metadata": {
    "ExecuteTime": {
     "end_time": "2019-02-01T20:56:50.68637Z",
     "start_time": "2019-02-01T20:56:50.681371Z"
    },
    "deletable": false,
    "editable": false,
    "nbgrader": {
     "cell_type": "code",
     "checksum": "53d6893896b0f0090378a1b46d165f64",
     "grade": true,
     "grade_id": "cell-578a428c7b3988be",
     "locked": true,
     "points": 0,
     "schema_version": 3,
     "solution": false,
     "task": false
    }
   },
   "outputs": [],
   "source": [
    "print(\"The answer is\", 40+2, \"but not\", \"40\"+\"2\")"
   ]
  },
  {
   "cell_type": "markdown",
   "metadata": {
    "deletable": false,
    "editable": false,
    "nbgrader": {
     "cell_type": "markdown",
     "checksum": "3c1786a731534eb1048a2f15f10c4aa1",
     "grade": false,
     "grade_id": "cell-e9cc504df2d351cd",
     "locked": true,
     "schema_version": 3,
     "solution": false,
     "task": false
    }
   },
   "source": [
    "Notice that spaces were automatically added in this case.  \n",
    "There are\n",
    "other ways of formatting objects including numbers in text output (we will see more later).  \n",
    "One is the including special syntax such as `%d` for integers and `%f` for\n",
    "floating point numbers (there are others).  \n",
    "The value to replace it with\n",
    "follows the string, preceded by a percent symbol."
   ]
  },
  {
   "cell_type": "code",
   "execution_count": null,
   "metadata": {
    "ExecuteTime": {
     "end_time": "2019-02-01T20:56:55.246577Z",
     "start_time": "2019-02-01T20:56:55.241577Z"
    },
    "deletable": false,
    "editable": false,
    "nbgrader": {
     "cell_type": "code",
     "checksum": "b189e5050f560b9ff99de8d0a35fbda5",
     "grade": false,
     "grade_id": "cell-a2450d63a9ddd2f5",
     "locked": true,
     "schema_version": 3,
     "solution": false,
     "task": false
    }
   },
   "outputs": [],
   "source": [
    "import math\n",
    "pi = math.pi\n",
    "print(\"Pi is %d as an integer\" % pi)\n",
    "print(\"Pi is %f, approximately\" % pi)\n",
    "print(\"Pi is %.3f to 3 decimal places\" % pi)"
   ]
  },
  {
   "cell_type": "markdown",
   "metadata": {
    "deletable": false,
    "editable": false,
    "nbgrader": {
     "cell_type": "markdown",
     "checksum": "ba6a2bfec81bb4d7958b28517108d302",
     "grade": false,
     "grade_id": "cell-d06c9cff75f3966e",
     "locked": true,
     "schema_version": 3,
     "solution": false,
     "task": false
    }
   },
   "source": [
    "* In the third case `%.3f` is used to display the value to three\n",
    "decimal places. This can be very useful for displaying the results of\n",
    "calculations neatly. We will see another method for including numbers in\n",
    "strings later in the unit."
   ]
  },
  {
   "cell_type": "markdown",
   "metadata": {
    "deletable": false,
    "editable": false,
    "nbgrader": {
     "cell_type": "markdown",
     "checksum": "9cea78c3d4f10720eb02dd6186d105ca",
     "grade": false,
     "grade_id": "cell-af97117081a5d856",
     "locked": true,
     "schema_version": 3,
     "solution": false,
     "task": false
    }
   },
   "source": [
    "Another method is the `format()` function (study how each of the arguments works and make notes on your observations):"
   ]
  },
  {
   "cell_type": "code",
   "execution_count": null,
   "metadata": {
    "deletable": false,
    "editable": false,
    "nbgrader": {
     "cell_type": "code",
     "checksum": "86c54eb3158ba35e1530d90584bab948",
     "grade": false,
     "grade_id": "cell-2e158254c297dcc1",
     "locked": true,
     "schema_version": 3,
     "solution": false,
     "task": false
    }
   },
   "outputs": [],
   "source": [
    "mysentence = \"This is how to put {} and {} in the sentence {}.\".format(\"this\", \"that\", \"here\")\n",
    "\n",
    "print(mysentence)"
   ]
  },
  {
   "cell_type": "code",
   "execution_count": null,
   "metadata": {
    "deletable": false,
    "editable": false,
    "nbgrader": {
     "cell_type": "code",
     "checksum": "d0752f91376fe50f06a0c29ca623f9ee",
     "grade": false,
     "grade_id": "cell-2ffe25ea9523eeab",
     "locked": true,
     "schema_version": 3,
     "solution": false,
     "task": false
    }
   },
   "outputs": [],
   "source": [
    "mysentence2 = \"This is how to place {2} then {0} and finish with {1}.\".format(\"zero\", \"one\", \"two\")\n",
    "\n",
    "print(mysentence2)"
   ]
  },
  {
   "cell_type": "code",
   "execution_count": null,
   "metadata": {
    "deletable": false,
    "editable": false,
    "nbgrader": {
     "cell_type": "code",
     "checksum": "43e251a16921e954e5fc7da314109abd",
     "grade": false,
     "grade_id": "cell-b482c3adc9ca9d0d",
     "locked": true,
     "schema_version": 3,
     "solution": false,
     "task": false
    }
   },
   "outputs": [],
   "source": [
    "this = \"An integer: {:.0f}, two dp: {:.2f}, full precision: {}, \".format(pi, pi, pi)\n",
    "print(this)"
   ]
  },
  {
   "cell_type": "code",
   "execution_count": null,
   "metadata": {
    "deletable": false,
    "editable": false,
    "nbgrader": {
     "cell_type": "code",
     "checksum": "88adc555a1f6de942790f03a1a325970",
     "grade": false,
     "grade_id": "cell-8a047661678cc94f",
     "locked": true,
     "schema_version": 3,
     "solution": false,
     "task": false
    }
   },
   "outputs": [],
   "source": [
    "final = \"Base of natural logs: {1:.3f}, pi = {0:.5f}\".format(pi, e)\n",
    "\n",
    "print(final)"
   ]
  },
  {
   "cell_type": "markdown",
   "metadata": {
    "deletable": false,
    "editable": false,
    "nbgrader": {
     "cell_type": "markdown",
     "checksum": "ad722f6fa9607fd59c02576911dba2b3",
     "grade": false,
     "grade_id": "cell-bc3d777d5eece297",
     "locked": true,
     "schema_version": 3,
     "solution": false,
     "task": false
    }
   },
   "source": [
    "### Formatted *\"f-strings\"*\n",
    "\n",
    "From Python 3.6 onwards a new method: *\"f-strings\"* were introduced to Python:  "
   ]
  },
  {
   "cell_type": "code",
   "execution_count": null,
   "metadata": {
    "deletable": false,
    "editable": false,
    "nbgrader": {
     "cell_type": "code",
     "checksum": "964a19e0e9fbd4971325161e26613d4c",
     "grade": false,
     "grade_id": "cell-8723ddf898d4c081",
     "locked": true,
     "schema_version": 3,
     "solution": false,
     "task": false
    }
   },
   "outputs": [],
   "source": [
    "from math import pi, e\n",
    "a=42\n",
    "\n",
    "#the first argument is a plain variable name, .3f gives it to 3 decimal (floating point) places, and the third to 3 digits\n",
    "formatted_string = f\"The answer is {a}, the number pi is {pi:.3f} and the base of natural logarithms is {e:.3}.\"\n",
    "\n",
    "print(formatted_string)"
   ]
  },
  {
   "cell_type": "markdown",
   "metadata": {
    "deletable": false,
    "editable": false,
    "nbgrader": {
     "cell_type": "markdown",
     "checksum": "36895823c94a3494ac56ee835e122041",
     "grade": false,
     "grade_id": "cell-fa80f9d861f7b23f",
     "locked": true,
     "schema_version": 3,
     "solution": false,
     "task": false
    }
   },
   "source": [
    "This makes formatting numbers in text much easier than before. Strings can also be formatted into strings, as the following multi-line string (using three quote marks on either side) shows:"
   ]
  },
  {
   "cell_type": "markdown",
   "metadata": {
    "deletable": false,
    "editable": false,
    "nbgrader": {
     "cell_type": "markdown",
     "checksum": "14811125c66ae7851bd44c0412b08694",
     "grade": false,
     "grade_id": "cell-52b84230d6eb59c8",
     "locked": true,
     "schema_version": 3,
     "solution": false,
     "task": false
    }
   },
   "source": [
    "### Multiline Strings\n",
    "\n",
    "Finally, strings can also be formatted as multi-line strings using three quote marks on either side:"
   ]
  },
  {
   "cell_type": "code",
   "execution_count": null,
   "metadata": {
    "deletable": false,
    "editable": false,
    "nbgrader": {
     "cell_type": "code",
     "checksum": "0eab436cde03d69cb5e911532e0596af",
     "grade": false,
     "grade_id": "cell-92fc1c38efdf7183",
     "locked": true,
     "schema_version": 3,
     "solution": false,
     "task": false
    }
   },
   "outputs": [],
   "source": [
    "a=42\n",
    "palindrome = \"do geese see god\"\n",
    "\n",
    "multiline = f\"\"\"Hello I am a multiline string,\n",
    "as you can see my lines can be broken!\n",
    "\n",
    "I can also include the contants of variables like {a}.\n",
    "\n",
    "Not only that, other strings!:\n",
    "\n",
    "This: {palindrome}\n",
    "\n",
    "That: {palindrome.upper()}\n",
    "\n",
    "Something else: {(palindrome+\" \")*3}\n",
    "\n",
    "\"\"\"\n",
    "\n",
    "print(multiline)"
   ]
  },
  {
   "cell_type": "markdown",
   "metadata": {
    "deletable": false,
    "editable": false,
    "nbgrader": {
     "cell_type": "markdown",
     "checksum": "9cb39e3a563472a7b6c97bea6797c0a1",
     "grade": false,
     "grade_id": "cell-80843bc735e4a388",
     "locked": true,
     "schema_version": 3,
     "solution": false,
     "task": false
    }
   },
   "source": [
    "## Summary "
   ]
  },
  {
   "cell_type": "code",
   "execution_count": null,
   "metadata": {
    "ExecuteTime": {
     "end_time": "2019-02-01T21:00:38.020484Z",
     "start_time": "2019-02-01T21:00:38.0105Z"
    },
    "deletable": false,
    "editable": false,
    "nbgrader": {
     "cell_type": "code",
     "checksum": "f7d7ad0e88e5119e40dd1187dc762c4b",
     "grade": false,
     "grade_id": "cell-20361ff5c6adb848",
     "locked": true,
     "schema_version": 3,
     "solution": false,
     "task": false
    }
   },
   "outputs": [],
   "source": [
    "# a comment is ignored\n",
    "\n",
    "import math  # importing a module\n",
    "\n",
    "-999  # an integer\n",
    "0.0999  # a floating point number\n",
    "1.987e-6  # scientific/engineering notation\n",
    "print(88)  # printing a value\n",
    "print(1, 4, 9)  # printing multiple values\n",
    "print(10**(2*3) - 1)  # integer arithmetic\n",
    "print(7/2)   # integer arithmetic does what you would expect in real life\n",
    "print(7.0/2.0)  # floating point arithmetic\n",
    "print(math.pi*100)  # built-in constant\n",
    "num1 = 44  # assignment statement\n",
    "num2 = 2*33\n",
    "print(num1 + num2)"
   ]
  },
  {
   "cell_type": "markdown",
   "metadata": {
    "deletable": false,
    "editable": false,
    "nbgrader": {
     "cell_type": "markdown",
     "checksum": "e7e76cff5a47be6850a5f67a74f4fbb1",
     "grade": false,
     "grade_id": "cell-c8d7673193fbbe96",
     "locked": true,
     "schema_version": 3,
     "solution": false,
     "task": false
    }
   },
   "source": [
    "-   Operations: `+`, `-`, `*`, `/`, `**`, `%`\n",
    "\n",
    "-   Functions: `type`, `int`, `float`, `round`\n",
    "\n",
    "-   Constants: `math.pi`, `math.e`\n",
    "\n",
    "## Pitfalls \n",
    "\n",
    "-   The operation `*` denotes multiplication and cannot be omitted. It\n",
    "    can be helpful to read out a formula.   \n",
    "    E.g., $5 (4 + 2)$ reads as five *times* four plus two.\n",
    "    \n",
    "-   In other programming languages or in in previous Python versions (e.g. Python 2), \n",
    "    the symbol `/` denotes *integer* division.\n",
    "    In them, we have `7/2 => 3`, but `7.0/2 => 3.5` and `7/2.0 => 3.5`.\n",
    "    But this is *not* the case in Python 3.\n",
    "\n",
    "-   Variable names are case-sensitive.\n",
    "\n",
    "-   Do not confuse assignment statements and mathematical equations."
   ]
  },
  {
   "cell_type": "markdown",
   "metadata": {
    "deletable": false,
    "editable": false,
    "nbgrader": {
     "cell_type": "markdown",
     "checksum": "fd1b607ef85df3685cfb9575a65dde58",
     "grade": false,
     "grade_id": "cell-6cc4d5c2b0f01469",
     "locked": true,
     "schema_version": 3,
     "solution": false,
     "task": false
    }
   },
   "source": [
    "# Task 2 (2%)\n",
    "\n",
    "1. Use the [Daylight Factor sheet](https://moodle.bath.ac.uk/pluginfile.php/989554/mod_resource/content/5/Daylight_Factors.pdf)  and the following instructions to complete the code below.\n",
    "\n",
    "2. Enter the parameters $\\theta=57^\\circ$ and $\\tau=0.64$ (calling them ``theta`` and ``tau``), given the values in the **Example**. \n",
    "\n",
    "3.  Calculate the room reflectance $\\rho$ (\"rho\") as an intermediate step using the formula:  \n",
    "$\\rho=\\dfrac{A_c\\times r_c + A_s \\times r_s + A_g \\times r_g + A_f \\times r_f}{A}$  \n",
    "using the values for the dimensions of the walls, glazing area and reflectance ($r$) given in the sheet.\n",
    "\n",
    "4. Using **Equation 16.3**: \n",
    "$A_g = \\dfrac{\\overline{D}A(1-\\rho^2)}{\\theta\\ \\tau}$,  \n",
    "calculate a new glazing area needed to achieve a daylight factor of 5%.\n",
    "\n",
    "    * Your correct code should display the answer given below the example:\n",
    "    * **Re-run from fresh (restart kernel or e.g. using Spyder) to check your script before submitting**\n",
    "    \n",
    "### Some partially filled out code is below to get you started. \n",
    "1. Copy and paste it into a new notebook\n",
    "2. Save it as a Python `YOUR_FILENAME.py` file (no spaces in the filename)\n",
    "3. Check it runs independently using Spyder or Jupyterlabs\n",
    "4. Submit the `.py` file to moodle."
   ]
  },
  {
   "cell_type": "code",
   "execution_count": null,
   "metadata": {
    "deletable": false,
    "nbgrader": {
     "cell_type": "code",
     "checksum": "9c3cbddeb07e3d01e7d74e8a3880950d",
     "grade": false,
     "grade_id": "task02",
     "locked": false,
     "schema_version": 3,
     "solution": true,
     "task": false
    }
   },
   "outputs": [],
   "source": [
    "# reflectivities are defined here:\n",
    "r_c = 0.7\n",
    "r_s = 0.4\n",
    "r_g = 0.1\n",
    "r_f = 0.2\n",
    "\n",
    "# assign the values below\n",
    "#theta=\n",
    "#tau=\n",
    "# YOUR CODE HERE\n",
    "\n",
    "\n",
    "# Assign values to variables for dimensions (in m):\n",
    "width = 4\n",
    "length = 8\n",
    "height = 3\n",
    "\n",
    "# Calculate areas (first two done for you):\n",
    "A_g = 6.9\n",
    "A_s = 2*width*height + 2*length*height - A_g\n",
    "#A_c = #calculate area of ceiling \n",
    "#A_f = #calculate area of floor \n",
    "#A = #calculate total area \n",
    "# YOUR CODE HERE\n",
    "\n",
    "# fill in the formula for the area weighted average reflectance below\n",
    "#rho = ()/()\n",
    "# YOUR CODE HERE\n",
    "\n",
    "# Don't alter this next two lines! Old daylight factor is\n",
    "D_old = A_g*(theta*tau)/(A*(1-rho**2))\n",
    "print(\"Old Daylight Factor =\", D_old)\n",
    "\n",
    "# this sets the required Daylight factor to 5 (percent)\n",
    "D = 5\n",
    "\n",
    "#A_g =  # formula for the new glazing area \n",
    "# YOUR CODE HERE\n",
    "\n",
    "#leave this next line alone - DO NOT EDIT! \n",
    "print(\"Glazing Area for 5% DF =\",  round(A_g, 2), \"m^2\")"
   ]
  },
  {
   "cell_type": "markdown",
   "metadata": {
    "deletable": false,
    "editable": false,
    "nbgrader": {
     "cell_type": "markdown",
     "checksum": "6c842d5cab7956235ac265084ccd2d00",
     "grade": false,
     "grade_id": "cell-c18fde1189ad5b75",
     "locked": true,
     "schema_version": 3,
     "solution": false,
     "task": false
    }
   },
   "source": [
    "Expected Output (**exactly** formatted like this):\n",
    "```\n",
    "Old Daylight Factor = 2.221119979796034\n",
    "Glazing Area for 5% DF = 15.53 m^2\n",
    "```\n",
    "The output should be the above **and nothing else!** (remove any code that prints anything else).\n",
    "\n",
    "\n",
    "### Use the checking cell below after running your code above to see if it will pass the autograder...\n",
    "* Run the cell below - **this will only work using JupyterHub online**"
   ]
  },
  {
   "cell_type": "code",
   "execution_count": null,
   "metadata": {
    "deletable": false,
    "editable": false,
    "nbgrader": {
     "cell_type": "code",
     "checksum": "671c4e7191d7c5d240217fa40e7fdce9",
     "grade": false,
     "grade_id": "cell-23c7eff5203fba5a",
     "locked": true,
     "schema_version": 3,
     "solution": false,
     "task": false
    }
   },
   "outputs": [],
   "source": [
    "#this will only work running on ace.jupyterhub.bath.ac.uk\n",
    "import sys\n",
    "sys.path.append('.checks')\n",
    "\n",
    "import check02\n",
    "check02.test(rho, D_old, A_g)"
   ]
  },
  {
   "cell_type": "markdown",
   "metadata": {
    "deletable": false,
    "editable": false,
    "nbgrader": {
     "cell_type": "markdown",
     "checksum": "c1d40d300be53fd79000a57735babba8",
     "grade": false,
     "grade_id": "cell-c716a3733253a8cb",
     "locked": true,
     "schema_version": 3,
     "solution": false,
     "task": false
    }
   },
   "source": [
    "```\n",
    "\n",
    "\n",
    "\n",
    "```\n",
    "## Extra:\n",
    "\n",
    "**NB: Don't submit this next bit!**\n",
    "\n",
    "* Can you spot what is wrong with the above calculation?\n",
    "* Try commenting out the line ``A_g = 6.9`` and re-running the code-block\n",
    "* Run it again a few times in sequence.\n",
    "    * Why do you think this is happening?\n",
    "    \n",
    "We will explore this further later on."
   ]
  },
  {
   "cell_type": "markdown",
   "metadata": {
    "deletable": false,
    "editable": false,
    "nbgrader": {
     "cell_type": "markdown",
     "checksum": "dfaf0e5092f95ad162d66defb554e54e",
     "grade": false,
     "grade_id": "cell-5556ad65f202d260",
     "locked": true,
     "schema_version": 3,
     "solution": false,
     "task": false
    }
   },
   "source": [
    "## Extra Practice Example:\n",
    "\n",
    "### Projectile Motion \n",
    "\n",
    "The height of a ball thrown upwards with a velocity $v_0$ is given by\n",
    "$$y = y_0 + v_0 t - \\frac{1}{2} g t^2,$$ where time $t=0$ when the ball\n",
    "is released. The ball is released at height $y_0$. The initial velocity\n",
    "is $v_0$. Position, velocity and acceleration are all measured as\n",
    "positive upwards. Take $y_0 = 1.5$, $v_0 = 12.8$ and $g = 9.81$.\n",
    "\n",
    "-   Use Python to calculate the height of the ball at $t = 2$.\n",
    "\n",
    "-   Use Python to calculate the time $t$ for which $y = 5$.  \n",
    "(Hint: rearrange and use the quadratic formula: $x=\\dfrac{-b\\pm\\sqrt{b^2-4ac}}{2a}$)"
   ]
  },
  {
   "cell_type": "code",
   "execution_count": null,
   "metadata": {
    "deletable": false,
    "nbgrader": {
     "cell_type": "code",
     "checksum": "0cb7ca10da0b433364f4688c3967eab3",
     "grade": true,
     "grade_id": "cell-42a726e9ace714fd",
     "locked": false,
     "points": 0,
     "schema_version": 3,
     "solution": true,
     "task": false
    }
   },
   "outputs": [],
   "source": [
    "# YOUR CODE HERE\n",
    "\n",
    "print(t_1, t_2)"
   ]
  },
  {
   "cell_type": "markdown",
   "metadata": {
    "deletable": false,
    "editable": false,
    "nbgrader": {
     "cell_type": "markdown",
     "checksum": "91737879ac71fac1874ccfec45a5f1c2",
     "grade": false,
     "grade_id": "cell-c8ef47c9035884e5",
     "locked": true,
     "schema_version": 3,
     "solution": false,
     "task": false
    }
   },
   "source": [
    "Expected Result:  \n",
    "`\n",
    "0.31034543701622325 2.29923662210712\n",
    "`\n",
    "\n",
    "[Click here for Solution](solutions/sol0206.ipynb)"
   ]
  }
 ],
 "metadata": {
  "hide_input": false,
  "kernelspec": {
   "display_name": "Python 3",
   "language": "python",
   "name": "python3"
  },
  "language_info": {
   "codemirror_mode": {
    "name": "ipython",
    "version": 3
   },
   "file_extension": ".py",
   "mimetype": "text/x-python",
   "name": "python",
   "nbconvert_exporter": "python",
   "pygments_lexer": "ipython3",
   "version": "3.8.3"
  },
  "toc": {
   "base_numbering": 1,
   "nav_menu": {},
   "number_sections": true,
   "sideBar": true,
   "skip_h1_title": false,
   "title_cell": "Table of Contents",
   "title_sidebar": "Contents",
   "toc_cell": false,
   "toc_position": {},
   "toc_section_display": true,
   "toc_window_display": false
  }
 },
 "nbformat": 4,
 "nbformat_minor": 1
}
