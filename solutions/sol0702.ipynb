{
 "cells": [
  {
   "cell_type": "code",
   "execution_count": 5,
   "metadata": {},
   "outputs": [
    {
     "name": "stdout",
     "output_type": "stream",
     "text": [
      "0 # A bit of text I want to write to a file.\n",
      "1 1. The first point I want to make is this.\n",
      "2 2. Next I want to tell you that...\n"
     ]
    }
   ],
   "source": [
    "myfile = open(\"test.txt\", \"r\")\n",
    "for i in range(3):\n",
    "    print(i, myfile.readline(), end=\"\")"
   ]
  }
 ],
 "metadata": {
  "kernelspec": {
   "display_name": "Python 3",
   "language": "python",
   "name": "python3"
  },
  "language_info": {
   "codemirror_mode": {
    "name": "ipython",
    "version": 3
   },
   "file_extension": ".py",
   "mimetype": "text/x-python",
   "name": "python",
   "nbconvert_exporter": "python",
   "pygments_lexer": "ipython3",
   "version": "3.8.3"
  }
 },
 "nbformat": 4,
 "nbformat_minor": 4
}
