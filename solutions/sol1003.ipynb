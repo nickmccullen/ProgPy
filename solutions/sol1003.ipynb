{
 "cells": [
  {
   "cell_type": "markdown",
   "metadata": {},
   "source": [
    "# The zero was not being captured!\n",
    "\n",
    "## Version 1:"
   ]
  },
  {
   "cell_type": "code",
   "execution_count": 3,
   "metadata": {},
   "outputs": [
    {
     "name": "stdout",
     "output_type": "stream",
     "text": [
      "0\n"
     ]
    }
   ],
   "source": [
    "#find the minimum absolute value of a list\n",
    "\n",
    "data = [6, 1, -10, -7, 0, 6, -9, 7, 1, -2]\n",
    "\n",
    "lowest = 1e100 #set to a very big number (a \"googol\": 1x10^100)\n",
    "\n",
    "#iterate through the data\n",
    "for d in data:\n",
    "    #if it's positive and less than the lowest so far\n",
    "    if d >= 0 and d < lowest: \n",
    "        #replace the lowest so far with the current value\n",
    "        lowest = d \n",
    "    if d < 0:#if less than zero\n",
    "        #negate \n",
    "        d = -d\n",
    "        if d < lowest:\n",
    "            lowest = d\n",
    "            \n",
    "print(lowest)"
   ]
  },
  {
   "cell_type": "markdown",
   "metadata": {},
   "source": [
    "## Version 2:"
   ]
  },
  {
   "cell_type": "code",
   "execution_count": 1,
   "metadata": {},
   "outputs": [
    {
     "name": "stdout",
     "output_type": "stream",
     "text": [
      "0\n"
     ]
    }
   ],
   "source": [
    "#find the minimum absolute value of a list\n",
    "\n",
    "data = [6, 1, -10, -7, 0, 6, -9, 7, 1, -2]\n",
    "\n",
    "lowest = 1e100 #set to a very big number (a \"googol\": 1x10^100)\n",
    "\n",
    "#iterate through the data\n",
    "for d in data:\n",
    "    if d < 0:#if less than zero\n",
    "        #negate \n",
    "        d = -d\n",
    "        if d < lowest:\n",
    "            lowest = d\n",
    "        #if it's positive and less than the lowest so far\n",
    "    elif d < lowest: \n",
    "        #replace the lowest so far with the current value\n",
    "        lowest = d \n",
    "            \n",
    "print(lowest)\n"
   ]
  }
 ],
 "metadata": {
  "kernelspec": {
   "display_name": "Python 3",
   "language": "python",
   "name": "python3"
  },
  "language_info": {
   "codemirror_mode": {
    "name": "ipython",
    "version": 3
   },
   "file_extension": ".py",
   "mimetype": "text/x-python",
   "name": "python",
   "nbconvert_exporter": "python",
   "pygments_lexer": "ipython3",
   "version": "3.8.3"
  }
 },
 "nbformat": 4,
 "nbformat_minor": 4
}
