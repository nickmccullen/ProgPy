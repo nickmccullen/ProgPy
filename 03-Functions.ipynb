{
 "cells": [
  {
   "cell_type": "markdown",
   "metadata": {
    "deletable": false,
    "editable": false,
    "nbgrader": {
     "cell_type": "markdown",
     "checksum": "39572ad44eabf29de013ea2a4503d4a6",
     "grade": false,
     "grade_id": "cell-e16f08659cce93ea",
     "locked": true,
     "schema_version": 3,
     "solution": false,
     "task": false
    }
   },
   "source": [
    "Be sure to do all exercises and run all completed code cells. \n",
    "\n",
    "If anything goes wrong, **restart the kernel** (in the menubar, select Kernel$\\rightarrow$Restart)."
   ]
  },
  {
   "cell_type": "markdown",
   "metadata": {
    "deletable": false,
    "editable": false,
    "nbgrader": {
     "cell_type": "markdown",
     "checksum": "20ed87f59d5261edc30851961107ec8c",
     "grade": false,
     "grade_id": "cell-50b9cb0b3970f0e6",
     "locked": true,
     "schema_version": 3,
     "solution": false,
     "task": false
    }
   },
   "source": [
    "---"
   ]
  },
  {
   "cell_type": "markdown",
   "metadata": {
    "deletable": false,
    "editable": false,
    "nbgrader": {
     "cell_type": "markdown",
     "checksum": "001dec44577a5e0219df474fc520c2a1",
     "grade": false,
     "grade_id": "cell-1435480dba76a9e4",
     "locked": true,
     "schema_version": 3,
     "solution": false,
     "task": false
    }
   },
   "source": [
    "# Writing Functions\n",
    "\n",
    "\n",
    "Remember to type in and run all the examples as you go through these materials.  \n",
    "**Study each example and make sure you understand what is happening before moving on to the next**\n",
    "\n",
    "## Functions\n",
    "\n",
    "Another crucial part of programming is the\n",
    "ability to define functions when we want to do the same thing in several places.  \n",
    "A function is a rule that takes input values and produces output values.  \n",
    "Python functions are not quite the same as\n",
    "mathematical functions.  \n",
    "However in Python a\n",
    "function that is called several times with the same input can return\n",
    "different values each time. A Python function can also have side\n",
    "effects, such as output to the screen or to a file. \n",
    "\n",
    "We will start of by exploring some of the functions that are available\n",
    "in Python and then we will see how to build our own functions.\n",
    "\n",
    "### Built-in Functions \n",
    "\n",
    "We have already come across several functions that are available\n",
    "directly in Python: `print`, `int`, `float`, `round`, `list`, `range`...  \n",
    "Some others are `type`, `abs`, `min` and `max`. \n",
    "\n",
    "* To use a function you need the name of the function followed by the arguments in brackets. \n",
    "    * The arguments can be numbers, variables, calculations or other functions. \n",
    "\n",
    "The functions we had already seen and also the `abs` and `type` function take one input, known as its ***\"argument\"*** and **return** one thing back, known as the result. "
   ]
  },
  {
   "cell_type": "code",
   "execution_count": null,
   "metadata": {
    "ExecuteTime": {
     "end_time": "2019-02-01T21:17:48.833534Z",
     "start_time": "2019-02-01T21:17:48.826529Z"
    },
    "deletable": false,
    "editable": false,
    "nbgrader": {
     "cell_type": "code",
     "checksum": "5654f7a8b8da42ab0e570a29d2ee0690",
     "grade": false,
     "grade_id": "cell-a5b28a58c88cbfdd",
     "locked": true,
     "schema_version": 3,
     "solution": false,
     "task": false
    }
   },
   "outputs": [],
   "source": [
    "int(4.436e2), round(4.436e2), float(-68), type(42), type(\"Hello\")"
   ]
  },
  {
   "cell_type": "code",
   "execution_count": null,
   "metadata": {
    "ExecuteTime": {
     "end_time": "2019-02-01T21:17:48.833534Z",
     "start_time": "2019-02-01T21:17:48.826529Z"
    },
    "deletable": false,
    "editable": false,
    "nbgrader": {
     "cell_type": "code",
     "checksum": "c81aa23d2356d6dd5ffbbdacf2be5efc",
     "grade": false,
     "grade_id": "cell-ae322af8b36fba07",
     "locked": true,
     "schema_version": 3,
     "solution": false,
     "task": false
    }
   },
   "outputs": [],
   "source": [
    "abs(5), abs(-5), abs(6.01 + 0.01), abs(-6.01 - 0.01)"
   ]
  },
  {
   "cell_type": "markdown",
   "metadata": {
    "deletable": false,
    "editable": false,
    "nbgrader": {
     "cell_type": "markdown",
     "checksum": "6b7e9a4ab776f5eec8985dedf9471fd9",
     "grade": false,
     "grade_id": "cell-413b8f32ff8d9fb2",
     "locked": true,
     "schema_version": 3,
     "solution": false,
     "task": false
    }
   },
   "source": [
    "The `min` and `max` functions take two (or more) arguments and return one result. \n",
    "\n",
    "If there are several arguments they have to be separated by commas. "
   ]
  },
  {
   "cell_type": "code",
   "execution_count": null,
   "metadata": {
    "ExecuteTime": {
     "end_time": "2019-02-01T21:17:52.095678Z",
     "start_time": "2019-02-01T21:17:52.090678Z"
    },
    "deletable": false,
    "editable": false,
    "nbgrader": {
     "cell_type": "code",
     "checksum": "908639212787997ee70987d426847f3b",
     "grade": false,
     "grade_id": "cell-e26a08a1cf7f8571",
     "locked": true,
     "schema_version": 3,
     "solution": false,
     "task": false
    }
   },
   "outputs": [],
   "source": [
    "max(-3, 5)"
   ]
  },
  {
   "cell_type": "code",
   "execution_count": null,
   "metadata": {
    "ExecuteTime": {
     "end_time": "2019-02-01T21:17:52.095678Z",
     "start_time": "2019-02-01T21:17:52.090678Z"
    },
    "deletable": false,
    "editable": false,
    "nbgrader": {
     "cell_type": "code",
     "checksum": "4384c3354c01977f899138d3dc02b8f8",
     "grade": false,
     "grade_id": "cell-8a33ffb04d67f30d",
     "locked": true,
     "schema_version": 3,
     "solution": false,
     "task": false
    }
   },
   "outputs": [],
   "source": [
    "min(-3, 5, 0, -10)"
   ]
  },
  {
   "cell_type": "markdown",
   "metadata": {
    "deletable": false,
    "editable": false,
    "nbgrader": {
     "cell_type": "markdown",
     "checksum": "30be25a6ba8d6100a97308cbfab45330",
     "grade": false,
     "grade_id": "cell-dca7af2b2ac2ec9f",
     "locked": true,
     "schema_version": 3,
     "solution": false,
     "task": false
    }
   },
   "source": [
    "## Returned values\n",
    "\n",
    "Some functions like `sqrt()` **return** a value that can be used, others just perform a function but do not give anything back, such as the `print()` function, which only prints to the screen but does not return a value: "
   ]
  },
  {
   "cell_type": "code",
   "execution_count": null,
   "metadata": {
    "deletable": false,
    "editable": false,
    "nbgrader": {
     "cell_type": "code",
     "checksum": "b430f66b593b28679023709b6f5f5fe2",
     "grade": false,
     "grade_id": "cell-4833fb875a9a0d5e",
     "locked": true,
     "schema_version": 3,
     "solution": false,
     "task": false
    }
   },
   "outputs": [],
   "source": [
    "from math import sqrt\n",
    "a = sqrt(2)\n",
    "print(a)"
   ]
  },
  {
   "cell_type": "code",
   "execution_count": null,
   "metadata": {
    "deletable": false,
    "editable": false,
    "nbgrader": {
     "cell_type": "code",
     "checksum": "90ddc434516f0e2c99305c1a0e6420c6",
     "grade": false,
     "grade_id": "cell-b16bc76aa5cff319",
     "locked": true,
     "schema_version": 3,
     "solution": false,
     "task": false
    }
   },
   "outputs": [],
   "source": [
    "print(42)\n",
    "b = print(42)"
   ]
  },
  {
   "cell_type": "code",
   "execution_count": null,
   "metadata": {
    "deletable": false,
    "editable": false,
    "nbgrader": {
     "cell_type": "code",
     "checksum": "7edae9890fca09d9a057e91b808997ee",
     "grade": false,
     "grade_id": "cell-447e5def4946473d",
     "locked": true,
     "schema_version": 3,
     "solution": false,
     "task": false
    }
   },
   "outputs": [],
   "source": [
    "print(b)"
   ]
  },
  {
   "cell_type": "markdown",
   "metadata": {
    "deletable": false,
    "editable": false,
    "nbgrader": {
     "cell_type": "markdown",
     "checksum": "39fd48bd2f9d6fe7dadba927d4fc932b",
     "grade": false,
     "grade_id": "cell-92d0e5be9992c316",
     "locked": true,
     "schema_version": 3,
     "solution": false,
     "task": false
    }
   },
   "source": [
    "* A special value of `None` was returned to the variable `b`."
   ]
  },
  {
   "cell_type": "markdown",
   "metadata": {
    "deletable": false,
    "editable": false,
    "nbgrader": {
     "cell_type": "markdown",
     "checksum": "b1a3f511fd21627bab73f805abbc5f55",
     "grade": false,
     "grade_id": "cell-c51b8999652e263d",
     "locked": true,
     "schema_version": 3,
     "solution": false,
     "task": false
    }
   },
   "source": [
    "Another very useful built-in function is the help function.  \n",
    "The help\n",
    "function takes a single argument and \n",
    "prints useful information about the\n",
    "thing passed on as the input argument.  \n",
    "We can use this get information about\n",
    "what a function does and how to use it."
   ]
  },
  {
   "cell_type": "code",
   "execution_count": null,
   "metadata": {
    "ExecuteTime": {
     "end_time": "2019-02-01T21:17:52.605492Z",
     "start_time": "2019-02-01T21:17:52.601492Z"
    },
    "deletable": false,
    "editable": false,
    "nbgrader": {
     "cell_type": "code",
     "checksum": "1dba54cb6f7b26cbeb3c71715f487a33",
     "grade": false,
     "grade_id": "cell-48e098df51145b16",
     "locked": true,
     "schema_version": 3,
     "solution": false,
     "task": false
    }
   },
   "outputs": [],
   "source": [
    "help(abs)"
   ]
  },
  {
   "cell_type": "markdown",
   "metadata": {
    "deletable": false,
    "editable": false,
    "nbgrader": {
     "cell_type": "markdown",
     "checksum": "b8751416afc84d065f81b55f861e7ab7",
     "grade": false,
     "grade_id": "cell-b103957255d8a228",
     "locked": true,
     "schema_version": 3,
     "solution": false,
     "task": false
    }
   },
   "source": [
    "### Imported Functions\n",
    "\n",
    "In the previous section we saw that to access certain objects (constants or functions),\n",
    "we have to load a library first. "
   ]
  },
  {
   "cell_type": "code",
   "execution_count": null,
   "metadata": {
    "ExecuteTime": {
     "end_time": "2019-02-01T21:17:52.915725Z",
     "start_time": "2019-02-01T21:17:52.905723Z"
    },
    "deletable": false,
    "editable": false,
    "nbgrader": {
     "cell_type": "code",
     "checksum": "4dba1a0728838eb8f79bccd116695890",
     "grade": false,
     "grade_id": "cell-63439d5bed6b2f8f",
     "locked": true,
     "schema_version": 3,
     "solution": false,
     "task": false
    }
   },
   "outputs": [],
   "source": [
    "import math\n",
    "\n",
    "print(math.exp(1))"
   ]
  },
  {
   "cell_type": "code",
   "execution_count": null,
   "metadata": {
    "ExecuteTime": {
     "end_time": "2019-02-01T21:17:52.915725Z",
     "start_time": "2019-02-01T21:17:52.905723Z"
    },
    "deletable": false,
    "editable": false,
    "nbgrader": {
     "cell_type": "code",
     "checksum": "c23898758151a6985831f26d5deaa236",
     "grade": false,
     "grade_id": "cell-e75a748311dcf8e1",
     "locked": true,
     "schema_version": 3,
     "solution": false,
     "task": false
    }
   },
   "outputs": [],
   "source": [
    "from math import sqrt, sin, pi\n",
    "\n",
    "print(sqrt(36))\n",
    "print(sin(pi/2))"
   ]
  },
  {
   "cell_type": "code",
   "execution_count": null,
   "metadata": {
    "ExecuteTime": {
     "end_time": "2019-02-01T21:17:52.915725Z",
     "start_time": "2019-02-01T21:17:52.905723Z"
    },
    "deletable": false,
    "editable": false,
    "nbgrader": {
     "cell_type": "code",
     "checksum": "1c938edb4a06e31a1b8319f32186cd60",
     "grade": false,
     "grade_id": "cell-cc95843a63a4e16e",
     "locked": true,
     "schema_version": 3,
     "solution": false,
     "task": false
    }
   },
   "outputs": [],
   "source": [
    "x = 2\n",
    "print(\n",
    "    math.log(math.exp(x)), \n",
    "    math.exp(math.log(x))\n",
    ")"
   ]
  },
  {
   "cell_type": "markdown",
   "metadata": {
    "deletable": false,
    "editable": false,
    "nbgrader": {
     "cell_type": "markdown",
     "checksum": "5f5b186624027976ccf4815504911685",
     "grade": false,
     "grade_id": "cell-afb78cdcc1b3b18d",
     "locked": true,
     "schema_version": 3,
     "solution": false,
     "task": false
    }
   },
   "source": [
    "The mathematical functions in the `math` module always work with\n",
    "floating point numbers. This means that integers will be converted to\n",
    "floating point numbers first. The expression `math.sqrt(36)` will return\n",
    "the floating point number `6.0` even though the result could be\n",
    "represented by an integer.\n",
    "\n",
    "The `help` function can also be applied to modules. This will result in\n",
    "a list of all the functions and constants contained in that module,\n",
    "together with their documentation. This information can also be found in\n",
    "the Python documentation, but it is often convenient to have it\n",
    "available directly. \n",
    "\n",
    "* Try this for the `math` module by printing `help(math)`.\n",
    "\n",
    "The built-in function `dir` allows us to get just a list of names of\n",
    "functions and constants for a module."
   ]
  },
  {
   "cell_type": "code",
   "execution_count": null,
   "metadata": {
    "ExecuteTime": {
     "end_time": "2019-02-01T21:17:53.200662Z",
     "start_time": "2019-02-01T21:17:53.194659Z"
    },
    "deletable": false,
    "editable": false,
    "nbgrader": {
     "cell_type": "code",
     "checksum": "98b786ee42dfb065a39a1b0114c08ee8",
     "grade": false,
     "grade_id": "cell-cfde36a6d611c1b7",
     "locked": true,
     "schema_version": 3,
     "solution": false,
     "task": false
    }
   },
   "outputs": [],
   "source": [
    "import math\n",
    "\n",
    "print(dir(math))"
   ]
  },
  {
   "cell_type": "markdown",
   "metadata": {
    "deletable": false,
    "editable": false,
    "nbgrader": {
     "cell_type": "markdown",
     "checksum": "025f3580db5ae5e7d5e2776edb5b3d33",
     "grade": false,
     "grade_id": "cell-71b1db25c3cbab27",
     "locked": true,
     "schema_version": 3,
     "solution": false,
     "task": false
    }
   },
   "source": [
    "## Defining Functions \n",
    "\n",
    "We can define our own functions using the `def` keyword."
   ]
  },
  {
   "cell_type": "code",
   "execution_count": null,
   "metadata": {
    "ExecuteTime": {
     "end_time": "2019-02-01T21:17:53.5214Z",
     "start_time": "2019-02-01T21:17:53.516396Z"
    },
    "deletable": false,
    "editable": false,
    "nbgrader": {
     "cell_type": "code",
     "checksum": "cc65c2fe9da0badc6a8a54ab52c51456",
     "grade": false,
     "grade_id": "cell-0c9e44660f29a689",
     "locked": true,
     "schema_version": 3,
     "solution": false,
     "task": false
    }
   },
   "outputs": [],
   "source": [
    "def sq(x):\n",
    "    return x**2"
   ]
  },
  {
   "cell_type": "markdown",
   "metadata": {
    "deletable": false,
    "editable": false,
    "nbgrader": {
     "cell_type": "markdown",
     "checksum": "d7e47fcedc51d2711ff22efb20f6c54c",
     "grade": false,
     "grade_id": "cell-359900834fe68e96",
     "locked": true,
     "schema_version": 3,
     "solution": false,
     "task": false
    }
   },
   "source": [
    "* A function definition starts with the keyword `def`, \n",
    "* then comes the name of the function and a set of brackets, \n",
    "    * The names of functions and parameters have to follow the same rules as\n",
    "the names of variables  \n",
    "(letters, numbers and underscores, no numbers or\n",
    "underscores at the start).\n",
    "* inside the brackets put any parameters that are to be used in the function\n",
    "    * multiple parameters are separated by commas.\n",
    "* a colon must follow the brackets\n",
    "* After the colon, starting on the next line, we can have one or more lines of code that make up the function.\n",
    "    * anything the function does must be *indented* by the same number of spaces (conventionally 4)\n",
    "    * the contents of the function are known as a ***\"code block\"*** (see below).\n",
    "    * Anything indented will be run together when the function is used, but nothing afterwards.\n",
    "    \n",
    "Once a function is defined, it can be called in exactly the same way as\n",
    "a built-in function.  \n",
    "The **`return`** line says what the output of the function will be.  \n",
    "* The **returned** output value can then be used as a variable or printed."
   ]
  },
  {
   "cell_type": "code",
   "execution_count": null,
   "metadata": {
    "ExecuteTime": {
     "end_time": "2019-02-01T21:17:53.822659Z",
     "start_time": "2019-02-01T21:17:53.817655Z"
    },
    "deletable": false,
    "editable": false,
    "nbgrader": {
     "cell_type": "code",
     "checksum": "af919b324d0490968bbcad95d37e9716",
     "grade": false,
     "grade_id": "cell-92eecfd9fe04779b",
     "locked": true,
     "schema_version": 3,
     "solution": false,
     "task": false
    }
   },
   "outputs": [],
   "source": [
    "def sq(x):\n",
    "    return x**2\n",
    "\n",
    "print(sq(2))"
   ]
  },
  {
   "cell_type": "code",
   "execution_count": null,
   "metadata": {
    "ExecuteTime": {
     "end_time": "2019-02-01T21:17:53.822659Z",
     "start_time": "2019-02-01T21:17:53.817655Z"
    },
    "deletable": false,
    "editable": false,
    "nbgrader": {
     "cell_type": "code",
     "checksum": "1a9330df9205535c27247a0d2683b9bb",
     "grade": false,
     "grade_id": "cell-b2b121f96b308d32",
     "locked": true,
     "schema_version": 3,
     "solution": false,
     "task": false
    }
   },
   "outputs": [],
   "source": [
    "u = 3.5\n",
    "v = sq(u+0.5) - 1.0\n",
    "print(v)"
   ]
  },
  {
   "cell_type": "markdown",
   "metadata": {
    "deletable": false,
    "editable": false,
    "nbgrader": {
     "cell_type": "markdown",
     "checksum": "b910e996b9c2b87a7c985f852b7b8f04",
     "grade": false,
     "grade_id": "cell-ac92be455b903a7d",
     "locked": true,
     "schema_version": 3,
     "solution": false,
     "task": false
    }
   },
   "source": [
    "### Exercise: \n",
    "\n",
    "Define the function $f(x) = \\dfrac{x^2}{3 + x}$. \n",
    "\n",
    "* Determine the quantities $f(0)$, $f(-1)$ and $f(1/3)$.\n",
    "\n",
    "The structure of the code will be like this:\n",
    "```python\n",
    "#define function name and arguments here\n",
    "def SOME_FUNCTION_NAME( INPUT_ARGUMENT_VARIABLE_NAME_TO_USE_IN_FUNCTION )\n",
    "    #indented code for what to return to outside programme\n",
    "    return OUTPUT_VALUE_TO_RETURN_TO_MAIN_PROGRAMME\n",
    "```"
   ]
  },
  {
   "cell_type": "code",
   "execution_count": null,
   "metadata": {
    "deletable": false,
    "nbgrader": {
     "cell_type": "code",
     "checksum": "f11ded40d82a98870384f86607a4f9ef",
     "grade": true,
     "grade_id": "cell-662a9eea04450fb0",
     "locked": false,
     "points": 0,
     "schema_version": 3,
     "solution": true,
     "task": false
    }
   },
   "outputs": [],
   "source": [
    "# YOUR CODE HERE\n",
    "\n",
    "\n",
    "print(f(0)) \n",
    "\n",
    "# perform other tests:\n",
    "# YOUR CODE HERE"
   ]
  },
  {
   "cell_type": "markdown",
   "metadata": {
    "deletable": false,
    "editable": false,
    "nbgrader": {
     "cell_type": "markdown",
     "checksum": "07a83ac08f5cbc511f39c691f091916b",
     "grade": false,
     "grade_id": "cell-3d6439efecf7c2c8",
     "locked": true,
     "schema_version": 3,
     "solution": false,
     "task": false
    }
   },
   "source": [
    "Result: \n",
    "```\n",
    "0.0 \n",
    "0.5 0.03333333333333333\n",
    "```\n",
    "\n",
    "[Click for Solution](solutions/sol0301.ipynb)"
   ]
  },
  {
   "cell_type": "markdown",
   "metadata": {
    "deletable": false,
    "editable": false,
    "nbgrader": {
     "cell_type": "markdown",
     "checksum": "6c758dedf42e2b22731f4a0cb19e442b",
     "grade": false,
     "grade_id": "cell-26ec3c686e43ead8",
     "locked": true,
     "schema_version": 3,
     "solution": false,
     "task": false
    }
   },
   "source": [
    "### Indentation of Code Blocks\n",
    "\n",
    "The code run by the function must be *indented* by the same number of spaces.  \n",
    "This tells Python what is part of the function and what is outside it.  \n",
    "We can run many commands inside a function, including printing to the screen, rather than returning a value to be printed or used in a variable.\n",
    "\n",
    "```python\n",
    "def FUNCTION_NAME(ARGUMENTS):\n",
    "    #<-four spaces indented line, \n",
    "    # any code run by the function\n",
    "    # when it is used \n",
    "    # needs to be in this indented block\n",
    "    # anything outside the function\n",
    "    # goes back to normal alignment\n",
    "    return RETURNED_VALUE\n",
    "    #anything after the return action is ignored...\n",
    "\n",
    "```"
   ]
  },
  {
   "cell_type": "code",
   "execution_count": null,
   "metadata": {
    "ExecuteTime": {
     "end_time": "2019-02-01T21:17:54.129663Z",
     "start_time": "2019-02-01T21:17:54.122658Z"
    },
    "deletable": false,
    "editable": false,
    "nbgrader": {
     "cell_type": "code",
     "checksum": "b66154b853a4c008a0bc23243df6d70f",
     "grade": false,
     "grade_id": "cell-2213fad603dab90a",
     "locked": true,
     "schema_version": 3,
     "solution": false,
     "task": false
    }
   },
   "outputs": [],
   "source": [
    "def do_things(a_number):\n",
    "    print(\"Your number is %.2f to 2DP\" % a_number)\n",
    "    print(\"Squared it is:\", a_number**2)\n",
    "    asqrt = a_number**0.5\n",
    "    print(\"The square root of \" + str(a_number) + \" has been returned\")\n",
    "    return asqrt\n",
    "    print(\"This does nothing because a return statement terminates the function!\")\n",
    "\n",
    "print(\"This is not inside the function!\")"
   ]
  },
  {
   "cell_type": "code",
   "execution_count": null,
   "metadata": {
    "ExecuteTime": {
     "end_time": "2019-02-01T21:17:54.129663Z",
     "start_time": "2019-02-01T21:17:54.122658Z"
    },
    "deletable": false,
    "editable": false,
    "nbgrader": {
     "cell_type": "code",
     "checksum": "f55ade73c9076027f888cc95fa622bc1",
     "grade": false,
     "grade_id": "cell-dba16370b641041a",
     "locked": true,
     "schema_version": 3,
     "solution": false,
     "task": false
    }
   },
   "outputs": [],
   "source": [
    "x = 5.499025\n",
    "y = do_things(x)\n",
    "print(\"This is after the function finishes!\")"
   ]
  },
  {
   "cell_type": "markdown",
   "metadata": {
    "deletable": false,
    "editable": false,
    "nbgrader": {
     "cell_type": "markdown",
     "checksum": "e272a6c2c95d0e1f494d72cd7d3fc34e",
     "grade": false,
     "grade_id": "cell-88c0a7248fa2b2e7",
     "locked": true,
     "schema_version": 3,
     "solution": false,
     "task": false
    }
   },
   "source": [
    "* Notice: the last `print()` in the `do_things()` function is ignored because a function **ends** on a `return` statement!"
   ]
  },
  {
   "cell_type": "code",
   "execution_count": null,
   "metadata": {
    "ExecuteTime": {
     "end_time": "2019-02-01T21:17:54.129663Z",
     "start_time": "2019-02-01T21:17:54.122658Z"
    },
    "deletable": false,
    "editable": false,
    "nbgrader": {
     "cell_type": "code",
     "checksum": "bfeeb85be5851ce8baf3f993d334b940",
     "grade": false,
     "grade_id": "cell-1d90175fcb46f10b",
     "locked": true,
     "schema_version": 3,
     "solution": false,
     "task": false
    }
   },
   "outputs": [],
   "source": [
    "print(y)"
   ]
  },
  {
   "cell_type": "markdown",
   "metadata": {
    "deletable": false,
    "editable": false,
    "nbgrader": {
     "cell_type": "markdown",
     "checksum": "b3eefa3aac94abe17fe30fb7a142dd35",
     "grade": false,
     "grade_id": "cell-f0b04ab333381377",
     "locked": true,
     "schema_version": 3,
     "solution": false,
     "task": false
    }
   },
   "source": [
    "Note: When a function is used any arguments needed must be given in the brackets.  \n",
    "Also the name of the argument in the function definition `a_number` and that given as an argument when applying the function `x` are **unrelated**."
   ]
  },
  {
   "cell_type": "markdown",
   "metadata": {
    "deletable": false,
    "editable": false,
    "nbgrader": {
     "cell_type": "markdown",
     "checksum": "8acf6d73f5bcbc4515985cb14ac4a356",
     "grade": false,
     "grade_id": "cell-7b4069a3cf66bddc",
     "locked": true,
     "schema_version": 3,
     "solution": false,
     "task": false
    }
   },
   "source": [
    "### Exercise:  Truncate Decimal Places\n",
    "\n",
    "Write a function `trunc5dp` that truncates a number after the fifth decimal place. For example, `trunc5dp(4321.1234567) = 4321.12345`. \n",
    "\n",
    "The steps (algorithm) for doing this are:\n",
    "1. Multiply by $10^5$ (either written `100000` or `1e5`), - e.g. $4321.1234567$ becomes $432112345.67$\n",
    "2. use the `int()` function to remove trailing decimals, - e.g. $432112345.67$ becomes $432112345$\n",
    "3. divide by $10^5$. - e.g. $432112345$ becomes $4321.12345$\n",
    "\n",
    "the structure of the function is like this:\n",
    "```python\n",
    "#function name definition, with 1 argument\n",
    "    # indented code block\n",
    "    # using algorithm\n",
    "    # steps goes here\n",
    "    # return the answer\n",
    "```"
   ]
  },
  {
   "cell_type": "code",
   "execution_count": null,
   "metadata": {
    "deletable": false,
    "nbgrader": {
     "cell_type": "code",
     "checksum": "07b42c91e6dd65347245cdfb67a5c60e",
     "grade": true,
     "grade_id": "cell-5e9e14c61635cb08",
     "locked": false,
     "points": 0,
     "schema_version": 3,
     "solution": true,
     "task": false
    }
   },
   "outputs": [],
   "source": [
    "# YOUR CODE HERE\n",
    "    \n",
    "ans = trunc5dp(4321.1234567)\n",
    "print(ans)"
   ]
  },
  {
   "cell_type": "markdown",
   "metadata": {
    "deletable": false,
    "editable": false,
    "nbgrader": {
     "cell_type": "markdown",
     "checksum": "4f77adcb1ea499ad7a423656f2d51e27",
     "grade": false,
     "grade_id": "cell-8546f9ba73a0f05e",
     "locked": true,
     "schema_version": 3,
     "solution": false,
     "task": false
    }
   },
   "source": [
    "Expected Result: `4321.12345`\n",
    "\n",
    "* Does your function do what you expect for negative numbers?"
   ]
  },
  {
   "cell_type": "code",
   "execution_count": null,
   "metadata": {
    "deletable": false,
    "editable": false,
    "nbgrader": {
     "cell_type": "code",
     "checksum": "01b6f891379814cbb849aa609597712d",
     "grade": false,
     "grade_id": "cell-79cb1fe647eb481e",
     "locked": true,
     "schema_version": 3,
     "solution": false,
     "task": false
    }
   },
   "outputs": [],
   "source": [
    "print(trunc5dp(-4321.1234567))  # truncates (round towards zero)"
   ]
  },
  {
   "cell_type": "markdown",
   "metadata": {
    "deletable": false,
    "editable": false,
    "nbgrader": {
     "cell_type": "markdown",
     "checksum": "994789de1b406f4a2f43deb031bbfff8",
     "grade": false,
     "grade_id": "cell-b6ea188351f7f182",
     "locked": true,
     "schema_version": 3,
     "solution": false,
     "task": false
    }
   },
   "source": [
    "Expected Result: `-4321.12345`\n",
    "\n",
    "[Click for Solution](solutions/sol0302.ipynb)"
   ]
  },
  {
   "cell_type": "markdown",
   "metadata": {
    "deletable": false,
    "editable": false,
    "nbgrader": {
     "cell_type": "markdown",
     "checksum": "3eb2e51f3d3495587062bee7db273b78",
     "grade": false,
     "grade_id": "cell-b52aecd3796a4054",
     "locked": true,
     "schema_version": 3,
     "solution": false,
     "task": false
    }
   },
   "source": [
    "### Naming arguments\n",
    "\n",
    "The names that you give parameters in the definition of the function are only used _inside_ the function.    \n",
    "They do not relate to the arguments and variable names in the main program."
   ]
  },
  {
   "cell_type": "code",
   "execution_count": null,
   "metadata": {
    "ExecuteTime": {
     "end_time": "2019-02-01T21:17:54.534662Z",
     "start_time": "2019-02-01T21:17:54.409666Z"
    },
    "deletable": false,
    "editable": false,
    "nbgrader": {
     "cell_type": "code",
     "checksum": "cf26e1cb77e386aa770ee830a61cd1a0",
     "grade": false,
     "grade_id": "cell-732ff13d05e6de7d",
     "locked": true,
     "schema_version": 3,
     "solution": false,
     "task": false
    }
   },
   "outputs": [],
   "source": [
    "def myfunc(temporary_variable_name):\n",
    "    answer = temporary_variable_name * 2\n",
    "    return answer\n",
    "\n",
    "\n",
    "x = 10\n",
    "\n",
    "# x will be renamed temporary_variable_name inside the function (and only there)\n",
    "y = myfunc(x)\n",
    "\n",
    "print(y)"
   ]
  },
  {
   "cell_type": "code",
   "execution_count": null,
   "metadata": {
    "ExecuteTime": {
     "end_time": "2019-02-01T21:17:54.534662Z",
     "start_time": "2019-02-01T21:17:54.409666Z"
    },
    "deletable": false,
    "editable": false,
    "nbgrader": {
     "cell_type": "code",
     "checksum": "0d4cc369c4b5d8989c81638ee5f51146",
     "grade": false,
     "grade_id": "cell-f9d003ecc8b29cd4",
     "locked": true,
     "schema_version": 3,
     "solution": false,
     "task": false
    }
   },
   "outputs": [],
   "source": [
    "print(temporary_variable_name)  # this will lead to an error"
   ]
  },
  {
   "cell_type": "code",
   "execution_count": null,
   "metadata": {
    "deletable": false,
    "editable": false,
    "nbgrader": {
     "cell_type": "code",
     "checksum": "05d2b413be42a935183cdd0d426f4055",
     "grade": false,
     "grade_id": "cell-d20171d8a490b4fd",
     "locked": true,
     "schema_version": 3,
     "solution": false,
     "task": false
    }
   },
   "outputs": [],
   "source": [
    "print(answer) #so will this"
   ]
  },
  {
   "cell_type": "markdown",
   "metadata": {
    "deletable": false,
    "editable": false,
    "nbgrader": {
     "cell_type": "markdown",
     "checksum": "af888b77f6c2ff92921904beb38c1df8",
     "grade": false,
     "grade_id": "cell-a7e1694c04b74098",
     "locked": true,
     "schema_version": 3,
     "solution": false,
     "task": false
    }
   },
   "source": [
    "* Think about this...\n",
    "\n",
    "Variable names used inside functions do not affect variables used in the rest of the program:"
   ]
  },
  {
   "cell_type": "code",
   "execution_count": null,
   "metadata": {
    "ExecuteTime": {
     "end_time": "2019-02-01T21:17:54.717664Z",
     "start_time": "2019-02-01T21:17:54.711657Z"
    },
    "deletable": false,
    "editable": false,
    "nbgrader": {
     "cell_type": "code",
     "checksum": "103696f5530fc8f77d7a5f9b136feb86",
     "grade": false,
     "grade_id": "cell-a7037e8bf1a8c6e6",
     "locked": true,
     "schema_version": 3,
     "solution": false,
     "task": false
    }
   },
   "outputs": [],
   "source": [
    "a = 1\n",
    "\n",
    "def root(a):\n",
    "    a = a**0.5 #this a is only a tempory name\n",
    "    return a\n",
    "\n",
    "b = 2\n",
    "\n",
    "print(root(b))\n",
    "print(a)"
   ]
  },
  {
   "cell_type": "markdown",
   "metadata": {
    "deletable": false,
    "editable": false,
    "nbgrader": {
     "cell_type": "markdown",
     "checksum": "81670330d60307129c61177822b2230e",
     "grade": false,
     "grade_id": "cell-0afb606fc8a20489",
     "locked": true,
     "schema_version": 3,
     "solution": false,
     "task": false
    }
   },
   "source": [
    "* Here `a` is a different thing *inside* to *outside* the function. **Make sure you are clear on this**.\n",
    "\n",
    "\n",
    "### Avoiding confusion with parameters that are not arguments\n",
    "\n",
    "Be careful using parameters that are not passed into the function as arguments, as this can cause confusion.\n",
    "* The following will cause an error when trying to apply (\"call\") the function **not at the time of defining it!**"
   ]
  },
  {
   "cell_type": "code",
   "execution_count": null,
   "metadata": {
    "deletable": false,
    "editable": false,
    "nbgrader": {
     "cell_type": "code",
     "checksum": "b66ef6e3d8dc5e7666b625010b6ddadd",
     "grade": false,
     "grade_id": "cell-22dbbc6cc40030e0",
     "locked": true,
     "schema_version": 3,
     "solution": false,
     "task": false
    }
   },
   "outputs": [],
   "source": [
    "def funky(ar):\n",
    "    ans = ar+bee\n",
    "    return ans\n",
    "\n",
    "print(\"Here!\")\n",
    "\n",
    "funky(20)"
   ]
  },
  {
   "cell_type": "markdown",
   "metadata": {
    "deletable": false,
    "editable": false,
    "nbgrader": {
     "cell_type": "markdown",
     "checksum": "e1de830b17cb2f812c01192de2dc544b",
     "grade": false,
     "grade_id": "cell-e3044e2c025eaa3c",
     "locked": true,
     "schema_version": 3,
     "solution": false,
     "task": false
    }
   },
   "source": [
    "### Understanding the error message:\n",
    "\n",
    "Note the first part of the error message that points to the origin of the problem on line 7:\n",
    "```python\n",
    "----> 7 funky(20)\n",
    "```\n",
    "which then traces the issue back to the function definition on line 2:\n",
    "```python\n",
    "<ipython-input-1-40d916a0d279> in funky(ar)\n",
    "      1 def funky(ar):\n",
    "----> 2     ans = ar+bee\n",
    "      3     return ans\n",
    "```\n",
    "before finally saying what was not understood by the Python interpreter:\n",
    "```python\n",
    "NameError: name 'bee' is not defined\n",
    "\n",
    "```\n",
    "\n",
    "### Avoiding the error\n",
    "\n",
    "Either pass all parameters into the function as arguments, or make sure they are definitely defined before the function is called:"
   ]
  },
  {
   "cell_type": "code",
   "execution_count": null,
   "metadata": {
    "deletable": false,
    "editable": false,
    "nbgrader": {
     "cell_type": "code",
     "checksum": "6f16c777c585df6dbf7a2aba8352e3bd",
     "grade": false,
     "grade_id": "cell-ba9160fe1824dbeb",
     "locked": true,
     "schema_version": 3,
     "solution": false,
     "task": false
    }
   },
   "outputs": [],
   "source": [
    "def funky(ar):\n",
    "    ans = ar+bee\n",
    "    return ans\n",
    "\n",
    "bee = 8222\n",
    "\n",
    "funky(778)"
   ]
  },
  {
   "cell_type": "markdown",
   "metadata": {
    "deletable": false,
    "editable": false,
    "nbgrader": {
     "cell_type": "markdown",
     "checksum": "74990419c62709fc68ba1a4f0dd25a35",
     "grade": false,
     "grade_id": "cell-aef579013519c2c7",
     "locked": true,
     "schema_version": 3,
     "solution": false,
     "task": false
    }
   },
   "source": [
    "### Exercise: Calculating Area\n",
    "\n",
    "* Complete the following program by writing a functions to calculate the area of a circle, given its radius ($a = \\pi r ^2$);\n",
    "\n",
    "```python\n",
    "## Instructions: your code should have this structure:\n",
    "\n",
    "# def circle_area(r):\n",
    "#     return ??\n",
    "```"
   ]
  },
  {
   "cell_type": "code",
   "execution_count": null,
   "metadata": {
    "deletable": false,
    "nbgrader": {
     "cell_type": "code",
     "checksum": "ba735dfc870df55601edc5096c76e6d5",
     "grade": true,
     "grade_id": "cell-f285cbf821a3cdac",
     "locked": false,
     "points": 0,
     "schema_version": 3,
     "solution": true,
     "task": false
    }
   },
   "outputs": [],
   "source": [
    "from math import pi\n",
    "\n",
    "# YOUR CODE HERE\n",
    "\n",
    "print(circle_area(2.0))"
   ]
  },
  {
   "cell_type": "markdown",
   "metadata": {
    "deletable": false,
    "editable": false,
    "nbgrader": {
     "cell_type": "markdown",
     "checksum": "6c0b2c022d88b2248578563e62872cdf",
     "grade": false,
     "grade_id": "cell-387c730ecbbd5db1",
     "locked": true,
     "schema_version": 3,
     "solution": false,
     "task": false
    }
   },
   "source": [
    "Expected Result: `12.566370614359172`\n",
    "\n",
    "[Click for Solution](solutions/sol0303.ipynb)"
   ]
  },
  {
   "cell_type": "markdown",
   "metadata": {
    "deletable": false,
    "editable": false,
    "nbgrader": {
     "cell_type": "markdown",
     "checksum": "9438c0dffeda45f7c7a3437f49a6dafe",
     "grade": false,
     "grade_id": "cell-45f259c21de4cd6f",
     "locked": true,
     "schema_version": 3,
     "solution": false,
     "task": false
    }
   },
   "source": [
    "### Example: No Parameters"
   ]
  },
  {
   "cell_type": "code",
   "execution_count": null,
   "metadata": {
    "ExecuteTime": {
     "end_time": "2019-02-01T21:17:55.871688Z",
     "start_time": "2019-02-01T21:17:55.865725Z"
    },
    "deletable": false,
    "editable": false,
    "nbgrader": {
     "cell_type": "code",
     "checksum": "af6424f4a7e960f48b8bf9005518b326",
     "grade": false,
     "grade_id": "cell-cb2ab57b43bae034",
     "locked": true,
     "schema_version": 3,
     "solution": false,
     "task": false
    }
   },
   "outputs": [],
   "source": [
    "def the_answer():\n",
    "    return 42\n",
    "\n",
    "\n",
    "ans = the_answer()\n",
    "print(ans)"
   ]
  },
  {
   "cell_type": "markdown",
   "metadata": {
    "deletable": false,
    "editable": false,
    "nbgrader": {
     "cell_type": "markdown",
     "checksum": "55234f80e3a14dc003da98394ab541b4",
     "grade": false,
     "grade_id": "cell-0c981cc3fc1cf893",
     "locked": true,
     "schema_version": 3,
     "solution": false,
     "task": false
    }
   },
   "source": [
    "### Example: Multiple Parameters"
   ]
  },
  {
   "cell_type": "code",
   "execution_count": null,
   "metadata": {
    "ExecuteTime": {
     "end_time": "2019-02-01T21:17:56.530081Z",
     "start_time": "2019-02-01T21:17:56.522082Z"
    },
    "deletable": false,
    "editable": false,
    "nbgrader": {
     "cell_type": "code",
     "checksum": "49c4cf88029785b15c4ceb2a219c9719",
     "grade": false,
     "grade_id": "cell-d00f56b1f72af215",
     "locked": true,
     "schema_version": 3,
     "solution": false,
     "task": false
    }
   },
   "outputs": [],
   "source": [
    "def quadratic_value(a, b, c, x):\n",
    "    \"Evaluate a quadratic polynomial a*x**2 + b*x + c\"\n",
    "    return a*x**2 + b*x + c\n",
    "\n",
    "\n",
    "help(quadratic_value)"
   ]
  },
  {
   "cell_type": "code",
   "execution_count": null,
   "metadata": {
    "ExecuteTime": {
     "end_time": "2019-02-01T21:17:56.530081Z",
     "start_time": "2019-02-01T21:17:56.522082Z"
    },
    "deletable": false,
    "editable": false,
    "nbgrader": {
     "cell_type": "code",
     "checksum": "bb75b43797a932646a2020a8ce39d09f",
     "grade": false,
     "grade_id": "cell-51647fac1a517c3c",
     "locked": true,
     "schema_version": 3,
     "solution": false,
     "task": false
    }
   },
   "outputs": [],
   "source": [
    "print(quadratic_value(2.0, 3.0, 4.0, 0.5))"
   ]
  },
  {
   "cell_type": "markdown",
   "metadata": {
    "deletable": false,
    "editable": false,
    "nbgrader": {
     "cell_type": "markdown",
     "checksum": "30f5bf6ba7dc97669c393f1e91b93b10",
     "grade": false,
     "grade_id": "cell-81aba8c7be29ae6d",
     "locked": true,
     "schema_version": 3,
     "solution": false,
     "task": false
    }
   },
   "source": [
    "If a function requires several parameters, we need to separate the\n",
    "parameter names by commas. \n",
    "\n",
    "* The example also shows the use of a *documentation string*, which can be useful for the user.\n",
    "* The `help` function will  print  the documentation string, as well as the name of the function and the\n",
    "function parameters."
   ]
  },
  {
   "cell_type": "markdown",
   "metadata": {
    "deletable": false,
    "editable": false,
    "nbgrader": {
     "cell_type": "markdown",
     "checksum": "fea2d63bb87aac3db520ccaaea8ac58c",
     "grade": false,
     "grade_id": "cell-9ddba0a1ea9bd254",
     "locked": true,
     "schema_version": 3,
     "solution": false,
     "task": false
    }
   },
   "source": [
    "### Local Variables\n",
    "\n",
    "Any variables that are assigned inside a function definition are called *local*\n",
    "variables, and **only exist *inside* the function**.  \n",
    "This means that any local variables that we use for intermediate calculations inside a function will not interfere\n",
    "with the variables in the rest of the program.\n",
    "\n",
    "#### Study and understand what is going on in the following example code blocks:"
   ]
  },
  {
   "cell_type": "code",
   "execution_count": null,
   "metadata": {
    "ExecuteTime": {
     "end_time": "2019-02-01T21:17:57.169757Z",
     "start_time": "2019-02-01T21:17:57.162226Z"
    },
    "deletable": false,
    "editable": false,
    "nbgrader": {
     "cell_type": "code",
     "checksum": "2f853a58605bd08b4fa509a05368c656",
     "grade": false,
     "grade_id": "cell-f5dc0689498618a4",
     "locked": true,
     "schema_version": 3,
     "solution": false,
     "task": false
    }
   },
   "outputs": [],
   "source": [
    "import math\n",
    "\n",
    "\n",
    "def ellipse(a, b):\n",
    "    ab = a*b\n",
    "    print(ab)\n",
    "    return math.pi*ab"
   ]
  },
  {
   "cell_type": "code",
   "execution_count": null,
   "metadata": {
    "ExecuteTime": {
     "end_time": "2019-02-01T21:17:57.169757Z",
     "start_time": "2019-02-01T21:17:57.162226Z"
    },
    "deletable": false,
    "editable": false,
    "nbgrader": {
     "cell_type": "code",
     "checksum": "43889850defd68c35f0464c28b32e202",
     "grade": false,
     "grade_id": "cell-d5ba90c85ac3df29",
     "locked": true,
     "schema_version": 3,
     "solution": false,
     "task": false
    }
   },
   "outputs": [],
   "source": [
    "ab = 4  # unrelated to local variable ab in ellipse\n",
    "print(ab)"
   ]
  },
  {
   "cell_type": "code",
   "execution_count": null,
   "metadata": {
    "ExecuteTime": {
     "end_time": "2019-02-01T21:17:57.169757Z",
     "start_time": "2019-02-01T21:17:57.162226Z"
    },
    "deletable": false,
    "editable": false,
    "nbgrader": {
     "cell_type": "code",
     "checksum": "3cc18ffc60fb2092ffcb288a75c04bbc",
     "grade": false,
     "grade_id": "cell-4b63f4be8f99ab51",
     "locked": true,
     "schema_version": 3,
     "solution": false,
     "task": false
    }
   },
   "outputs": [],
   "source": [
    "a = 2.0\n",
    "b = 3.0\n",
    "\n",
    "A = ellipse(a, b)"
   ]
  },
  {
   "cell_type": "markdown",
   "metadata": {
    "deletable": false,
    "editable": false,
    "nbgrader": {
     "cell_type": "markdown",
     "checksum": "bae6ae8d8dac6af34663f25c630b9ff2",
     "grade": false,
     "grade_id": "cell-822e7f870a058544",
     "locked": true,
     "schema_version": 3,
     "solution": false,
     "task": false
    }
   },
   "source": [
    "* Note: `ellipse()` *printed* the **internal** value of `ab` to the output, but ***returned*** te value of $\\pi a b$ to the variable `A`:"
   ]
  },
  {
   "cell_type": "code",
   "execution_count": null,
   "metadata": {
    "ExecuteTime": {
     "end_time": "2019-02-01T21:17:57.169757Z",
     "start_time": "2019-02-01T21:17:57.162226Z"
    },
    "deletable": false,
    "editable": false,
    "nbgrader": {
     "cell_type": "code",
     "checksum": "036b074afd7cf8289b514f0aacef6a50",
     "grade": false,
     "grade_id": "cell-be6f1aa26e34b65b",
     "locked": true,
     "schema_version": 3,
     "solution": false,
     "task": false
    }
   },
   "outputs": [],
   "source": [
    "print(A)\n",
    "\n",
    "#the value of ab defined outside the function remains unchanged!\n",
    "print(ab)"
   ]
  },
  {
   "cell_type": "markdown",
   "metadata": {
    "deletable": false,
    "editable": false,
    "nbgrader": {
     "cell_type": "markdown",
     "checksum": "8883acdf25267ecf0502095c7a8d5c0f",
     "grade": false,
     "grade_id": "cell-16f8c32aca788220",
     "locked": true,
     "schema_version": 3,
     "solution": false,
     "task": false
    }
   },
   "source": [
    "### Multiple Return Values \n",
    "\n",
    "A function can return several values, by separating\n",
    "the values by commas in the return statement. \n",
    "\n",
    "The following example shows a function that returns the two roots of the quadratic equation\n",
    "$a x^2 + b x + c = 0$. "
   ]
  },
  {
   "cell_type": "code",
   "execution_count": null,
   "metadata": {
    "ExecuteTime": {
     "end_time": "2019-02-01T21:17:58.127503Z",
     "start_time": "2019-02-01T21:17:58.121508Z"
    },
    "deletable": false,
    "editable": false,
    "nbgrader": {
     "cell_type": "code",
     "checksum": "b6627393f2fa292d96dd5471abc7a6cc",
     "grade": false,
     "grade_id": "cell-9657e364f563be37",
     "locked": true,
     "schema_version": 3,
     "solution": false,
     "task": false
    }
   },
   "outputs": [],
   "source": [
    "import math\n",
    "\n",
    "\n",
    "def quadratic(a, b, c):\n",
    "    \"return the roots of the quadratic equation a*x**2 + b*x + c = 0.\"\n",
    "    discriminant = b**2 - 4*a*c  # assumed to be positive\n",
    "    offset = math.sqrt(discriminant)\n",
    "    x1 = (-b + offset)/(2*a)\n",
    "    x2 = (-b - offset)/(2*a)\n",
    "    return x1, x2\n",
    "\n",
    "\n",
    "print(quadratic(4.0, 0.0, -16.0))"
   ]
  },
  {
   "cell_type": "markdown",
   "metadata": {
    "deletable": false,
    "editable": false,
    "nbgrader": {
     "cell_type": "markdown",
     "checksum": "d412a292bad3c0c0e6461d4506e3e410",
     "grade": false,
     "grade_id": "cell-61eda8eaa1ec1551",
     "locked": true,
     "schema_version": 3,
     "solution": false,
     "task": false
    }
   },
   "source": [
    "We can assign names to each of the return values using the following\n",
    "syntax:"
   ]
  },
  {
   "cell_type": "code",
   "execution_count": null,
   "metadata": {
    "ExecuteTime": {
     "end_time": "2019-02-01T21:17:58.495171Z",
     "start_time": "2019-02-01T21:17:58.490192Z"
    },
    "deletable": false,
    "editable": false,
    "nbgrader": {
     "cell_type": "code",
     "checksum": "512bf9c50bbefc4abe6ef96c2bc1dc02",
     "grade": false,
     "grade_id": "cell-0c86e32a06a940b5",
     "locked": true,
     "schema_version": 3,
     "solution": false,
     "task": false
    }
   },
   "outputs": [],
   "source": [
    "root1, root2 = quadratic(4.0, 0.0, -16.0)\n",
    "print(root1)\n",
    "print(root2)"
   ]
  },
  {
   "cell_type": "markdown",
   "metadata": {
    "deletable": false,
    "editable": false,
    "nbgrader": {
     "cell_type": "markdown",
     "checksum": "e5b4a7b2015bf29ae609d44fdfb6e67a",
     "grade": false,
     "grade_id": "cell-4738e8d00f2f65d9",
     "locked": true,
     "schema_version": 3,
     "solution": false,
     "task": false
    }
   },
   "source": [
    "* Note that the names of the local variables (`x1` and `x2`) do not have\n",
    "to be the same as the variables we use to name the results of the\n",
    "function (`root1`, `root2`)."
   ]
  },
  {
   "cell_type": "markdown",
   "metadata": {
    "deletable": false,
    "editable": false,
    "nbgrader": {
     "cell_type": "markdown",
     "checksum": "7182f8d3ea811616fcbcae99fd6606db",
     "grade": false,
     "grade_id": "cell-df0a55ca804164a9",
     "locked": true,
     "schema_version": 3,
     "solution": false,
     "task": false
    }
   },
   "source": [
    "### Exercise: Calculating perimeter and area of a square\n",
    "\n",
    "* Define a function to calculate the perimeter and area of a square, given the side length ($P = 4L$, $A=L^2$);"
   ]
  },
  {
   "cell_type": "code",
   "execution_count": null,
   "metadata": {
    "deletable": false,
    "nbgrader": {
     "cell_type": "code",
     "checksum": "972b02d2aa1b72dbbd064f54d6c8142c",
     "grade": true,
     "grade_id": "cell-418677059108b9c3",
     "locked": false,
     "points": 0,
     "schema_version": 3,
     "solution": true,
     "task": false
    }
   },
   "outputs": [],
   "source": [
    "# YOUR CODE HERE\n",
    "\n",
    "print(square_geometry(3))"
   ]
  },
  {
   "cell_type": "markdown",
   "metadata": {
    "deletable": false,
    "editable": false,
    "nbgrader": {
     "cell_type": "markdown",
     "checksum": "dfbe74afe5a01a4b53b4cb66e31f2589",
     "grade": false,
     "grade_id": "cell-874f87a9097d6db8",
     "locked": true,
     "schema_version": 3,
     "solution": false,
     "task": false
    }
   },
   "source": [
    "Expected Result: `(12, 9)`\n",
    "\n",
    "### The cell below will test the function you defined above on a (hidden) test case\n",
    "* Only works on the original cloud service in the main folder (not anywhere else!)"
   ]
  },
  {
   "cell_type": "code",
   "execution_count": null,
   "metadata": {
    "deletable": false,
    "editable": false,
    "nbgrader": {
     "cell_type": "code",
     "checksum": "981fe51ef1abf01a440120706b95d1c3",
     "grade": false,
     "grade_id": "cell-1edec9725b8b66cb",
     "locked": true,
     "schema_version": 3,
     "solution": false,
     "task": false
    }
   },
   "outputs": [],
   "source": [
    "# Run this block to test your function on a hidden test case!\n",
    "# this will only work running on the original cloud service...\n",
    "import sys\n",
    "sys.path.append('.checks')\n",
    "\n",
    "import check03\n",
    "\n",
    "check03.test0301(square_geometry)"
   ]
  },
  {
   "cell_type": "markdown",
   "metadata": {
    "deletable": false,
    "editable": false,
    "nbgrader": {
     "cell_type": "markdown",
     "checksum": "ef6b683adb20850974b1b191c101f6f1",
     "grade": false,
     "grade_id": "cell-109417fd915be661",
     "locked": true,
     "schema_version": 3,
     "solution": false,
     "task": false
    }
   },
   "source": [
    "[Click for Solution](solutions/sol0304.ipynb)"
   ]
  },
  {
   "cell_type": "markdown",
   "metadata": {
    "deletable": false,
    "editable": false,
    "nbgrader": {
     "cell_type": "markdown",
     "checksum": "b6459cf9d2c89f1b53bc9c19cdb1351b",
     "grade": false,
     "grade_id": "cell-9a4747979ca27127",
     "locked": true,
     "schema_version": 3,
     "solution": false,
     "task": false
    }
   },
   "source": [
    "### Exercise: Calculating Perimeter and Area of a rectangle\n",
    "\n",
    "* Write a function to return the perimeter and area of a rectangle, given the width and height ($P=2W + 2H$, $A=W\\times H$). \n",
    "* test your function with $W=3$ and $H=4$"
   ]
  },
  {
   "cell_type": "code",
   "execution_count": null,
   "metadata": {
    "deletable": false,
    "nbgrader": {
     "cell_type": "code",
     "checksum": "fc326cbf4a0dbe27ca327171ddc05b8f",
     "grade": true,
     "grade_id": "cell-21b3d577c9edfdfb",
     "locked": false,
     "points": 0,
     "schema_version": 3,
     "solution": true,
     "task": false
    }
   },
   "outputs": [],
   "source": [
    "# YOUR CODE HERE\n",
    "\n",
    "#set W and H here\n",
    "\n",
    "perimeter, area = rectangle_geometry(width, height)\n",
    "print(perimeter)\n",
    "print(area)"
   ]
  },
  {
   "cell_type": "markdown",
   "metadata": {
    "deletable": false,
    "editable": false,
    "nbgrader": {
     "cell_type": "markdown",
     "checksum": "a9fa60d2a99405b0d5edf75550172df8",
     "grade": false,
     "grade_id": "cell-953d5415c782b53f",
     "locked": true,
     "schema_version": 3,
     "solution": false,
     "task": false
    }
   },
   "source": [
    "Expected Result: \n",
    "```\n",
    "14\n",
    "12\n",
    "```"
   ]
  },
  {
   "cell_type": "code",
   "execution_count": null,
   "metadata": {
    "deletable": false,
    "editable": false,
    "nbgrader": {
     "cell_type": "code",
     "checksum": "b0a27335aa7878831a28a2f10bb8d156",
     "grade": false,
     "grade_id": "cell-fd8f7fd7df1b6ea4",
     "locked": true,
     "schema_version": 3,
     "solution": false,
     "task": false
    }
   },
   "outputs": [],
   "source": [
    "# Run this block to test your function on a hidden test case!\n",
    "# this will only work running on the original cloud service\n",
    "import sys\n",
    "sys.path.append('.checks')\n",
    "\n",
    "import check03\n",
    "check03.test0302(rectangle_geometry)"
   ]
  },
  {
   "cell_type": "markdown",
   "metadata": {
    "deletable": false,
    "editable": false,
    "nbgrader": {
     "cell_type": "markdown",
     "checksum": "b32032258203dfe35786d472ee40c360",
     "grade": false,
     "grade_id": "cell-e4557d8277c88539",
     "locked": true,
     "schema_version": 3,
     "solution": false,
     "task": false
    }
   },
   "source": [
    "[Click for Solution](solutions/sol0305.ipynb)\n",
    "\n",
    "\n",
    "### No Return Values\n",
    "\n",
    "It is possible to define functions that do not return any values at all.\n",
    "These are used to perform tasks such as printing, reading or writing files, accessing the internet, or plotting graphs."
   ]
  },
  {
   "cell_type": "code",
   "execution_count": null,
   "metadata": {
    "ExecuteTime": {
     "end_time": "2019-02-01T21:17:59.629599Z",
     "start_time": "2019-02-01T21:17:59.625609Z"
    },
    "deletable": false,
    "editable": false,
    "nbgrader": {
     "cell_type": "code",
     "checksum": "3f34e963d0a3195410e124e7cad24fa9",
     "grade": false,
     "grade_id": "cell-b33b980eedba38fa",
     "locked": true,
     "schema_version": 3,
     "solution": false,
     "task": false
    }
   },
   "outputs": [],
   "source": [
    "def hello():\n",
    "    print(\"Hello World!\")\n",
    "\n",
    "\n",
    "hello()"
   ]
  },
  {
   "cell_type": "markdown",
   "metadata": {
    "deletable": false,
    "editable": false,
    "nbgrader": {
     "cell_type": "markdown",
     "checksum": "c2cbec08a76602e29295dc7548abd2c3",
     "grade": false,
     "grade_id": "cell-98e802dd7dc485cb",
     "locked": true,
     "schema_version": 3,
     "solution": false,
     "task": false
    }
   },
   "source": [
    "The function does not contain a `return` statement and\n",
    "therefore the function does not return a value, just a special value\n",
    "`None`."
   ]
  },
  {
   "cell_type": "code",
   "execution_count": null,
   "metadata": {
    "ExecuteTime": {
     "end_time": "2019-02-01T21:18:00.032075Z",
     "start_time": "2019-02-01T21:18:00.027075Z"
    },
    "deletable": false,
    "editable": false,
    "nbgrader": {
     "cell_type": "code",
     "checksum": "9545dc52a5f7c5637ef34434ad9331ee",
     "grade": false,
     "grade_id": "cell-45531bbebfb53953",
     "locked": true,
     "schema_version": 3,
     "solution": false,
     "task": false
    }
   },
   "outputs": [],
   "source": [
    "greeting = hello()  # the action of printing will still be performed\n",
    "\n",
    "print(greeting)"
   ]
  },
  {
   "cell_type": "markdown",
   "metadata": {
    "deletable": false,
    "editable": false,
    "nbgrader": {
     "cell_type": "markdown",
     "checksum": "ac313b4c8eb5c4d7bbe0fed6f9a6d0c7",
     "grade": false,
     "grade_id": "cell-acf8f2161a3e5fab",
     "locked": true,
     "schema_version": 3,
     "solution": false,
     "task": false
    }
   },
   "source": [
    "### Optional Arguments and Keyword Arguments \n",
    "\n",
    "Sometimes arguments can be given default values using an equals sign. \n",
    "\n",
    "If that argument is not entered when applying the function it takes the default value."
   ]
  },
  {
   "cell_type": "code",
   "execution_count": null,
   "metadata": {
    "ExecuteTime": {
     "end_time": "2019-02-01T21:18:00.768454Z",
     "start_time": "2019-02-01T21:18:00.761489Z"
    },
    "deletable": false,
    "editable": false,
    "nbgrader": {
     "cell_type": "code",
     "checksum": "c3638a74f8e3cca8a80093963124096b",
     "grade": false,
     "grade_id": "cell-54d3d7a1b30953dd",
     "locked": true,
     "schema_version": 3,
     "solution": false,
     "task": false
    }
   },
   "outputs": [],
   "source": [
    "def raisepower(base, exponent=2):\n",
    "    return base**exponent\n",
    "\n",
    "\n",
    "print(raisepower(10))\n",
    "print(raisepower(10, 5))\n",
    "print(raisepower(2, exponent=10))"
   ]
  },
  {
   "cell_type": "markdown",
   "metadata": {
    "deletable": false,
    "editable": false,
    "nbgrader": {
     "cell_type": "markdown",
     "checksum": "9bb43fb6f40ba540652d4fc7ee276c2e",
     "grade": false,
     "grade_id": "cell-3efd5912b75772b3",
     "locked": true,
     "schema_version": 3,
     "solution": false,
     "task": false
    }
   },
   "source": [
    "* Keyword arguments must appear **after** compulsory arguments that do not have default values. \n",
    "* If there are more than 3 or 4 arguments it is a good idea to have them as optional keyword arguments with default values.\n",
    "\n",
    "### Functions names as arguments \n",
    "\n",
    "Functions can also be used as input parameters (arguments) in Python. "
   ]
  },
  {
   "cell_type": "code",
   "execution_count": null,
   "metadata": {
    "ExecuteTime": {
     "end_time": "2019-02-01T21:18:01.39234Z",
     "start_time": "2019-02-01T21:18:01.385348Z"
    },
    "deletable": false,
    "editable": false,
    "nbgrader": {
     "cell_type": "code",
     "checksum": "16d64967d2b2842eac3eb7c3cf9a6230",
     "grade": false,
     "grade_id": "cell-f31b1a5c7ba08745",
     "locked": true,
     "schema_version": 3,
     "solution": false,
     "task": false
    }
   },
   "outputs": [],
   "source": [
    "from math import cos, sin, tan\n",
    "\n",
    "\n",
    "def f_zero_ten(InputFunction):\n",
    "    print(InputFunction(0.0), InputFunction(10.0))\n",
    "\n",
    "\n",
    "f_zero_ten(cos)\n",
    "f_zero_ten(sin)\n",
    "f_zero_ten(tan)"
   ]
  },
  {
   "cell_type": "markdown",
   "metadata": {
    "deletable": false,
    "editable": false,
    "nbgrader": {
     "cell_type": "markdown",
     "checksum": "d4e969b43edbcb378e875e38224a4d14",
     "grade": false,
     "grade_id": "cell-9ec6861ba983c000",
     "locked": true,
     "schema_version": 3,
     "solution": false,
     "task": false
    }
   },
   "source": [
    "**Note:** the function name is passed _**without** parentheses_ `( )`\n",
    "* if you input  a function with arguments e.g. `cos(0)` then only the numerical **value** returned by $\\cos(0)=1$ is seen by the function."
   ]
  },
  {
   "cell_type": "code",
   "execution_count": null,
   "metadata": {
    "ExecuteTime": {
     "end_time": "2019-02-01T21:18:01.39234Z",
     "start_time": "2019-02-01T21:18:01.385348Z"
    },
    "deletable": false,
    "editable": false,
    "nbgrader": {
     "cell_type": "code",
     "checksum": "34f2610ba7e43c205fd349b0da46eb6c",
     "grade": false,
     "grade_id": "cell-175270ab4e1a5d66",
     "locked": true,
     "schema_version": 3,
     "solution": false,
     "task": false
    }
   },
   "outputs": [],
   "source": [
    "from math import cos\n",
    "\n",
    "def f_zero(fname):\n",
    "    return fname(0.0)\n",
    "\n",
    "x=0\n",
    "\n",
    "f_zero(cos(x))"
   ]
  },
  {
   "cell_type": "markdown",
   "metadata": {
    "deletable": false,
    "editable": false,
    "nbgrader": {
     "cell_type": "markdown",
     "checksum": "549e0ca6549bb41d67b81f55a52ef205",
     "grade": false,
     "grade_id": "cell-2a55ffbae101b713",
     "locked": true,
     "schema_version": 3,
     "solution": false,
     "task": false
    }
   },
   "source": [
    "### Understanding the error:\n",
    "\n",
    "The error is first captured on line 8 when we pass `cos(x)` as an argument to our `f_zero` function:\n",
    "```python\n",
    "----> 8 f_zero(cos(x))\n",
    "```\n",
    "\n",
    "But the error really occurs when trying to call (apply) `fname` as a function:\n",
    "```python\n",
    "----> 4     return fname(0.0)\n",
    "```\n",
    "The error message states:\n",
    "```python\n",
    "TypeError: 'float' object is not callable\n",
    "```\n",
    "\n",
    "* This is because we passed `cos(x)` with `x=0` into our function, but $\\cos(0)$ is just the number 1 (a `float`: `1.0`).   \n",
    "* the floating point number `1.0` is not a function so cannot be used (\"called\") as if it were a function: `1.0(0.0)` does not mean anything.\n",
    "\n",
    "We would see a similar error using (calling) any other non-function as a function:"
   ]
  },
  {
   "cell_type": "code",
   "execution_count": null,
   "metadata": {
    "deletable": false,
    "editable": false,
    "nbgrader": {
     "cell_type": "code",
     "checksum": "5219157c87a9ccd3546c16a233141c4f",
     "grade": false,
     "grade_id": "cell-221ebf92eaa510b5",
     "locked": true,
     "schema_version": 3,
     "solution": false,
     "task": false
    }
   },
   "outputs": [],
   "source": [
    "import math\n",
    "\n",
    "answer = \"The answer is:\" #the variable answer holds a string\n",
    "\n",
    "answer(42) #trying to pass an argument to the variable attempts to use the above string as a function"
   ]
  },
  {
   "cell_type": "markdown",
   "metadata": {
    "deletable": false,
    "editable": false,
    "nbgrader": {
     "cell_type": "markdown",
     "checksum": "1b3b7a5c662a00f44b291ea6da4b4552",
     "grade": false,
     "grade_id": "cell-e84e3208fceca2e0",
     "locked": true,
     "schema_version": 3,
     "solution": false,
     "task": false
    }
   },
   "source": [
    "### Exercise:\n",
    "\n",
    "* Define a function named `twice()` that takes a function `fun` and a value `xval` as two arguments, then returns $f(f(x))$\n",
    "\n",
    "```python\n",
    "? ?(?, ?):\n",
    "    return ?(?(?))\n",
    "```"
   ]
  },
  {
   "cell_type": "code",
   "execution_count": null,
   "metadata": {
    "ExecuteTime": {
     "end_time": "2019-02-01T21:18:03.650601Z",
     "start_time": "2019-02-01T21:18:03.641604Z"
    },
    "deletable": false,
    "nbgrader": {
     "cell_type": "code",
     "checksum": "c2d5a1b6adaca56e66c0044e099080e9",
     "grade": true,
     "grade_id": "cell-d7882e4e57007ad9",
     "locked": false,
     "points": 0,
     "schema_version": 3,
     "solution": true,
     "task": false
    }
   },
   "outputs": [],
   "source": [
    "# define your twice() function below:\n",
    "# YOUR CODE HERE\n",
    "\n",
    "\n",
    "#function to give to your twice() function\n",
    "def two_times_x(x):\n",
    "    return 2*x\n",
    "\n",
    "\n",
    "# give the function two_times_x as an argument to the twice() function along with the value 10\n",
    "\n",
    "#a2 = twice(???, ???)\n",
    "# YOUR CODE HERE\n",
    "\n",
    "print(a2) #this should be the value of two_times_x(two_times_x(10))"
   ]
  },
  {
   "cell_type": "markdown",
   "metadata": {
    "deletable": false,
    "editable": false,
    "nbgrader": {
     "cell_type": "markdown",
     "checksum": "0ca3809318ec606074a9dc292455c5ed",
     "grade": false,
     "grade_id": "cell-834c60f1395523a7",
     "locked": true,
     "schema_version": 3,
     "solution": false,
     "task": false
    }
   },
   "source": [
    "Expected Result: `40`"
   ]
  },
  {
   "cell_type": "code",
   "execution_count": null,
   "metadata": {
    "deletable": false,
    "editable": false,
    "nbgrader": {
     "cell_type": "code",
     "checksum": "58428086292f940c413a154e4a147ba2",
     "grade": false,
     "grade_id": "cell-f20de2814f4ae376",
     "locked": true,
     "schema_version": 3,
     "solution": false,
     "task": false
    }
   },
   "outputs": [],
   "source": [
    "# Run this block to test your function...\n",
    "# this will only work running on the original cloud service\n",
    "import sys\n",
    "sys.path.append('.checks')\n",
    "\n",
    "import check03\n",
    "\n",
    "# Test 1. test function to give to your twice() function\n",
    "def x_squared(x):\n",
    "    return x**2\n",
    "\n",
    "# Test 2. \n",
    "from math import sqrt\n",
    "# the sqrt function will also be used to evaluate sqrt(sqrt(16))\n",
    "\n",
    "check03.test0303(twice)"
   ]
  },
  {
   "cell_type": "markdown",
   "metadata": {
    "deletable": false,
    "editable": false,
    "nbgrader": {
     "cell_type": "markdown",
     "checksum": "cb3429461209999deb3fb9cd0458b7c2",
     "grade": false,
     "grade_id": "cell-5cc7999b2ac01271",
     "locked": true,
     "schema_version": 3,
     "solution": false,
     "task": false
    }
   },
   "source": [
    "[Click for Solution](solutions/sol0306.ipynb)\n"
   ]
  },
  {
   "cell_type": "markdown",
   "metadata": {
    "ExecuteTime": {
     "end_time": "2019-02-01T21:18:20.178888Z",
     "start_time": "2019-02-01T21:18:20.17085Z"
    },
    "deletable": false,
    "editable": false,
    "nbgrader": {
     "cell_type": "markdown",
     "checksum": "0408a7516cec5f9a9684c82ff60c5f86",
     "grade": false,
     "grade_id": "cell-847067344769a036",
     "locked": true,
     "schema_version": 3,
     "solution": false,
     "task": false
    }
   },
   "source": [
    "## Summary\n",
    "\n",
    "### Defining a function\n",
    "```python\n",
    "def rootmeansquare(a, b):\n",
    "    c = a**2 + b**2\n",
    "    print(f\"The sum of squares is {c}\")\n",
    "    m = c/2\n",
    "    print(f\"The mean of squares is {m}\")\n",
    "    return m**0.5\n",
    "```\n",
    "\n",
    "### Calling a function\n",
    "```python\n",
    "x = 6\n",
    "y = 9\n",
    "s = rootmeansquare(x, 2*y)  # calling a function\n",
    "\n",
    "print(f\"RMS = {s:.4}\")\n",
    "```\n",
    "\n",
    "#### Output:\n",
    "```\n",
    "The sum of squares is 360\n",
    "The mean of squares is 180.0\n",
    "RMS = 13.42\n",
    "```\n",
    "\n",
    "### Functions with more than one output (returned value)\n",
    "```python\n",
    "def minmax(a,b,c):\n",
    "    minval = min(a,b,c)\n",
    "    maxval = max(a,b,c)\n",
    "    return minval, maxval\n",
    "\n",
    "mn,mx = minmax(69,42,404)\n",
    "print(\"Smallest is:\", mn)\n",
    "print(\"Largest is:\", mx)\n",
    "```\n",
    "#### Output:\n",
    "```\n",
    "Smallest is: 42\n",
    "Largest is: 404\n",
    "```\n",
    "\n",
    "### Functions with optional arguments\n",
    "```python\n",
    "def sigfig4(value_to_use, print_string=\"Rounded value:\"):\n",
    "    \"Function to round to 4 significant figures\"\n",
    "    print(print_string, f\"{value_to_use:.4}\")\n",
    "    #Note: does not return a value!\n",
    "    \n",
    "r2 = 200**0.5 #square root 200\n",
    "sigfig4(r2, print_string=\"sqrt(200) is:\")\n",
    "returned = sigfig4(2**0.5)\n",
    "print(returned)\n",
    "\n",
    "```\n",
    "#### Output:\n",
    "```\n",
    "sqrt(200) is: 14.14\n",
    "Rounded value: 1.414\n",
    "None\n",
    "```\n",
    "\n",
    "\n",
    "### Functions with function arguments\n",
    "```python\n",
    "def func_difference(dummy_function_name, value1, value2):\n",
    "    y1 = dummy_function_name(value1)\n",
    "    y2 = dummy_function_name(value2)\n",
    "    diff = y2-y1\n",
    "    return diff\n",
    "    \n",
    "    \n",
    "from math import sqrt\n",
    "\n",
    "ans = func_difference(sqrt, 4, 9)\n",
    "# inside func_difference the calculation is sqrt(9)-sqrt(4)\n",
    "\n",
    "print(ans)\n",
    "```\n",
    "#### Output:\n",
    "```\n",
    "1.0\n",
    "```"
   ]
  },
  {
   "cell_type": "markdown",
   "metadata": {
    "deletable": false,
    "editable": false,
    "nbgrader": {
     "cell_type": "markdown",
     "checksum": "98b3134d77bd03554dc86a2c98e40347",
     "grade": false,
     "grade_id": "cell-c30684d0d86dbdd9",
     "locked": true,
     "schema_version": 3,
     "solution": false,
     "task": false
    }
   },
   "source": [
    "## Pitfalls\n",
    "\n",
    "\n",
    "Watch out for the following sources of errors:\n",
    "\n",
    "-   Missing colon before indentation block.\n",
    "\n",
    "-   Wrong or inconsistent indentation. Use for 4 spaces (not tabs) per\n",
    "    indentation level."
   ]
  },
  {
   "cell_type": "markdown",
   "metadata": {},
   "source": [
    "# Task 3 (2%): \n",
    "\n",
    "## Numerical Differentiation\n",
    "\n",
    "### Background\n",
    "\n",
    "Differentiation of a function $f(x)$ about any point $x=a$ can be defined as follows:\n",
    "$$f'(a) = \\lim\\limits_{\\delta x \\rightarrow 0} \\frac{f(a + \\delta x) - f(a)}{\\delta x}$$\n",
    "\n",
    "Therefore a numerical approximation to the gradient at a point $a$ can be obtained by evaluating `f(a)`and `f(a+dx)` after\n",
    "some small increment $\\delta x$ (which we name as `dx` for simplicity)\n",
    "\n",
    "The code below uses this technique to differentiate the specific function for the area of a cube:  \n",
    "$A=6 L^2,$  \n",
    "with side length $L=2$"
   ]
  },
  {
   "cell_type": "code",
   "execution_count": null,
   "metadata": {
    "deletable": false,
    "editable": false,
    "nbgrader": {
     "cell_type": "code",
     "checksum": "c612ad5923346570f5f64ad6bb757fe5",
     "grade": false,
     "grade_id": "cell-4afa1da3483922ff",
     "locked": true,
     "schema_version": 3,
     "solution": false,
     "task": false
    }
   },
   "outputs": [],
   "source": [
    "def area_cube(L):\n",
    "    area = 6.0 * L**2.0\n",
    "    return area\n",
    " \n",
    "a = 2 #value of x=a to differentiate at\n",
    "dx = 0.1 #delta x\n",
    "    \n",
    "a1 = area_cube(a)\n",
    "a2 = area_cube(a+dx)\n",
    "\n",
    "f_x = (a2 - a1)/dx #differentiation formula\n",
    "\n",
    "print(f_x)"
   ]
  },
  {
   "cell_type": "markdown",
   "metadata": {
    "deletable": false,
    "editable": false,
    "nbgrader": {
     "cell_type": "markdown",
     "checksum": "dda7a74a67c09171533036fe70e0c8b3",
     "grade": false,
     "grade_id": "cell-69bab031c422569d",
     "locked": true,
     "schema_version": 3,
     "solution": false,
     "task": false
    }
   },
   "source": [
    "* Look back at `\"floating point precision\"` in week 1 to explain the last digit.\n",
    "\n",
    "\n",
    "## PART 1 (warm-up exercise, do not submit this)\n",
    "* Copy the code above and change change the value of $\\delta x$ to 0.01, 0.001 and 0.0001 to see how it affects the numerical approximation to the true value of 24."
   ]
  },
  {
   "cell_type": "code",
   "execution_count": null,
   "metadata": {
    "deletable": false,
    "nbgrader": {
     "cell_type": "code",
     "checksum": "a3bb095a65f21cac47b7af0f78ab12b2",
     "grade": true,
     "grade_id": "cell-934323bae345e87e",
     "locked": false,
     "points": 0,
     "schema_version": 3,
     "solution": true,
     "task": false
    }
   },
   "outputs": [],
   "source": [
    "def area_cube(L):\n",
    "    area = 6.0 * L**2.0\n",
    "    return area\n",
    "\n",
    "\n",
    "x = 2\n",
    "# YOUR CODE HERE\n",
    "    \n",
    "a1 = area_cube(x)\n",
    "a2 = area_cube(x+dx)\n",
    "\n",
    "f_x = (a2 - a1)/dx #differentiation formula\n",
    "\n",
    "print(f_x)"
   ]
  },
  {
   "cell_type": "markdown",
   "metadata": {
    "deletable": false,
    "editable": false,
    "nbgrader": {
     "cell_type": "markdown",
     "checksum": "1972b4f6b2e45733fdf024a74f2fb72c",
     "grade": false,
     "grade_id": "cell-d76d67c26207e0f8",
     "locked": true,
     "schema_version": 3,
     "solution": false,
     "task": false
    }
   },
   "source": [
    "## PART 2 (for submission): \n",
    "### Write a function that can take *any* function as an argument and differentiate it\n",
    "\n",
    "### Step 1\n",
    "Using the notes to guide you:\n",
    "* define a new function called `diff()` with three arguments: `func`, `a` and `dx`.\n",
    "* the `diff()` function should evaluate `r1 = func(a)` and `r2 = func(a+dx)` and use these values in the formula for the gradient given in the Background and call it `grad` (or whatever you like).\n",
    "* The `diff()` function should `return` the value of `grad`\n",
    "\n",
    "### Step 2\n",
    "Test your `diff()` function by giving it the `test_function(x)` that returns the result of $g(x) = x^3 - 2x^2 - 5$\n",
    "* Give the test function name as the first argument to your `diff()` function to differentiate it at `x=10` and `dx=1e-3` (or `0.001`)."
   ]
  },
  {
   "cell_type": "code",
   "execution_count": null,
   "metadata": {
    "deletable": false,
    "nbgrader": {
     "cell_type": "code",
     "checksum": "7180360b777d081f4e0bee6d120ad285",
     "grade": false,
     "grade_id": "cell-9d7e971b4e215731",
     "locked": false,
     "schema_version": 3,
     "solution": true,
     "task": false
    }
   },
   "outputs": [],
   "source": [
    "# here define a function called diff(internal_function_name, OTHER, ARGUMENTS):\n",
    "# YOUR CODE HERE\n",
    "\n",
    "# leave this function as it is here\n",
    "def test_function(x):\n",
    "    return x**3 - 2*x**2 - 5\n",
    "\n",
    "a=10\n",
    "dx=1e-3 \n",
    "\n",
    "#answer = diff(???)# apply your diff function here with arguments of the test function name, the value of x and the step-size.\n",
    "# YOUR CODE HERE\n",
    "\n",
    "print(answer)"
   ]
  },
  {
   "cell_type": "markdown",
   "metadata": {
    "deletable": false,
    "editable": false,
    "nbgrader": {
     "cell_type": "markdown",
     "checksum": "770f00d6ae191b0ec163b44b8a755f79",
     "grade": false,
     "grade_id": "cell-ecd24655f8d7ee56",
     "locked": true,
     "schema_version": 3,
     "solution": false,
     "task": false
    }
   },
   "source": [
    "Expected Result: `260.02800099990964`\n",
    "* precision may vary very slightly on different computers, don't worry about this if it's OK below.\n",
    "* **restart the kernel and check again!**\n",
    "* Use the tests below to check it will pass the autograder\n",
    "\n",
    "#### Once it's working, put the code from the cell above into a new python script, check in Spyder (etc.) it works as expected from scratch and submit.\n",
    "\n",
    "### Use the test cell below to check that your function will pass the grading script:\n",
    "* Only works on the original cloud service in the main folder"
   ]
  },
  {
   "cell_type": "code",
   "execution_count": null,
   "metadata": {
    "deletable": false,
    "editable": false,
    "nbgrader": {
     "cell_type": "code",
     "checksum": "7de557ae05d32d7be389800d55ff529d",
     "grade": true,
     "grade_id": "cell-96588b8fb99e023b",
     "locked": true,
     "points": 0,
     "schema_version": 3,
     "solution": false,
     "task": false
    }
   },
   "outputs": [],
   "source": [
    "# this will only work running on the original cloud service in the main folder\n",
    "import sys\n",
    "sys.path.append('.checks')\n",
    "\n",
    "import check03\n",
    "\n",
    "#Test 1. Try the test function \n",
    "def test_function(x):\n",
    "    return x**3 - 2*x**2 - 5\n",
    "# at the values:\n",
    "a=10\n",
    "dx=0.001\n",
    "\n",
    "#Test 2. Differentiating another (secret) function at another value\n",
    "\n",
    "check03.testASS03(diff)"
   ]
  }
 ],
 "metadata": {
  "hide_input": false,
  "kernelspec": {
   "display_name": "Python 3",
   "language": "python",
   "name": "python3"
  },
  "language_info": {
   "codemirror_mode": {
    "name": "ipython",
    "version": 3
   },
   "file_extension": ".py",
   "mimetype": "text/x-python",
   "name": "python",
   "nbconvert_exporter": "python",
   "pygments_lexer": "ipython3",
   "version": "3.7.10"
  },
  "toc": {
   "base_numbering": 1,
   "nav_menu": {},
   "number_sections": true,
   "sideBar": true,
   "skip_h1_title": false,
   "title_cell": "Table of Contents",
   "title_sidebar": "Contents",
   "toc_cell": false,
   "toc_position": {},
   "toc_section_display": true,
   "toc_window_display": false
  }
 },
 "nbformat": 4,
 "nbformat_minor": 1
}
