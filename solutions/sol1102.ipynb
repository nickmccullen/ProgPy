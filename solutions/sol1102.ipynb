{
 "cells": [
  {
   "cell_type": "code",
   "execution_count": null,
   "metadata": {},
   "outputs": [],
   "source": [
    "import random\n",
    "\n",
    "N = 1000000\n",
    "wins = 0\n",
    "for i in range(N):\n",
    "    A = int(6*random.random()+1)\n",
    "    B = int(6*random.random()+1)\n",
    "    C = int(6*random.random()+1)\n",
    "    if A == B == C:\n",
    "        wins = wins+A\n",
    "    elif A+B+C <= 6:\n",
    "        wins = wins-(A+B+C)\n",
    "print(wins, N, end=' ')\n",
    "print(1.0*wins/N)"
   ]
  }
 ],
 "metadata": {
  "kernelspec": {
   "display_name": "Python 3",
   "language": "python",
   "name": "python3"
  },
  "language_info": {
   "codemirror_mode": {
    "name": "ipython",
    "version": 3
   },
   "file_extension": ".py",
   "mimetype": "text/x-python",
   "name": "python",
   "nbconvert_exporter": "python",
   "pygments_lexer": "ipython3",
   "version": "3.8.3"
  }
 },
 "nbformat": 4,
 "nbformat_minor": 4
}
