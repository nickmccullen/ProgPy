{
 "cells": [
  {
   "cell_type": "code",
   "execution_count": null,
   "metadata": {},
   "outputs": [],
   "source": [
    "import numpy as np\n",
    "import matplotlib.pyplot as plt\n",
    "pi = np.pi\n",
    "plt.rc('font', size=12)\n",
    "\n",
    "xs = np.linspace(0, 2*pi, 50)\n",
    "ys = np.sin(xs)\n",
    "zs = np.cos(xs)\n",
    "\n",
    "fig, ax = plt.subplots()\n",
    "\n",
    "ax.plot(xs, ys, label=\"sin(t)\")\n",
    "ax.plot(xs, zs, label=\"cos(t)\")\n",
    "\n",
    "ax.set_xlabel(\"Angle t (radians)\")\n",
    "ax.set_ylabel(\"f (t)\")\n",
    "ax.set_title(\"The functions sin(t) and cos(t)\")\n",
    "\n",
    "ax.legend(loc=(1,0))\n",
    "\n",
    "ax.set(xlim=(0, pi), ylim=(0, 1))\n",
    "\n",
    "fig.show()"
   ]
  }
 ],
 "metadata": {
  "kernelspec": {
   "display_name": "Python 3",
   "language": "python",
   "name": "python3"
  },
  "language_info": {
   "codemirror_mode": {
    "name": "ipython",
    "version": 3
   },
   "file_extension": ".py",
   "mimetype": "text/x-python",
   "name": "python",
   "nbconvert_exporter": "python",
   "pygments_lexer": "ipython3",
   "version": "3.8.3"
  }
 },
 "nbformat": 4,
 "nbformat_minor": 4
}
